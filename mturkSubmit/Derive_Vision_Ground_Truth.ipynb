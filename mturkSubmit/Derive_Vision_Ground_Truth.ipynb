{
 "cells": [
  {
   "cell_type": "code",
   "execution_count": 25,
   "metadata": {},
   "outputs": [
    {
     "name": "stdout",
     "output_type": "stream",
     "text": [
      "[Errno 2] No such file or directory: '../analysis/vision-stuff/'\n",
      "/home/jlee782/hcomp_paper_seg/analysis/vision-stuff\n"
     ]
    }
   ],
   "source": [
    "cd ../analysis/vision-stuff/"
   ]
  },
  {
   "cell_type": "code",
   "execution_count": 26,
   "metadata": {},
   "outputs": [
    {
     "name": "stdout",
     "output_type": "stream",
     "text": [
      "Populating the interactive namespace from numpy and matplotlib\n"
     ]
    }
   ],
   "source": [
    "%pylab inline"
   ]
  },
  {
   "cell_type": "code",
   "execution_count": 27,
   "metadata": {},
   "outputs": [],
   "source": [
    "from generate_vision_pixtiles import get_tiles_from_img"
   ]
  },
  {
   "cell_type": "code",
   "execution_count": 41,
   "metadata": {
    "collapsed": true
   },
   "outputs": [],
   "source": [
    "import matplotlib.image as mpimg\n",
    "import pandas as pd\n",
    "objid = 15\n",
    "object_tbl = pd.read_csv(\"../../web-app/ADE20K_data_info/object.csv\")\n",
    "object_location = pd.read_csv(\"../../web-app/ADE20K_data_info/object_location.csv\")\n",
    "img_table = pd.read_csv(\"../../web-app/ADE20K_data_info/image.csv\")\n",
    "imgid = object_tbl[object_tbl[\"id\"]==objid][\"image_id\"].values[0]\n",
    "imgname = img_table[img_table.id == imgid].filename.values[0]\n",
    "img = mpimg.imread(\"../../ADE20K_data/\"+imgname+\"_seg.png\")\n",
    "# plt.imshow(img)\n",
    "# plt.imshow(mask)"
   ]
  },
  {
   "cell_type": "code",
   "execution_count": 42,
   "metadata": {},
   "outputs": [
    {
     "name": "stdout",
     "output_type": "stream",
     "text": [
      "object name: poster\n"
     ]
    }
   ],
   "source": [
    "print \"object name:\", object_tbl[object_tbl[\"id\"]==objid][\"name\"].values[0]"
   ]
  },
  {
   "cell_type": "code",
   "execution_count": null,
   "metadata": {},
   "outputs": [
    {
     "name": "stdout",
     "output_type": "stream",
     "text": [
      "Num unique colors =  28089\n"
     ]
    }
   ],
   "source": [
    "mask, tiles = get_tiles_from_img(img)"
   ]
  },
  {
   "cell_type": "code",
   "execution_count": null,
   "metadata": {
    "collapsed": true
   },
   "outputs": [],
   "source": [
    "def plot_coords(x,y, color='red', reverse_xy=False, linestyle='-', fill_color=\"\", show=False, invert_y=False):\n",
    "    plt.plot(x, y, linestyle, color=color, zorder=1)\n",
    "    if fill_color != \"\":\n",
    "        plt.fill_between(x, y, facecolor=fill_color, color='none', alpha=0.5)\n",
    "    if invert_y:\n",
    "        plt.gca().invert_yaxis()"
   ]
  },
  {
   "cell_type": "code",
   "execution_count": null,
   "metadata": {
    "collapsed": true
   },
   "outputs": [],
   "source": [
    "# tiles[1][:,1]"
   ]
  },
  {
   "cell_type": "code",
   "execution_count": null,
   "metadata": {
    "collapsed": true
   },
   "outputs": [],
   "source": [
    "x_loc,y_loc= object_location[object_location[\"object_id\"]==objid][[\"x_loc\",\"y_loc\"]].values[0]"
   ]
  },
  {
   "cell_type": "code",
   "execution_count": null,
   "metadata": {},
   "outputs": [],
   "source": [
    "for t in tiles: \n",
    "    if (x_loc,y_loc) in t: # retrieve the ground truth tile inside the object\n",
    "        x,y= zip(*t)\n",
    "        plot_coords(x,y)\n",
    "        plt.plot(x_loc,y_loc,'o')"
   ]
  },
  {
   "cell_type": "code",
   "execution_count": null,
   "metadata": {
    "collapsed": true
   },
   "outputs": [],
   "source": []
  }
 ],
 "metadata": {
  "kernelspec": {
   "display_name": "Python 2",
   "language": "python",
   "name": "python2"
  },
  "language_info": {
   "codemirror_mode": {
    "name": "ipython",
    "version": 2
   },
   "file_extension": ".py",
   "mimetype": "text/x-python",
   "name": "python",
   "nbconvert_exporter": "python",
   "pygments_lexer": "ipython2",
   "version": "2.7.14"
  }
 },
 "nbformat": 4,
 "nbformat_minor": 1
}

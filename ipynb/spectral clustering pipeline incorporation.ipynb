{
 "cells": [
  {
   "cell_type": "code",
   "execution_count": 29,
   "metadata": {},
   "outputs": [
    {
     "name": "stdout",
     "output_type": "stream",
     "text": [
      "Populating the interactive namespace from numpy and matplotlib\n"
     ]
    },
    {
     "name": "stderr",
     "output_type": "stream",
     "text": [
      "/home/jlee782/.local/lib/python2.7/site-packages/IPython/core/magics/pylab.py:161: UserWarning: pylab import has clobbered these variables: ['box', 'sample', 'Polygon']\n",
      "`%matplotlib` prevents importing * from pylab and numpy\n",
      "  \"\\n`%matplotlib` prevents importing * from pylab and numpy\"\n"
     ]
    }
   ],
   "source": [
    "%pylab inline"
   ]
  },
  {
   "cell_type": "code",
   "execution_count": 30,
   "metadata": {},
   "outputs": [
    {
     "name": "stdout",
     "output_type": "stream",
     "text": [
      "/srv/data/home/jlee782/segmentation/analysis\n"
     ]
    }
   ],
   "source": [
    "cd ../analysis/"
   ]
  },
  {
   "cell_type": "code",
   "execution_count": 32,
   "metadata": {},
   "outputs": [
    {
     "name": "stdout",
     "output_type": "stream",
     "text": [
      "The autoreload extension is already loaded. To reload it, use:\n",
      "  %reload_ext autoreload\n"
     ]
    }
   ],
   "source": [
    "%load_ext autoreload\n",
    "%autoreload 2\n",
    "from initPixelAnalysis import *\n",
    "from PixelEM import *"
   ]
  },
  {
   "cell_type": "code",
   "execution_count": 12,
   "metadata": {
    "collapsed": true
   },
   "outputs": [],
   "source": [
    "def tiles2AreaMask(sample, objid,clustid=\"\"):\n",
    "    tiles = pkl.load(open(\"pixel_em/{}/obj{}/clust{}/tiles.pkl\".format(sample, objid,cluster_id)))\n",
    "    mega_mask = pkl.load(open(\"pixel_em/{}/obj{}/mega_mask.pkl\".format(sample, objid)))\n",
    "    tarea = [len(t) for t in tiles]\n",
    "    mask = np.zeros_like(mega_mask)\n",
    "    for tidx in range(len(tiles)):\n",
    "        for i in list(tiles[tidx]):\n",
    "                mask[i] = np.log10(tarea[tidx])\n",
    "    return mask"
   ]
  },
  {
   "cell_type": "code",
   "execution_count": 13,
   "metadata": {
    "collapsed": true
   },
   "outputs": [],
   "source": [
    "sample ='25workers_rand0'\n",
    "objid = 21\n",
    "cluster_id = 0\n",
    "tiles = pkl.load(open(\"pixel_em/{}/obj{}/clust{}/tiles.pkl\".format(sample, objid,cluster_id)))"
   ]
  },
  {
   "cell_type": "code",
   "execution_count": 14,
   "metadata": {
    "collapsed": true
   },
   "outputs": [],
   "source": [
    "mask = tiles2AreaMask('25workers_rand0',21,0)"
   ]
  },
  {
   "cell_type": "code",
   "execution_count": 15,
   "metadata": {},
   "outputs": [
    {
     "data": {
      "text/plain": [
       "<matplotlib.colorbar.Colorbar at 0x7f34835e7d90>"
      ]
     },
     "execution_count": 15,
     "metadata": {},
     "output_type": "execute_result"
    },
    {
     "data": {
      "image/png": "[encoded data removed]",
      "text/plain": [
       "<matplotlib.figure.Figure at 0x7f34a5650050>"
      ]
     },
     "metadata": {},
     "output_type": "display_data"
    }
   ],
   "source": [
    "plt.figure()\n",
    "plt.imshow(mask)\n",
    "plt.title(\"Tile area map\")\n",
    "plt.colorbar()"
   ]
  },
  {
   "cell_type": "code",
   "execution_count": 16,
   "metadata": {
    "collapsed": true
   },
   "outputs": [],
   "source": [
    "sample ='25workers_rand0'\n",
    "objid = 21\n",
    "cluster_id = 1\n",
    "tiles2 = pkl.load(open(\"pixel_em/{}/obj{}/clust{}/tiles.pkl\".format(sample, objid,cluster_id)))"
   ]
  },
  {
   "cell_type": "code",
   "execution_count": 17,
   "metadata": {
    "collapsed": true
   },
   "outputs": [],
   "source": [
    "mask = tiles2AreaMask('25workers_rand0',21,0)"
   ]
  },
  {
   "cell_type": "code",
   "execution_count": 18,
   "metadata": {},
   "outputs": [
    {
     "data": {
      "text/plain": [
       "<matplotlib.colorbar.Colorbar at 0x7f3484b99dd0>"
      ]
     },
     "execution_count": 18,
     "metadata": {},
     "output_type": "execute_result"
    },
    {
     "data": {
      "image/png": "[encoded data removed]",
      "text/plain": [
       "<matplotlib.figure.Figure at 0x7f34a0126150>"
      ]
     },
     "metadata": {},
     "output_type": "display_data"
    }
   ],
   "source": [
    "plt.figure()\n",
    "plt.imshow(mask)\n",
    "plt.title(\"Tile area map\")\n",
    "plt.colorbar()"
   ]
  },
  {
   "cell_type": "markdown",
   "metadata": {},
   "source": [
    "# Examining result of Ground Truth EM "
   ]
  },
  {
   "cell_type": "code",
   "execution_count": 47,
   "metadata": {
    "collapsed": true
   },
   "outputs": [],
   "source": [
    "# pkl.load(open(\"pixel_em/15workers_rand0/obj1/clust0/\"))"
   ]
  },
  {
   "cell_type": "code",
   "execution_count": 49,
   "metadata": {
    "collapsed": true
   },
   "outputs": [],
   "source": [
    "sample = '25workers_rand0'\n",
    "objid=4\n",
    "thresh_lst =[-4, -2, 0, 2, 4]"
   ]
  },
  {
   "cell_type": "code",
   "execution_count": 50,
   "metadata": {},
   "outputs": [
    {
     "name": "stdout",
     "output_type": "stream",
     "text": [
      "p,r,j: 0.94647716964 0.948484848485 0.90020132298\n",
      "p,r,j: 0.946682823387 0.94696969697 0.899021864212\n",
      "p,r,j: 0.946650500152 0.946363636364 0.898446490219\n",
      "p,r,j: 0.946650500152 0.946363636364 0.898446490219\n",
      "p,r,j: 0.948616600791 0.945454545455 0.899394638224\n"
     ]
    }
   ],
   "source": [
    "gt = deriveGTinGroundTruthExperiments(sample, objid, algo=\"basic\",cluster_id=0,thresh_lst= thresh_lst, exclude_isovote=False)"
   ]
  },
  {
   "cell_type": "code",
   "execution_count": 51,
   "metadata": {},
   "outputs": [
    {
     "name": "stdout",
     "output_type": "stream",
     "text": [
      "p,r,j: 0.431032125769 0.955454545455 0.42254087376\n",
      "p,r,j: 0.431032125769 0.955454545455 0.42254087376\n",
      "p,r,j: 0.447659203257 0.93303030303 0.433723059586\n",
      "p,r,j: 0.447769953052 0.924848484848 0.432049830125\n",
      "p,r,j: 0.447769953052 0.924848484848 0.432049830125\n"
     ]
    }
   ],
   "source": [
    "gt = deriveGTinGroundTruthExperiments(sample, objid, algo=\"basic\",cluster_id=1,thresh_lst= thresh_lst, exclude_isovote=False)"
   ]
  },
  {
   "cell_type": "code",
   "execution_count": 44,
   "metadata": {
    "collapsed": true
   },
   "outputs": [],
   "source": [
    "f= pkl.load(open(\"pixel_em/5workers_rand0/obj1/clust1/mega_mask.pkl\"))"
   ]
  },
  {
   "cell_type": "code",
   "execution_count": 45,
   "metadata": {
    "scrolled": true
   },
   "outputs": [
    {
     "data": {
      "text/plain": [
       "<matplotlib.image.AxesImage at 0x7f34aa914410>"
      ]
     },
     "execution_count": 45,
     "metadata": {},
     "output_type": "execute_result"
    },
    {
     "data": {
      "image/png": "[encoded data removed]",
      "text/plain": [
       "<matplotlib.figure.Figure at 0x7f34a56504d0>"
      ]
     },
     "metadata": {},
     "output_type": "display_data"
    }
   ],
   "source": [
    "plt.imshow(f)"
   ]
  },
  {
   "cell_type": "markdown",
   "metadata": {},
   "source": [
    "#### GTLSA for the second cluster has a stranger area cutoff"
   ]
  },
  {
   "cell_type": "code",
   "execution_count": 53,
   "metadata": {},
   "outputs": [
    {
     "name": "stdout",
     "output_type": "stream",
     "text": [
      "p,r,j: 0.947132616487 0.960909090909 0.911993097498\n",
      "p,r,j: 0.949577294686 0.95303030303 0.90712431497\n",
      "p,r,j: 0.952626784087 0.950606060606 0.907696759259\n",
      "p,r,j: 0.958358848745 0.948484848485 0.910942956927\n",
      "p,r,j: 0.962859795729 0.942727272727 0.909649122807\n"
     ]
    }
   ],
   "source": [
    "gt = deriveGTinGroundTruthExperiments(sample, objid, algo=\"GTLSA\",cluster_id=0,thresh_lst= thresh_lst, exclude_isovote=False)"
   ]
  },
  {
   "cell_type": "code",
   "execution_count": 54,
   "metadata": {},
   "outputs": [
    {
     "name": "stdout",
     "output_type": "stream",
     "text": [
      "p,r,j: 0.0106757742297 0.993636363636 0.0106750443573\n",
      "p,r,j: 0.0106757742297 0.993636363636 0.0106750443573\n",
      "p,r,j: 0.010602029885 0.986666666667 0.0106005111426\n",
      "p,r,j: 0.447769953052 0.924848484848 0.432049830125\n",
      "p,r,j: 0.447769953052 0.924848484848 0.432049830125\n"
     ]
    }
   ],
   "source": [
    "gt = deriveGTinGroundTruthExperiments(sample, objid, algo=\"GTLSA\",cluster_id=1,thresh_lst= thresh_lst, exclude_isovote=False)"
   ]
  },
  {
   "cell_type": "markdown",
   "metadata": {},
   "source": [
    "# Modifying compile_PR "
   ]
  },
  {
   "cell_type": "code",
   "execution_count": 97,
   "metadata": {},
   "outputs": [
    {
     "data": {
      "text/plain": [
       "True"
      ]
     },
     "execution_count": 97,
     "metadata": {},
     "output_type": "execute_result"
    }
   ],
   "source": [
    "obj_path ==  '/srv/data/home/jlee782/segmentation/analysis/pixel_em/15workers_rand5/obj47/'"
   ]
  },
  {
   "cell_type": "code",
   "execution_count": 95,
   "metadata": {},
   "outputs": [
    {
     "data": {
      "text/plain": [
       "['/srv/data/home/jlee782/segmentation/analysis/pixel_em/15workers_rand5/obj47/clust0',\n",
       " '/srv/data/home/jlee782/segmentation/analysis/pixel_em/15workers_rand5/obj47/clust1',\n",
       " '/srv/data/home/jlee782/segmentation/analysis/pixel_em/15workers_rand5/obj47/clust2',\n",
       " '/srv/data/home/jlee782/segmentation/analysis/pixel_em/15workers_rand5/obj47/']"
      ]
     },
     "execution_count": 95,
     "metadata": {},
     "output_type": "execute_result"
    }
   ],
   "source": [
    "glob.glob(\"{}/clust*\".format(obj_path))+[obj_path]"
   ]
  },
  {
   "cell_type": "code",
   "execution_count": 112,
   "metadata": {
    "scrolled": true
   },
   "outputs": [
    {
     "name": "stdout",
     "output_type": "stream",
     "text": [
      "Working on  /srv/data/home/jlee782/segmentation/analysis/pixel_em/25workers_rand0/\n",
      "Working on  /srv/data/home/jlee782/segmentation/analysis/pixel_em/5workers_rand8/\n",
      "Working on  /srv/data/home/jlee782/segmentation/analysis/pixel_em/5workers_rand9/\n",
      "Working on  /srv/data/home/jlee782/segmentation/analysis/pixel_em/5workers_rand6/\n",
      "Working on  /srv/data/home/jlee782/segmentation/analysis/pixel_em/5workers_rand7/\n",
      "Working on  /srv/data/home/jlee782/segmentation/analysis/pixel_em/5workers_rand4/\n",
      "Working on  /srv/data/home/jlee782/segmentation/analysis/pixel_em/5workers_rand5/\n",
      "Working on  /srv/data/home/jlee782/segmentation/analysis/pixel_em/5workers_rand2/\n",
      "Working on  /srv/data/home/jlee782/segmentation/analysis/pixel_em/5workers_rand3/\n",
      "Working on  /srv/data/home/jlee782/segmentation/analysis/pixel_em/5workers_rand0/\n",
      "Working on  /srv/data/home/jlee782/segmentation/analysis/pixel_em/5workers_rand1/\n",
      "Working on  /srv/data/home/jlee782/segmentation/analysis/pixel_em/20workers_rand1/\n",
      "Working on  /srv/data/home/jlee782/segmentation/analysis/pixel_em/20workers_rand2/\n",
      "Working on  /srv/data/home/jlee782/segmentation/analysis/pixel_em/20workers_rand3/\n",
      "Working on  /srv/data/home/jlee782/segmentation/analysis/pixel_em/20workers_rand0/\n",
      "Working on  /srv/data/home/jlee782/segmentation/analysis/pixel_em/10workers_rand1/\n",
      "Working on  /srv/data/home/jlee782/segmentation/analysis/pixel_em/10workers_rand0/\n",
      "Working on  /srv/data/home/jlee782/segmentation/analysis/pixel_em/10workers_rand3/\n",
      "Working on  /srv/data/home/jlee782/segmentation/analysis/pixel_em/10workers_rand2/\n",
      "Working on  /srv/data/home/jlee782/segmentation/analysis/pixel_em/10workers_rand5/\n",
      "Working on  /srv/data/home/jlee782/segmentation/analysis/pixel_em/10workers_rand4/\n",
      "Working on  /srv/data/home/jlee782/segmentation/analysis/pixel_em/10workers_rand7/\n",
      "Working on  /srv/data/home/jlee782/segmentation/analysis/pixel_em/10workers_rand6/\n",
      "Working on  /srv/data/home/jlee782/segmentation/analysis/pixel_em/30workers_rand0/\n",
      "Working on  /srv/data/home/jlee782/segmentation/analysis/pixel_em/25workers_rand1/\n",
      "Working on  /srv/data/home/jlee782/segmentation/analysis/pixel_em/15workers_rand2/\n",
      "Working on  /srv/data/home/jlee782/segmentation/analysis/pixel_em/15workers_rand3/\n",
      "Working on  /srv/data/home/jlee782/segmentation/analysis/pixel_em/15workers_rand0/\n",
      "Working on  /srv/data/home/jlee782/segmentation/analysis/pixel_em/15workers_rand1/\n",
      "Working on  /srv/data/home/jlee782/segmentation/analysis/pixel_em/15workers_rand4/\n",
      "Working on  /srv/data/home/jlee782/segmentation/analysis/pixel_em/15workers_rand5/\n",
      "Compiled PR to :/srv/data/home/jlee782/segmentation/analysis/pixel_em/basic_ground_truth_full_PRJ_table1.csv\n"
     ]
    }
   ],
   "source": [
    "# def compile_PR(mode=\"\",ground_truth=False):\n",
    "mode = \"basic\"\n",
    "ground_truth = True\n",
    "import glob\n",
    "import csv\n",
    "if ground_truth :\n",
    "    fname = '{}{}_ground_truth_full_PRJ_table1.csv'.format(PIXEL_EM_DIR,mode)\n",
    "else:\n",
    "    fname  = '{}{}_full_PRJ_table.csv'.format(PIXEL_EM_DIR,mode)\n",
    "with open(fname, 'w') as csvfile:\n",
    "    if mode==\"\":\n",
    "        fieldnames = ['num_workers', 'sample_num', 'objid', 'thresh', 'clust','MV_precision', 'MV_recall','MV_jaccard', 'EM_precision', 'EM_recall','EM_jaccard']\n",
    "    else: # no MV columns\n",
    "        fieldnames = ['num_workers', 'sample_num', 'objid', 'thresh','clust', 'EM_precision', 'EM_recall','EM_jaccard']\n",
    "    writer = csv.DictWriter(csvfile, fieldnames=fieldnames)\n",
    "    writer.writeheader()\n",
    "    for sample_path in glob.glob('{}*_rand*/'.format(PIXEL_EM_DIR)):\n",
    "        sample_name = sample_path.split('/')[-2]\n",
    "        print \"Working on \", sample_path\n",
    "        num_workers = int(sample_name.split('w')[0])\n",
    "        sample_num = int(sample_name.split('d')[-1])\n",
    "        for obj_path in glob.glob('{}obj*/'.format(sample_path)):\n",
    "            objid = int(obj_path.split('/')[-2].split('j')[1])\n",
    "            for clust_path in glob.glob(\"{}/clust*/\".format(obj_path))+[obj_path]:\n",
    "                # clust_path includes both original obj_path and the paths with clust*/ on it\n",
    "                if clust_path ==obj_path:\n",
    "                    cluster_id = -1 #unclustered flag\n",
    "                else:\n",
    "                    cluster_id = int(clust_path.split(\"/clust\")[-1][:-1])            \n",
    "                mv_p = None\n",
    "                mv_r = None\n",
    "                mv_j = None\n",
    "                em_p = None\n",
    "                em_r = None\n",
    "                em_j = None\n",
    "                if ground_truth :\n",
    "                    glob_path =glob.glob('{}{}_ground_truth_EM_prj_thresh*.json'.format(clust_path,mode))\n",
    "                else:\n",
    "                    glob_path = glob.glob('{}{}_EM_prj_iter4_thresh*.json'.format(clust_path,mode))\n",
    "                if mode ==\"\":\n",
    "                    mv_pr_file = '{}MV_prj.json'.format(clust_path)\n",
    "                    if os.path.isfile(mv_pr_file):\n",
    "                        [mv_p, mv_r,mv_j] = json.load(open(mv_pr_file))\n",
    "                for thresh_path in glob_path:\n",
    "                    thresh= float(thresh_path.split('/')[-1].split('thresh')[1].split('.json')[0])\n",
    "                    #thresh= int(thresh_path.split('/')[-1].split('thresh')[1].split('.')[0])\n",
    "                    #thresh= int(thresh_path.split('thresh')[1].split('.')[0])\n",
    "                    if thresh.is_integer():\n",
    "                        thresh = int(thresh)\n",
    "                    if ground_truth :\n",
    "                        em_pr_file = '{}{}_ground_truth_EM_prj_thresh{}.json'.format(clust_path,mode,thresh)\n",
    "                    else:\n",
    "                        em_pr_file = '{}{}_EM_prj_iter4_thresh{}.json'.format(clust_path,mode,thresh)\n",
    "                    if os.path.isfile(em_pr_file):\n",
    "                        [em_p, em_r,em_j] = json.load(open(em_pr_file))\n",
    "                    if any([prj is not None for prj in [mv_p, mv_r, mv_j, em_p, em_r,em_j]]):\n",
    "                        if mode ==\"\":\n",
    "                            writer.writerow(\n",
    "                                  {\n",
    "                                    'num_workers': num_workers,\n",
    "                                    'sample_num': sample_num,\n",
    "                                    'objid': objid,\n",
    "                                    'thresh':thresh,\n",
    "                                    'clust':cluster_id,\n",
    "                                    'MV_precision': mv_p,\n",
    "                                    'MV_recall': mv_r,\n",
    "                                    'MV_jaccard':mv_j,\n",
    "                                    'EM_precision': em_p,\n",
    "                                    'EM_recall': em_r,\n",
    "                                    'EM_jaccard':em_j\n",
    "                                  }\n",
    "                             )\n",
    "                        else:\n",
    "                            writer.writerow(\n",
    "                                  {\n",
    "                                    'num_workers': num_workers,\n",
    "                                    'sample_num': sample_num,\n",
    "                                    'objid': objid,\n",
    "                                    'thresh':thresh,\n",
    "                                    'clust':cluster_id,\n",
    "                                    'EM_precision': em_p,\n",
    "                                    'EM_recall': em_r,\n",
    "                                    'EM_jaccard':em_j\n",
    "                                  }\n",
    "                             )\n",
    "print 'Compiled PR to :'+ fname"
   ]
  },
  {
   "cell_type": "code",
   "execution_count": 113,
   "metadata": {},
   "outputs": [],
   "source": [
    "df = pd.read_csv(\"pixel_em/basic_ground_truth_full_PRJ_table1.csv\")"
   ]
  },
  {
   "cell_type": "code",
   "execution_count": null,
   "metadata": {
    "collapsed": true
   },
   "outputs": [],
   "source": []
  }
 ],
 "metadata": {
  "kernelspec": {
   "display_name": "Python 2",
   "language": "python",
   "name": "python2"
  },
  "language_info": {
   "codemirror_mode": {
    "name": "ipython",
    "version": 2
   },
   "file_extension": ".py",
   "mimetype": "text/x-python",
   "name": "python",
   "nbconvert_exporter": "python",
   "pygments_lexer": "ipython2",
   "version": "2.7.14"
  }
 },
 "nbformat": 4,
 "nbformat_minor": 2
}

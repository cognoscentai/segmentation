{
 "cells": [
  {
   "cell_type": "code",
   "execution_count": 92,
   "metadata": {},
   "outputs": [
    {
     "name": "stdout",
     "output_type": "stream",
     "text": [
      "/srv/data/home/jlee782/segmentation/analysis\n"
     ]
    }
   ],
   "source": [
    "cd ../analysis/"
   ]
  },
  {
   "cell_type": "code",
   "execution_count": 93,
   "metadata": {},
   "outputs": [
    {
     "name": "stdout",
     "output_type": "stream",
     "text": [
      "Populating the interactive namespace from numpy and matplotlib\n",
      "The autoreload extension is already loaded. To reload it, use:\n",
      "  %reload_ext autoreload\n"
     ]
    },
    {
     "name": "stderr",
     "output_type": "stream",
     "text": [
      "/home/jlee782/.local/lib/python2.7/site-packages/IPython/core/magics/pylab.py:161: UserWarning: pylab import has clobbered these variables: ['box', 'Polygon']\n",
      "`%matplotlib` prevents importing * from pylab and numpy\n",
      "  \"\\n`%matplotlib` prevents importing * from pylab and numpy\"\n"
     ]
    }
   ],
   "source": [
    "%pylab inline\n",
    "%load_ext autoreload\n",
    "%autoreload 2\n",
    "# from paper_visualizations import * \n",
    "from PixelEM import * \n",
    "# from test_sample import test_sample_obj\n",
    "import json"
   ]
  },
  {
   "cell_type": "code",
   "execution_count": 94,
   "metadata": {
    "collapsed": true
   },
   "outputs": [],
   "source": [
    "df = pd.read_csv(\"pixel_em/MV_PRJ_table.csv\")\n",
    "df = df.rename(columns={\"MV_precision\":\"P [MV]\",\n",
    "                       \"MV_recall\":\"R [MV]\",\n",
    "                       \"MV_jaccard\":\"J [MV]\"})\n",
    "for mode in  [\"GT\",\"isoGT\",\"GTLSA\",\"isoGTLSA\",\"basic\"]:\n",
    "    data =  pd.read_csv(\"pixel_em/{}_ground_truth_full_PRJ_table.csv\".format(mode))\n",
    "    data = data.rename(columns={\"EM_precision\":\"P [{}]\".format(mode),\n",
    "                       \"EM_recall\":\"R [{}]\".format(mode),\n",
    "                       \"EM_jaccard\":\"J [{}]\".format(mode),})\n",
    "    df = df.merge(data)"
   ]
  },
  {
   "cell_type": "code",
   "execution_count": 95,
   "metadata": {
    "collapsed": true
   },
   "outputs": [],
   "source": [
    "metric_keys=[u'P [MV]',u'R [MV]', u'J [MV]', u'P [GT]', u'R [GT]', u'J [GT]', u'P [isoGT]',\n",
    "       u'R [isoGT]', u'J [isoGT]', u'P [GTLSA]', u'R [GTLSA]', u'J [GTLSA]',\n",
    "       u'P [isoGTLSA]', u'R [isoGTLSA]', u'J [isoGTLSA]', u'P [basic]',\n",
    "       u'R [basic]', u'J [basic]']"
   ]
  },
  {
   "cell_type": "code",
   "execution_count": 96,
   "metadata": {},
   "outputs": [
    {
     "ename": "NameError",
     "evalue": "name 'algo_df' is not defined",
     "output_type": "error",
     "traceback": [
      "\u001b[0;31m---------------------------------------------------------------------------\u001b[0m",
      "\u001b[0;31mNameError\u001b[0m                                 Traceback (most recent call last)",
      "\u001b[0;32m<ipython-input-96-7d3185088bdc>\u001b[0m in \u001b[0;36m<module>\u001b[0;34m()\u001b[0m\n\u001b[0;32m----> 1\u001b[0;31m \u001b[0malgo_df\u001b[0m\u001b[0;34m.\u001b[0m\u001b[0mhead\u001b[0m\u001b[0;34m(\u001b[0m\u001b[0;34m)\u001b[0m\u001b[0;34m\u001b[0m\u001b[0m\n\u001b[0m",
      "\u001b[0;31mNameError\u001b[0m: name 'algo_df' is not defined"
     ]
    }
   ],
   "source": [
    "algo_df.head()"
   ]
  },
  {
   "cell_type": "code",
   "execution_count": 97,
   "metadata": {
    "collapsed": true
   },
   "outputs": [],
   "source": [
    "algo_df = pd.read_csv(\"pixel_em/basic_ground_truth_full_PRJ_table.csv\",index_col=0)\n",
    "mv_df = pd.read_csv(\"pixel_em/MV_PRJ_table.csv\")\n",
    "mv_df = mv_df.rename(columns={'MV_precision':\"P [MV]\",\n",
    "                              \"MV_recall\":\"R [MV]\",\n",
    "                               \"MV_jaccard\":\"J [MV]\"})\n",
    "# # mv_df[\"thresh\"]=0\n",
    "# # mv_df[\"algorithm\"]=\"MV\"\n",
    "\n",
    "# df = pd.concat([algo_df,mv_df])\n",
    "algo_lst=[\"basic\",\"GT\",\"isoGT\",\"GTLSA\",\"isoGTLSA\",\"AW\",\"isoAW\"]\n",
    "# newdf = mv_df \n",
    "# for algo in algo_lst:\n",
    "#     data = algo_df[algo_df[\"algorithm\"]==algo].rename(columns={\"precision\":\"P [{}]\".format(algo),\n",
    "#                                             \"recall\":\"R [{}]\".format(algo),\n",
    "#                                             \"jaccard\":\"J [{}]\".format(algo)})\n",
    "#     data = data.drop('algorithm',axis=1)\n",
    "#     newdf = newdf.merge(data)\n",
    "\n",
    "# newdf = newdf.drop_duplicates()\n",
    "\n",
    "\n",
    "\n",
    "# GTLSA_Fixed = GTLSA_Fixed.rename(columns={\"EM_precision\":\"P [GTLSA PixTile]\",\n",
    "#                             \"EM_recall\":\"R [GTLSA PixTile]\",\n",
    "#                             \"EM_jaccard\":\"J [GTLSA PixTile]\"})\n",
    "# isoGTLSA_Fixed = isoGTLSA_Fixed.rename(columns={\"EM_precision\":\"P [isoGTLSA PixTile]\",\n",
    "#                             \"EM_recall\":\"R [isoGTLSA PixTile]\",\n",
    "#                             \"EM_jaccard\":\"J [isoGTLSA PixTile]\"})\n",
    "\n",
    "# newdf = newdf.merge(GTLSA_Fixed).merge(isoGTLSA_Fixed)"
   ]
  },
  {
   "cell_type": "code",
   "execution_count": 98,
   "metadata": {},
   "outputs": [
    {
     "data": {
      "text/plain": [
       "P [MV]          0.947492\n",
       "R [MV]          0.929748\n",
       "J [MV]          0.883542\n",
       "P [GT]          0.917430\n",
       "R [GT]          0.969895\n",
       "J [GT]          0.891915\n",
       "P [isoGT]       0.946235\n",
       "R [isoGT]       0.954794\n",
       "J [isoGT]       0.905406\n",
       "P [GTLSA]       0.287162\n",
       "R [GTLSA]       0.948512\n",
       "J [GTLSA]       0.281660\n",
       "P [isoGTLSA]    0.933243\n",
       "R [isoGTLSA]    0.950749\n",
       "J [isoGTLSA]    0.889066\n",
       "P [basic]       0.946480\n",
       "R [basic]       0.936759\n",
       "J [basic]       0.889463\n",
       "dtype: float64"
      ]
     },
     "execution_count": 98,
     "metadata": {},
     "output_type": "execute_result"
    }
   ],
   "source": [
    "df[df[\"thresh\"]==0].mean()[metric_keys]"
   ]
  },
  {
   "cell_type": "code",
   "execution_count": 99,
   "metadata": {},
   "outputs": [
    {
     "data": {
      "text/html": [
       "<div>\n",
       "<table border=\"1\" class=\"dataframe\">\n",
       "  <thead>\n",
       "    <tr style=\"text-align: right;\">\n",
       "      <th></th>\n",
       "      <th>num_workers</th>\n",
       "      <th>sample_num</th>\n",
       "      <th>objid</th>\n",
       "      <th>P [MV]</th>\n",
       "      <th>R [MV]</th>\n",
       "      <th>J [MV]</th>\n",
       "      <th>thresh</th>\n",
       "      <th>P [GT]</th>\n",
       "      <th>R [GT]</th>\n",
       "      <th>J [GT]</th>\n",
       "      <th>...</th>\n",
       "      <th>J [isoGT]</th>\n",
       "      <th>P [GTLSA]</th>\n",
       "      <th>R [GTLSA]</th>\n",
       "      <th>J [GTLSA]</th>\n",
       "      <th>P [isoGTLSA]</th>\n",
       "      <th>R [isoGTLSA]</th>\n",
       "      <th>J [isoGTLSA]</th>\n",
       "      <th>P [basic]</th>\n",
       "      <th>R [basic]</th>\n",
       "      <th>J [basic]</th>\n",
       "    </tr>\n",
       "  </thead>\n",
       "  <tbody>\n",
       "    <tr>\n",
       "      <th>0</th>\n",
       "      <td>5</td>\n",
       "      <td>0</td>\n",
       "      <td>1</td>\n",
       "      <td>0.977603</td>\n",
       "      <td>0.980179</td>\n",
       "      <td>0.958651</td>\n",
       "      <td>-4</td>\n",
       "      <td>0.925597</td>\n",
       "      <td>0.990605</td>\n",
       "      <td>0.917542</td>\n",
       "      <td>...</td>\n",
       "      <td>0.894056</td>\n",
       "      <td>0.084315</td>\n",
       "      <td>0.983540</td>\n",
       "      <td>0.084196</td>\n",
       "      <td>0.896327</td>\n",
       "      <td>0.997174</td>\n",
       "      <td>0.894056</td>\n",
       "      <td>0.977075</td>\n",
       "      <td>0.981515</td>\n",
       "      <td>0.959421</td>\n",
       "    </tr>\n",
       "    <tr>\n",
       "      <th>1</th>\n",
       "      <td>5</td>\n",
       "      <td>0</td>\n",
       "      <td>1</td>\n",
       "      <td>0.977603</td>\n",
       "      <td>0.980179</td>\n",
       "      <td>0.958651</td>\n",
       "      <td>-2</td>\n",
       "      <td>0.925597</td>\n",
       "      <td>0.990605</td>\n",
       "      <td>0.917542</td>\n",
       "      <td>...</td>\n",
       "      <td>0.912494</td>\n",
       "      <td>0.082767</td>\n",
       "      <td>0.962764</td>\n",
       "      <td>0.082503</td>\n",
       "      <td>0.960338</td>\n",
       "      <td>0.990376</td>\n",
       "      <td>0.951458</td>\n",
       "      <td>0.977603</td>\n",
       "      <td>0.980179</td>\n",
       "      <td>0.958651</td>\n",
       "    </tr>\n",
       "    <tr>\n",
       "      <th>2</th>\n",
       "      <td>5</td>\n",
       "      <td>0</td>\n",
       "      <td>1</td>\n",
       "      <td>0.977603</td>\n",
       "      <td>0.980179</td>\n",
       "      <td>0.958651</td>\n",
       "      <td>0</td>\n",
       "      <td>0.969400</td>\n",
       "      <td>0.986060</td>\n",
       "      <td>0.956295</td>\n",
       "      <td>...</td>\n",
       "      <td>0.956627</td>\n",
       "      <td>0.082767</td>\n",
       "      <td>0.962764</td>\n",
       "      <td>0.082503</td>\n",
       "      <td>0.978832</td>\n",
       "      <td>0.978384</td>\n",
       "      <td>0.958112</td>\n",
       "      <td>0.977603</td>\n",
       "      <td>0.980179</td>\n",
       "      <td>0.958651</td>\n",
       "    </tr>\n",
       "    <tr>\n",
       "      <th>3</th>\n",
       "      <td>5</td>\n",
       "      <td>0</td>\n",
       "      <td>1</td>\n",
       "      <td>0.977603</td>\n",
       "      <td>0.980179</td>\n",
       "      <td>0.958651</td>\n",
       "      <td>2</td>\n",
       "      <td>0.977603</td>\n",
       "      <td>0.980179</td>\n",
       "      <td>0.958651</td>\n",
       "      <td>...</td>\n",
       "      <td>0.947850</td>\n",
       "      <td>0.994513</td>\n",
       "      <td>0.920677</td>\n",
       "      <td>0.916024</td>\n",
       "      <td>0.994513</td>\n",
       "      <td>0.920677</td>\n",
       "      <td>0.916024</td>\n",
       "      <td>0.977603</td>\n",
       "      <td>0.980179</td>\n",
       "      <td>0.958651</td>\n",
       "    </tr>\n",
       "    <tr>\n",
       "      <th>4</th>\n",
       "      <td>5</td>\n",
       "      <td>0</td>\n",
       "      <td>1</td>\n",
       "      <td>0.977603</td>\n",
       "      <td>0.980179</td>\n",
       "      <td>0.958651</td>\n",
       "      <td>4</td>\n",
       "      <td>0.977603</td>\n",
       "      <td>0.980179</td>\n",
       "      <td>0.958651</td>\n",
       "      <td>...</td>\n",
       "      <td>0.916024</td>\n",
       "      <td>0.994513</td>\n",
       "      <td>0.920677</td>\n",
       "      <td>0.916024</td>\n",
       "      <td>0.994513</td>\n",
       "      <td>0.920677</td>\n",
       "      <td>0.916024</td>\n",
       "      <td>0.979174</td>\n",
       "      <td>0.978613</td>\n",
       "      <td>0.958659</td>\n",
       "    </tr>\n",
       "  </tbody>\n",
       "</table>\n",
       "<p>5 rows × 22 columns</p>\n",
       "</div>"
      ],
      "text/plain": [
       "   num_workers  sample_num  objid    P [MV]    R [MV]    J [MV]  thresh  \\\n",
       "0            5           0      1  0.977603  0.980179  0.958651      -4   \n",
       "1            5           0      1  0.977603  0.980179  0.958651      -2   \n",
       "2            5           0      1  0.977603  0.980179  0.958651       0   \n",
       "3            5           0      1  0.977603  0.980179  0.958651       2   \n",
       "4            5           0      1  0.977603  0.980179  0.958651       4   \n",
       "\n",
       "     P [GT]    R [GT]    J [GT]    ...      J [isoGT]  P [GTLSA]  R [GTLSA]  \\\n",
       "0  0.925597  0.990605  0.917542    ...       0.894056   0.084315   0.983540   \n",
       "1  0.925597  0.990605  0.917542    ...       0.912494   0.082767   0.962764   \n",
       "2  0.969400  0.986060  0.956295    ...       0.956627   0.082767   0.962764   \n",
       "3  0.977603  0.980179  0.958651    ...       0.947850   0.994513   0.920677   \n",
       "4  0.977603  0.980179  0.958651    ...       0.916024   0.994513   0.920677   \n",
       "\n",
       "   J [GTLSA]  P [isoGTLSA]  R [isoGTLSA]  J [isoGTLSA]  P [basic]  R [basic]  \\\n",
       "0   0.084196      0.896327      0.997174      0.894056   0.977075   0.981515   \n",
       "1   0.082503      0.960338      0.990376      0.951458   0.977603   0.980179   \n",
       "2   0.082503      0.978832      0.978384      0.958112   0.977603   0.980179   \n",
       "3   0.916024      0.994513      0.920677      0.916024   0.977603   0.980179   \n",
       "4   0.916024      0.994513      0.920677      0.916024   0.979174   0.978613   \n",
       "\n",
       "   J [basic]  \n",
       "0   0.959421  \n",
       "1   0.958651  \n",
       "2   0.958651  \n",
       "3   0.958651  \n",
       "4   0.958659  \n",
       "\n",
       "[5 rows x 22 columns]"
      ]
     },
     "execution_count": 99,
     "metadata": {},
     "output_type": "execute_result"
    }
   ],
   "source": [
    "df.head()"
   ]
  },
  {
   "cell_type": "markdown",
   "metadata": {},
   "source": [
    "### Performance as it varies with number of workers"
   ]
  },
  {
   "cell_type": "code",
   "execution_count": 100,
   "metadata": {
    "scrolled": true
   },
   "outputs": [
    {
     "data": {
      "text/plain": [
       "<matplotlib.text.Text at 0x613eb90>"
      ]
     },
     "execution_count": 100,
     "metadata": {},
     "output_type": "execute_result"
    },
    {
     "data": {
      "image/png": "[encoded data removed]",
      "text/plain": [
       "<matplotlib.figure.Figure at 0x53f4f10>"
      ]
     },
     "metadata": {},
     "output_type": "display_data"
    }
   ],
   "source": [
    "Nworker_performance = df.groupby(\"num_workers\").mean()\n",
    "metric_J = [metric for metric in metric_keys if 'J' in metric ]\n",
    "#Nworker_performance = Nworker_performance.reindex(['5workers_rand0','10workers_rand0','15workers_rand0','20workers_rand0','25workers_rand0','30workers_rand0'])\n",
    "for algo in metric_J:\n",
    "    if '[GTLSA]' not in algo:#exclude GTLSA for now\n",
    "        plt.plot(np.array(Nworker_performance[algo]),label=algo)\n",
    "plt.legend(bbox_to_anchor=(1.04,0.5),loc=\"center left\")    \n",
    "plt.ylabel(\"Jaccard\")\n",
    "plt.xticks(rotation=50)\n",
    "a = gca().set_xticklabels([0,'5 workers','10 workers','15 workers','20 workers','25 workers','30 workers'])\n",
    "plt.title(\"Ground truth EM\",fontsize=13)"
   ]
  },
  {
   "cell_type": "code",
   "execution_count": 9,
   "metadata": {
    "collapsed": true
   },
   "outputs": [],
   "source": [
    "def plot_PRcurve(objid,num_worker,sample_num=0):\n",
    "    objdf = df[(df[\"num_workers\"]==num_worker)&(df[\"sample_num\"]==sample_num)&(df[\"objid\"]==objid)]\n",
    "    plt.figure()\n",
    "    for algo in ['basic','GT','isoGT','GTLSA','isoGTLSA']:\n",
    "        x= objdf[\"P [{}]\".format(algo)]\n",
    "        y = objdf[\"R [{}]\".format(algo)]\n",
    "        if len(x)<=0:\n",
    "            return\n",
    "        sortedx, sortedy = zip(*sorted(zip(x, y)))\n",
    "        plt.plot(sortedx,sortedy,'.-',label=algo)\n",
    "    plt.xlabel(\"Precision\",fontsize=13)\n",
    "    plt.ylabel(\"Recall\",fontsize=13)\n",
    "    plt.legend(loc=\"bottom left\")\n",
    "    plt.title(\"{}worker_rand{} [obj {};N={}]\".format(num_worker,sample_num,objid,len(objdf)))"
   ]
  },
  {
   "cell_type": "markdown",
   "metadata": {},
   "source": [
    "# Greedy Algo Results"
   ]
  },
  {
   "cell_type": "code",
   "execution_count": null,
   "metadata": {
    "collapsed": true
   },
   "outputs": [],
   "source": [
    "from glob import glob \n",
    "import pandas as pd\n",
    "\n",
    "globfnames = glob(\"greedy_result_*.csv\")\n",
    "greedy_df = pd.read_csv(globfnames[0],index_col=0)\n",
    "for fname in globfnames[1:]: \n",
    "    greedy_df = greedy_df.append(pd.read_csv(fname,index_col=0))\n",
    "\n",
    "assert len(greedy_df)==31*44*5\n",
    "\n",
    "greedy_df.to_csv(\"all_greedy_result.csv\")"
   ]
  },
  {
   "cell_type": "code",
   "execution_count": 87,
   "metadata": {
    "collapsed": true
   },
   "outputs": [],
   "source": [
    "greedy_df = pd.read_csv(\"all_greedy_result.csv\",index_col=0)\n",
    "\n",
    "ground_truth_greedy_df = pd.read_csv(\"ground_truth_greedy_result.csv\")\n",
    "greedy_df = greedy_df.append(ground_truth_greedy_df)\n",
    "worker_frac_greedy_df = pd.read_csv(\"greedy_result_worker_fraction.csv\")\n",
    "greedy_df = greedy_df.append(worker_frac_greedy_df)\n",
    "\n",
    "greedy_df[\"num_workers\"] = greedy_df[\"sample\"].apply(lambda x: int(x.split(\"workers\")[0]))"
   ]
  },
  {
   "cell_type": "code",
   "execution_count": 101,
   "metadata": {},
   "outputs": [
    {
     "data": {
      "image/png": "[encoded data removed]",
      "text/plain": [
       "<matplotlib.figure.Figure at 0x5dec850>"
      ]
     },
     "metadata": {},
     "output_type": "display_data"
    }
   ],
   "source": [
    "Nworker_performance = greedy_df.groupby(['algo','num_workers'],as_index=False)[['j']].mean()\n",
    "\n",
    "for algo in list(set(Nworker_performance[\"algo\"])):\n",
    "    plt.plot(np.array(Nworker_performance[Nworker_performance[\"algo\"]==algo][['j']]),label=algo)\n",
    "plt.legend(bbox_to_anchor=(1.04,0.5),loc=\"center left\")    \n",
    "plt.ylabel(\"Jaccard\")\n",
    "plt.xticks(rotation=50)\n",
    "plt.title(\"Greedy Picking\",fontsize=13)\n",
    "a = gca().set_xticklabels([0,'5 workers','10 workers','15 workers','20 workers','25 workers','30 workers'])\n"
   ]
  },
  {
   "cell_type": "code",
   "execution_count": 7,
   "metadata": {
    "collapsed": true
   },
   "outputs": [],
   "source": [
    "# algo_lst=[\"basic\",\"GT\",\"isoGT\",\"GTLSA\",\"isoGTLSA\"]\n",
    "\n",
    "# for algo in algo_lst:\n",
    "#     data = df[df[\"algo\"]==algo].rename(columns={\"p\":\"P [{}]\".format(algo),\n",
    "#                                             \"r\":\"R [{}]\".format(algo),\n",
    "#                                             \"j\":\"J [{}]\".format(algo)})\n",
    "#     newdf = newdf.merge(data)"
   ]
  },
  {
   "cell_type": "code",
   "execution_count": null,
   "metadata": {
    "collapsed": true
   },
   "outputs": [],
   "source": []
  }
 ],
 "metadata": {
  "kernelspec": {
   "display_name": "Python 2",
   "language": "python",
   "name": "python2"
  },
  "language_info": {
   "codemirror_mode": {
    "name": "ipython",
    "version": 2
   },
   "file_extension": ".py",
   "mimetype": "text/x-python",
   "name": "python",
   "nbconvert_exporter": "python",
   "pygments_lexer": "ipython2",
   "version": "2.7.6"
  }
 },
 "nbformat": 4,
 "nbformat_minor": 2
}

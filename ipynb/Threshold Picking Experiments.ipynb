{
 "cells": [
  {
   "cell_type": "code",
   "execution_count": 1,
   "metadata": {},
   "outputs": [
    {
     "name": "stdout",
     "output_type": "stream",
     "text": [
      "/srv/data/home/jlee782/segmentation/analysis\n"
     ]
    }
   ],
   "source": [
    "cd ../analysis/"
   ]
  },
  {
   "cell_type": "code",
   "execution_count": 2,
   "metadata": {},
   "outputs": [
    {
     "name": "stdout",
     "output_type": "stream",
     "text": [
      "Populating the interactive namespace from numpy and matplotlib\n"
     ]
    },
    {
     "name": "stderr",
     "output_type": "stream",
     "text": [
      "/home/jlee782/.local/lib/python2.7/site-packages/matplotlib/__init__.py:1401: UserWarning:  This call to matplotlib.use() has no effect\n",
      "because the backend has already been chosen;\n",
      "matplotlib.use() must be called *before* pylab, matplotlib.pyplot,\n",
      "or matplotlib.backends is imported for the first time.\n",
      "\n",
      "  warnings.warn(_use_error_msg)\n"
     ]
    }
   ],
   "source": [
    "%pylab inline\n",
    "%load_ext autoreload\n",
    "%autoreload 2\n",
    "# from paper_visualizations import * \n",
    "from PixelEM import * \n",
    "# from test_sample import test_sample_obj\n",
    "from withClustAnalysis import *"
   ]
  },
  {
   "cell_type": "code",
   "execution_count": 3,
   "metadata": {},
   "outputs": [],
   "source": [
    "# compile all algo and MV PRJs into one big table\n",
    "df = compile_all_algo_PRJs()"
   ]
  },
  {
   "cell_type": "code",
   "execution_count": 6,
   "metadata": {},
   "outputs": [],
   "source": [
    "# df.groupby([\"objid\",\"sample_num\",\"num_workers\"])"
   ]
  },
  {
   "cell_type": "code",
   "execution_count": 12,
   "metadata": {},
   "outputs": [],
   "source": [
    "selected_df = df[(df[\"num_workers\"]==25)&(df[\"sample_num\"]==0)&(df[\"objid\"]==1)&(df[\"clust\"]==0)]"
   ]
  },
  {
   "cell_type": "code",
   "execution_count": 49,
   "metadata": {},
   "outputs": [],
   "source": [
    "sample = \"25workers_rand0\"\n",
    "objid=1\n",
    "#thresh_lst=[-4,-2,0,2,4,8,10]\n",
    "thresh_lst=np.arange(-15,70,1)\n",
    "cluster_id=0\n",
    "all_prjs = deriveGTinGroundTruthExperiments(sample, objid, \"GT\",thresh_lst,cluster_id = cluster_id, exclude_isovote=False,rerun_existing=True)\n",
    "df = pd.DataFrame(all_prjs,columns=[\"thresh\",\"p\",\"r\",\"j\"])"
   ]
  },
  {
   "cell_type": "code",
   "execution_count": 53,
   "metadata": {},
   "outputs": [
    {
     "data": {
      "text/plain": [
       "<matplotlib.legend.Legend at 0x7fa9e5907190>"
      ]
     },
     "execution_count": 53,
     "metadata": {},
     "output_type": "execute_result"
    },
    {
     "data": {
      "image/png": "[encoded data removed]",
      "text/plain": [
       "<matplotlib.figure.Figure at 0x7fa9b51a1d10>"
      ]
     },
     "metadata": {},
     "output_type": "display_data"
    }
   ],
   "source": [
    "plt.title(\"{}:{}:clust{}\".format(sample,objid,cluster_id))\n",
    "plt.plot(df[\"thresh\"],df[\"p\"],label=\"p\")\n",
    "plt.plot(df[\"thresh\"],df[\"r\"],label=\"r\")\n",
    "plt.plot(df[\"thresh\"],df[\"j\"],label=\"j\")\n",
    "plt.xlabel(\"thresh\")\n",
    "plt.legend(loc=\"upper right\")"
   ]
  },
  {
   "cell_type": "code",
   "execution_count": 54,
   "metadata": {
    "collapsed": true
   },
   "outputs": [],
   "source": [
    "sample = \"25workers_rand0\"\n",
    "objid=1\n",
    "#thresh_lst=[-4,-2,0,2,4,8,10]\n",
    "thresh_lst=np.arange(-15,70,1)\n",
    "cluster_id=0\n",
    "def run_threshold_experiment(sample,objid,thresh_lst,cluster_id):\n",
    "    all_prjs = deriveGTinGroundTruthExperiments(sample, objid, \"GT\",thresh_lst,cluster_id = cluster_id, exclude_isovote=False,rerun_existing=True)\n",
    "    df = pd.DataFrame(all_prjs,columns=[\"thresh\",\"p\",\"r\",\"j\"])\n",
    "    \n",
    "    plt.figure()\n",
    "    plt.title(\"{}:{}:clust{}\".format(sample,objid,cluster_id))\n",
    "    plt.plot(df[\"thresh\"],df[\"p\"],label=\"p\")\n",
    "    plt.plot(df[\"thresh\"],df[\"r\"],label=\"r\")\n",
    "    plt.plot(df[\"thresh\"],df[\"j\"],label=\"j\")\n",
    "    plt.xlabel(\"thresh\")\n",
    "    plt.legend(loc=\"upper right\")"
   ]
  },
  {
   "cell_type": "code",
   "execution_count": null,
   "metadata": {},
   "outputs": [],
   "source": [
    "for objid in object_lst:\n",
    "    run_threshold_experiment(sample,objid,thresh_lst,\"\")"
   ]
  },
  {
   "cell_type": "code",
   "execution_count": null,
   "metadata": {
    "collapsed": true
   },
   "outputs": [],
   "source": []
  }
 ],
 "metadata": {
  "kernelspec": {
   "display_name": "Python 2",
   "language": "python",
   "name": "python2"
  },
  "language_info": {
   "codemirror_mode": {
    "name": "ipython",
    "version": 2
   },
   "file_extension": ".py",
   "mimetype": "text/x-python",
   "name": "python",
   "nbconvert_exporter": "python",
   "pygments_lexer": "ipython2",
   "version": "2.7.14"
  }
 },
 "nbformat": 4,
 "nbformat_minor": 2
}

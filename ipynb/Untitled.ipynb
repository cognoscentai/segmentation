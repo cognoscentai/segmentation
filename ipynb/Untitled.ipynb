{
 "cells": [
  {
   "cell_type": "code",
   "execution_count": 1,
   "metadata": {},
   "outputs": [
    {
     "name": "stdout",
     "output_type": "stream",
     "text": [
      "Populating the interactive namespace from numpy and matplotlib\n"
     ]
    }
   ],
   "source": [
    "%pylab inline"
   ]
  },
  {
   "cell_type": "code",
   "execution_count": 2,
   "metadata": {},
   "outputs": [
    {
     "name": "stdout",
     "output_type": "stream",
     "text": [
      "/srv/data/home/jlee782/segmentation/analysis\n"
     ]
    }
   ],
   "source": [
    "cd ../analysis/"
   ]
  },
  {
   "cell_type": "code",
   "execution_count": 3,
   "metadata": {
    "collapsed": true
   },
   "outputs": [],
   "source": [
    "import pickle as pkl"
   ]
  },
  {
   "cell_type": "code",
   "execution_count": 4,
   "metadata": {},
   "outputs": [
    {
     "name": "stderr",
     "output_type": "stream",
     "text": [
      "/home/jlee782/.local/lib/python2.7/site-packages/matplotlib/__init__.py:1401: UserWarning:  This call to matplotlib.use() has no effect\n",
      "because the backend has already been chosen;\n",
      "matplotlib.use() must be called *before* pylab, matplotlib.pyplot,\n",
      "or matplotlib.backends is imported for the first time.\n",
      "\n",
      "  warnings.warn(_use_error_msg)\n"
     ]
    }
   ],
   "source": [
    "from PixelEM import *"
   ]
  },
  {
   "cell_type": "code",
   "execution_count": 7,
   "metadata": {
    "collapsed": true
   },
   "outputs": [],
   "source": [
    "sample_name = \"5workers_rand0\"\n",
    "objid = 1"
   ]
  },
  {
   "cell_type": "markdown",
   "metadata": {},
   "source": [
    "# Redundancy: verify that p in mask and p not in mask is the same accross all thresholds "
   ]
  },
  {
   "cell_type": "code",
   "execution_count": 6,
   "metadata": {
    "collapsed": true
   },
   "outputs": [],
   "source": [
    "pinmask0 = pkl.load(open(\"pixel_em/5workers_rand0/obj1/isoGT_p_in_mask_2_thresh0.pkl\"))\n",
    "pinmaskn4 = pkl.load(open(\"pixel_em/5workers_rand0/obj1/isoGT_p_in_mask_2_thresh-4.pkl\"))"
   ]
  },
  {
   "cell_type": "code",
   "execution_count": 11,
   "metadata": {
    "collapsed": true
   },
   "outputs": [],
   "source": [
    "pninmask0 = pkl.load(open(\"pixel_em/5workers_rand0/obj1/isoGT_p_not_in_mask_2_thresh0.pkl\"))\n",
    "pninmaskn4 = pkl.load(open(\"pixel_em/5workers_rand0/obj1/isoGT_p_not_in_mask_2_thresh-4.pkl\"))"
   ]
  },
  {
   "cell_type": "code",
   "execution_count": 12,
   "metadata": {},
   "outputs": [
    {
     "data": {
      "text/plain": [
       "array([[-3.54043708, -3.54043708, -3.54043708, ..., -3.54043708,\n",
       "        -3.54043708, -3.54043708],\n",
       "       [-3.54043708, -3.54043708, -3.54043708, ..., -3.54043708,\n",
       "        -3.54043708, -3.54043708],\n",
       "       [-3.54043708, -3.54043708, -3.54043708, ..., -3.54043708,\n",
       "        -3.54043708, -3.54043708],\n",
       "       ..., \n",
       "       [-3.54043708, -3.54043708, -3.54043708, ..., -3.54043708,\n",
       "        -3.54043708, -3.54043708],\n",
       "       [-3.54043708, -3.54043708, -3.54043708, ..., -3.54043708,\n",
       "        -3.54043708, -3.54043708],\n",
       "       [-3.54043708, -3.54043708, -3.54043708, ..., -3.54043708,\n",
       "        -3.54043708, -3.54043708]])"
      ]
     },
     "execution_count": 12,
     "metadata": {},
     "output_type": "execute_result"
    }
   ],
   "source": [
    "pninmask0"
   ]
  },
  {
   "cell_type": "code",
   "execution_count": 13,
   "metadata": {},
   "outputs": [
    {
     "data": {
      "text/plain": [
       "array([[-2.55412812, -2.55412812, -2.55412812, ..., -2.55412812,\n",
       "        -2.55412812, -2.55412812],\n",
       "       [-2.55412812, -2.55412812, -2.55412812, ..., -2.55412812,\n",
       "        -2.55412812, -2.55412812],\n",
       "       [-2.55412812, -2.55412812, -2.55412812, ..., -2.55412812,\n",
       "        -2.55412812, -2.55412812],\n",
       "       ..., \n",
       "       [-2.55412812, -2.55412812, -2.55412812, ..., -2.55412812,\n",
       "        -2.55412812, -2.55412812],\n",
       "       [-2.55412812, -2.55412812, -2.55412812, ..., -2.55412812,\n",
       "        -2.55412812, -2.55412812],\n",
       "       [-2.55412812, -2.55412812, -2.55412812, ..., -2.55412812,\n",
       "        -2.55412812, -2.55412812]])"
      ]
     },
     "execution_count": 13,
     "metadata": {},
     "output_type": "execute_result"
    }
   ],
   "source": [
    "pninmaskn4"
   ]
  },
  {
   "cell_type": "code",
   "execution_count": 8,
   "metadata": {},
   "outputs": [
    {
     "data": {
      "text/plain": [
       "array([[-6.22143422, -6.22143422, -6.22143422, ..., -6.22143422,\n",
       "        -6.22143422, -6.22143422],\n",
       "       [-6.22143422, -6.22143422, -6.22143422, ..., -6.22143422,\n",
       "        -6.22143422, -6.22143422],\n",
       "       [-6.22143422, -6.22143422, -6.22143422, ..., -6.22143422,\n",
       "        -6.22143422, -6.22143422],\n",
       "       ..., \n",
       "       [-6.22143422, -6.22143422, -6.22143422, ..., -6.22143422,\n",
       "        -6.22143422, -6.22143422],\n",
       "       [-6.22143422, -6.22143422, -6.22143422, ..., -6.22143422,\n",
       "        -6.22143422, -6.22143422],\n",
       "       [-6.22143422, -6.22143422, -6.22143422, ..., -6.22143422,\n",
       "        -6.22143422, -6.22143422]])"
      ]
     },
     "execution_count": 8,
     "metadata": {},
     "output_type": "execute_result"
    }
   ],
   "source": [
    "pinmask0"
   ]
  },
  {
   "cell_type": "code",
   "execution_count": 10,
   "metadata": {},
   "outputs": [
    {
     "data": {
      "text/plain": [
       "array([[-4.36077916, -4.36077916, -4.36077916, ..., -4.36077916,\n",
       "        -4.36077916, -4.36077916],\n",
       "       [-4.36077916, -4.36077916, -4.36077916, ..., -4.36077916,\n",
       "        -4.36077916, -4.36077916],\n",
       "       [-4.36077916, -4.36077916, -4.36077916, ..., -4.36077916,\n",
       "        -4.36077916, -4.36077916],\n",
       "       ..., \n",
       "       [-4.36077916, -4.36077916, -4.36077916, ..., -4.36077916,\n",
       "        -4.36077916, -4.36077916],\n",
       "       [-4.36077916, -4.36077916, -4.36077916, ..., -4.36077916,\n",
       "        -4.36077916, -4.36077916],\n",
       "       [-4.36077916, -4.36077916, -4.36077916, ..., -4.36077916,\n",
       "        -4.36077916, -4.36077916]])"
      ]
     },
     "execution_count": 10,
     "metadata": {},
     "output_type": "execute_result"
    }
   ],
   "source": [
    "pinmaskn4"
   ]
  },
  {
   "cell_type": "code",
   "execution_count": 7,
   "metadata": {},
   "outputs": [
    {
     "data": {
      "text/plain": [
       "array([[False, False, False, ..., False, False, False],\n",
       "       [False, False, False, ..., False, False, False],\n",
       "       [False, False, False, ..., False, False, False],\n",
       "       ..., \n",
       "       [False, False, False, ..., False, False, False],\n",
       "       [False, False, False, ..., False, False, False],\n",
       "       [False, False, False, ..., False, False, False]], dtype=bool)"
      ]
     },
     "execution_count": 7,
     "metadata": {},
     "output_type": "execute_result"
    }
   ],
   "source": [
    "pinmask0 == pinmaskn4"
   ]
  },
  {
   "cell_type": "code",
   "execution_count": null,
   "metadata": {
    "collapsed": true
   },
   "outputs": [],
   "source": []
  }
 ],
 "metadata": {
  "kernelspec": {
   "display_name": "Python 2",
   "language": "python",
   "name": "python2"
  },
  "language_info": {
   "codemirror_mode": {
    "name": "ipython",
    "version": 2
   },
   "file_extension": ".py",
   "mimetype": "text/x-python",
   "name": "python",
   "nbconvert_exporter": "python",
   "pygments_lexer": "ipython2",
   "version": "2.7.6"
  }
 },
 "nbformat": 4,
 "nbformat_minor": 2
}

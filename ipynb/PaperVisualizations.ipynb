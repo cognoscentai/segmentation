{
 "cells": [
  {
   "cell_type": "code",
   "execution_count": 1,
   "metadata": {
    "scrolled": true
   },
   "outputs": [
    {
     "name": "stdout",
     "output_type": "stream",
     "text": [
      "/home/jlee782/hcomp_paper_seg/analysis\n"
     ]
    }
   ],
   "source": [
    "cd ../analysis/"
   ]
  },
  {
   "cell_type": "code",
   "execution_count": 2,
   "metadata": {},
   "outputs": [
    {
     "name": "stdout",
     "output_type": "stream",
     "text": [
      "Populating the interactive namespace from numpy and matplotlib\n"
     ]
    },
    {
     "name": "stderr",
     "output_type": "stream",
     "text": [
      "/home/jlee782/.local/lib/python2.7/site-packages/matplotlib/__init__.py:1401: UserWarning:  This call to matplotlib.use() has no effect\n",
      "because the backend has already been chosen;\n",
      "matplotlib.use() must be called *before* pylab, matplotlib.pyplot,\n",
      "or matplotlib.backends is imported for the first time.\n",
      "\n",
      "  warnings.warn(_use_error_msg)\n"
     ]
    }
   ],
   "source": [
    "%pylab inline\n",
    "%load_ext autoreload\n",
    "%autoreload 2\n",
    "from withClustAnalysis import *\n",
    "from hcomp_paper_viz import *"
   ]
  },
  {
   "cell_type": "code",
   "execution_count": 3,
   "metadata": {},
   "outputs": [
    {
     "name": "stdout",
     "output_type": "stream",
     "text": [
      "generate baseline comparisons\n"
     ]
    },
    {
     "name": "stderr",
     "output_type": "stream",
     "text": [
      "/home/jlee782/.local/lib/python2.7/site-packages/pandas/io/parsers.py:648: ParserWarning: Falling back to the 'python' engine because the 'c' engine does not support skip_footer; you can avoid this warning by specifying engine='python'.\n",
      "  ParserWarning)\n",
      "                                                    \r"
     ]
    }
   ],
   "source": [
    "from qualityBaseline import compute_self_BBvals\n",
    "print \"generate baseline comparisons\"\n",
    "compute_self_BBvals(compute_metrics=['simple','area']) #run once\n",
    "retreival_df = compute_best_average_heuristics_workers_baselines(rerun_existing=True) #run once"
   ]
  },
  {
   "cell_type": "markdown",
   "metadata": {},
   "source": [
    "# Retreival based heuristic models"
   ]
  },
  {
   "cell_type": "markdown",
   "metadata": {},
   "source": [
    "-  if we only pick from the best cluster, if no clustering done then retain the same worker performance as before"
   ]
  },
  {
   "cell_type": "code",
   "execution_count": 4,
   "metadata": {
    "collapsed": true
   },
   "outputs": [],
   "source": [
    "from baseline import compute_worker_qualities_against_real_performance"
   ]
  },
  {
   "cell_type": "code",
   "execution_count": 37,
   "metadata": {
    "collapsed": true
   },
   "outputs": [],
   "source": [
    "obj_clusters = clusters()"
   ]
  },
  {
   "cell_type": "code",
   "execution_count": 6,
   "metadata": {
    "collapsed": true
   },
   "outputs": [],
   "source": [
    "clust_df = pd.read_csv(\"spectral_clustering_all_hard_obj.csv\")\n",
    "noClust_obj =[obj for obj in object_lst if obj not in clust_df.objid.unique() ]\n",
    "clustObj = clust_df.objid.unique()"
   ]
  },
  {
   "cell_type": "code",
   "execution_count": 32,
   "metadata": {},
   "outputs": [],
   "source": [
    "retreival_df= pd.read_csv(\"pixel_em/individual_worker_performance.csv\")\n",
    "retreival_df[\"sample_num\"]=retreival_df.apply(lambda x:int(x[\"sample\"].split(\"rand\")[-1]),axis=1)\n",
    "no_cluster_retreival_df = retreival_df[retreival_df[\"clust\"]==-1]\n",
    "cluster_retreival_df = retreival_df[((retreival_df[\"clust\"]!=-1) & (retreival_df[\"objid\"].isin(clustObj)))|((retreival_df[\"clust\"]==-1) & (~retreival_df[\"objid\"].isin(clustObj)))]"
   ]
  },
  {
   "cell_type": "code",
   "execution_count": 33,
   "metadata": {},
   "outputs": [],
   "source": [
    "#BAD!\n",
    "# best_clust_df = compute_best_worker_picking()\n",
    "# cluster_retreival_df=filter_best_clust(retreival_df,best_clust_df)"
   ]
  },
  {
   "cell_type": "code",
   "execution_count": 46,
   "metadata": {},
   "outputs": [],
   "source": [
    "def best_cluster(x):\n",
    "    try:\n",
    "        return obj_clusters[x[\"sample\"]][str(x[\"objid\"])]\n",
    "    except(KeyError): #non clustered cases\n",
    "        return -1\n",
    "\n",
    "retreival_df[\"best_clust\"]=retreival_df.apply(lambda x: best_cluster(x),axis=1)\n",
    "cluster_retreival_df = retreival_df[retreival_df[\"best_clust\"]==retreival_df[\"clust\"]]\n",
    "assert len(cluster_retreival_df.groupby([\"sample\",\"objid\"]).count())==46*31"
   ]
  },
  {
   "cell_type": "code",
   "execution_count": 47,
   "metadata": {
    "collapsed": true
   },
   "outputs": [],
   "source": [
    "algoMap={\n",
    "    'NumPt':'orange',\n",
    "    'AreaRatio':'green',\n",
    "    'AvrgWorker':'blue',\n",
    "    'BestWorker':'red'\n",
    "}"
   ]
  },
  {
   "cell_type": "code",
   "execution_count": 48,
   "metadata": {},
   "outputs": [],
   "source": [
    "def worker_scaling_ratio(performance):\n",
    "    return (performance[-1]-performance[0])/performance[0]"
   ]
  },
  {
   "cell_type": "markdown",
   "metadata": {},
   "source": [
    "For vision, we scan a variety of inclusion thresholds as well as different levels of segmentation granularities. For each object, we pick parameter that yields the best performing Jaccard."
   ]
  },
  {
   "cell_type": "code",
   "execution_count": 49,
   "metadata": {},
   "outputs": [
    {
     "data": {
      "image/png": "[encoded data removed]",
      "text/plain": [
       "<matplotlib.figure.Figure at 0x7fb143fb39d0>"
      ]
     },
     "metadata": {},
     "output_type": "display_data"
    }
   ],
   "source": [
    "vision = pd.read_csv(\"pixel_em/vision_only_performance.csv\")\n",
    "\n",
    "NworkerPerformance = no_cluster_retreival_df.groupby(\"num_workers\").mean()\n",
    "for algo in algoMap.keys():\n",
    "    algoJ = \"J [{}]\".format(algo)\n",
    "    plt.plot(np.array(NworkerPerformance[algoJ]),label=algo,color=algoMap[algo])\n",
    "\n",
    "NworkerPerformance = cluster_retreival_df.groupby(\"num_workers\").mean()\n",
    "for algo in  algoMap.keys():\n",
    "    algoJ = \"J [{}]\".format(algo)\n",
    "    plt.plot(np.array(NworkerPerformance[algoJ]),linestyle='--',color=algoMap[algo])\n",
    "\n",
    "max_vision_k_thresh = vision.loc[vision.groupby([\"objid\"])['j'].idxmax()].mean()[\"j\"]\n",
    "y = np.ones_like(np.array(NworkerPerformance[algoJ]))\n",
    "# vision_performance = vision.groupby([\"thresh\",\"k\"],as_index=False)[['p', 'r', 'j', 'fpr', 'fnr']].mean()\n",
    "plt.plot(y*max_vision_k_thresh,label=\"best vision\",color=\"magenta\")\n",
    "plt.legend(bbox_to_anchor=(1.04,0.5),loc=\"center left\")    \n",
    "plt.ylabel(\"Jaccard\")\n",
    "plt.xticks(rotation=50)\n",
    "plt.title(\"Retrieval Baselines [Clust (dotted) v.s no Clust]\",fontsize=13)\n",
    "a = gca().set_xticklabels([0,'5 workers','10 workers','15 workers','20 workers','25 workers','30 workers'])"
   ]
  },
  {
   "cell_type": "code",
   "execution_count": 51,
   "metadata": {},
   "outputs": [
    {
     "data": {
      "text/plain": [
       "('J [AreaRatio]', -0.13450253999678632)"
      ]
     },
     "execution_count": 51,
     "metadata": {},
     "output_type": "execute_result"
    }
   ],
   "source": [
    "for algo in  algoMap.keys():\n",
    "    algoJ = \"J [{}]\".format(algo)\n",
    "    performance = np.array(NworkerPerformance[algoJ])\n",
    "    algoJ,worker_scaling_ratio(performance)"
   ]
  },
  {
   "cell_type": "markdown",
   "metadata": {},
   "source": [
    "- add MV in this plot \n",
    "- leave out clustering for this "
   ]
  },
  {
   "cell_type": "markdown",
   "metadata": {},
   "source": [
    "# Comparing MV with EM ; clust v.s. no clust"
   ]
  },
  {
   "cell_type": "code",
   "execution_count": 282,
   "metadata": {
    "collapsed": true
   },
   "outputs": [],
   "source": [
    "df =  compile_all_algo_PRJs()\n",
    "best_df =  compile_all_algo_PRJs(filter_best=True)"
   ]
  },
  {
   "cell_type": "code",
   "execution_count": 694,
   "metadata": {
    "collapsed": true
   },
   "outputs": [],
   "source": [
    "algoMap = {\n",
    "    'GTLSA':'orange',\n",
    "    \"basic\":'green',\n",
    "    \"GT\":'blue',\n",
    "    \"isoGT\":'red',\n",
    "    \"isoGTLSA\": 'cyan',\n",
    "    \"isobasic\": 'magenta',\n",
    "    \"MV\":\"black\"\n",
    "}"
   ]
  },
  {
   "cell_type": "code",
   "execution_count": 698,
   "metadata": {},
   "outputs": [
    {
     "data": {
      "text/plain": [
       "<matplotlib.text.Text at 0x7f413c042110>"
      ]
     },
     "execution_count": 698,
     "metadata": {},
     "output_type": "execute_result"
    },
    {
     "data": {
      "image/png": "[encoded data removed]",
      "text/plain": [
       "<matplotlib.figure.Figure at 0x7f413d8a3f90>"
      ]
     },
     "metadata": {},
     "output_type": "display_data"
    }
   ],
   "source": [
    "for algo in algoMap.keys():\n",
    "    # we only ran on the best clusters, so the results should only be on the best clusters if not -1\n",
    "    x,algo_noclust,algo_clust=clust_vs_noclust(algo,filtered=False)\n",
    "    plt.plot(algo_noclust,label=algo,color = algoMap[algo])\n",
    "    plt.plot(algo_clust,linestyle=\"--\",color = algoMap[algo])\n",
    "plt.legend(bbox_to_anchor=(1.04,0.5),loc=\"center left\")    \n",
    "plt.ylabel(\"Jaccard\")\n",
    "plt.xticks(rotation=50)\n",
    "a = gca().set_xticklabels([0,'5 workers','10 workers','15 workers','20 workers','25 workers','30 workers'])\n",
    "plt.title(\"Binary Search Thresh EM [clustered (dotted) v.s. no cluster]\",fontsize=13)"
   ]
  },
  {
   "cell_type": "markdown",
   "metadata": {},
   "source": [
    "basic, isoGT and GT are all very close to MV"
   ]
  },
  {
   "cell_type": "code",
   "execution_count": 667,
   "metadata": {},
   "outputs": [],
   "source": [
    "def avrg_percent_change(clust,noClust):\n",
    "    return \"{:.3f}%\".format(np.mean(np.array(clust)-np.array(noClust))*100)"
   ]
  },
  {
   "cell_type": "markdown",
   "metadata": {},
   "source": [
    "__Comparing cluster v.s. no cluster__"
   ]
  },
  {
   "cell_type": "code",
   "execution_count": 704,
   "metadata": {
    "scrolled": true
   },
   "outputs": [
    {
     "name": "stdout",
     "output_type": "stream",
     "text": [
      "------------\n",
      "percent change due to clustering for metric: precision\n",
      "MV :0.346%\n",
      "GT :0.349%\n",
      "isobasic :0.322%\n",
      "basic :0.352%\n",
      "MV :0.346%\n",
      "GTLSA :0.190%\n",
      "isoGT :0.349%\n",
      "isoGTLSA :-0.291%\n",
      "------------\n",
      "percent change due to clustering for metric: recall\n",
      "MV :1.548%\n",
      "GT :1.550%\n",
      "isobasic :1.575%\n",
      "basic :1.549%\n",
      "MV :1.548%\n",
      "GTLSA :1.310%\n",
      "isoGT :1.550%\n",
      "isoGTLSA :1.620%\n",
      "------------\n",
      "percent change due to clustering for metric: jaccard\n",
      "MV :1.793%\n",
      "GT :1.795%\n",
      "isobasic :1.627%\n",
      "basic :1.796%\n",
      "MV :1.793%\n",
      "GTLSA :1.564%\n",
      "isoGT :1.795%\n",
      "isoGTLSA :1.185%\n",
      "------------\n",
      "percent change due to clustering for metric: FNR%\n",
      "MV :-154.848%\n",
      "GT :-154.990%\n",
      "isobasic :-157.462%\n",
      "basic :-154.875%\n",
      "MV :-154.848%\n",
      "GTLSA :-131.022%\n",
      "isoGT :-154.990%\n",
      "isoGTLSA :-162.014%\n",
      "------------\n",
      "percent change due to clustering for metric: FPR%\n",
      "MV :-2.218%\n",
      "GT :-2.240%\n",
      "isobasic :4.031%\n",
      "basic :-2.260%\n",
      "MV :-2.218%\n",
      "GTLSA :-2.299%\n",
      "isoGT :-2.240%\n",
      "isoGTLSA :78.406%\n"
     ]
    }
   ],
   "source": [
    "m2m = {\"precision\":'p','recall':'r', 'jaccard':'j', u'FNR%':'fnr','FPR%':'fpr'}\n",
    "for metric in ['precision', u'recall', u'jaccard', u'FNR%','FPR%']:\n",
    "    print \"------------\"\n",
    "    print \"percent change due to clustering for metric:\",metric\n",
    "    x,MV_noclust,MV_clust=clust_vs_noclust('MV',metric=metric,filtered=False)\n",
    "    print \"{} :{}\".format(\"MV\",avrg_percent_change(MV_clust,MV_noclust))\n",
    "    for algo in algoMap.keys():\n",
    "        x,algo_noclust,algo_clust=clust_vs_noclust(algo,metric=metric,filtered=False)\n",
    "        print \"{} :{}\".format(algo,avrg_percent_change(algo_clust,algo_noclust))"
   ]
  },
  {
   "cell_type": "markdown",
   "metadata": {},
   "source": [
    "__Comparing cluster (best) v.s. MV__"
   ]
  },
  {
   "cell_type": "code",
   "execution_count": 707,
   "metadata": {
    "scrolled": true
   },
   "outputs": [
    {
     "name": "stdout",
     "output_type": "stream",
     "text": [
      "------------\n",
      "percent change compared to MV for metric: precision\n",
      "GT :0.000%\n",
      "isobasic :-0.390%\n",
      "basic :0.001%\n",
      "MV :0.000%\n",
      "GTLSA :-0.200%\n",
      "isoGT :0.000%\n",
      "isoGTLSA :-3.425%\n",
      "------------\n",
      "percent change compared to MV for metric: recall\n",
      "GT :0.001%\n",
      "isobasic :-0.050%\n",
      "basic :0.000%\n",
      "MV :0.000%\n",
      "GTLSA :-0.270%\n",
      "isoGT :0.001%\n",
      "isoGTLSA :-0.598%\n",
      "------------\n",
      "percent change compared to MV for metric: jaccard\n",
      "GT :0.001%\n",
      "isobasic :-0.406%\n",
      "basic :0.001%\n",
      "MV :0.000%\n",
      "GTLSA :-0.283%\n",
      "isoGT :0.001%\n",
      "isoGTLSA :-3.176%\n",
      "------------\n",
      "percent change compared to MV for metric: FNR%\n",
      "GT :-0.051%\n",
      "isobasic :4.960%\n",
      "basic :-0.011%\n",
      "MV :0.000%\n",
      "GTLSA :26.969%\n",
      "isoGT :-0.051%\n",
      "isoGTLSA :59.800%\n",
      "------------\n",
      "percent change compared to MV for metric: FPR%\n",
      "GT :-0.004%\n",
      "isobasic :37.214%\n",
      "basic :-0.020%\n",
      "MV :0.000%\n",
      "GTLSA :0.187%\n",
      "isoGT :-0.004%\n",
      "isoGTLSA :301.185%\n"
     ]
    }
   ],
   "source": [
    "m2m = {\"precision\":'p','recall':'r', 'jaccard':'j', u'FNR%':'fnr','FPR%':'fpr'}\n",
    "for metric in ['precision', u'recall', u'jaccard', u'FNR%','FPR%']:\n",
    "    print \"------------\"\n",
    "    print \"percent change compared to MV for metric:\",metric\n",
    "    x,MV_noclust,MV_clust=clust_vs_noclust('MV',metric=metric,filtered=False)\n",
    "    for algo in algoMap.keys():\n",
    "        x,algo_noclust,algo_clust=clust_vs_noclust(algo,metric=metric,filtered=False)\n",
    "        print \"{} :{}\".format(algo,avrg_percent_change(algo_clust,MV_clust))"
   ]
  },
  {
   "cell_type": "markdown",
   "metadata": {},
   "source": [
    "# Greedy Results"
   ]
  },
  {
   "cell_type": "code",
   "execution_count": 846,
   "metadata": {
    "collapsed": true
   },
   "outputs": [],
   "source": [
    "greedy_df = pd.read_csv(\"all_greedy_result.csv\")\n",
    "greedy_df[\"num_workers\"]=greedy_df.apply(lambda x:int(x[\"sample\"].split(\"workers\")[0]),axis=1)\n",
    "greedy_df[\"sample_num\"] = greedy_df.apply(lambda x: int(x[\"sample\"].split(\"rand\")[-1]),axis=1)\n",
    "greedy_noclust=greedy_df[greedy_df[\"clust\"]==-1]\n",
    "greedy_clust= filter_best_clust(greedy_df,best_clust_df)\n",
    "assert greedy_noclust.groupby([\"sample\"])[\"objid\"].count().unique()[0]==8*46"
   ]
  },
  {
   "cell_type": "code",
   "execution_count": 847,
   "metadata": {
    "collapsed": true
   },
   "outputs": [],
   "source": [
    "algoMap = {\n",
    "    'GTLSA':'orange',\n",
    "    \"basic\":'green',\n",
    "    \"GT\":'blue',\n",
    "    \"isoGT\":'red',\n",
    "    \"isoGTLSA\": 'cyan',\n",
    "    \"isobasic\": 'magenta',\n",
    "    \"worker_fraction\": 'pink',\n",
    "    \"ground_truth\": 'yellow'\n",
    "}"
   ]
  },
  {
   "cell_type": "code",
   "execution_count": 848,
   "metadata": {
    "collapsed": true
   },
   "outputs": [],
   "source": [
    "from analyze_prjs import clust_vs_noclust"
   ]
  },
  {
   "cell_type": "code",
   "execution_count": 853,
   "metadata": {},
   "outputs": [
    {
     "data": {
      "text/plain": [
       "(0.82, 0.99)"
      ]
     },
     "execution_count": 853,
     "metadata": {},
     "output_type": "execute_result"
    },
    {
     "data": {
      "image/png": "[encoded data removed]",
      "text/plain": [
       "<matplotlib.figure.Figure at 0x7f413dad2050>"
      ]
     },
     "metadata": {},
     "output_type": "display_data"
    }
   ],
   "source": [
    "x,MV_noclust,MV_clust=clust_vs_noclust('MV',filtered=False)\n",
    "\n",
    "# plt.plot(MV_noclust,label=\"MV\",color=\"black\")\n",
    "plt.plot(MV_clust,color=\"black\",linestyle=\"--\")\n",
    "\n",
    "for algo in algoMap.keys():\n",
    "    algo_noClust = np.array(greedy_noclust[greedy_noclust[\"algo\"]==algo].groupby([\"num_workers\"]).mean()[\"j\"])\n",
    "    algo_clust = np.array(greedy_clust[greedy_clust[\"algo\"]==algo].groupby([\"num_workers\"]).mean()[\"j\"])\n",
    "#     plt.plot(algo_noClust,label=algo,color=algoMap[algo])\n",
    "    plt.plot(algo_clust,color=algoMap[algo],label=algo,linestyle='--')\n",
    "    \n",
    "    \n",
    "plt.legend(bbox_to_anchor=(1.04,0.5),loc=\"center left\")    \n",
    "plt.ylabel(\"Jaccard\")\n",
    "plt.xticks(rotation=50)\n",
    "a = gca().set_xticklabels([0,'5 workers','10 workers','15 workers','20 workers','25 workers','30 workers'])\n",
    "plt.title(\"Greedy\",fontsize=13)\n",
    "plt.ylim(0.82,0.99)"
   ]
  },
  {
   "cell_type": "code",
   "execution_count": 714,
   "metadata": {
    "scrolled": true
   },
   "outputs": [
    {
     "name": "stdout",
     "output_type": "stream",
     "text": [
      "------------\n",
      "percent change due to clustering for metric: precision\n",
      "MV :0.346%\n",
      "isobasic :-1.559%\n",
      "worker_fraction :4.305%\n",
      "GT :1.347%\n",
      "isoGTLSA :-0.700%\n",
      "basic :0.671%\n",
      "ground_truth :-0.067%\n",
      "isoGT :1.347%\n",
      "GTLSA :1.293%\n",
      "------------\n",
      "percent change due to clustering for metric: recall\n",
      "MV :1.548%\n",
      "isobasic :1.688%\n",
      "worker_fraction :0.459%\n",
      "GT :0.878%\n",
      "isoGTLSA :1.754%\n",
      "basic :1.791%\n",
      "ground_truth :0.011%\n",
      "isoGT :0.878%\n",
      "GTLSA :0.998%\n",
      "------------\n",
      "percent change due to clustering for metric: jaccard\n",
      "MV :1.793%\n",
      "isobasic :0.144%\n",
      "worker_fraction :4.726%\n",
      "GT :2.074%\n",
      "isoGTLSA :0.337%\n",
      "basic :2.234%\n",
      "ground_truth :-0.055%\n",
      "isoGT :2.074%\n",
      "GTLSA :2.310%\n",
      "------------\n",
      "percent change due to clustering for metric: FNR%\n",
      "MV :-154.848%\n",
      "isobasic :-168.833%\n",
      "worker_fraction :-45.861%\n",
      "GT :-87.821%\n",
      "isoGTLSA :-175.434%\n",
      "basic :-179.058%\n",
      "ground_truth :-1.107%\n",
      "isoGT :-87.821%\n",
      "GTLSA :-99.755%\n",
      "------------\n",
      "percent change due to clustering for metric: FPR%\n",
      "MV :-2.218%\n",
      "isobasic :246.690%\n",
      "worker_fraction :-76.180%\n",
      "GT :-5.645%\n",
      "isoGTLSA :327.335%\n",
      "basic :-2.303%\n",
      "ground_truth :0.521%\n",
      "isoGT :-5.645%\n",
      "GTLSA :-5.210%\n"
     ]
    }
   ],
   "source": [
    "m2m = {\"precision\":'p','recall':'r', 'jaccard':'j', u'FNR%':'fnr','FPR%':'fpr'}\n",
    "for metric in ['precision', u'recall', u'jaccard', u'FNR%','FPR%']:\n",
    "    print \"------------\"\n",
    "    print \"percent change due to clustering for metric:\",metric\n",
    "    x,MV_noclust,MV_clust=clust_vs_noclust('MV',metric=metric,filtered=False)\n",
    "    print \"{} :{}\".format(\"MV\",avrg_percent_change(MV_clust,MV_noclust))\n",
    "    for algo in algoMap.keys():\n",
    "        algo_noClust = np.array(greedy_noclust[greedy_noclust[\"algo\"]==algo].groupby([\"num_workers\"]).mean()[m2m[metric]])\n",
    "        algo_clust = np.array(greedy_clust[greedy_clust[\"algo\"]==algo].groupby([\"num_workers\"]).mean()[m2m[metric]])\n",
    "        print \"{} :{}\".format(algo,avrg_percent_change(algo_clust,algo_noClust))"
   ]
  },
  {
   "cell_type": "code",
   "execution_count": 716,
   "metadata": {
    "scrolled": true
   },
   "outputs": [
    {
     "name": "stdout",
     "output_type": "stream",
     "text": [
      "------------\n",
      "percent change compared to MV for metric: precision\n",
      "isobasic :-2.174%\n",
      "worker_fraction :-0.257%\n",
      "GT :-2.003%\n",
      "isoGTLSA :-9.181%\n",
      "basic :0.266%\n",
      "ground_truth :3.757%\n",
      "isoGT :-2.003%\n",
      "GTLSA :-0.098%\n",
      "------------\n",
      "percent change compared to MV for metric: recall\n",
      "isobasic :0.186%\n",
      "worker_fraction :0.848%\n",
      "GT :2.092%\n",
      "isoGTLSA :0.680%\n",
      "basic :0.405%\n",
      "ground_truth :3.931%\n",
      "isoGT :2.092%\n",
      "GTLSA :0.129%\n",
      "------------\n",
      "percent change compared to MV for metric: jaccard\n",
      "isobasic :-1.766%\n",
      "worker_fraction :0.469%\n",
      "GT :-0.090%\n",
      "isoGTLSA :-8.360%\n",
      "basic :0.568%\n",
      "ground_truth :7.104%\n",
      "isoGT :-0.090%\n",
      "GTLSA :0.135%\n",
      "------------\n",
      "percent change compared to MV for metric: FNR%\n",
      "isobasic :-18.628%\n",
      "worker_fraction :-84.831%\n",
      "GT :-209.229%\n",
      "isoGTLSA :-67.981%\n",
      "basic :-40.540%\n",
      "ground_truth :-393.135%\n",
      "isoGT :-209.229%\n",
      "GTLSA :-12.948%\n",
      "------------\n",
      "percent change compared to MV for metric: FPR%\n",
      "isobasic :271.687%\n",
      "worker_fraction :2.427%\n",
      "GT :7.377%\n",
      "isoGTLSA :1023.155%\n",
      "basic :0.572%\n",
      "ground_truth :-10.860%\n",
      "isoGT :7.377%\n",
      "GTLSA :1.080%\n"
     ]
    }
   ],
   "source": [
    "m2m = {\"precision\":'p','recall':'r', 'jaccard':'j', u'FNR%':'fnr','FPR%':'fpr'}\n",
    "for metric in ['precision', u'recall', u'jaccard', u'FNR%','FPR%']:\n",
    "    print \"------------\"\n",
    "    print \"percent change compared to MV for metric:\",metric\n",
    "    x,MV_noclust,MV_clust=clust_vs_noclust('MV',metric=metric,filtered=False)\n",
    "    for algo in algoMap.keys():\n",
    "        algo_noClust = np.array(greedy_noclust[greedy_noclust[\"algo\"]==algo].groupby([\"num_workers\"]).mean()[m2m[metric]])\n",
    "        algo_clust = np.array(greedy_clust[greedy_clust[\"algo\"]==algo].groupby([\"num_workers\"]).mean()[m2m[metric]])\n",
    "        print \"{} :{}\".format(algo,avrg_percent_change(algo_clust,MV_clust))"
   ]
  },
  {
   "cell_type": "code",
   "execution_count": 709,
   "metadata": {},
   "outputs": [
    {
     "name": "stdout",
     "output_type": "stream",
     "text": [
      "When using ground truth to estimate intersection areas, we can achieve a Jaccard of 0.983  as an upper bound with 30 workers, which indicates that with better probablistic estimation of intersection area, aggregation-based methods can achieve close to perfect estimation, exceeding the results of any single `best' worker.\n"
     ]
    }
   ],
   "source": [
    "algo = \"ground_truth\"\n",
    "algo_noClust = np.array(greedy_noclust[greedy_noclust[\"algo\"]==algo].groupby([\"num_workers\"]).mean()[\"j\"])\n",
    "algo_clust = np.array(greedy_clust[greedy_clust[\"algo\"]==algo].groupby([\"num_workers\"]).mean()[\"j\"])\n",
    "\n",
    "print \"When using ground truth to estimate intersection areas, we can achieve a Jaccard of {:.3f}\".format(algo_noClust[-1]) ,\" as an upper bound with 30 workers, which indicates that with better probablistic estimation of intersection area, aggregation-based methods can achieve close to perfect estimation, exceeding the results of any single `best' worker.\""
   ]
  },
  {
   "cell_type": "markdown",
   "metadata": {},
   "source": [
    "# Relationship between actual number of workers and how much in the cluster is actually ran"
   ]
  },
  {
   "cell_type": "code",
   "execution_count": 717,
   "metadata": {},
   "outputs": [
    {
     "data": {
      "text/plain": [
       "<matplotlib.axes._subplots.AxesSubplot at 0x7f413466dd50>"
      ]
     },
     "execution_count": 717,
     "metadata": {},
     "output_type": "execute_result"
    },
    {
     "data": {
      "image/png": "[encoded data removed]",
      "text/plain": [
       "<matplotlib.figure.Figure at 0x7f41350f72d0>"
      ]
     },
     "metadata": {},
     "output_type": "display_data"
    }
   ],
   "source": [
    "df[\"ratio_Nworker\"]=df[\"actualNworkers\"]/df[\"num_workers\"]\n",
    "\n",
    "# df[\"ratio_Nworker\"].hist()\n",
    "df[df[\"clust\"]!=-1][\"ratio_Nworker\"].hist(bins=50)"
   ]
  },
  {
   "cell_type": "code",
   "execution_count": 718,
   "metadata": {},
   "outputs": [
    {
     "data": {
      "image/png": "[encoded data removed]",
      "text/plain": [
       "<matplotlib.figure.Figure at 0x7f4134c90390>"
      ]
     },
     "metadata": {},
     "output_type": "display_data"
    }
   ],
   "source": [
    "a = df_withClust[metric_J].hist()"
   ]
  },
  {
   "cell_type": "markdown",
   "metadata": {},
   "source": [
    "# Correlation of worker quality with individual worker performance"
   ]
  },
  {
   "cell_type": "code",
   "execution_count": 949,
   "metadata": {
    "collapsed": true
   },
   "outputs": [],
   "source": [
    "object_lst = [1, 2, 3, 4, 5, 6, 7, 8, 9, 10, 11, 12, 13, 14, 15, 16, 17, 18, 19, 20, 21, 22, 23, 24, 25, 26, 27, 28, 29, 30, 31, 32, 33, 34, 36, 37, 38, 39, 40,41,42, 43, 44, 45, 46, 47]"
   ]
  },
  {
   "cell_type": "code",
   "execution_count": 617,
   "metadata": {},
   "outputs": [
    {
     "name": "stderr",
     "output_type": "stream",
     "text": [
      "                                               \r"
     ]
    }
   ],
   "source": [
    "qj_df=compute_worker_qualities_against_real_performance()#run once"
   ]
  },
  {
   "cell_type": "code",
   "execution_count": 618,
   "metadata": {
    "collapsed": true
   },
   "outputs": [],
   "source": [
    "qj_df = pd.read_csv(\"EM_worker_qualities_against_real_performance.csv\",index_col=0)\n",
    "qj_df[\"num_workers\"] = qj_df.apply(lambda x: int(x[\"sample\"].split(\"workers\")[0]),axis=1)"
   ]
  },
  {
   "cell_type": "code",
   "execution_count": 645,
   "metadata": {
    "collapsed": true
   },
   "outputs": [],
   "source": [
    "from scipy.stats import linregress\n",
    "def corr_calc(selected_df):\n",
    "    x = np.array(selected_df[\"qj\"])\n",
    "    y = np.array(selected_df[\"Jaccard [Self]\"])\n",
    "    linresult = linregress(x,y)\n",
    "    return linresult.rvalue,linresult.pvalue"
   ]
  },
  {
   "cell_type": "code",
   "execution_count": 745,
   "metadata": {
    "collapsed": true
   },
   "outputs": [],
   "source": [
    "from sklearn import linear_model\n",
    "def compute_multi_regression(selected_df,x_fields,yfields=[\"Precision [Self]\",\"Recall [Self]\",\"Jaccard [Self]\"]):\n",
    "    x = np.array(selected_df[x_fields])\n",
    "    y = np.array(selected_df[yfields])\n",
    "    # Initialize model\n",
    "    regression_model = linear_model.LinearRegression()\n",
    "    regression_model.fit(X = x, y = y)\n",
    "    #print(regression_model.coef_)\n",
    "    return regression_model.score(x,y)"
   ]
  },
  {
   "cell_type": "markdown",
   "metadata": {},
   "source": [
    "GTLSA does poorly because qn1 not a very good estimator, if we look at the coefficients of qn1."
   ]
  },
  {
   "cell_type": "markdown",
   "metadata": {},
   "source": [
    "#### Linear regression with y=[P,R,J] , with clustering "
   ]
  },
  {
   "cell_type": "code",
   "execution_count": 819,
   "metadata": {},
   "outputs": [
    {
     "name": "stderr",
     "output_type": "stream",
     "text": [
      "                                               \r"
     ]
    }
   ],
   "source": [
    "obj_clusters = clusters()\n",
    "df_data = []\n",
    "for sample_name in tqdm(sample_lst):\n",
    "    for objid in object_lst:\n",
    "        if str(objid) in obj_clusters[sample_name]:\n",
    "            clusts = [obj_clusters[sample_name][str(objid)]]\n",
    "        else:\n",
    "            clusts = [\"-1\"]\n",
    "        for cluster_id in clusts:\n",
    "            worker_ids = np.array(clust_df[(clust_df[\"objid\"] == objid) & (clust_df[\"cluster\"] == int(cluster_id))].wid)\n",
    "            if len(worker_ids) > 1 or cluster_id == \"-1\":\n",
    "#                 if cluster_id!=\"\" and cluster_id!=\"-1\"  :\n",
    "#                     outdir = '{}{}/obj{}/clust{}/'.format(PIXEL_EM_DIR, sample_name, objid,cluster_id)\n",
    "#                 else:\n",
    "#                     outdir = '{}{}/obj{}/'.format(PIXEL_EM_DIR, sample_name, objid)\n",
    "                selected_df = qj_df[(qj_df[\"sample\"]==sample_name)&(qj_df[\"objid\"]==objid)&(qj_df[\"clust\"]==int(cluster_id))]\n",
    "                if len(selected_df)>1: #only best clusters were ran, so ignore ones where no qj-df (non best clusters) was computed\n",
    "                    #r,p = corr_calc(selected_df)\n",
    "                    basic_R2 = compute_multi_regression(selected_df,[\"qj\"])\n",
    "                    GT_R2 = compute_multi_regression(selected_df,[\"qn\",\"qp\"])\n",
    "                    GTLSA_R2 =compute_multi_regression(selected_df,[\"qn1\",\"qp1\",\"qn2\",\"qp2\"])\n",
    "                    ibasic_R2 = compute_multi_regression(selected_df,[\"iqj\"])\n",
    "                    iGT_R2 = compute_multi_regression(selected_df,[\"iqn\",\"iqp\"])\n",
    "                    iGTLSA_R2 =compute_multi_regression(selected_df,[\"iqn1\",\"iqp1\",\"iqn2\",\"iqp2\"])\n",
    "                    df_data.append([sample_name,objid,cluster_id,basic_R2,GT_R2,GTLSA_R2,ibasic_R2,iGT_R2,iGTLSA_R2])"
   ]
  },
  {
   "cell_type": "code",
   "execution_count": 820,
   "metadata": {},
   "outputs": [
    {
     "data": {
      "text/html": [
       "<div>\n",
       "<table border=\"1\" class=\"dataframe\">\n",
       "  <thead>\n",
       "    <tr style=\"text-align: right;\">\n",
       "      <th></th>\n",
       "      <th>num_workers</th>\n",
       "      <th>basic_R2</th>\n",
       "      <th>GT_R2</th>\n",
       "      <th>GTLSA_R2</th>\n",
       "      <th>ibasic_R2</th>\n",
       "      <th>iGT_R2</th>\n",
       "      <th>iGTLSA_R2</th>\n",
       "    </tr>\n",
       "  </thead>\n",
       "  <tbody>\n",
       "    <tr>\n",
       "      <th>0</th>\n",
       "      <td>5</td>\n",
       "      <td>0.571566</td>\n",
       "      <td>0.899148</td>\n",
       "      <td>0.893688</td>\n",
       "      <td>0.544765</td>\n",
       "      <td>0.899148</td>\n",
       "      <td>0.895786</td>\n",
       "    </tr>\n",
       "    <tr>\n",
       "      <th>1</th>\n",
       "      <td>10</td>\n",
       "      <td>0.566494</td>\n",
       "      <td>0.879678</td>\n",
       "      <td>0.885713</td>\n",
       "      <td>0.560214</td>\n",
       "      <td>0.879678</td>\n",
       "      <td>0.886416</td>\n",
       "    </tr>\n",
       "    <tr>\n",
       "      <th>2</th>\n",
       "      <td>15</td>\n",
       "      <td>0.537012</td>\n",
       "      <td>0.877725</td>\n",
       "      <td>0.877340</td>\n",
       "      <td>0.532138</td>\n",
       "      <td>0.877725</td>\n",
       "      <td>0.877035</td>\n",
       "    </tr>\n",
       "    <tr>\n",
       "      <th>3</th>\n",
       "      <td>20</td>\n",
       "      <td>0.579212</td>\n",
       "      <td>0.879618</td>\n",
       "      <td>0.884407</td>\n",
       "      <td>0.577321</td>\n",
       "      <td>0.879618</td>\n",
       "      <td>0.883996</td>\n",
       "    </tr>\n",
       "    <tr>\n",
       "      <th>4</th>\n",
       "      <td>25</td>\n",
       "      <td>0.574618</td>\n",
       "      <td>0.876229</td>\n",
       "      <td>0.884376</td>\n",
       "      <td>0.577181</td>\n",
       "      <td>0.876229</td>\n",
       "      <td>0.883989</td>\n",
       "    </tr>\n",
       "    <tr>\n",
       "      <th>5</th>\n",
       "      <td>30</td>\n",
       "      <td>0.588299</td>\n",
       "      <td>0.887214</td>\n",
       "      <td>0.894863</td>\n",
       "      <td>0.588734</td>\n",
       "      <td>0.887214</td>\n",
       "      <td>0.893949</td>\n",
       "    </tr>\n",
       "  </tbody>\n",
       "</table>\n",
       "</div>"
      ],
      "text/plain": [
       "   num_workers  basic_R2     GT_R2  GTLSA_R2  ibasic_R2    iGT_R2  iGTLSA_R2\n",
       "0            5  0.571566  0.899148  0.893688   0.544765  0.899148   0.895786\n",
       "1           10  0.566494  0.879678  0.885713   0.560214  0.879678   0.886416\n",
       "2           15  0.537012  0.877725  0.877340   0.532138  0.877725   0.877035\n",
       "3           20  0.579212  0.879618  0.884407   0.577321  0.879618   0.883996\n",
       "4           25  0.574618  0.876229  0.884376   0.577181  0.876229   0.883989\n",
       "5           30  0.588299  0.887214  0.894863   0.588734  0.887214   0.893949"
      ]
     },
     "execution_count": 820,
     "metadata": {},
     "output_type": "execute_result"
    }
   ],
   "source": [
    "qj_fit = pd.DataFrame(df_data,columns=[\"sample\",\"objid\",\"clust\",\"basic_R2\",\"GT_R2\",\"GTLSA_R2\",\"ibasic_R2\",\"iGT_R2\",\"iGTLSA_R2\"])\n",
    "qj_fit[\"num_workers\"]=qj_fit[\"sample\"].apply(lambda x: int(x.split(\"workers\")[0]))\n",
    "qj_fit.groupby(\"num_workers\",as_index=False).mean()[[\"num_workers\",'basic_R2', u'GT_R2', u'GTLSA_R2','ibasic_R2', u'iGT_R2', u'iGTLSA_R2']]"
   ]
  },
  {
   "cell_type": "markdown",
   "metadata": {},
   "source": [
    "correlation score is actually lower than in the clustering case, this means: \n",
    "\n",
    "       1) worker quality actually predicts p,r,j well in the no clustering case\n",
    "       2) could also be because the actual N workers is smaller than the reported num_workers in sample, so don't fit as well"
   ]
  },
  {
   "cell_type": "markdown",
   "metadata": {},
   "source": [
    "#### Linear regression with y=[P,R,J] , no clustering "
   ]
  },
  {
   "cell_type": "code",
   "execution_count": 805,
   "metadata": {},
   "outputs": [
    {
     "name": "stderr",
     "output_type": "stream",
     "text": [
      "                                               \r"
     ]
    }
   ],
   "source": [
    "qj_df_no_clust = qj_df[qj_df[\"clust\"]==-1]\n",
    "df_data = []\n",
    "for sample_name in tqdm(sample_lst):\n",
    "    for objid in object_lst:\n",
    "        cluster_ids = clust_df[(clust_df[\"objid\"] == objid)].cluster.unique()\n",
    "        for cluster_id in [\"-1\"] + list(cluster_ids):\n",
    "            worker_ids = np.array(clust_df[(clust_df[\"objid\"] == objid) & (clust_df[\"cluster\"] == int(cluster_id))].wid)\n",
    "            if len(worker_ids) > 1 or cluster_id == \"-1\":\n",
    "#                 if cluster_id!=\"\" and cluster_id!=\"-1\"  :\n",
    "#                     outdir = '{}{}/obj{}/clust{}/'.format(PIXEL_EM_DIR, sample_name, objid,cluster_id)\n",
    "#                 else:\n",
    "#                     outdir = '{}{}/obj{}/'.format(PIXEL_EM_DIR, sample_name, objid)\n",
    "                selected_df = qj_df_no_clust[(qj_df_no_clust[\"sample\"]==sample_name)&(qj_df_no_clust[\"objid\"]==objid)&(qj_df_no_clust[\"clust\"]==int(cluster_id))]\n",
    "                if len(selected_df)>1: #only best clusters were ran, so ignore ones where no qj-df (non best clusters) was computed\n",
    "                    #r,p = corr_calc(selected_df)\n",
    "                    basic_R2 = compute_multi_regression(selected_df,[\"qj\"])\n",
    "                    GT_R2 = compute_multi_regression(selected_df,[\"qn\",\"qp\"])\n",
    "                    GTLSA_R2 =compute_multi_regression(selected_df,[\"qn1\",\"qp1\",\"qn2\",\"qp2\"])\n",
    "                    ibasic_R2 = compute_multi_regression(selected_df,[\"iqj\"])\n",
    "                    iGT_R2 = compute_multi_regression(selected_df,[\"iqn\",\"iqp\"])\n",
    "                    iGTLSA_R2 =compute_multi_regression(selected_df,[\"iqn1\",\"iqp1\",\"iqn2\",\"iqp2\"])\n",
    "                    df_data.append([sample_name,objid,cluster_id,basic_R2,GT_R2,GTLSA_R2,ibasic_R2,iGT_R2,iGTLSA_R2])"
   ]
  },
  {
   "cell_type": "code",
   "execution_count": 806,
   "metadata": {},
   "outputs": [
    {
     "data": {
      "text/html": [
       "<div>\n",
       "<table border=\"1\" class=\"dataframe\">\n",
       "  <thead>\n",
       "    <tr style=\"text-align: right;\">\n",
       "      <th></th>\n",
       "      <th>num_workers</th>\n",
       "      <th>basic_R2</th>\n",
       "      <th>GT_R2</th>\n",
       "      <th>GTLSA_R2</th>\n",
       "      <th>ibasic_R2</th>\n",
       "      <th>iGT_R2</th>\n",
       "      <th>iGTLSA_R2</th>\n",
       "    </tr>\n",
       "  </thead>\n",
       "  <tbody>\n",
       "    <tr>\n",
       "      <th>0</th>\n",
       "      <td>5</td>\n",
       "      <td>0.593570</td>\n",
       "      <td>0.904936</td>\n",
       "      <td>0.899432</td>\n",
       "      <td>0.568433</td>\n",
       "      <td>0.904936</td>\n",
       "      <td>0.902699</td>\n",
       "    </tr>\n",
       "    <tr>\n",
       "      <th>1</th>\n",
       "      <td>10</td>\n",
       "      <td>0.621300</td>\n",
       "      <td>0.894471</td>\n",
       "      <td>0.898339</td>\n",
       "      <td>0.623168</td>\n",
       "      <td>0.894471</td>\n",
       "      <td>0.898129</td>\n",
       "    </tr>\n",
       "    <tr>\n",
       "      <th>2</th>\n",
       "      <td>15</td>\n",
       "      <td>0.613587</td>\n",
       "      <td>0.897573</td>\n",
       "      <td>0.898160</td>\n",
       "      <td>0.612421</td>\n",
       "      <td>0.897573</td>\n",
       "      <td>0.897199</td>\n",
       "    </tr>\n",
       "    <tr>\n",
       "      <th>3</th>\n",
       "      <td>20</td>\n",
       "      <td>0.627221</td>\n",
       "      <td>0.895251</td>\n",
       "      <td>0.899794</td>\n",
       "      <td>0.628894</td>\n",
       "      <td>0.895251</td>\n",
       "      <td>0.899153</td>\n",
       "    </tr>\n",
       "    <tr>\n",
       "      <th>4</th>\n",
       "      <td>25</td>\n",
       "      <td>0.653650</td>\n",
       "      <td>0.902877</td>\n",
       "      <td>0.907879</td>\n",
       "      <td>0.654613</td>\n",
       "      <td>0.902877</td>\n",
       "      <td>0.906851</td>\n",
       "    </tr>\n",
       "    <tr>\n",
       "      <th>5</th>\n",
       "      <td>30</td>\n",
       "      <td>0.665388</td>\n",
       "      <td>0.907131</td>\n",
       "      <td>0.914429</td>\n",
       "      <td>0.668558</td>\n",
       "      <td>0.907131</td>\n",
       "      <td>0.913467</td>\n",
       "    </tr>\n",
       "  </tbody>\n",
       "</table>\n",
       "</div>"
      ],
      "text/plain": [
       "   num_workers  basic_R2     GT_R2  GTLSA_R2  ibasic_R2    iGT_R2  iGTLSA_R2\n",
       "0            5  0.593570  0.904936  0.899432   0.568433  0.904936   0.902699\n",
       "1           10  0.621300  0.894471  0.898339   0.623168  0.894471   0.898129\n",
       "2           15  0.613587  0.897573  0.898160   0.612421  0.897573   0.897199\n",
       "3           20  0.627221  0.895251  0.899794   0.628894  0.895251   0.899153\n",
       "4           25  0.653650  0.902877  0.907879   0.654613  0.902877   0.906851\n",
       "5           30  0.665388  0.907131  0.914429   0.668558  0.907131   0.913467"
      ]
     },
     "execution_count": 806,
     "metadata": {},
     "output_type": "execute_result"
    }
   ],
   "source": [
    "qj_fit = pd.DataFrame(df_data,columns=[\"sample\",\"objid\",\"clust\",\"basic_R2\",\"GT_R2\",\"GTLSA_R2\",\"ibasic_R2\",\"iGT_R2\",\"iGTLSA_R2\"])\n",
    "qj_fit[\"num_workers\"]=qj_fit[\"sample\"].apply(lambda x: int(x.split(\"workers\")[0]))\n",
    "qj_fit.groupby(\"num_workers\",as_index=False).mean()[[\"num_workers\",'basic_R2', u'GT_R2', u'GTLSA_R2','ibasic_R2', u'iGT_R2', u'iGTLSA_R2']]"
   ]
  },
  {
   "cell_type": "markdown",
   "metadata": {},
   "source": [
    "#### Linear regression with y=[P,R,J] , overall "
   ]
  },
  {
   "cell_type": "code",
   "execution_count": 800,
   "metadata": {},
   "outputs": [
    {
     "name": "stderr",
     "output_type": "stream",
     "text": [
      "                                               \r"
     ]
    }
   ],
   "source": [
    "df_data = []\n",
    "for sample_name in tqdm(sample_lst):\n",
    "    for objid in object_lst:\n",
    "        cluster_ids = clust_df[(clust_df[\"objid\"] == objid)].cluster.unique()\n",
    "        for cluster_id in [\"-1\"] + list(cluster_ids):\n",
    "            worker_ids = np.array(clust_df[(clust_df[\"objid\"] == objid) & (clust_df[\"cluster\"] == int(cluster_id))].wid)\n",
    "            if len(worker_ids) > 1 or cluster_id == \"-1\":\n",
    "#                 if cluster_id!=\"\" and cluster_id!=\"-1\"  :\n",
    "#                     outdir = '{}{}/obj{}/clust{}/'.format(PIXEL_EM_DIR, sample_name, objid,cluster_id)\n",
    "#                 else:\n",
    "#                     outdir = '{}{}/obj{}/'.format(PIXEL_EM_DIR, sample_name, objid)\n",
    "                selected_df = qj_df[(qj_df[\"sample\"]==sample_name)&(qj_df[\"objid\"]==objid)&(qj_df[\"clust\"]==int(cluster_id))]\n",
    "                if len(selected_df)>1: #only best clusters were ran, so ignore ones where no qj-df (non best clusters) was computed\n",
    "                    #r,p = corr_calc(selected_df)\n",
    "                    basic_R2 = compute_multi_regression(selected_df,[\"qj\"])\n",
    "                    GT_R2 = compute_multi_regression(selected_df,[\"qn\",\"qp\"])\n",
    "                    GTLSA_R2 =compute_multi_regression(selected_df,[\"qn1\",\"qp1\",\"qn2\",\"qp2\"])\n",
    "                    ibasic_R2 = compute_multi_regression(selected_df,[\"iqj\"])\n",
    "                    iGT_R2 = compute_multi_regression(selected_df,[\"iqn\",\"iqp\"])\n",
    "                    iGTLSA_R2 =compute_multi_regression(selected_df,[\"iqn1\",\"iqp1\",\"iqn2\",\"iqp2\"])\n",
    "                    df_data.append([sample_name,objid,cluster_id,basic_R2,GT_R2,GTLSA_R2,ibasic_R2,iGT_R2,iGTLSA_R2])"
   ]
  },
  {
   "cell_type": "code",
   "execution_count": 801,
   "metadata": {},
   "outputs": [
    {
     "data": {
      "text/html": [
       "<div>\n",
       "<table border=\"1\" class=\"dataframe\">\n",
       "  <thead>\n",
       "    <tr style=\"text-align: right;\">\n",
       "      <th></th>\n",
       "      <th>num_workers</th>\n",
       "      <th>basic_R2</th>\n",
       "      <th>GT_R2</th>\n",
       "      <th>GTLSA_R2</th>\n",
       "      <th>ibasic_R2</th>\n",
       "      <th>iGT_R2</th>\n",
       "      <th>iGTLSA_R2</th>\n",
       "    </tr>\n",
       "  </thead>\n",
       "  <tbody>\n",
       "    <tr>\n",
       "      <th>0</th>\n",
       "      <td>5</td>\n",
       "      <td>0.625870</td>\n",
       "      <td>0.918168</td>\n",
       "      <td>0.913721</td>\n",
       "      <td>0.602224</td>\n",
       "      <td>0.918168</td>\n",
       "      <td>0.917546</td>\n",
       "    </tr>\n",
       "    <tr>\n",
       "      <th>1</th>\n",
       "      <td>10</td>\n",
       "      <td>0.623861</td>\n",
       "      <td>0.901470</td>\n",
       "      <td>0.905803</td>\n",
       "      <td>0.617260</td>\n",
       "      <td>0.901470</td>\n",
       "      <td>0.906440</td>\n",
       "    </tr>\n",
       "    <tr>\n",
       "      <th>2</th>\n",
       "      <td>15</td>\n",
       "      <td>0.601570</td>\n",
       "      <td>0.898414</td>\n",
       "      <td>0.899718</td>\n",
       "      <td>0.595583</td>\n",
       "      <td>0.898414</td>\n",
       "      <td>0.899207</td>\n",
       "    </tr>\n",
       "    <tr>\n",
       "      <th>3</th>\n",
       "      <td>20</td>\n",
       "      <td>0.624768</td>\n",
       "      <td>0.898738</td>\n",
       "      <td>0.902505</td>\n",
       "      <td>0.625916</td>\n",
       "      <td>0.898738</td>\n",
       "      <td>0.903560</td>\n",
       "    </tr>\n",
       "    <tr>\n",
       "      <th>4</th>\n",
       "      <td>25</td>\n",
       "      <td>0.647071</td>\n",
       "      <td>0.902532</td>\n",
       "      <td>0.909456</td>\n",
       "      <td>0.646153</td>\n",
       "      <td>0.902532</td>\n",
       "      <td>0.910195</td>\n",
       "    </tr>\n",
       "    <tr>\n",
       "      <th>5</th>\n",
       "      <td>30</td>\n",
       "      <td>0.652715</td>\n",
       "      <td>0.914480</td>\n",
       "      <td>0.921302</td>\n",
       "      <td>0.661211</td>\n",
       "      <td>0.914480</td>\n",
       "      <td>0.920875</td>\n",
       "    </tr>\n",
       "  </tbody>\n",
       "</table>\n",
       "</div>"
      ],
      "text/plain": [
       "   num_workers  basic_R2     GT_R2  GTLSA_R2  ibasic_R2    iGT_R2  iGTLSA_R2\n",
       "0            5  0.625870  0.918168  0.913721   0.602224  0.918168   0.917546\n",
       "1           10  0.623861  0.901470  0.905803   0.617260  0.901470   0.906440\n",
       "2           15  0.601570  0.898414  0.899718   0.595583  0.898414   0.899207\n",
       "3           20  0.624768  0.898738  0.902505   0.625916  0.898738   0.903560\n",
       "4           25  0.647071  0.902532  0.909456   0.646153  0.902532   0.910195\n",
       "5           30  0.652715  0.914480  0.921302   0.661211  0.914480   0.920875"
      ]
     },
     "execution_count": 801,
     "metadata": {},
     "output_type": "execute_result"
    }
   ],
   "source": [
    "qj_fit = pd.DataFrame(df_data,columns=[\"sample\",\"objid\",\"clust\",\"basic_R2\",\"GT_R2\",\"GTLSA_R2\",\"ibasic_R2\",\"iGT_R2\",\"iGTLSA_R2\"])\n",
    "qj_fit[\"num_workers\"]=qj_fit[\"sample\"].apply(lambda x: int(x.split(\"workers\")[0]))\n",
    "qj_fit.groupby(\"num_workers\",as_index=False).mean()[[\"num_workers\",'basic_R2', u'GT_R2', u'GTLSA_R2','ibasic_R2', u'iGT_R2', u'iGTLSA_R2']]"
   ]
  },
  {
   "cell_type": "markdown",
   "metadata": {},
   "source": [
    "#### Linear regression with y=jaccard only"
   ]
  },
  {
   "cell_type": "code",
   "execution_count": 802,
   "metadata": {},
   "outputs": [
    {
     "name": "stderr",
     "output_type": "stream",
     "text": [
      "                                               \r"
     ]
    }
   ],
   "source": [
    "df_data = []\n",
    "for sample_name in tqdm(sample_lst):\n",
    "    for objid in object_lst:\n",
    "        cluster_ids = clust_df[(clust_df[\"objid\"] == objid)].cluster.unique()\n",
    "        for cluster_id in [\"-1\"] + list(cluster_ids):\n",
    "            worker_ids = np.array(clust_df[(clust_df[\"objid\"] == objid) & (clust_df[\"cluster\"] == int(cluster_id))].wid)\n",
    "            if len(worker_ids) > 1 or cluster_id == \"-1\":\n",
    "#                 if cluster_id!=\"\" and cluster_id!=\"-1\"  :\n",
    "#                     outdir = '{}{}/obj{}/clust{}/'.format(PIXEL_EM_DIR, sample_name, objid,cluster_id)\n",
    "#                 else:\n",
    "#                     outdir = '{}{}/obj{}/'.format(PIXEL_EM_DIR, sample_name, objid)\n",
    "                selected_df = qj_df[(qj_df[\"sample\"]==sample_name)&(qj_df[\"objid\"]==objid)&(qj_df[\"clust\"]==int(cluster_id))]\n",
    "                if len(selected_df)>1: #only best clusters were ran, so ignore ones where no qj-df (non best clusters) was computed\n",
    "                    #r,p = corr_calc(selected_df)\n",
    "                    basic_R2 = compute_multi_regression(selected_df,[\"qj\"],[\"Jaccard [Self]\"])\n",
    "                    GT_R2 = compute_multi_regression(selected_df,[\"qn\",\"qp\"],[\"Jaccard [Self]\"])\n",
    "                    GTLSA_R2 =compute_multi_regression(selected_df,[\"qn1\",\"qp1\",\"qn2\",\"qp2\"],[\"Jaccard [Self]\"])\n",
    "                    ibasic_R2 = compute_multi_regression(selected_df,[\"iqj\"],[\"Jaccard [Self]\"])\n",
    "                    iGT_R2 = compute_multi_regression(selected_df,[\"iqn\",\"iqp\"],[\"Jaccard [Self]\"])\n",
    "                    iGTLSA_R2 =compute_multi_regression(selected_df,[\"iqn1\",\"iqp1\",\"iqn2\",\"iqp2\"],[\"Jaccard [Self]\"])\n",
    "                    df_data.append([sample_name,objid,cluster_id,basic_R2,GT_R2,GTLSA_R2,ibasic_R2,iGT_R2,iGTLSA_R2])"
   ]
  },
  {
   "cell_type": "code",
   "execution_count": 795,
   "metadata": {},
   "outputs": [
    {
     "data": {
      "text/html": [
       "<div>\n",
       "<table border=\"1\" class=\"dataframe\">\n",
       "  <thead>\n",
       "    <tr style=\"text-align: right;\">\n",
       "      <th></th>\n",
       "      <th>num_workers</th>\n",
       "      <th>basic_R2</th>\n",
       "      <th>GT_R2</th>\n",
       "      <th>GTLSA_R2</th>\n",
       "      <th>ibasic_R2</th>\n",
       "      <th>iGT_R2</th>\n",
       "      <th>iGTLSA_R2</th>\n",
       "    </tr>\n",
       "  </thead>\n",
       "  <tbody>\n",
       "    <tr>\n",
       "      <th>0</th>\n",
       "      <td>5</td>\n",
       "      <td>0.657601</td>\n",
       "      <td>0.842720</td>\n",
       "      <td>0.835651</td>\n",
       "      <td>0.642493</td>\n",
       "      <td>0.842720</td>\n",
       "      <td>0.842945</td>\n",
       "    </tr>\n",
       "    <tr>\n",
       "      <th>1</th>\n",
       "      <td>10</td>\n",
       "      <td>0.684024</td>\n",
       "      <td>0.822323</td>\n",
       "      <td>0.829095</td>\n",
       "      <td>0.688944</td>\n",
       "      <td>0.822323</td>\n",
       "      <td>0.829975</td>\n",
       "    </tr>\n",
       "    <tr>\n",
       "      <th>2</th>\n",
       "      <td>15</td>\n",
       "      <td>0.686342</td>\n",
       "      <td>0.815078</td>\n",
       "      <td>0.815910</td>\n",
       "      <td>0.680959</td>\n",
       "      <td>0.815078</td>\n",
       "      <td>0.815230</td>\n",
       "    </tr>\n",
       "    <tr>\n",
       "      <th>3</th>\n",
       "      <td>20</td>\n",
       "      <td>0.707594</td>\n",
       "      <td>0.834291</td>\n",
       "      <td>0.838626</td>\n",
       "      <td>0.711541</td>\n",
       "      <td>0.834291</td>\n",
       "      <td>0.839535</td>\n",
       "    </tr>\n",
       "    <tr>\n",
       "      <th>4</th>\n",
       "      <td>25</td>\n",
       "      <td>0.740575</td>\n",
       "      <td>0.848744</td>\n",
       "      <td>0.855190</td>\n",
       "      <td>0.740101</td>\n",
       "      <td>0.848744</td>\n",
       "      <td>0.855222</td>\n",
       "    </tr>\n",
       "    <tr>\n",
       "      <th>5</th>\n",
       "      <td>30</td>\n",
       "      <td>0.743275</td>\n",
       "      <td>0.859044</td>\n",
       "      <td>0.867620</td>\n",
       "      <td>0.750555</td>\n",
       "      <td>0.859044</td>\n",
       "      <td>0.867135</td>\n",
       "    </tr>\n",
       "  </tbody>\n",
       "</table>\n",
       "</div>"
      ],
      "text/plain": [
       "   num_workers  basic_R2     GT_R2  GTLSA_R2  ibasic_R2    iGT_R2  iGTLSA_R2\n",
       "0            5  0.657601  0.842720  0.835651   0.642493  0.842720   0.842945\n",
       "1           10  0.684024  0.822323  0.829095   0.688944  0.822323   0.829975\n",
       "2           15  0.686342  0.815078  0.815910   0.680959  0.815078   0.815230\n",
       "3           20  0.707594  0.834291  0.838626   0.711541  0.834291   0.839535\n",
       "4           25  0.740575  0.848744  0.855190   0.740101  0.848744   0.855222\n",
       "5           30  0.743275  0.859044  0.867620   0.750555  0.859044   0.867135"
      ]
     },
     "execution_count": 795,
     "metadata": {},
     "output_type": "execute_result"
    }
   ],
   "source": [
    "qj_fit = pd.DataFrame(df_data,columns=[\"sample\",\"objid\",\"clust\",\"basic_R2\",\"GT_R2\",\"GTLSA_R2\",\"ibasic_R2\",\"iGT_R2\",\"iGTLSA_R2\"])\n",
    "qj_fit[\"num_workers\"]=qj_fit[\"sample\"].apply(lambda x: int(x.split(\"workers\")[0]))\n",
    "qj_fit.groupby(\"num_workers\",as_index=False).mean()[[\"num_workers\",'basic_R2', u'GT_R2', u'GTLSA_R2','ibasic_R2', u'iGT_R2', u'iGTLSA_R2']]"
   ]
  },
  {
   "cell_type": "code",
   "execution_count": 794,
   "metadata": {},
   "outputs": [],
   "source": [
    "# qj_fit[qj_fit[\"clust\"]=='-1'].groupby(\"num_workers\").mean()[\"R\"]\n",
    "# qj_fit[qj_fit[\"clust\"]=='-1'].groupby(\"num_workers\").mean()[\"p\"]\n",
    "# qj_fit[qj_fit[\"clust\"]=='-1'].groupby(\"num_workers\").mean()[\"p\"]/len(qj_fit) #with Bonferonni correction\n",
    "#-2*sum(np.log(qj_fit[\"p\"])) #fisher's method normalization"
   ]
  },
  {
   "cell_type": "code",
   "execution_count": 796,
   "metadata": {
    "scrolled": true
   },
   "outputs": [],
   "source": [
    "# for objid in object_lst:\n",
    "#     selected_df = qj_df[(qj_df[\"sample\"]==\"30workers_rand0\")&(qj_df[\"objid\"]==objid)&(qj_df[\"clust\"]==-1)]\n",
    "#     plt.figure()\n",
    "#     plt.title(objid)\n",
    "#     x = np.array(selected_df[\"qj\"])\n",
    "#     y = np.array(selected_df[\"Jaccard [Self]\"])\n",
    "#     linresult = linregress(x,y)\n",
    "#     plt.plot(x,y,'o')\n",
    "#     plt.plot(x,linresult.slope*x+linresult.intercept,'-')\n",
    "#     plt.text(min(x),max(y),\"R={:.2f}; p={:.2e}\".format(linresult.rvalue,linresult.pvalue))\n",
    "#     plt.xlabel(\"Worker quality qj\")\n",
    "#     plt.ylabel(\"Jaccard\")\n",
    "#     # plt.xlim(0.95,1)"
   ]
  },
  {
   "cell_type": "markdown",
   "metadata": {
    "collapsed": true
   },
   "source": [
    "# GT-estimation by picking best worker based on worker quality."
   ]
  },
  {
   "cell_type": "code",
   "execution_count": 854,
   "metadata": {
    "collapsed": true
   },
   "outputs": [],
   "source": [
    "qj_df = pd.read_csv(\"EM_worker_qualities_against_real_performance.csv\",index_col=0)\n",
    "qj_df[\"num_workers\"] = qj_df.apply(lambda x: int(x[\"sample\"].split(\"workers\")[0]),axis=1)"
   ]
  },
  {
   "cell_type": "code",
   "execution_count": 864,
   "metadata": {},
   "outputs": [],
   "source": [
    "best_basic_worker=qj_df.loc[qj_df.groupby([\"sample\",\"objid\"])[\"qj\"].idxmax()]\n",
    "assert len(best_basic_worker)==31*46"
   ]
  },
  {
   "cell_type": "code",
   "execution_count": 865,
   "metadata": {},
   "outputs": [
    {
     "data": {
      "text/plain": [
       "num_workers\n",
       "5     0.791899\n",
       "10    0.751593\n",
       "15    0.756736\n",
       "20    0.748013\n",
       "25    0.722146\n",
       "30    0.777821\n",
       "Name: Jaccard [Self], dtype: float64"
      ]
     },
     "execution_count": 865,
     "metadata": {},
     "output_type": "execute_result"
    }
   ],
   "source": [
    "best_basic_worker.groupby(\"num_workers\").mean()[\"Jaccard [Self]\"]"
   ]
  },
  {
   "cell_type": "code",
   "execution_count": 868,
   "metadata": {},
   "outputs": [
    {
     "data": {
      "text/plain": [
       "num_workers\n",
       "5     0.772541\n",
       "10    0.726270\n",
       "15    0.716735\n",
       "20    0.708912\n",
       "25    0.715807\n",
       "30    0.750491\n",
       "Name: Jaccard [Self], dtype: float64"
      ]
     },
     "execution_count": 868,
     "metadata": {},
     "output_type": "execute_result"
    }
   ],
   "source": [
    "qj_df[\"GT_qjsum\"] = qj_df.apply(lambda x: x[\"qp\"]+x[\"qn\"],axis=1)\n",
    "best_GT_worker=qj_df.loc[qj_df.groupby([\"sample\",\"objid\"])[\"GT_qjsum\"].idxmax()]\n",
    "assert len(best_GT_worker)==31*46\n",
    "best_GT_worker.groupby(\"num_workers\").mean()[\"Jaccard [Self]\"]"
   ]
  },
  {
   "cell_type": "code",
   "execution_count": 870,
   "metadata": {},
   "outputs": [
    {
     "data": {
      "text/plain": [
       "num_workers\n",
       "5     0.845210\n",
       "10    0.825366\n",
       "15    0.808331\n",
       "20    0.796336\n",
       "25    0.805057\n",
       "30    0.803403\n",
       "Name: Jaccard [Self], dtype: float64"
      ]
     },
     "execution_count": 870,
     "metadata": {},
     "output_type": "execute_result"
    }
   ],
   "source": [
    "qj_df[\"GTLSA_qjsum\"] = qj_df.apply(lambda x: x[\"qp1\"]+x[\"qn1\"]+x[\"qn2\"]+x[\"qp1\"],axis=1)\n",
    "best_GTLSA_worker=qj_df.loc[qj_df.groupby([\"sample\",\"objid\"])[\"GTLSA_qjsum\"].idxmax()]\n",
    "assert len(best_GTLSA_worker)==31*46\n",
    "best_GTLSA_worker.groupby(\"num_workers\").mean()[\"Jaccard [Self]\"]"
   ]
  },
  {
   "cell_type": "code",
   "execution_count": 961,
   "metadata": {},
   "outputs": [
    {
     "name": "stderr",
     "output_type": "stream",
     "text": [
      "                                               \r"
     ]
    }
   ],
   "source": [
    "x_fields = ['qj']\n",
    "y_fields = ['Precision [Self]', 'Recall [Self]', 'Jaccard [Self]']\n",
    "df_data = []\n",
    "for sample_name in tqdm(sample_lst):\n",
    "    for objid in object_lst:\n",
    "        selected_df =qj_df[qj_df[\"objid\"]==objid]\n",
    "        x = np.array(selected_df[x_fields])\n",
    "        y = np.array(selected_df[y_fields])\n",
    "        regression_model = linear_model.LinearRegression()\n",
    "        regression_model.fit(X = x, y = y)\n",
    "        \n",
    "        cluster_ids = clust_df[(clust_df[\"objid\"] == objid)].cluster.unique()\n",
    "        for cluster_id in [\"-1\"] + list(cluster_ids):\n",
    "            worker_ids = np.array(clust_df[(clust_df[\"objid\"] == objid) & (clust_df[\"cluster\"] == int(cluster_id))].wid)\n",
    "            if len(worker_ids) > 1 or cluster_id == \"-1\":\n",
    "                selected_df = qj_df[(qj_df[\"sample\"]==sample_name)&(qj_df[\"objid\"]==objid)&(qj_df[\"clust\"]==int(cluster_id))]\n",
    "                if len(selected_df)>1: #only best clusters were ran, so ignore ones where no qj-df (non best clusters) was computed\n",
    "                    for row in selected_df.iterrows():\n",
    "                        pred_p,pred_r,pred_j = regression_model.predict(row[1][\"qj\"])[0]\n",
    "                        df_data.append([sample_name,objid,row[1][\"qj\"],cluster_id,pred_p,pred_r,pred_j])                        "
   ]
  },
  {
   "cell_type": "code",
   "execution_count": 962,
   "metadata": {},
   "outputs": [],
   "source": [
    "qj_predicted = pd.DataFrame(df_data,columns=[\"sample\",\"objid\",\"qj\",\"clust\",\"p\",\"r\",\"j\"])\n",
    "qj_predicted[\"num_workers\"]=qj_predicted[\"sample\"].apply(lambda x: int(x.split(\"workers\")[0]))"
   ]
  },
  {
   "cell_type": "code",
   "execution_count": 930,
   "metadata": {},
   "outputs": [
    {
     "data": {
      "text/plain": [
       "<matplotlib.legend.Legend at 0x7f413d7f3b50>"
      ]
     },
     "execution_count": 930,
     "metadata": {},
     "output_type": "execute_result"
    },
    {
     "data": {
      "image/png": "[encoded data removed]",
      "text/plain": [
       "<matplotlib.figure.Figure at 0x7f413d31fc50>"
      ]
     },
     "metadata": {},
     "output_type": "display_data"
    }
   ],
   "source": [
    "objid=45\n",
    "selected_df =qj_predicted[qj_predicted[\"objid\"]==objid]\n",
    "selected_df_orig =qj_df[qj_df[\"objid\"]==objid]\n",
    "plt.plot(selected_df[\"qj\"],selected_df[\"j\"],'o',label=\"predicted\")\n",
    "plt.plot(selected_df_orig[\"qj\"],selected_df_orig[\"Jaccard [Self]\"],'o',label=\"training data\")\n",
    "plt.title(\"Obj {}\".format(objid))\n",
    "plt.xlabel(\"qj\")\n",
    "plt.ylabel(\"jaccard\")\n",
    "plt.legend()"
   ]
  },
  {
   "cell_type": "code",
   "execution_count": 963,
   "metadata": {},
   "outputs": [
    {
     "data": {
      "text/plain": [
       "num_workers\n",
       "5     0.848179\n",
       "10    0.850849\n",
       "15    0.851362\n",
       "20    0.851667\n",
       "25    0.852593\n",
       "30    0.853102\n",
       "Name: j, dtype: float64"
      ]
     },
     "execution_count": 963,
     "metadata": {},
     "output_type": "execute_result"
    }
   ],
   "source": [
    "best_qj_predicted = qj_predicted.loc[qj_predicted.groupby([\"sample\",\"objid\"])[\"j\"].idxmax()]\n",
    "assert len(best_qj_predicted)==31*46\n",
    "best_basic_predicted_score = best_qj_predicted.groupby(\"num_workers\").mean()[\"j\"]\n",
    "best_basic_predicted_score"
   ]
  },
  {
   "cell_type": "code",
   "execution_count": 1023,
   "metadata": {},
   "outputs": [],
   "source": [
    "import warnings\n",
    "warnings.filterwarnings('ignore')\n",
    "\n",
    "def predict_prj_linear_regression(qj_df, x_fields,y_fields = ['Precision [Self]', 'Recall [Self]', 'Jaccard [Self]']):\n",
    "    df_data = []\n",
    "    for sample_name in tqdm(sample_lst):\n",
    "        for objid in object_lst:\n",
    "            selected_df =qj_df[qj_df[\"objid\"]==objid]\n",
    "            x = np.array(selected_df[x_fields])\n",
    "            y = np.array(selected_df[y_fields])\n",
    "            regression_model = linear_model.LinearRegression()\n",
    "            regression_model.fit(X = x, y = y)\n",
    "\n",
    "            cluster_ids = clust_df[(clust_df[\"objid\"] == objid)].cluster.unique()\n",
    "            for cluster_id in [\"-1\"] + list(cluster_ids):\n",
    "                worker_ids = np.array(clust_df[(clust_df[\"objid\"] == objid) & (clust_df[\"cluster\"] == int(cluster_id))].wid)\n",
    "                if len(worker_ids) > 1 or cluster_id == \"-1\":\n",
    "                    selected_df = qj_df[(qj_df[\"sample\"]==sample_name)&(qj_df[\"objid\"]==objid)&(qj_df[\"clust\"]==int(cluster_id))]\n",
    "                    if len(selected_df)>1: #only best clusters were ran, so ignore ones where no qj-df (non best clusters) was computed\n",
    "                        for row in selected_df.iterrows():\n",
    "                            pred_p,pred_r,pred_j = regression_model.predict(row[1][x_fields])[0]\n",
    "                            df_data.append([sample_name,objid, cluster_id,pred_p,pred_r,pred_j])                        \n",
    "\n",
    "    qj_predicted = pd.DataFrame(df_data,columns=[\"sample\",\"objid\",\"clust\",\"p\",\"r\",\"j\"])\n",
    "    qj_predicted[\"num_workers\"]=qj_predicted[\"sample\"].apply(lambda x: int(x.split(\"workers\")[0]))\n",
    "    \n",
    "    best_qj_predicted = qj_predicted.loc[qj_predicted.groupby([\"sample\",\"objid\"])[\"j\"].idxmax()]\n",
    "    try:\n",
    "        assert len(best_qj_predicted)==31*46\n",
    "    except(AssertionError):\n",
    "        print \"assertion error:\",len(best_qj_predicted)\n",
    "    best_predicted_score = np.array(best_qj_predicted.groupby(\"num_workers\").mean()[\"j\"])\n",
    "    return best_predicted_score,qj_predicted"
   ]
  },
  {
   "cell_type": "code",
   "execution_count": 999,
   "metadata": {},
   "outputs": [
    {
     "name": "stderr",
     "output_type": "stream",
     "text": [
      "                                               \r"
     ]
    }
   ],
   "source": [
    "qj_df_no_clust = qj_df[qj_df[\"clust\"]==-1]\n",
    "\n",
    "x_fields = ['qp1', 'qn1', 'qp2', 'qn2']\n",
    "best_GTLSA_score,GTLSA_predicted = predict_prj_linear_regression(qj_df_no_clust,x_fields)\n",
    "\n",
    "x_fields = ['iqp1', 'iqn1', 'iqp2', 'iqn2']\n",
    "best_isoGTLSA_score,isoGTLSA_predicted = predict_prj_linear_regression(qj_df_no_clust,x_fields)\n",
    "\n",
    "x_fields = ['qp', 'qn']\n",
    "best_GT_score,GT_predicted = predict_prj_linear_regression(qj_df_no_clust,x_fields)\n",
    "\n",
    "x_fields = ['iqp', 'iqn']\n",
    "best_isoGT_score,isoGT_predicted = predict_prj_linear_regression(qj_df_no_clust,x_fields)\n",
    "\n",
    "x_fields = ['iqj']\n",
    "best_isobasic_score,isobasic_predicted = predict_prj_linear_regression(qj_df_no_clust,x_fields)\n",
    "\n",
    "x_fields = ['qj']\n",
    "best_basic_score,basic_predicted = predict_prj_linear_regression(qj_df_no_clust,x_fields)"
   ]
  },
  {
   "cell_type": "code",
   "execution_count": 1000,
   "metadata": {},
   "outputs": [
    {
     "data": {
      "image/png": "[encoded data removed]",
      "text/plain": [
       "<matplotlib.figure.Figure at 0x7f4134a81fd0>"
      ]
     },
     "metadata": {},
     "output_type": "display_data"
    }
   ],
   "source": [
    "plt.plot(best_isobasic_score,label=\"isobasic\")\n",
    "plt.plot(best_basic_score,label=\"basic\")\n",
    "plt.plot(best_GT_score,label=\"isoGT\")\n",
    "plt.plot(best_isoGT_score,label=\"GT\")\n",
    "plt.plot(best_GTLSA_score,label=\"isoGTLSA\")\n",
    "plt.plot(best_isoGTLSA_score,label=\"GTLSA\")\n",
    "x,algo_noclust,algo_clust=clust_vs_noclust(\"MV\",filtered=False)\n",
    "plt.plot(algo_clust,linestyle=\"--\",color = \"black\")\n",
    "plt.legend(bbox_to_anchor=(1.04,0.5),loc=\"center left\")    \n",
    "plt.ylabel(\"Jaccard\")\n",
    "plt.xticks(rotation=50)\n",
    "plt.title(\"Best worker retreival based on worker qualities [no cluster]\",fontsize=13)\n",
    "a = gca().set_xticklabels([0,'5 workers','10 workers','15 workers','20 workers','25 workers','30 workers'])"
   ]
  },
  {
   "cell_type": "markdown",
   "metadata": {},
   "source": [
    "Best cluster"
   ]
  },
  {
   "cell_type": "code",
   "execution_count": 1021,
   "metadata": {},
   "outputs": [],
   "source": [
    "qj_df[\"sample_num\"] = qj_df.apply(lambda x: int(x[\"sample\"].split(\"rand\")[-1]),axis=1)\n",
    "# qj_df_clust = filter_best_clust(qj_df,best_clust_df)\n",
    "# qj_df_clust.groupby([\"sample\",\"objid\",\"clust\"]).count()"
   ]
  },
  {
   "cell_type": "code",
   "execution_count": 1073,
   "metadata": {
    "collapsed": true
   },
   "outputs": [],
   "source": [
    "def best_cluster(x):\n",
    "    try:\n",
    "        return obj_clusters[x[\"sample\"]][str(x[\"objid\"])]\n",
    "    except(KeyError):\n",
    "        return -1\n",
    "\n",
    "qj_df[\"best_clust\"]=qj_df.apply(lambda x: best_cluster(x),axis=1)\n",
    "qj_df_clust = qj_df[qj_df[\"best_clust\"]==qj_df[\"clust\"]]"
   ]
  },
  {
   "cell_type": "code",
   "execution_count": 1091,
   "metadata": {},
   "outputs": [],
   "source": [
    "assert len(qj_df_clust.groupby([\"sample\",\"objid\"],as_index=False).mean()[[\"sample\",\"objid\"]])==31*46"
   ]
  },
  {
   "cell_type": "code",
   "execution_count": 1101,
   "metadata": {},
   "outputs": [],
   "source": [
    "# len(isoGTLSA_predicted_clust[isoGTLSA_predicted_clust[\"objid\"]==31])"
   ]
  },
  {
   "cell_type": "code",
   "execution_count": 1092,
   "metadata": {
    "scrolled": false
   },
   "outputs": [
    {
     "name": "stderr",
     "output_type": "stream",
     "text": [
      "  0%|          | 0/31 [00:00<?, ?it/s]         "
     ]
    },
    {
     "name": "stdout",
     "output_type": "stream",
     "text": [
      "assertion error: 1411\n"
     ]
    },
    {
     "name": "stderr",
     "output_type": "stream",
     "text": [
      "  0%|          | 0/31 [00:00<?, ?it/s]         "
     ]
    },
    {
     "name": "stdout",
     "output_type": "stream",
     "text": [
      "assertion error: 1411\n"
     ]
    },
    {
     "name": "stderr",
     "output_type": "stream",
     "text": [
      "  0%|          | 0/31 [00:00<?, ?it/s]         "
     ]
    },
    {
     "name": "stdout",
     "output_type": "stream",
     "text": [
      "assertion error: 1411\n"
     ]
    },
    {
     "name": "stderr",
     "output_type": "stream",
     "text": [
      "  0%|          | 0/31 [00:00<?, ?it/s]         "
     ]
    },
    {
     "name": "stdout",
     "output_type": "stream",
     "text": [
      "assertion error: 1411\n"
     ]
    },
    {
     "name": "stderr",
     "output_type": "stream",
     "text": [
      "  0%|          | 0/31 [00:00<?, ?it/s]         "
     ]
    },
    {
     "name": "stdout",
     "output_type": "stream",
     "text": [
      "assertion error: 1411\n"
     ]
    },
    {
     "name": "stderr",
     "output_type": "stream",
     "text": [
      "                                               "
     ]
    },
    {
     "name": "stdout",
     "output_type": "stream",
     "text": [
      "assertion error: 1411\n"
     ]
    },
    {
     "name": "stderr",
     "output_type": "stream",
     "text": [
      "\r"
     ]
    }
   ],
   "source": [
    "x_fields = ['qp1', 'qn1', 'qp2', 'qn2']\n",
    "best_GTLSA_score_clust,GTLSA_predicted_clust = predict_prj_linear_regression(qj_df_clust,x_fields)\n",
    "\n",
    "x_fields = ['iqp1', 'iqn1', 'iqp2', 'iqn2']\n",
    "best_isoGTLSA_score_clust,isoGTLSA_predicted_clust = predict_prj_linear_regression(qj_df_clust,x_fields)\n",
    "\n",
    "x_fields = ['qp', 'qn']\n",
    "best_GT_score_clust,GT_predicted_clust = predict_prj_linear_regression(qj_df_clust,x_fields)\n",
    "\n",
    "x_fields = ['iqp', 'iqn']\n",
    "best_isoGT_score_clust,isoGT_predicted_clust = predict_prj_linear_regression(qj_df_clust,x_fields)\n",
    "\n",
    "x_fields = ['iqj']\n",
    "best_isobasic_score_clust,isobasic_predicted_clust = predict_prj_linear_regression(qj_df_clust,x_fields)\n",
    "\n",
    "x_fields = ['qj']\n",
    "best_basic_score_clust,basic_predicted_clust = predict_prj_linear_regression(qj_df_clust,x_fields)"
   ]
  },
  {
   "cell_type": "code",
   "execution_count": 1110,
   "metadata": {},
   "outputs": [
    {
     "data": {
      "image/png": "[encoded data removed]",
      "text/plain": [
       "<matplotlib.figure.Figure at 0x7f413513c410>"
      ]
     },
     "metadata": {},
     "output_type": "display_data"
    }
   ],
   "source": [
    "plt.plot(best_isobasic_score_clust,label=\"isobasic\")\n",
    "plt.plot(best_basic_score_clust,label=\"basic\")\n",
    "plt.plot(best_GT_score_clust,label=\"isoGT\")\n",
    "plt.plot(best_isoGT_score_clust,label=\"GT\")\n",
    "plt.plot(best_GTLSA_score_clust,label=\"isoGTLSA\")\n",
    "plt.plot(best_isoGTLSA_score_clust,label=\"GTLSA\")\n",
    "x,algo_noclust,algo_clust=clust_vs_noclust(\"MV\",filtered=False)\n",
    "plt.plot(algo_clust,color = \"black\",label=\"MV\")\n",
    "plt.legend(bbox_to_anchor=(1.04,0.5),loc=\"center left\")    \n",
    "plt.ylabel(\"Jaccard\")\n",
    "plt.xticks(rotation=50)\n",
    "plt.title(\"Worker qualities-based best worker retreival [best cluster]\",fontsize=13)\n",
    "a = gca().set_xticklabels([0,'5 workers','10 workers','15 workers','20 workers','25 workers','30 workers'])"
   ]
  },
  {
   "cell_type": "code",
   "execution_count": 1107,
   "metadata": {},
   "outputs": [
    {
     "data": {
      "image/png": "[encoded data removed]",
      "text/plain": [
       "<matplotlib.figure.Figure at 0x7f4135448150>"
      ]
     },
     "metadata": {},
     "output_type": "display_data"
    }
   ],
   "source": [
    "plt.plot(best_isobasic_score_clust,label=\"isobasic\",color=\"blue\")\n",
    "plt.plot(best_basic_score_clust,label=\"basic\",color=\"red\")\n",
    "plt.plot(best_GT_score_clust,label=\"isoGT\",color=\"orange\")\n",
    "plt.plot(best_isoGT_score_clust,label=\"GT\",color=\"pink\")\n",
    "plt.plot(best_GTLSA_score_clust,label=\"isoGTLSA\",color=\"magenta\")\n",
    "plt.plot(best_isoGTLSA_score_clust,label=\"GTLSA\",color=\"green\")\n",
    "x,algo_noclust,algo_clust=clust_vs_noclust(\"MV\",filtered=False)\n",
    "plt.plot(algo_noclust,linestyle=\"-\",color = \"black\")\n",
    "plt.legend(bbox_to_anchor=(1.04,0.5),loc=\"center left\")    \n",
    "plt.ylabel(\"Jaccard\")\n",
    "plt.xticks(rotation=50)\n",
    "plt.title(\"Best worker retreival based on worker qualities [best cluster]\",fontsize=13)\n",
    "a = gca().set_xticklabels([0,'5 workers','10 workers','15 workers','20 workers','25 workers','30 workers'])\n",
    "\n",
    "plt.plot(best_isobasic_score,label=\"isobasic\",linestyle=\"--\",color=\"blue\")\n",
    "plt.plot(best_basic_score,label=\"basic\",linestyle=\"--\",color=\"red\")\n",
    "plt.plot(best_GT_score,label=\"isoGT\",linestyle=\"--\",color=\"orange\")\n",
    "plt.plot(best_isoGT_score,label=\"GT\",linestyle=\"--\",color=\"pink\")\n",
    "plt.plot(best_GTLSA_score,label=\"isoGTLSA\",linestyle=\"--\",color=\"magenta\")\n",
    "plt.plot(best_isoGTLSA_score,label=\"GTLSA\",linestyle=\"--\",color=\"green\")\n",
    "x,algo_noclust,algo_clust=clust_vs_noclust(\"MV\",filtered=False)\n",
    "plt.plot(algo_clust,linestyle=\"--\",color = \"black\")\n",
    "plt.legend(bbox_to_anchor=(1.04,0.5),loc=\"center left\")    \n",
    "plt.ylabel(\"Jaccard\")\n",
    "plt.xticks(rotation=50)\n",
    "plt.title(\"Best worker retreival based on worker qualities [cluster  v.s. no cluster(dotted)]\",fontsize=13)\n",
    "a = gca().set_xticklabels([0,'5 workers','10 workers','15 workers','20 workers','25 workers','30 workers'])"
   ]
  },
  {
   "cell_type": "markdown",
   "metadata": {},
   "source": [
    "- show just the clustered case here"
   ]
  },
  {
   "cell_type": "code",
   "execution_count": null,
   "metadata": {
    "collapsed": true
   },
   "outputs": [],
   "source": []
  }
 ],
 "metadata": {
  "kernelspec": {
   "display_name": "Python 2",
   "language": "python",
   "name": "python2"
  },
  "language_info": {
   "codemirror_mode": {
    "name": "ipython",
    "version": 2
   },
   "file_extension": ".py",
   "mimetype": "text/x-python",
   "name": "python",
   "nbconvert_exporter": "python",
   "pygments_lexer": "ipython2",
   "version": "2.7.14"
  }
 },
 "nbformat": 4,
 "nbformat_minor": 2
}

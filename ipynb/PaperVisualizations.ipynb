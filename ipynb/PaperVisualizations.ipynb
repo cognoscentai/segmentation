{
 "cells": [
  {
   "cell_type": "code",
   "execution_count": 1,
   "metadata": {
    "scrolled": true
   },
   "outputs": [
    {
     "name": "stdout",
     "output_type": "stream",
     "text": [
      "/home/jlee782/hcomp_paper_seg/analysis\n"
     ]
    }
   ],
   "source": [
    "cd ../analysis/"
   ]
  },
  {
   "cell_type": "code",
   "execution_count": 2,
   "metadata": {},
   "outputs": [
    {
     "name": "stdout",
     "output_type": "stream",
     "text": [
      "Populating the interactive namespace from numpy and matplotlib\n"
     ]
    },
    {
     "name": "stderr",
     "output_type": "stream",
     "text": [
      "/home/jlee782/.local/lib/python2.7/site-packages/matplotlib/__init__.py:1401: UserWarning:  This call to matplotlib.use() has no effect\n",
      "because the backend has already been chosen;\n",
      "matplotlib.use() must be called *before* pylab, matplotlib.pyplot,\n",
      "or matplotlib.backends is imported for the first time.\n",
      "\n",
      "  warnings.warn(_use_error_msg)\n"
     ]
    }
   ],
   "source": [
    "%pylab inline\n",
    "%load_ext autoreload\n",
    "%autoreload 2\n",
    "from withClustAnalysis import *\n",
    "from hcomp_paper_viz import *"
   ]
  },
  {
   "cell_type": "code",
   "execution_count": 3,
   "metadata": {},
   "outputs": [
    {
     "name": "stdout",
     "output_type": "stream",
     "text": [
      "generate baseline comparisons\n"
     ]
    },
    {
     "name": "stderr",
     "output_type": "stream",
     "text": [
      "/home/jlee782/.local/lib/python2.7/site-packages/pandas/io/parsers.py:648: ParserWarning: Falling back to the 'python' engine because the 'c' engine does not support skip_footer; you can avoid this warning by specifying engine='python'.\n",
      "  ParserWarning)\n",
      "                                                    \r"
     ]
    }
   ],
   "source": [
    "# Run once\n",
    "#from qualityBaseline import compute_self_BBvals\n",
    "# print \"generate baseline comparisons\"\n",
    "# compute_self_BBvals(compute_metrics=['simple','area']) #run once\n",
    "# retreival_df = compute_best_average_heuristics_workers_baselines(rerun_existing=True) #run once"
   ]
  },
  {
   "cell_type": "markdown",
   "metadata": {},
   "source": [
    "# Retreival based heuristic models"
   ]
  },
  {
   "cell_type": "markdown",
   "metadata": {},
   "source": [
    "-  if we only pick from the best cluster, if no clustering done then retain the same worker performance as before"
   ]
  },
  {
   "cell_type": "code",
   "execution_count": 107,
   "metadata": {
    "collapsed": true
   },
   "outputs": [],
   "source": [
    "from baseline import compute_worker_qualities_against_real_performance"
   ]
  },
  {
   "cell_type": "code",
   "execution_count": 108,
   "metadata": {
    "collapsed": true
   },
   "outputs": [],
   "source": [
    "obj_clusters = clusters()"
   ]
  },
  {
   "cell_type": "code",
   "execution_count": 109,
   "metadata": {
    "collapsed": true
   },
   "outputs": [],
   "source": [
    "clust_df = pd.read_csv(\"spectral_clustering_all_hard_obj.csv\")\n",
    "noClust_obj =[obj for obj in object_lst if obj not in clust_df.objid.unique() ]\n",
    "clustObj = clust_df.objid.unique()"
   ]
  },
  {
   "cell_type": "code",
   "execution_count": 110,
   "metadata": {
    "collapsed": true
   },
   "outputs": [],
   "source": [
    "retreival_df= pd.read_csv(\"pixel_em/individual_worker_performance.csv\")\n",
    "retreival_df[\"sample_num\"]=retreival_df.apply(lambda x:int(x[\"sample\"].split(\"rand\")[-1]),axis=1)\n",
    "no_cluster_retreival_df = retreival_df[retreival_df[\"clust\"]==-1]\n",
    "cluster_retreival_df = retreival_df[((retreival_df[\"clust\"]!=-1) & (retreival_df[\"objid\"].isin(clustObj)))|((retreival_df[\"clust\"]==-1) & (~retreival_df[\"objid\"].isin(clustObj)))]"
   ]
  },
  {
   "cell_type": "code",
   "execution_count": 111,
   "metadata": {
    "collapsed": true
   },
   "outputs": [],
   "source": [
    "#BAD!\n",
    "# best_clust_df = compute_best_worker_picking()\n",
    "# cluster_retreival_df=filter_best_clust(retreival_df,best_clust_df)"
   ]
  },
  {
   "cell_type": "code",
   "execution_count": 112,
   "metadata": {
    "collapsed": true
   },
   "outputs": [],
   "source": [
    "def best_cluster(x):\n",
    "    try:\n",
    "        return obj_clusters[x[\"sample\"]][str(x[\"objid\"])]\n",
    "    except(KeyError): #non clustered cases\n",
    "        return -1\n",
    "\n",
    "retreival_df[\"best_clust\"]=retreival_df.apply(lambda x: best_cluster(x),axis=1)\n",
    "cluster_retreival_df = retreival_df[retreival_df[\"best_clust\"]==retreival_df[\"clust\"]]\n",
    "assert len(cluster_retreival_df.groupby([\"sample\",\"objid\"]).count())==46*31"
   ]
  },
  {
   "cell_type": "code",
   "execution_count": 124,
   "metadata": {
    "collapsed": true
   },
   "outputs": [],
   "source": [
    "retreivalAlgoMap={\n",
    "    'NumPt':'orange',\n",
    "    'AreaRatio':'green',\n",
    "    'AvrgWorker':'blue',\n",
    "    'BestWorker':'red'\n",
    "}"
   ]
  },
  {
   "cell_type": "code",
   "execution_count": 125,
   "metadata": {
    "collapsed": true
   },
   "outputs": [],
   "source": [
    "def worker_scaling_ratio(performance):\n",
    "    return (performance[-1]-performance[0])/performance[0]"
   ]
  },
  {
   "cell_type": "markdown",
   "metadata": {},
   "source": [
    "For vision, we scan a variety of inclusion thresholds as well as different levels of segmentation granularities. For each object, we pick parameter that yields the best performing Jaccard."
   ]
  },
  {
   "cell_type": "code",
   "execution_count": 164,
   "metadata": {},
   "outputs": [
    {
     "data": {
      "image/png": "[encoded data removed]",
      "text/plain": [
       "<matplotlib.figure.Figure at 0x7fde667c4b90>"
      ]
     },
     "metadata": {},
     "output_type": "display_data"
    }
   ],
   "source": [
    "vision = pd.read_csv(\"pixel_em/vision_only_performance.csv\")\n",
    "\n",
    "NworkerPerformance = no_cluster_retreival_df.groupby(\"num_workers\").mean()\n",
    "for algo in retreivalAlgoMap.keys():\n",
    "    algoJ = \"J [{}]\".format(algo)\n",
    "    plt.plot(np.array(NworkerPerformance[algoJ]),label=algo,color=retreivalAlgoMap[algo])\n",
    "\n",
    "NworkerPerformance = cluster_retreival_df.groupby(\"num_workers\").mean()\n",
    "for algo in  retreivalAlgoMap.keys():\n",
    "    algoJ = \"J [{}]\".format(algo)\n",
    "    plt.plot(np.array(NworkerPerformance[algoJ]),linestyle='--',color=retreivalAlgoMap[algo])\n",
    "\n",
    "max_vision_k_thresh = vision.loc[vision.groupby([\"objid\"])['j'].idxmax()].mean()[\"j\"]\n",
    "y = np.ones_like(np.array(NworkerPerformance[algoJ]))\n",
    "plt.plot(y*max_vision_k_thresh,label=\"best vision\",color=\"magenta\")\n",
    "plt.legend(bbox_to_anchor=(1.04,0.5),loc=\"center left\")    \n",
    "#plt.legend(loc=\"lower left\",fontsize=8)    \n",
    "plt.ylabel(\"Jaccard\")\n",
    "plt.xticks(rotation=50)\n",
    "plt.title(\"Effects of Clustering on Retrieval-Based Algorithms\",fontsize=13)\n",
    "a = gca().set_xticklabels([0,'5 workers','10 workers','15 workers','20 workers','25 workers','30 workers'])\n",
    "plt.savefig(\"ClusteringEffectOnRetreival.pdf\")"
   ]
  },
  {
   "cell_type": "code",
   "execution_count": 127,
   "metadata": {
    "collapsed": true
   },
   "outputs": [],
   "source": [
    "from tabulate import tabulate"
   ]
  },
  {
   "cell_type": "code",
   "execution_count": 128,
   "metadata": {
    "collapsed": true
   },
   "outputs": [],
   "source": [
    "megadfd =[]\n",
    "for algo in algoMap.keys():\n",
    "    keys = ['P [{}]'.format(algo), u'R [{}]'.format(algo), 'J [{}]'.format(algo), u'FPR% [{}]'.format(algo),'FNR% [{}]'.format(algo)]\n",
    "    performance = list(cluster_retreival_df.mean()[keys])\n",
    "    lst = [algo]\n",
    "    lst.extend(performance)\n",
    "    megadfd.append(lst)"
   ]
  },
  {
   "cell_type": "code",
   "execution_count": 129,
   "metadata": {
    "collapsed": true
   },
   "outputs": [],
   "source": [
    "megadf = pd.DataFrame(megadfd, columns=[\"algo\",\"P\",\"R\",\"J\",\"FPR%\",\"FNR%\"])"
   ]
  },
  {
   "cell_type": "code",
   "execution_count": 130,
   "metadata": {},
   "outputs": [
    {
     "name": "stdout",
     "output_type": "stream",
     "text": [
      "\\begin{tabular}{lrrrrr}\n",
      "\\hline\n",
      " algo       &    P &    R &    J &   FPR\\% &   FNR\\% \\\\\n",
      "\\hline\n",
      " AvrgWorker & 0.91 & 0.92 & 0.84 &   7.94 &   0.52 \\\\\n",
      " NumPt      & 0.87 & 0.92 & 0.82 &   7.86 &   1.10 \\\\\n",
      " BestWorker & 0.95 & 0.95 & 0.90 &   5.23 &   0.17 \\\\\n",
      " AreaRatio  & 0.79 & 0.94 & 0.77 &   5.51 &   2.06 \\\\\n",
      "\\hline\n",
      "\\end{tabular}\n"
     ]
    }
   ],
   "source": [
    "print tabulate(megadf,showindex=False,headers=megadf.columns,tablefmt=\"latex\",floatfmt=\".2f\")"
   ]
  },
  {
   "cell_type": "markdown",
   "metadata": {},
   "source": [
    "__Performance ratio of increase from 5 → 30 workers__"
   ]
  },
  {
   "cell_type": "code",
   "execution_count": 18,
   "metadata": {},
   "outputs": [
    {
     "name": "stdout",
     "output_type": "stream",
     "text": [
      "AvrgWorker : 0.290924142749\n",
      "NumPt : 0.876339509934\n",
      "BestWorker : -0.214949040712\n",
      "AreaRatio : 1.54042295354\n"
     ]
    }
   ],
   "source": [
    "for algo in  algoMap.keys():\n",
    "    algoJ = \"FNR% [{}]\".format(algo)\n",
    "    performance = np.array(NworkerPerformance[algoJ])\n",
    "    print algo,\":\",worker_scaling_ratio(performance)"
   ]
  },
  {
   "cell_type": "markdown",
   "metadata": {},
   "source": [
    "- add MV in this plot \n",
    "- leave out clustering for this "
   ]
  },
  {
   "cell_type": "markdown",
   "metadata": {},
   "source": [
    "# Big Table of all algo x results "
   ]
  },
  {
   "cell_type": "code",
   "execution_count": null,
   "metadata": {
    "collapsed": true
   },
   "outputs": [],
   "source": []
  },
  {
   "cell_type": "markdown",
   "metadata": {},
   "source": [
    "# Comparing MV with EM ; clust v.s. no clust"
   ]
  },
  {
   "cell_type": "code",
   "execution_count": 99,
   "metadata": {
    "collapsed": true
   },
   "outputs": [],
   "source": [
    "from analyze_prjs import clust_vs_noclust"
   ]
  },
  {
   "cell_type": "code",
   "execution_count": 100,
   "metadata": {
    "collapsed": true
   },
   "outputs": [],
   "source": [
    "algoMap = {\n",
    "    'GTLSA':'orange',\n",
    "    \"basic\":'green',\n",
    "    \"GT\":'blue',\n",
    "    \"isoGT\":'red',\n",
    "    \"isoGTLSA\": 'cyan',\n",
    "    \"isobasic\": 'magenta',\n",
    "    \"MV\":\"black\"\n",
    "}"
   ]
  },
  {
   "cell_type": "code",
   "execution_count": 101,
   "metadata": {},
   "outputs": [
    {
     "data": {
      "text/plain": [
       "<matplotlib.text.Text at 0x7fde671244d0>"
      ]
     },
     "execution_count": 101,
     "metadata": {},
     "output_type": "execute_result"
    },
    {
     "data": {
      "image/png": "[encoded data removed]",
      "text/plain": [
       "<matplotlib.figure.Figure at 0x7fde907f3f10>"
      ]
     },
     "metadata": {},
     "output_type": "display_data"
    }
   ],
   "source": [
    "for algo in algoMap.keys():\n",
    "    # we only ran on the best clusters, so the results should only be on the best clusters if not -1\n",
    "    x,algo_noclust,algo_clust=clust_vs_noclust(algo,filtered=False)\n",
    "    plt.plot(algo_noclust,label=algo,color = algoMap[algo])\n",
    "    plt.plot(algo_clust,linestyle=\"--\",color = algoMap[algo])\n",
    "plt.legend(bbox_to_anchor=(1.04,0.5),loc=\"center left\")    \n",
    "plt.ylabel(\"Jaccard\")\n",
    "plt.xticks(rotation=50)\n",
    "a = gca().set_xticklabels([0,'5 workers','10 workers','15 workers','20 workers','25 workers','30 workers'])\n",
    "plt.title(\"Binary Search Thresh EM [clustered (dotted) v.s. no cluster]\",fontsize=13)"
   ]
  },
  {
   "cell_type": "markdown",
   "metadata": {},
   "source": [
    "basic, isoGT and GT are all very close to MV"
   ]
  },
  {
   "cell_type": "code",
   "execution_count": 26,
   "metadata": {
    "collapsed": true
   },
   "outputs": [],
   "source": [
    "def avrg_percent_change(clust,noClust):\n",
    "    return \"{:.3f}%\".format(np.mean((np.array(clust)-np.array(noClust))/np.array(noClust))*100)"
   ]
  },
  {
   "cell_type": "markdown",
   "metadata": {},
   "source": [
    "__Comparing cluster v.s. no cluster__"
   ]
  },
  {
   "cell_type": "code",
   "execution_count": 27,
   "metadata": {
    "scrolled": true
   },
   "outputs": [
    {
     "name": "stdout",
     "output_type": "stream",
     "text": [
      "------------\n",
      "percent change due to clustering for metric: precision\n",
      "MV :0.369%\n",
      "GT :0.372%\n",
      "isobasic :0.344%\n",
      "basic :0.375%\n",
      "MV :0.369%\n",
      "GTLSA :0.202%\n",
      "isoGT :0.372%\n",
      "isoGTLSA :-0.329%\n",
      "------------\n",
      "percent change due to clustering for metric: recall\n",
      "MV :1.672%\n",
      "GT :1.674%\n",
      "isobasic :1.701%\n",
      "basic :1.672%\n",
      "MV :1.672%\n",
      "GTLSA :1.415%\n",
      "isoGT :1.674%\n",
      "isoGTLSA :1.762%\n",
      "------------\n",
      "percent change due to clustering for metric: jaccard\n",
      "MV :2.047%\n",
      "GT :2.050%\n",
      "isobasic :1.860%\n",
      "basic :2.050%\n",
      "MV :2.047%\n",
      "GTLSA :1.784%\n",
      "isoGT :2.050%\n",
      "isoGTLSA :1.377%\n",
      "------------\n",
      "percent change due to clustering for metric: FNR%\n",
      "MV :-21.145%\n",
      "GT :-21.164%\n",
      "isobasic :-21.343%\n",
      "basic :-21.149%\n",
      "MV :-21.145%\n",
      "GTLSA :-17.860%\n",
      "isoGT :-21.164%\n",
      "isoGTLSA :-20.256%\n",
      "------------\n",
      "percent change due to clustering for metric: FPR%\n",
      "MV :-8.485%\n",
      "GT :-8.596%\n",
      "isobasic :-2.079%\n",
      "basic :-8.724%\n",
      "MV :-8.485%\n",
      "GTLSA :-8.675%\n",
      "isoGT :-8.596%\n",
      "isoGTLSA :24.794%\n"
     ]
    }
   ],
   "source": [
    "m2m = {\"precision\":'p','recall':'r', 'jaccard':'j', u'FNR%':'fnr','FPR%':'fpr'}\n",
    "for metric in ['precision', u'recall', u'jaccard', u'FNR%','FPR%']:\n",
    "    print \"------------\"\n",
    "    print \"percent change due to clustering for metric:\",metric\n",
    "    x,MV_noclust,MV_clust=clust_vs_noclust('MV',metric=metric,filtered=False)\n",
    "    print \"{} :{}\".format(\"MV\",avrg_percent_change(MV_clust,MV_noclust))\n",
    "    for algo in algoMap.keys():\n",
    "        x,algo_noclust,algo_clust=clust_vs_noclust(algo,metric=metric,filtered=False)\n",
    "        print \"{} :{}\".format(algo,avrg_percent_change(algo_clust,algo_noclust))"
   ]
  },
  {
   "cell_type": "markdown",
   "metadata": {},
   "source": [
    "__Comparing cluster (best) v.s. MV__"
   ]
  },
  {
   "cell_type": "code",
   "execution_count": 28,
   "metadata": {
    "scrolled": true
   },
   "outputs": [
    {
     "name": "stdout",
     "output_type": "stream",
     "text": [
      "------------\n",
      "percent change compared to MV for metric: precision\n",
      "GT :0.000%\n",
      "isobasic :-0.413%\n",
      "basic :0.001%\n",
      "MV :0.000%\n",
      "GTLSA :-0.212%\n",
      "isoGT :0.000%\n",
      "isoGTLSA :-3.631%\n",
      "------------\n",
      "percent change compared to MV for metric: recall\n",
      "GT :0.001%\n",
      "isobasic :-0.053%\n",
      "basic :0.000%\n",
      "MV :0.000%\n",
      "GTLSA :-0.288%\n",
      "isoGT :0.001%\n",
      "isoGTLSA :-0.634%\n",
      "------------\n",
      "percent change compared to MV for metric: jaccard\n",
      "GT :0.001%\n",
      "isobasic :-0.458%\n",
      "basic :0.002%\n",
      "MV :0.000%\n",
      "GTLSA :-0.319%\n",
      "isoGT :0.001%\n",
      "isoGTLSA :-3.562%\n",
      "------------\n",
      "percent change compared to MV for metric: FNR%\n",
      "GT :-0.011%\n",
      "isobasic :0.772%\n",
      "basic :-0.005%\n",
      "MV :0.000%\n",
      "GTLSA :4.291%\n",
      "isoGT :-0.011%\n",
      "isoGTLSA :10.693%\n",
      "------------\n",
      "percent change compared to MV for metric: FPR%\n",
      "GT :-0.023%\n",
      "isobasic :209.624%\n",
      "basic :-0.120%\n",
      "MV :0.000%\n",
      "GTLSA :1.049%\n",
      "isoGT :-0.023%\n",
      "isoGTLSA :1747.086%\n"
     ]
    }
   ],
   "source": [
    "m2m = {\"precision\":'p','recall':'r', 'jaccard':'j', u'FNR%':'fnr','FPR%':'fpr'}\n",
    "for metric in ['precision', u'recall', u'jaccard', u'FNR%','FPR%']:\n",
    "    print \"------------\"\n",
    "    print \"percent change compared to MV for metric:\",metric\n",
    "    x,MV_noclust,MV_clust=clust_vs_noclust('MV',metric=metric,filtered=False)\n",
    "    for algo in algoMap.keys():\n",
    "        x,algo_noclust,algo_clust=clust_vs_noclust(algo,metric=metric,filtered=False)\n",
    "        print \"{} :{}\".format(algo,avrg_percent_change(algo_clust,MV_clust))"
   ]
  },
  {
   "cell_type": "markdown",
   "metadata": {},
   "source": [
    "# Greedy Results"
   ]
  },
  {
   "cell_type": "code",
   "execution_count": 140,
   "metadata": {
    "collapsed": true
   },
   "outputs": [],
   "source": [
    "greedy_df = pd.read_csv(\"all_greedy_result.csv\")\n",
    "greedy_df[\"num_workers\"]=greedy_df.apply(lambda x:int(x[\"sample\"].split(\"workers\")[0]),axis=1)\n",
    "greedy_df[\"sample_num\"] = greedy_df.apply(lambda x: int(x[\"sample\"].split(\"rand\")[-1]),axis=1)\n",
    "greedy_noclust=greedy_df[greedy_df[\"clust\"]==-1]\n",
    "best_clust_df=compute_best_worker_picking()\n",
    "greedy_clust= filter_best_clust(greedy_df,best_clust_df)\n",
    "assert greedy_noclust.groupby([\"sample\"])[\"objid\"].count().unique()[0]==8*46"
   ]
  },
  {
   "cell_type": "code",
   "execution_count": 141,
   "metadata": {
    "collapsed": true
   },
   "outputs": [],
   "source": [
    "greedyAlgoMap = {\n",
    "    'GTLSA':'orange',\n",
    "    \"basic\":'green',\n",
    "    \"GT\":'blue',\n",
    "    \"isoGT\":'red',\n",
    "    \"isoGTLSA\": 'cyan',\n",
    "    \"isobasic\": 'magenta',\n",
    "    \"worker_fraction\": 'pink',\n",
    "    \"ground_truth\": 'yellow'\n",
    "}"
   ]
  },
  {
   "cell_type": "code",
   "execution_count": 142,
   "metadata": {
    "collapsed": true
   },
   "outputs": [],
   "source": [
    "from analyze_prjs import clust_vs_noclust"
   ]
  },
  {
   "cell_type": "code",
   "execution_count": 143,
   "metadata": {
    "scrolled": true
   },
   "outputs": [
    {
     "data": {
      "text/plain": [
       "(0.82, 0.99)"
      ]
     },
     "execution_count": 143,
     "metadata": {},
     "output_type": "execute_result"
    },
    {
     "data": {
      "image/png": "[encoded data removed]",
      "text/plain": [
       "<matplotlib.figure.Figure at 0x7fde66dedd10>"
      ]
     },
     "metadata": {},
     "output_type": "display_data"
    }
   ],
   "source": [
    "x,MV_noclust,MV_clust=clust_vs_noclust('MV',filtered=False)\n",
    "\n",
    "# plt.plot(MV_noclust,label=\"MV\",color=\"black\")\n",
    "plt.plot(MV_clust,color=\"black\",linestyle=\"--\")\n",
    "\n",
    "for algo in greedyAlgoMap.keys():\n",
    "    algo_noClust = np.array(greedy_noclust[greedy_noclust[\"algo\"]==algo].groupby([\"num_workers\"]).mean()[\"j\"])\n",
    "    algo_clust = np.array(greedy_clust[greedy_clust[\"algo\"]==algo].groupby([\"num_workers\"]).mean()[\"j\"])\n",
    "    plt.plot(algo_noClust,label=algo,color=greedyAlgoMap[algo])\n",
    "    plt.plot(algo_clust,color=greedyAlgoMap[algo],label=algo,linestyle='--')\n",
    "    \n",
    "    \n",
    "plt.legend(bbox_to_anchor=(1.04,0.5),loc=\"center left\")    \n",
    "plt.ylabel(\"Jaccard\")\n",
    "plt.xticks(rotation=50)\n",
    "a = gca().set_xticklabels([0,'5 workers','10 workers','15 workers','20 workers','25 workers','30 workers'])\n",
    "plt.title(\"Greedy\",fontsize=13)\n",
    "plt.ylim(0.82,0.99)"
   ]
  },
  {
   "cell_type": "code",
   "execution_count": 144,
   "metadata": {
    "scrolled": true
   },
   "outputs": [
    {
     "name": "stdout",
     "output_type": "stream",
     "text": [
      "------------\n",
      "percent change due to clustering for metric: precision\n",
      "MV :0.369%\n",
      "isobasic :-1.697%\n",
      "worker_fraction :4.791%\n",
      "GT :1.481%\n",
      "isoGTLSA :-1.694%\n",
      "basic :0.713%\n",
      "ground_truth :-0.069%\n",
      "isoGT :1.481%\n",
      "GTLSA :1.389%\n",
      "------------\n",
      "percent change due to clustering for metric: recall\n",
      "MV :1.672%\n",
      "isobasic :1.820%\n",
      "worker_fraction :0.484%\n",
      "GT :0.919%\n",
      "isoGTLSA :1.885%\n",
      "basic :1.928%\n",
      "ground_truth :0.011%\n",
      "isoGT :0.919%\n",
      "GTLSA :1.068%\n",
      "------------\n",
      "percent change due to clustering for metric: jaccard\n",
      "MV :2.047%\n",
      "isobasic :0.115%\n",
      "worker_fraction :5.551%\n",
      "GT :2.377%\n",
      "isoGTLSA :-0.456%\n",
      "basic :2.546%\n",
      "ground_truth :-0.058%\n",
      "isoGT :2.377%\n",
      "GTLSA :2.645%\n",
      "------------\n",
      "percent change due to clustering for metric: FNR%\n",
      "MV :-21.145%\n",
      "isobasic :-23.536%\n",
      "worker_fraction :-8.625%\n",
      "GT :-19.735%\n",
      "isoGTLSA :-25.826%\n",
      "basic :-25.236%\n",
      "ground_truth :-0.871%\n",
      "isoGT :-19.735%\n",
      "GTLSA :-15.351%\n",
      "------------\n",
      "percent change due to clustering for metric: FPR%\n",
      "MV :-8.485%\n",
      "isobasic :447.692%\n",
      "worker_fraction :-79.602%\n",
      "GT :-16.219%\n",
      "isoGTLSA :47.428%\n",
      "basic :-9.142%\n",
      "ground_truth :12.045%\n",
      "isoGT :-16.219%\n",
      "GTLSA :-20.542%\n"
     ]
    }
   ],
   "source": [
    "m2m = {\"precision\":'p','recall':'r', 'jaccard':'j', u'FNR%':'fnr','FPR%':'fpr'}\n",
    "for metric in ['precision', u'recall', u'jaccard', u'FNR%','FPR%']:\n",
    "    print \"------------\"\n",
    "    print \"percent change due to clustering for metric:\",metric\n",
    "    x,MV_noclust,MV_clust=clust_vs_noclust('MV',metric=metric,filtered=False)\n",
    "    print \"{} :{}\".format(\"MV\",avrg_percent_change(MV_clust,MV_noclust))\n",
    "    for algo in greedyAlgoMap.keys():\n",
    "        algo_noClust = np.array(greedy_noclust[greedy_noclust[\"algo\"]==algo].groupby([\"num_workers\"]).mean()[m2m[metric]])\n",
    "        algo_clust = np.array(greedy_clust[greedy_clust[\"algo\"]==algo].groupby([\"num_workers\"]).mean()[m2m[metric]])\n",
    "        print \"{} :{}\".format(algo,avrg_percent_change(algo_clust,algo_noClust))"
   ]
  },
  {
   "cell_type": "code",
   "execution_count": 145,
   "metadata": {
    "scrolled": true
   },
   "outputs": [
    {
     "name": "stdout",
     "output_type": "stream",
     "text": [
      "------------\n",
      "percent change compared to MV for metric: precision\n",
      "isobasic :-2.307%\n",
      "worker_fraction :-0.272%\n",
      "GT :-2.121%\n",
      "isoGTLSA :-9.741%\n",
      "basic :0.282%\n",
      "ground_truth :3.978%\n",
      "isoGT :-2.121%\n",
      "GTLSA :-0.105%\n",
      "------------\n",
      "percent change compared to MV for metric: recall\n",
      "isobasic :0.196%\n",
      "worker_fraction :0.900%\n",
      "GT :2.219%\n",
      "isoGTLSA :0.726%\n",
      "basic :0.430%\n",
      "ground_truth :4.167%\n",
      "isoGT :2.219%\n",
      "GTLSA :0.135%\n",
      "------------\n",
      "percent change compared to MV for metric: jaccard\n",
      "isobasic :-1.999%\n",
      "worker_fraction :0.524%\n",
      "GT :-0.102%\n",
      "isoGTLSA :-9.430%\n",
      "basic :0.634%\n",
      "ground_truth :7.938%\n",
      "isoGT :-0.102%\n",
      "GTLSA :0.148%\n",
      "------------\n",
      "percent change compared to MV for metric: FNR%\n",
      "isobasic :-3.596%\n",
      "worker_fraction :-14.767%\n",
      "GT :-36.839%\n",
      "isoGTLSA :-10.644%\n",
      "basic :-7.102%\n",
      "ground_truth :-69.898%\n",
      "isoGT :-36.839%\n",
      "GTLSA :-2.787%\n",
      "------------\n",
      "percent change compared to MV for metric: FPR%\n",
      "isobasic :1539.615%\n",
      "worker_fraction :14.667%\n",
      "GT :44.273%\n",
      "isoGTLSA :5769.529%\n",
      "basic :3.505%\n",
      "ground_truth :-65.190%\n",
      "isoGT :44.273%\n",
      "GTLSA :6.512%\n"
     ]
    }
   ],
   "source": [
    "m2m = {\"precision\":'p','recall':'r', 'jaccard':'j', u'FNR%':'fnr','FPR%':'fpr'}\n",
    "for metric in ['precision', u'recall', u'jaccard', u'FNR%','FPR%']:\n",
    "    print \"------------\"\n",
    "    print \"percent change compared to MV for metric:\",metric\n",
    "    x,MV_noclust,MV_clust=clust_vs_noclust('MV',metric=metric,filtered=False)\n",
    "    for algo in greedyAlgoMap.keys():\n",
    "        algo_noClust = np.array(greedy_noclust[greedy_noclust[\"algo\"]==algo].groupby([\"num_workers\"]).mean()[m2m[metric]])\n",
    "        algo_clust = np.array(greedy_clust[greedy_clust[\"algo\"]==algo].groupby([\"num_workers\"]).mean()[m2m[metric]])\n",
    "        print \"{} :{}\".format(algo,avrg_percent_change(algo_clust,MV_clust))"
   ]
  },
  {
   "cell_type": "code",
   "execution_count": 37,
   "metadata": {},
   "outputs": [
    {
     "name": "stdout",
     "output_type": "stream",
     "text": [
      "When using ground truth to estimate intersection areas, we can achieve a Jaccard of 0.983  as an upper bound with 30 workers, which indicates that with better probablistic estimation of intersection area, aggregation-based methods can achieve close to perfect estimation, exceeding the results of any single `best' worker.\n"
     ]
    }
   ],
   "source": [
    "algo = \"ground_truth\"\n",
    "algo_noClust = np.array(greedy_noclust[greedy_noclust[\"algo\"]==algo].groupby([\"num_workers\"]).mean()[\"j\"])\n",
    "algo_clust = np.array(greedy_clust[greedy_clust[\"algo\"]==algo].groupby([\"num_workers\"]).mean()[\"j\"])\n",
    "\n",
    "print \"When using ground truth to estimate intersection areas, we can achieve a Jaccard of {:.3f}\".format(algo_noClust[-1]) ,\" as an upper bound with 30 workers, which indicates that with better probablistic estimation of intersection area, aggregation-based methods can achieve close to perfect estimation, exceeding the results of any single `best' worker.\""
   ]
  },
  {
   "cell_type": "markdown",
   "metadata": {},
   "source": [
    "# Combined plot"
   ]
  },
  {
   "cell_type": "markdown",
   "metadata": {},
   "source": [
    "__Comparison between Retreival and families of aggregation based methods__"
   ]
  },
  {
   "cell_type": "code",
   "execution_count": 177,
   "metadata": {},
   "outputs": [
    {
     "data": {
      "image/png": "[encoded data removed]",
      "text/plain": [
       "<matplotlib.figure.Figure at 0x7fde66500ed0>"
      ]
     },
     "metadata": {},
     "output_type": "display_data"
    }
   ],
   "source": [
    "x,best_EM_noclust,best_EM_clust=clust_vs_noclust(\"basic\",filtered=False)\n",
    "plt.plot(best_EM_clust,color=\"cyan\",label=\"basic EM\")\n",
    "best_greedy = np.array(greedy_clust[greedy_clust[\"algo\"]==\"basic\"].groupby([\"num_workers\"]).mean()[\"j\"])\n",
    "plt.plot(best_greedy,color=\"red\",label=\"basic greedy\")\n",
    "ground_truth_greedy = np.array(greedy_clust[greedy_clust[\"algo\"]==\"ground_truth\"].groupby([\"num_workers\"]).mean()[\"j\"])\n",
    "plt.plot(ground_truth_greedy,linestyle=\":\",color=\"red\",label=\"best greedy\")\n",
    "NworkerPerformance = cluster_retreival_df.groupby(\"num_workers\").mean()\n",
    "# plt.plot(np.array(NworkerPerformance[\"J [AreaRatio]\"]),color=\"orange\",label=\"AreaRatio\")\n",
    "# plt.plot(np.array(NworkerPerformance[\"J [NumPt]\"]),color=\"purple\",label=\"NumPt\")\n",
    "plt.plot(np.array(NworkerPerformance[\"J [AvrgWorker]\"]),color=\"blue\",label=\"average worker\")\n",
    "plt.plot(np.array(NworkerPerformance[\"J [BestWorker]\"]),linestyle=\":\",color=\"blue\",label=\"best worker\")\n",
    "max_vision_k_thresh = vision.loc[vision.groupby([\"objid\"])['j'].idxmax()].mean()[\"j\"]\n",
    "average_vision = vision.mean()[\"j\"]\n",
    "y = np.ones_like(np.array(NworkerPerformance[algoJ]))\n",
    "plt.plot(y*average_vision,label=\"average vision\",color=\"magenta\")\n",
    "plt.plot(y*max_vision_k_thresh,linestyle=\":\",label=\"best vision\",color=\"magenta\")\n",
    "plt.legend(bbox_to_anchor=(1.04,0.5),loc=\"center left\")    \n",
    "#plt.legend(loc=\"lower left\",fontsize=8)    \n",
    "plt.ylabel(\"Jaccard\")\n",
    "plt.xticks(rotation=50)\n",
    "plt.title(\"Retreival v.s. Aggregation Algorithm Comparison\",fontsize=13)\n",
    "a = gca().set_xticklabels([0,'5 workers','10 workers','15 workers','20 workers','25 workers','30 workers'])\n",
    "plt.savefig(\"Retreival_vs_Aggregation.pdf\")"
   ]
  },
  {
   "cell_type": "markdown",
   "metadata": {},
   "source": [
    "__Effects of Clustering__"
   ]
  },
  {
   "cell_type": "code",
   "execution_count": 190,
   "metadata": {},
   "outputs": [
    {
     "data": {
      "image/png": "[encoded data removed]",
      "text/plain": [
       "<matplotlib.figure.Figure at 0x7fde663c6650>"
      ]
     },
     "metadata": {},
     "output_type": "display_data"
    }
   ],
   "source": [
    "vision = pd.read_csv(\"pixel_em/vision_only_performance.csv\")\n",
    "NworkerPerformance = no_cluster_retreival_df.groupby(\"num_workers\").mean()\n",
    "for algo in retreivalAlgoMap.keys():\n",
    "    algoJ = \"J [{}]\".format(algo)\n",
    "    plt.plot(np.array(NworkerPerformance[algoJ]),label=algo,color=retreivalAlgoMap[algo])\n",
    "\n",
    "NworkerPerformance = cluster_retreival_df.groupby(\"num_workers\").mean()\n",
    "for algo in  retreivalAlgoMap.keys():\n",
    "    algoJ = \"J [{}]\".format(algo)\n",
    "    plt.plot(np.array(NworkerPerformance[algoJ]),linestyle='--',color=retreivalAlgoMap[algo])\n",
    "\n",
    "max_vision_k_thresh = vision.loc[vision.groupby([\"objid\"])['j'].idxmax()].mean()[\"j\"]\n",
    "y = np.ones_like(np.array(NworkerPerformance[algoJ]))\n",
    "plt.plot(y*max_vision_k_thresh,label=\"best vision\",color=\"magenta\")\n",
    "\n",
    "algo=\"basic\"\n",
    "x,algo_noclust,algo_clust=clust_vs_noclust(algo,filtered=False)\n",
    "plt.plot(algo_noclust,label=algo,color = \"cyan\")\n",
    "plt.plot(algo_clust,linestyle=\"--\",color = \"cyan\")\n",
    "\n",
    "best_greedy = np.array(greedy_clust[greedy_clust[\"algo\"]==\"basic\"].groupby([\"num_workers\"]).mean()[\"j\"])\n",
    "plt.plot(best_greedy,color=\"black\",linestyle=\"--\",label=\"basic greedy\")\n",
    "best_noclust_greedy = np.array(greedy_noclust[greedy_noclust[\"algo\"]==\"basic\"].groupby([\"num_workers\"]).mean()[\"j\"])\n",
    "plt.plot(best_noclust_greedy,color=\"black\")\n",
    "\n",
    "plt.legend(bbox_to_anchor=(1.04,0.5),loc=\"center left\")    \n",
    "#plt.legend(loc=\"lower left\",fontsize=8)    \n",
    "plt.ylabel(\"Jaccard\")\n",
    "plt.xticks(rotation=50)\n",
    "plt.title(\"Effects of Clustering\",fontsize=13)\n",
    "a = gca().set_xticklabels([0,'5 workers','10 workers','15 workers','20 workers','25 workers','30 workers'])\n",
    "plt.savefig(\"Effects_of_clustering.pdf\")"
   ]
  },
  {
   "cell_type": "markdown",
   "metadata": {},
   "source": [
    "# Correlation of worker quality with individual worker performance"
   ]
  },
  {
   "cell_type": "code",
   "execution_count": 41,
   "metadata": {},
   "outputs": [
    {
     "name": "stderr",
     "output_type": "stream",
     "text": [
      "                                               \r"
     ]
    }
   ],
   "source": [
    "#qj_df=compute_worker_qualities_against_real_performance()#run once"
   ]
  },
  {
   "cell_type": "code",
   "execution_count": 46,
   "metadata": {
    "collapsed": true
   },
   "outputs": [],
   "source": [
    "from tqdm import tqdm"
   ]
  },
  {
   "cell_type": "code",
   "execution_count": 42,
   "metadata": {
    "collapsed": true
   },
   "outputs": [],
   "source": [
    "qj_df = pd.read_csv(\"EM_worker_qualities_against_real_performance.csv\",index_col=0)\n",
    "qj_df[\"num_workers\"] = qj_df.apply(lambda x: int(x[\"sample\"].split(\"workers\")[0]),axis=1)"
   ]
  },
  {
   "cell_type": "code",
   "execution_count": 43,
   "metadata": {
    "collapsed": true
   },
   "outputs": [],
   "source": [
    "from scipy.stats import linregress\n",
    "def corr_calc(selected_df):\n",
    "    x = np.array(selected_df[\"qj\"])\n",
    "    y = np.array(selected_df[\"Jaccard [Self]\"])\n",
    "    linresult = linregress(x,y)\n",
    "    return linresult.rvalue,linresult.pvalue"
   ]
  },
  {
   "cell_type": "code",
   "execution_count": 44,
   "metadata": {
    "collapsed": true
   },
   "outputs": [],
   "source": [
    "from sklearn import linear_model\n",
    "def compute_multi_regression(selected_df,x_fields,yfields=[\"Precision [Self]\",\"Recall [Self]\",\"Jaccard [Self]\"]):\n",
    "    x = np.array(selected_df[x_fields])\n",
    "    y = np.array(selected_df[yfields])\n",
    "    # Initialize model\n",
    "    regression_model = linear_model.LinearRegression()\n",
    "    regression_model.fit(X = x, y = y)\n",
    "    #print(regression_model.coef_)\n",
    "    return regression_model.score(x,y)"
   ]
  },
  {
   "cell_type": "markdown",
   "metadata": {},
   "source": [
    "GTLSA does poorly because qn1 not a very good estimator, if we look at the coefficients of qn1."
   ]
  },
  {
   "cell_type": "markdown",
   "metadata": {},
   "source": [
    "#### Linear regression with y=[P,R,J] , with clustering "
   ]
  },
  {
   "cell_type": "code",
   "execution_count": 51,
   "metadata": {
    "collapsed": true
   },
   "outputs": [],
   "source": [
    "sample_lst = sample_specs.keys()"
   ]
  },
  {
   "cell_type": "code",
   "execution_count": 52,
   "metadata": {},
   "outputs": [
    {
     "name": "stderr",
     "output_type": "stream",
     "text": [
      "                                               \r"
     ]
    }
   ],
   "source": [
    "obj_clusters = clusters()\n",
    "df_data = []\n",
    "for sample_name in tqdm(sample_lst):\n",
    "    for objid in object_lst:\n",
    "        if str(objid) in obj_clusters[sample_name]:\n",
    "            clusts = [obj_clusters[sample_name][str(objid)]]\n",
    "        else:\n",
    "            clusts = [\"-1\"]\n",
    "        for cluster_id in clusts:\n",
    "            worker_ids = np.array(clust_df[(clust_df[\"objid\"] == objid) & (clust_df[\"cluster\"] == int(cluster_id))].wid)\n",
    "            if len(worker_ids) > 1 or cluster_id == \"-1\":\n",
    "#                 if cluster_id!=\"\" and cluster_id!=\"-1\"  :\n",
    "#                     outdir = '{}{}/obj{}/clust{}/'.format(PIXEL_EM_DIR, sample_name, objid,cluster_id)\n",
    "#                 else:\n",
    "#                     outdir = '{}{}/obj{}/'.format(PIXEL_EM_DIR, sample_name, objid)\n",
    "                selected_df = qj_df[(qj_df[\"sample\"]==sample_name)&(qj_df[\"objid\"]==objid)&(qj_df[\"clust\"]==int(cluster_id))]\n",
    "                if len(selected_df)>1: #only best clusters were ran, so ignore ones where no qj-df (non best clusters) was computed\n",
    "                    #r,p = corr_calc(selected_df)\n",
    "                    basic_R2 = compute_multi_regression(selected_df,[\"qj\"])\n",
    "                    GT_R2 = compute_multi_regression(selected_df,[\"qn\",\"qp\"])\n",
    "                    GTLSA_R2 =compute_multi_regression(selected_df,[\"qn1\",\"qp1\",\"qn2\",\"qp2\"])\n",
    "                    ibasic_R2 = compute_multi_regression(selected_df,[\"iqj\"])\n",
    "                    iGT_R2 = compute_multi_regression(selected_df,[\"iqn\",\"iqp\"])\n",
    "                    iGTLSA_R2 =compute_multi_regression(selected_df,[\"iqn1\",\"iqp1\",\"iqn2\",\"iqp2\"])\n",
    "                    df_data.append([sample_name,objid,cluster_id,basic_R2,GT_R2,GTLSA_R2,ibasic_R2,iGT_R2,iGTLSA_R2])"
   ]
  },
  {
   "cell_type": "code",
   "execution_count": 53,
   "metadata": {},
   "outputs": [
    {
     "data": {
      "text/html": [
       "<div>\n",
       "<table border=\"1\" class=\"dataframe\">\n",
       "  <thead>\n",
       "    <tr style=\"text-align: right;\">\n",
       "      <th></th>\n",
       "      <th>num_workers</th>\n",
       "      <th>basic_R2</th>\n",
       "      <th>GT_R2</th>\n",
       "      <th>GTLSA_R2</th>\n",
       "      <th>ibasic_R2</th>\n",
       "      <th>iGT_R2</th>\n",
       "      <th>iGTLSA_R2</th>\n",
       "    </tr>\n",
       "  </thead>\n",
       "  <tbody>\n",
       "    <tr>\n",
       "      <th>0</th>\n",
       "      <td>5</td>\n",
       "      <td>0.575266</td>\n",
       "      <td>0.901452</td>\n",
       "      <td>0.896061</td>\n",
       "      <td>0.548344</td>\n",
       "      <td>0.901452</td>\n",
       "      <td>0.898049</td>\n",
       "    </tr>\n",
       "    <tr>\n",
       "      <th>1</th>\n",
       "      <td>10</td>\n",
       "      <td>0.568481</td>\n",
       "      <td>0.877450</td>\n",
       "      <td>0.883568</td>\n",
       "      <td>0.562938</td>\n",
       "      <td>0.877450</td>\n",
       "      <td>0.884157</td>\n",
       "    </tr>\n",
       "    <tr>\n",
       "      <th>2</th>\n",
       "      <td>15</td>\n",
       "      <td>0.547350</td>\n",
       "      <td>0.877485</td>\n",
       "      <td>0.877373</td>\n",
       "      <td>0.542371</td>\n",
       "      <td>0.877485</td>\n",
       "      <td>0.876928</td>\n",
       "    </tr>\n",
       "    <tr>\n",
       "      <th>3</th>\n",
       "      <td>20</td>\n",
       "      <td>0.589880</td>\n",
       "      <td>0.879940</td>\n",
       "      <td>0.884779</td>\n",
       "      <td>0.588206</td>\n",
       "      <td>0.879940</td>\n",
       "      <td>0.884320</td>\n",
       "    </tr>\n",
       "    <tr>\n",
       "      <th>4</th>\n",
       "      <td>25</td>\n",
       "      <td>0.584887</td>\n",
       "      <td>0.875037</td>\n",
       "      <td>0.882830</td>\n",
       "      <td>0.587338</td>\n",
       "      <td>0.875037</td>\n",
       "      <td>0.882210</td>\n",
       "    </tr>\n",
       "    <tr>\n",
       "      <th>5</th>\n",
       "      <td>30</td>\n",
       "      <td>0.598830</td>\n",
       "      <td>0.887627</td>\n",
       "      <td>0.895025</td>\n",
       "      <td>0.599246</td>\n",
       "      <td>0.887627</td>\n",
       "      <td>0.894137</td>\n",
       "    </tr>\n",
       "  </tbody>\n",
       "</table>\n",
       "</div>"
      ],
      "text/plain": [
       "   num_workers  basic_R2     GT_R2  GTLSA_R2  ibasic_R2    iGT_R2  iGTLSA_R2\n",
       "0            5  0.575266  0.901452  0.896061   0.548344  0.901452   0.898049\n",
       "1           10  0.568481  0.877450  0.883568   0.562938  0.877450   0.884157\n",
       "2           15  0.547350  0.877485  0.877373   0.542371  0.877485   0.876928\n",
       "3           20  0.589880  0.879940  0.884779   0.588206  0.879940   0.884320\n",
       "4           25  0.584887  0.875037  0.882830   0.587338  0.875037   0.882210\n",
       "5           30  0.598830  0.887627  0.895025   0.599246  0.887627   0.894137"
      ]
     },
     "execution_count": 53,
     "metadata": {},
     "output_type": "execute_result"
    }
   ],
   "source": [
    "qj_fit = pd.DataFrame(df_data,columns=[\"sample\",\"objid\",\"clust\",\"basic_R2\",\"GT_R2\",\"GTLSA_R2\",\"ibasic_R2\",\"iGT_R2\",\"iGTLSA_R2\"])\n",
    "qj_fit[\"num_workers\"]=qj_fit[\"sample\"].apply(lambda x: int(x.split(\"workers\")[0]))\n",
    "qj_fit.groupby(\"num_workers\",as_index=False).mean()[[\"num_workers\",'basic_R2', u'GT_R2', u'GTLSA_R2','ibasic_R2', u'iGT_R2', u'iGTLSA_R2']]"
   ]
  },
  {
   "cell_type": "markdown",
   "metadata": {},
   "source": [
    "correlation score is actually lower than in the clustering case, this means: \n",
    "\n",
    "       1) worker quality actually predicts p,r,j well in the no clustering case\n",
    "       2) could also be because the actual N workers is smaller than the reported num_workers in sample, so don't fit as well"
   ]
  },
  {
   "cell_type": "markdown",
   "metadata": {},
   "source": [
    "#### Linear regression with y=[P,R,J] , no clustering "
   ]
  },
  {
   "cell_type": "code",
   "execution_count": 54,
   "metadata": {},
   "outputs": [
    {
     "name": "stderr",
     "output_type": "stream",
     "text": [
      "                                               \r"
     ]
    }
   ],
   "source": [
    "qj_df_no_clust = qj_df[qj_df[\"clust\"]==-1]\n",
    "df_data = []\n",
    "for sample_name in tqdm(sample_lst):\n",
    "    for objid in object_lst:\n",
    "        cluster_ids = clust_df[(clust_df[\"objid\"] == objid)].cluster.unique()\n",
    "        for cluster_id in [\"-1\"] + list(cluster_ids):\n",
    "            worker_ids = np.array(clust_df[(clust_df[\"objid\"] == objid) & (clust_df[\"cluster\"] == int(cluster_id))].wid)\n",
    "            if len(worker_ids) > 1 or cluster_id == \"-1\":\n",
    "#                 if cluster_id!=\"\" and cluster_id!=\"-1\"  :\n",
    "#                     outdir = '{}{}/obj{}/clust{}/'.format(PIXEL_EM_DIR, sample_name, objid,cluster_id)\n",
    "#                 else:\n",
    "#                     outdir = '{}{}/obj{}/'.format(PIXEL_EM_DIR, sample_name, objid)\n",
    "                selected_df = qj_df_no_clust[(qj_df_no_clust[\"sample\"]==sample_name)&(qj_df_no_clust[\"objid\"]==objid)&(qj_df_no_clust[\"clust\"]==int(cluster_id))]\n",
    "                if len(selected_df)>1: #only best clusters were ran, so ignore ones where no qj-df (non best clusters) was computed\n",
    "                    #r,p = corr_calc(selected_df)\n",
    "                    basic_R2 = compute_multi_regression(selected_df,[\"qj\"])\n",
    "                    GT_R2 = compute_multi_regression(selected_df,[\"qn\",\"qp\"])\n",
    "                    GTLSA_R2 =compute_multi_regression(selected_df,[\"qn1\",\"qp1\",\"qn2\",\"qp2\"])\n",
    "                    ibasic_R2 = compute_multi_regression(selected_df,[\"iqj\"])\n",
    "                    iGT_R2 = compute_multi_regression(selected_df,[\"iqn\",\"iqp\"])\n",
    "                    iGTLSA_R2 =compute_multi_regression(selected_df,[\"iqn1\",\"iqp1\",\"iqn2\",\"iqp2\"])\n",
    "                    df_data.append([sample_name,objid,cluster_id,basic_R2,GT_R2,GTLSA_R2,ibasic_R2,iGT_R2,iGTLSA_R2])"
   ]
  },
  {
   "cell_type": "code",
   "execution_count": 55,
   "metadata": {},
   "outputs": [
    {
     "data": {
      "text/html": [
       "<div>\n",
       "<table border=\"1\" class=\"dataframe\">\n",
       "  <thead>\n",
       "    <tr style=\"text-align: right;\">\n",
       "      <th></th>\n",
       "      <th>num_workers</th>\n",
       "      <th>basic_R2</th>\n",
       "      <th>GT_R2</th>\n",
       "      <th>GTLSA_R2</th>\n",
       "      <th>ibasic_R2</th>\n",
       "      <th>iGT_R2</th>\n",
       "      <th>iGTLSA_R2</th>\n",
       "    </tr>\n",
       "  </thead>\n",
       "  <tbody>\n",
       "    <tr>\n",
       "      <th>0</th>\n",
       "      <td>5</td>\n",
       "      <td>0.601423</td>\n",
       "      <td>0.906507</td>\n",
       "      <td>0.901074</td>\n",
       "      <td>0.576422</td>\n",
       "      <td>0.906507</td>\n",
       "      <td>0.904183</td>\n",
       "    </tr>\n",
       "    <tr>\n",
       "      <th>1</th>\n",
       "      <td>10</td>\n",
       "      <td>0.631618</td>\n",
       "      <td>0.894844</td>\n",
       "      <td>0.898587</td>\n",
       "      <td>0.633403</td>\n",
       "      <td>0.894844</td>\n",
       "      <td>0.898247</td>\n",
       "    </tr>\n",
       "    <tr>\n",
       "      <th>2</th>\n",
       "      <td>15</td>\n",
       "      <td>0.622339</td>\n",
       "      <td>0.897328</td>\n",
       "      <td>0.897985</td>\n",
       "      <td>0.622230</td>\n",
       "      <td>0.897328</td>\n",
       "      <td>0.896915</td>\n",
       "    </tr>\n",
       "    <tr>\n",
       "      <th>3</th>\n",
       "      <td>20</td>\n",
       "      <td>0.635873</td>\n",
       "      <td>0.894261</td>\n",
       "      <td>0.898608</td>\n",
       "      <td>0.637474</td>\n",
       "      <td>0.894261</td>\n",
       "      <td>0.897907</td>\n",
       "    </tr>\n",
       "    <tr>\n",
       "      <th>4</th>\n",
       "      <td>25</td>\n",
       "      <td>0.660482</td>\n",
       "      <td>0.900527</td>\n",
       "      <td>0.905311</td>\n",
       "      <td>0.661404</td>\n",
       "      <td>0.900527</td>\n",
       "      <td>0.904078</td>\n",
       "    </tr>\n",
       "    <tr>\n",
       "      <th>5</th>\n",
       "      <td>30</td>\n",
       "      <td>0.672567</td>\n",
       "      <td>0.906679</td>\n",
       "      <td>0.913740</td>\n",
       "      <td>0.675599</td>\n",
       "      <td>0.906679</td>\n",
       "      <td>0.912807</td>\n",
       "    </tr>\n",
       "  </tbody>\n",
       "</table>\n",
       "</div>"
      ],
      "text/plain": [
       "   num_workers  basic_R2     GT_R2  GTLSA_R2  ibasic_R2    iGT_R2  iGTLSA_R2\n",
       "0            5  0.601423  0.906507  0.901074   0.576422  0.906507   0.904183\n",
       "1           10  0.631618  0.894844  0.898587   0.633403  0.894844   0.898247\n",
       "2           15  0.622339  0.897328  0.897985   0.622230  0.897328   0.896915\n",
       "3           20  0.635873  0.894261  0.898608   0.637474  0.894261   0.897907\n",
       "4           25  0.660482  0.900527  0.905311   0.661404  0.900527   0.904078\n",
       "5           30  0.672567  0.906679  0.913740   0.675599  0.906679   0.912807"
      ]
     },
     "execution_count": 55,
     "metadata": {},
     "output_type": "execute_result"
    }
   ],
   "source": [
    "qj_fit = pd.DataFrame(df_data,columns=[\"sample\",\"objid\",\"clust\",\"basic_R2\",\"GT_R2\",\"GTLSA_R2\",\"ibasic_R2\",\"iGT_R2\",\"iGTLSA_R2\"])\n",
    "qj_fit[\"num_workers\"]=qj_fit[\"sample\"].apply(lambda x: int(x.split(\"workers\")[0]))\n",
    "qj_fit.groupby(\"num_workers\",as_index=False).mean()[[\"num_workers\",'basic_R2', u'GT_R2', u'GTLSA_R2','ibasic_R2', u'iGT_R2', u'iGTLSA_R2']]"
   ]
  },
  {
   "cell_type": "markdown",
   "metadata": {},
   "source": [
    "#### Linear regression with y=[P,R,J] , overall "
   ]
  },
  {
   "cell_type": "code",
   "execution_count": 56,
   "metadata": {},
   "outputs": [
    {
     "name": "stderr",
     "output_type": "stream",
     "text": [
      "                                               \r"
     ]
    }
   ],
   "source": [
    "df_data = []\n",
    "for sample_name in tqdm(sample_lst):\n",
    "    for objid in object_lst:\n",
    "        cluster_ids = clust_df[(clust_df[\"objid\"] == objid)].cluster.unique()\n",
    "        for cluster_id in [\"-1\"] + list(cluster_ids):\n",
    "            worker_ids = np.array(clust_df[(clust_df[\"objid\"] == objid) & (clust_df[\"cluster\"] == int(cluster_id))].wid)\n",
    "            if len(worker_ids) > 1 or cluster_id == \"-1\":\n",
    "#                 if cluster_id!=\"\" and cluster_id!=\"-1\"  :\n",
    "#                     outdir = '{}{}/obj{}/clust{}/'.format(PIXEL_EM_DIR, sample_name, objid,cluster_id)\n",
    "#                 else:\n",
    "#                     outdir = '{}{}/obj{}/'.format(PIXEL_EM_DIR, sample_name, objid)\n",
    "                selected_df = qj_df[(qj_df[\"sample\"]==sample_name)&(qj_df[\"objid\"]==objid)&(qj_df[\"clust\"]==int(cluster_id))]\n",
    "                if len(selected_df)>1: #only best clusters were ran, so ignore ones where no qj-df (non best clusters) was computed\n",
    "                    #r,p = corr_calc(selected_df)\n",
    "                    basic_R2 = compute_multi_regression(selected_df,[\"qj\"])\n",
    "                    GT_R2 = compute_multi_regression(selected_df,[\"qn\",\"qp\"])\n",
    "                    GTLSA_R2 =compute_multi_regression(selected_df,[\"qn1\",\"qp1\",\"qn2\",\"qp2\"])\n",
    "                    ibasic_R2 = compute_multi_regression(selected_df,[\"iqj\"])\n",
    "                    iGT_R2 = compute_multi_regression(selected_df,[\"iqn\",\"iqp\"])\n",
    "                    iGTLSA_R2 =compute_multi_regression(selected_df,[\"iqn1\",\"iqp1\",\"iqn2\",\"iqp2\"])\n",
    "                    df_data.append([sample_name,objid,cluster_id,basic_R2,GT_R2,GTLSA_R2,ibasic_R2,iGT_R2,iGTLSA_R2])"
   ]
  },
  {
   "cell_type": "code",
   "execution_count": 57,
   "metadata": {},
   "outputs": [
    {
     "data": {
      "text/html": [
       "<div>\n",
       "<table border=\"1\" class=\"dataframe\">\n",
       "  <thead>\n",
       "    <tr style=\"text-align: right;\">\n",
       "      <th></th>\n",
       "      <th>num_workers</th>\n",
       "      <th>basic_R2</th>\n",
       "      <th>GT_R2</th>\n",
       "      <th>GTLSA_R2</th>\n",
       "      <th>ibasic_R2</th>\n",
       "      <th>iGT_R2</th>\n",
       "      <th>iGTLSA_R2</th>\n",
       "    </tr>\n",
       "  </thead>\n",
       "  <tbody>\n",
       "    <tr>\n",
       "      <th>0</th>\n",
       "      <td>5</td>\n",
       "      <td>0.630526</td>\n",
       "      <td>0.919880</td>\n",
       "      <td>0.915480</td>\n",
       "      <td>0.606226</td>\n",
       "      <td>0.919880</td>\n",
       "      <td>0.919068</td>\n",
       "    </tr>\n",
       "    <tr>\n",
       "      <th>1</th>\n",
       "      <td>10</td>\n",
       "      <td>0.627047</td>\n",
       "      <td>0.900064</td>\n",
       "      <td>0.904288</td>\n",
       "      <td>0.621105</td>\n",
       "      <td>0.900064</td>\n",
       "      <td>0.904813</td>\n",
       "    </tr>\n",
       "    <tr>\n",
       "      <th>2</th>\n",
       "      <td>15</td>\n",
       "      <td>0.603264</td>\n",
       "      <td>0.896041</td>\n",
       "      <td>0.897668</td>\n",
       "      <td>0.598128</td>\n",
       "      <td>0.896041</td>\n",
       "      <td>0.897105</td>\n",
       "    </tr>\n",
       "    <tr>\n",
       "      <th>3</th>\n",
       "      <td>20</td>\n",
       "      <td>0.624533</td>\n",
       "      <td>0.896901</td>\n",
       "      <td>0.900600</td>\n",
       "      <td>0.627958</td>\n",
       "      <td>0.896901</td>\n",
       "      <td>0.901548</td>\n",
       "    </tr>\n",
       "    <tr>\n",
       "      <th>4</th>\n",
       "      <td>25</td>\n",
       "      <td>0.643451</td>\n",
       "      <td>0.899750</td>\n",
       "      <td>0.906443</td>\n",
       "      <td>0.641463</td>\n",
       "      <td>0.899750</td>\n",
       "      <td>0.907013</td>\n",
       "    </tr>\n",
       "    <tr>\n",
       "      <th>5</th>\n",
       "      <td>30</td>\n",
       "      <td>0.654717</td>\n",
       "      <td>0.912225</td>\n",
       "      <td>0.918863</td>\n",
       "      <td>0.662026</td>\n",
       "      <td>0.912225</td>\n",
       "      <td>0.918451</td>\n",
       "    </tr>\n",
       "  </tbody>\n",
       "</table>\n",
       "</div>"
      ],
      "text/plain": [
       "   num_workers  basic_R2     GT_R2  GTLSA_R2  ibasic_R2    iGT_R2  iGTLSA_R2\n",
       "0            5  0.630526  0.919880  0.915480   0.606226  0.919880   0.919068\n",
       "1           10  0.627047  0.900064  0.904288   0.621105  0.900064   0.904813\n",
       "2           15  0.603264  0.896041  0.897668   0.598128  0.896041   0.897105\n",
       "3           20  0.624533  0.896901  0.900600   0.627958  0.896901   0.901548\n",
       "4           25  0.643451  0.899750  0.906443   0.641463  0.899750   0.907013\n",
       "5           30  0.654717  0.912225  0.918863   0.662026  0.912225   0.918451"
      ]
     },
     "execution_count": 57,
     "metadata": {},
     "output_type": "execute_result"
    }
   ],
   "source": [
    "qj_fit = pd.DataFrame(df_data,columns=[\"sample\",\"objid\",\"clust\",\"basic_R2\",\"GT_R2\",\"GTLSA_R2\",\"ibasic_R2\",\"iGT_R2\",\"iGTLSA_R2\"])\n",
    "qj_fit[\"num_workers\"]=qj_fit[\"sample\"].apply(lambda x: int(x.split(\"workers\")[0]))\n",
    "qj_fit.groupby(\"num_workers\",as_index=False).mean()[[\"num_workers\",'basic_R2', u'GT_R2', u'GTLSA_R2','ibasic_R2', u'iGT_R2', u'iGTLSA_R2']]"
   ]
  },
  {
   "cell_type": "markdown",
   "metadata": {},
   "source": [
    "#### Linear regression with y=jaccard only"
   ]
  },
  {
   "cell_type": "code",
   "execution_count": 58,
   "metadata": {},
   "outputs": [
    {
     "name": "stderr",
     "output_type": "stream",
     "text": [
      "                                               \r"
     ]
    }
   ],
   "source": [
    "df_data = []\n",
    "for sample_name in tqdm(sample_lst):\n",
    "    for objid in object_lst:\n",
    "        cluster_ids = clust_df[(clust_df[\"objid\"] == objid)].cluster.unique()\n",
    "        for cluster_id in [\"-1\"] + list(cluster_ids):\n",
    "            worker_ids = np.array(clust_df[(clust_df[\"objid\"] == objid) & (clust_df[\"cluster\"] == int(cluster_id))].wid)\n",
    "            if len(worker_ids) > 1 or cluster_id == \"-1\":\n",
    "#                 if cluster_id!=\"\" and cluster_id!=\"-1\"  :\n",
    "#                     outdir = '{}{}/obj{}/clust{}/'.format(PIXEL_EM_DIR, sample_name, objid,cluster_id)\n",
    "#                 else:\n",
    "#                     outdir = '{}{}/obj{}/'.format(PIXEL_EM_DIR, sample_name, objid)\n",
    "                selected_df = qj_df[(qj_df[\"sample\"]==sample_name)&(qj_df[\"objid\"]==objid)&(qj_df[\"clust\"]==int(cluster_id))]\n",
    "                if len(selected_df)>1: #only best clusters were ran, so ignore ones where no qj-df (non best clusters) was computed\n",
    "                    #r,p = corr_calc(selected_df)\n",
    "                    basic_R2 = compute_multi_regression(selected_df,[\"qj\"],[\"Jaccard [Self]\"])\n",
    "                    GT_R2 = compute_multi_regression(selected_df,[\"qn\",\"qp\"],[\"Jaccard [Self]\"])\n",
    "                    GTLSA_R2 =compute_multi_regression(selected_df,[\"qn1\",\"qp1\",\"qn2\",\"qp2\"],[\"Jaccard [Self]\"])\n",
    "                    ibasic_R2 = compute_multi_regression(selected_df,[\"iqj\"],[\"Jaccard [Self]\"])\n",
    "                    iGT_R2 = compute_multi_regression(selected_df,[\"iqn\",\"iqp\"],[\"Jaccard [Self]\"])\n",
    "                    iGTLSA_R2 =compute_multi_regression(selected_df,[\"iqn1\",\"iqp1\",\"iqn2\",\"iqp2\"],[\"Jaccard [Self]\"])\n",
    "                    df_data.append([sample_name,objid,cluster_id,basic_R2,GT_R2,GTLSA_R2,ibasic_R2,iGT_R2,iGTLSA_R2])"
   ]
  },
  {
   "cell_type": "code",
   "execution_count": 59,
   "metadata": {},
   "outputs": [
    {
     "data": {
      "text/html": [
       "<div>\n",
       "<table border=\"1\" class=\"dataframe\">\n",
       "  <thead>\n",
       "    <tr style=\"text-align: right;\">\n",
       "      <th></th>\n",
       "      <th>num_workers</th>\n",
       "      <th>basic_R2</th>\n",
       "      <th>GT_R2</th>\n",
       "      <th>GTLSA_R2</th>\n",
       "      <th>ibasic_R2</th>\n",
       "      <th>iGT_R2</th>\n",
       "      <th>iGTLSA_R2</th>\n",
       "    </tr>\n",
       "  </thead>\n",
       "  <tbody>\n",
       "    <tr>\n",
       "      <th>0</th>\n",
       "      <td>5</td>\n",
       "      <td>0.660318</td>\n",
       "      <td>0.844492</td>\n",
       "      <td>0.837488</td>\n",
       "      <td>0.644129</td>\n",
       "      <td>0.844492</td>\n",
       "      <td>0.844324</td>\n",
       "    </tr>\n",
       "    <tr>\n",
       "      <th>1</th>\n",
       "      <td>10</td>\n",
       "      <td>0.682204</td>\n",
       "      <td>0.820955</td>\n",
       "      <td>0.828017</td>\n",
       "      <td>0.687377</td>\n",
       "      <td>0.820955</td>\n",
       "      <td>0.828748</td>\n",
       "    </tr>\n",
       "    <tr>\n",
       "      <th>2</th>\n",
       "      <td>15</td>\n",
       "      <td>0.683278</td>\n",
       "      <td>0.813650</td>\n",
       "      <td>0.814944</td>\n",
       "      <td>0.679045</td>\n",
       "      <td>0.813650</td>\n",
       "      <td>0.814229</td>\n",
       "    </tr>\n",
       "    <tr>\n",
       "      <th>3</th>\n",
       "      <td>20</td>\n",
       "      <td>0.704074</td>\n",
       "      <td>0.833764</td>\n",
       "      <td>0.837971</td>\n",
       "      <td>0.710381</td>\n",
       "      <td>0.833764</td>\n",
       "      <td>0.838822</td>\n",
       "    </tr>\n",
       "    <tr>\n",
       "      <th>4</th>\n",
       "      <td>25</td>\n",
       "      <td>0.733117</td>\n",
       "      <td>0.846328</td>\n",
       "      <td>0.852557</td>\n",
       "      <td>0.731658</td>\n",
       "      <td>0.846328</td>\n",
       "      <td>0.852507</td>\n",
       "    </tr>\n",
       "    <tr>\n",
       "      <th>5</th>\n",
       "      <td>30</td>\n",
       "      <td>0.742690</td>\n",
       "      <td>0.858385</td>\n",
       "      <td>0.866650</td>\n",
       "      <td>0.748829</td>\n",
       "      <td>0.858385</td>\n",
       "      <td>0.866185</td>\n",
       "    </tr>\n",
       "  </tbody>\n",
       "</table>\n",
       "</div>"
      ],
      "text/plain": [
       "   num_workers  basic_R2     GT_R2  GTLSA_R2  ibasic_R2    iGT_R2  iGTLSA_R2\n",
       "0            5  0.660318  0.844492  0.837488   0.644129  0.844492   0.844324\n",
       "1           10  0.682204  0.820955  0.828017   0.687377  0.820955   0.828748\n",
       "2           15  0.683278  0.813650  0.814944   0.679045  0.813650   0.814229\n",
       "3           20  0.704074  0.833764  0.837971   0.710381  0.833764   0.838822\n",
       "4           25  0.733117  0.846328  0.852557   0.731658  0.846328   0.852507\n",
       "5           30  0.742690  0.858385  0.866650   0.748829  0.858385   0.866185"
      ]
     },
     "execution_count": 59,
     "metadata": {},
     "output_type": "execute_result"
    }
   ],
   "source": [
    "qj_fit = pd.DataFrame(df_data,columns=[\"sample\",\"objid\",\"clust\",\"basic_R2\",\"GT_R2\",\"GTLSA_R2\",\"ibasic_R2\",\"iGT_R2\",\"iGTLSA_R2\"])\n",
    "qj_fit[\"num_workers\"]=qj_fit[\"sample\"].apply(lambda x: int(x.split(\"workers\")[0]))\n",
    "qj_fit.groupby(\"num_workers\",as_index=False).mean()[[\"num_workers\",'basic_R2', u'GT_R2', u'GTLSA_R2','ibasic_R2', u'iGT_R2', u'iGTLSA_R2']]"
   ]
  },
  {
   "cell_type": "code",
   "execution_count": 60,
   "metadata": {
    "collapsed": true
   },
   "outputs": [],
   "source": [
    "# qj_fit[qj_fit[\"clust\"]=='-1'].groupby(\"num_workers\").mean()[\"R\"]\n",
    "# qj_fit[qj_fit[\"clust\"]=='-1'].groupby(\"num_workers\").mean()[\"p\"]\n",
    "# qj_fit[qj_fit[\"clust\"]=='-1'].groupby(\"num_workers\").mean()[\"p\"]/len(qj_fit) #with Bonferonni correction\n",
    "#-2*sum(np.log(qj_fit[\"p\"])) #fisher's method normalization"
   ]
  },
  {
   "cell_type": "code",
   "execution_count": 61,
   "metadata": {
    "collapsed": true,
    "scrolled": true
   },
   "outputs": [],
   "source": [
    "# for objid in object_lst:\n",
    "#     selected_df = qj_df[(qj_df[\"sample\"]==\"30workers_rand0\")&(qj_df[\"objid\"]==objid)&(qj_df[\"clust\"]==-1)]\n",
    "#     plt.figure()\n",
    "#     plt.title(objid)\n",
    "#     x = np.array(selected_df[\"qj\"])\n",
    "#     y = np.array(selected_df[\"Jaccard [Self]\"])\n",
    "#     linresult = linregress(x,y)\n",
    "#     plt.plot(x,y,'o')\n",
    "#     plt.plot(x,linresult.slope*x+linresult.intercept,'-')\n",
    "#     plt.text(min(x),max(y),\"R={:.2f}; p={:.2e}\".format(linresult.rvalue,linresult.pvalue))\n",
    "#     plt.xlabel(\"Worker quality qj\")\n",
    "#     plt.ylabel(\"Jaccard\")\n",
    "#     # plt.xlim(0.95,1)"
   ]
  },
  {
   "cell_type": "markdown",
   "metadata": {
    "collapsed": true
   },
   "source": [
    "# GT-estimation by picking best worker based on worker quality."
   ]
  },
  {
   "cell_type": "code",
   "execution_count": 62,
   "metadata": {
    "collapsed": true
   },
   "outputs": [],
   "source": [
    "qj_df = pd.read_csv(\"EM_worker_qualities_against_real_performance.csv\",index_col=0)\n",
    "qj_df[\"num_workers\"] = qj_df.apply(lambda x: int(x[\"sample\"].split(\"workers\")[0]),axis=1)"
   ]
  },
  {
   "cell_type": "markdown",
   "metadata": {},
   "source": [
    "__Pick by Sorting__"
   ]
  },
  {
   "cell_type": "code",
   "execution_count": 63,
   "metadata": {
    "collapsed": true
   },
   "outputs": [],
   "source": [
    "best_basic_worker=qj_df.loc[qj_df.groupby([\"sample\",\"objid\"])[\"qj\"].idxmax()]\n",
    "assert len(best_basic_worker)==31*46"
   ]
  },
  {
   "cell_type": "code",
   "execution_count": 64,
   "metadata": {},
   "outputs": [
    {
     "data": {
      "text/plain": [
       "num_workers\n",
       "5     0.791899\n",
       "10    0.751593\n",
       "15    0.756736\n",
       "20    0.748013\n",
       "25    0.722146\n",
       "30    0.777821\n",
       "Name: Jaccard [Self], dtype: float64"
      ]
     },
     "execution_count": 64,
     "metadata": {},
     "output_type": "execute_result"
    }
   ],
   "source": [
    "best_basic_worker.groupby(\"num_workers\").mean()[\"Jaccard [Self]\"]"
   ]
  },
  {
   "cell_type": "code",
   "execution_count": 65,
   "metadata": {},
   "outputs": [
    {
     "data": {
      "text/plain": [
       "num_workers\n",
       "5     0.772541\n",
       "10    0.726270\n",
       "15    0.716735\n",
       "20    0.708912\n",
       "25    0.715807\n",
       "30    0.750491\n",
       "Name: Jaccard [Self], dtype: float64"
      ]
     },
     "execution_count": 65,
     "metadata": {},
     "output_type": "execute_result"
    }
   ],
   "source": [
    "qj_df[\"GT_qjsum\"] = qj_df.apply(lambda x: x[\"qp\"]+x[\"qn\"],axis=1)\n",
    "best_GT_worker=qj_df.loc[qj_df.groupby([\"sample\",\"objid\"])[\"GT_qjsum\"].idxmax()]\n",
    "assert len(best_GT_worker)==31*46\n",
    "best_GT_worker.groupby(\"num_workers\").mean()[\"Jaccard [Self]\"]"
   ]
  },
  {
   "cell_type": "code",
   "execution_count": 66,
   "metadata": {},
   "outputs": [
    {
     "data": {
      "text/plain": [
       "num_workers\n",
       "5     0.845210\n",
       "10    0.825366\n",
       "15    0.808331\n",
       "20    0.796336\n",
       "25    0.805057\n",
       "30    0.803403\n",
       "Name: Jaccard [Self], dtype: float64"
      ]
     },
     "execution_count": 66,
     "metadata": {},
     "output_type": "execute_result"
    }
   ],
   "source": [
    "qj_df[\"GTLSA_qjsum\"] = qj_df.apply(lambda x: x[\"qp1\"]+x[\"qn1\"]+x[\"qn2\"]+x[\"qp1\"],axis=1)\n",
    "best_GTLSA_worker=qj_df.loc[qj_df.groupby([\"sample\",\"objid\"])[\"GTLSA_qjsum\"].idxmax()]\n",
    "assert len(best_GTLSA_worker)==31*46\n",
    "best_GTLSA_worker.groupby(\"num_workers\").mean()[\"Jaccard [Self]\"]"
   ]
  },
  {
   "cell_type": "markdown",
   "metadata": {},
   "source": [
    "__Pick by Linear Regression__"
   ]
  },
  {
   "cell_type": "code",
   "execution_count": 67,
   "metadata": {},
   "outputs": [
    {
     "name": "stderr",
     "output_type": "stream",
     "text": [
      "                                               \r"
     ]
    }
   ],
   "source": [
    "x_fields = ['qj']\n",
    "y_fields = ['Precision [Self]', 'Recall [Self]', 'Jaccard [Self]']\n",
    "df_data = []\n",
    "for sample_name in tqdm(sample_lst):\n",
    "    for objid in object_lst:\n",
    "        selected_df =qj_df[qj_df[\"objid\"]==objid]\n",
    "        x = np.array(selected_df[x_fields])\n",
    "        y = np.array(selected_df[y_fields])\n",
    "        regression_model = linear_model.LinearRegression()\n",
    "        regression_model.fit(X = x, y = y)\n",
    "        \n",
    "        cluster_ids = clust_df[(clust_df[\"objid\"] == objid)].cluster.unique()\n",
    "        for cluster_id in [\"-1\"] + list(cluster_ids):\n",
    "            worker_ids = np.array(clust_df[(clust_df[\"objid\"] == objid) & (clust_df[\"cluster\"] == int(cluster_id))].wid)\n",
    "            if len(worker_ids) > 1 or cluster_id == \"-1\":\n",
    "                selected_df = qj_df[(qj_df[\"sample\"]==sample_name)&(qj_df[\"objid\"]==objid)&(qj_df[\"clust\"]==int(cluster_id))]\n",
    "                if len(selected_df)>1: #only best clusters were ran, so ignore ones where no qj-df (non best clusters) was computed\n",
    "                    for row in selected_df.iterrows():\n",
    "                        pred_p,pred_r,pred_j = regression_model.predict(row[1][\"qj\"])[0]\n",
    "                        df_data.append([sample_name,objid,row[1][\"qj\"],cluster_id,pred_p,pred_r,pred_j])                        "
   ]
  },
  {
   "cell_type": "code",
   "execution_count": 68,
   "metadata": {
    "collapsed": true
   },
   "outputs": [],
   "source": [
    "qj_predicted = pd.DataFrame(df_data,columns=[\"sample\",\"objid\",\"qj\",\"clust\",\"p\",\"r\",\"j\"])\n",
    "qj_predicted[\"num_workers\"]=qj_predicted[\"sample\"].apply(lambda x: int(x.split(\"workers\")[0]))"
   ]
  },
  {
   "cell_type": "code",
   "execution_count": 69,
   "metadata": {},
   "outputs": [
    {
     "data": {
      "text/plain": [
       "<matplotlib.legend.Legend at 0x7fdea466dc90>"
      ]
     },
     "execution_count": 69,
     "metadata": {},
     "output_type": "execute_result"
    },
    {
     "data": {
      "image/png": "[encoded data removed]",
      "text/plain": [
       "<matplotlib.figure.Figure at 0x7fde9090a990>"
      ]
     },
     "metadata": {},
     "output_type": "display_data"
    }
   ],
   "source": [
    "objid=45\n",
    "selected_df =qj_predicted[qj_predicted[\"objid\"]==objid]\n",
    "selected_df_orig =qj_df[qj_df[\"objid\"]==objid]\n",
    "plt.plot(selected_df[\"qj\"],selected_df[\"j\"],'o',label=\"predicted\")\n",
    "plt.plot(selected_df_orig[\"qj\"],selected_df_orig[\"Jaccard [Self]\"],'o',label=\"training data\")\n",
    "plt.title(\"Obj {}\".format(objid))\n",
    "plt.xlabel(\"qj\")\n",
    "plt.ylabel(\"jaccard\")\n",
    "plt.legend()"
   ]
  },
  {
   "cell_type": "code",
   "execution_count": 70,
   "metadata": {},
   "outputs": [
    {
     "data": {
      "text/plain": [
       "num_workers\n",
       "5     0.848179\n",
       "10    0.850849\n",
       "15    0.851362\n",
       "20    0.851667\n",
       "25    0.852593\n",
       "30    0.853102\n",
       "Name: j, dtype: float64"
      ]
     },
     "execution_count": 70,
     "metadata": {},
     "output_type": "execute_result"
    }
   ],
   "source": [
    "best_qj_predicted = qj_predicted.loc[qj_predicted.groupby([\"sample\",\"objid\"])[\"j\"].idxmax()]\n",
    "assert len(best_qj_predicted)==31*46\n",
    "best_basic_predicted_score = best_qj_predicted.groupby(\"num_workers\").mean()[\"j\"]\n",
    "best_basic_predicted_score"
   ]
  },
  {
   "cell_type": "code",
   "execution_count": 71,
   "metadata": {
    "collapsed": true
   },
   "outputs": [],
   "source": [
    "import warnings\n",
    "warnings.filterwarnings('ignore')\n",
    "\n",
    "def predict_prj_linear_regression(qj_df, x_fields,y_fields = ['Precision [Self]', 'Recall [Self]', 'Jaccard [Self]']):\n",
    "    df_data = []\n",
    "    for sample_name in tqdm(sample_lst):\n",
    "        for objid in object_lst:\n",
    "            selected_df =qj_df[qj_df[\"objid\"]==objid]\n",
    "            x = np.array(selected_df[x_fields])\n",
    "            y = np.array(selected_df[y_fields])\n",
    "            regression_model = linear_model.LinearRegression()\n",
    "            regression_model.fit(X = x, y = y)\n",
    "\n",
    "            cluster_ids = clust_df[(clust_df[\"objid\"] == objid)].cluster.unique()\n",
    "            for cluster_id in [\"-1\"] + list(cluster_ids):\n",
    "                worker_ids = np.array(clust_df[(clust_df[\"objid\"] == objid) & (clust_df[\"cluster\"] == int(cluster_id))].wid)\n",
    "                if len(worker_ids) > 1 or cluster_id == \"-1\":\n",
    "                    selected_df = qj_df[(qj_df[\"sample\"]==sample_name)&(qj_df[\"objid\"]==objid)&(qj_df[\"clust\"]==int(cluster_id))]\n",
    "                    if len(selected_df)>1: #only best clusters were ran, so ignore ones where no qj-df (non best clusters) was computed\n",
    "                        for row in selected_df.iterrows():\n",
    "                            pred_p,pred_r,pred_j = regression_model.predict(row[1][x_fields])[0]\n",
    "                            df_data.append([sample_name,objid, cluster_id,pred_p,pred_r,pred_j])                        \n",
    "\n",
    "    qj_predicted = pd.DataFrame(df_data,columns=[\"sample\",\"objid\",\"clust\",\"p\",\"r\",\"j\"])\n",
    "    qj_predicted[\"num_workers\"]=qj_predicted[\"sample\"].apply(lambda x: int(x.split(\"workers\")[0]))\n",
    "    \n",
    "    best_qj_predicted = qj_predicted.loc[qj_predicted.groupby([\"sample\",\"objid\"])[\"j\"].idxmax()]\n",
    "    try:\n",
    "        assert len(best_qj_predicted)==31*46\n",
    "    except(AssertionError):\n",
    "        print \"assertion error:\",len(best_qj_predicted)\n",
    "    best_predicted_score = np.array(best_qj_predicted.groupby(\"num_workers\").mean()[\"j\"])\n",
    "    return best_predicted_score,qj_predicted"
   ]
  },
  {
   "cell_type": "code",
   "execution_count": 72,
   "metadata": {},
   "outputs": [
    {
     "name": "stderr",
     "output_type": "stream",
     "text": [
      "                                               \r"
     ]
    }
   ],
   "source": [
    "qj_df_no_clust = qj_df[qj_df[\"clust\"]==-1]\n",
    "\n",
    "x_fields = ['qp1', 'qn1', 'qp2', 'qn2']\n",
    "best_GTLSA_score,GTLSA_predicted = predict_prj_linear_regression(qj_df_no_clust,x_fields)\n",
    "\n",
    "x_fields = ['iqp1', 'iqn1', 'iqp2', 'iqn2']\n",
    "best_isoGTLSA_score,isoGTLSA_predicted = predict_prj_linear_regression(qj_df_no_clust,x_fields)\n",
    "\n",
    "x_fields = ['qp', 'qn']\n",
    "best_GT_score,GT_predicted = predict_prj_linear_regression(qj_df_no_clust,x_fields)\n",
    "\n",
    "x_fields = ['iqp', 'iqn']\n",
    "best_isoGT_score,isoGT_predicted = predict_prj_linear_regression(qj_df_no_clust,x_fields)\n",
    "\n",
    "x_fields = ['iqj']\n",
    "best_isobasic_score,isobasic_predicted = predict_prj_linear_regression(qj_df_no_clust,x_fields)\n",
    "\n",
    "x_fields = ['qj']\n",
    "best_basic_score,basic_predicted = predict_prj_linear_regression(qj_df_no_clust,x_fields)"
   ]
  },
  {
   "cell_type": "code",
   "execution_count": 73,
   "metadata": {},
   "outputs": [
    {
     "data": {
      "image/png": "[encoded data removed]",
      "text/plain": [
       "<matplotlib.figure.Figure at 0x7fde67183b10>"
      ]
     },
     "metadata": {},
     "output_type": "display_data"
    }
   ],
   "source": [
    "plt.plot(best_isobasic_score,label=\"isobasic\")\n",
    "plt.plot(best_basic_score,label=\"basic\")\n",
    "plt.plot(best_GT_score,label=\"isoGT\")\n",
    "plt.plot(best_isoGT_score,label=\"GT\")\n",
    "plt.plot(best_GTLSA_score,label=\"isoGTLSA\")\n",
    "plt.plot(best_isoGTLSA_score,label=\"GTLSA\")\n",
    "x,algo_noclust,algo_clust=clust_vs_noclust(\"MV\",filtered=False)\n",
    "plt.plot(algo_clust,linestyle=\"--\",color = \"black\")\n",
    "plt.legend(bbox_to_anchor=(1.04,0.5),loc=\"center left\")    \n",
    "plt.ylabel(\"Jaccard\")\n",
    "plt.xticks(rotation=50)\n",
    "plt.title(\"Best worker retreival based on worker qualities [no cluster]\",fontsize=13)\n",
    "a = gca().set_xticklabels([0,'5 workers','10 workers','15 workers','20 workers','25 workers','30 workers'])"
   ]
  },
  {
   "cell_type": "markdown",
   "metadata": {},
   "source": [
    "Best cluster"
   ]
  },
  {
   "cell_type": "code",
   "execution_count": 74,
   "metadata": {
    "collapsed": true
   },
   "outputs": [],
   "source": [
    "qj_df[\"sample_num\"] = qj_df.apply(lambda x: int(x[\"sample\"].split(\"rand\")[-1]),axis=1)\n",
    "# qj_df_clust = filter_best_clust(qj_df,best_clust_df)\n",
    "# qj_df_clust.groupby([\"sample\",\"objid\",\"clust\"]).count()"
   ]
  },
  {
   "cell_type": "code",
   "execution_count": 75,
   "metadata": {
    "collapsed": true
   },
   "outputs": [],
   "source": [
    "def best_cluster(x):\n",
    "    try:\n",
    "        return obj_clusters[x[\"sample\"]][str(x[\"objid\"])]\n",
    "    except(KeyError):\n",
    "        return -1\n",
    "\n",
    "qj_df[\"best_clust\"]=qj_df.apply(lambda x: best_cluster(x),axis=1)\n",
    "qj_df_clust = qj_df[qj_df[\"best_clust\"]==qj_df[\"clust\"]]"
   ]
  },
  {
   "cell_type": "code",
   "execution_count": 76,
   "metadata": {
    "collapsed": true
   },
   "outputs": [],
   "source": [
    "assert len(qj_df_clust.groupby([\"sample\",\"objid\"],as_index=False).mean()[[\"sample\",\"objid\"]])==31*46"
   ]
  },
  {
   "cell_type": "code",
   "execution_count": 77,
   "metadata": {
    "collapsed": true
   },
   "outputs": [],
   "source": [
    "# len(isoGTLSA_predicted_clust[isoGTLSA_predicted_clust[\"objid\"]==31])"
   ]
  },
  {
   "cell_type": "code",
   "execution_count": 78,
   "metadata": {
    "scrolled": false
   },
   "outputs": [
    {
     "name": "stderr",
     "output_type": "stream",
     "text": [
      "  0%|          | 0/31 [00:00<?, ?it/s]         "
     ]
    },
    {
     "name": "stdout",
     "output_type": "stream",
     "text": [
      "assertion error: 1411\n"
     ]
    },
    {
     "name": "stderr",
     "output_type": "stream",
     "text": [
      "  0%|          | 0/31 [00:00<?, ?it/s]         "
     ]
    },
    {
     "name": "stdout",
     "output_type": "stream",
     "text": [
      "assertion error: 1411\n"
     ]
    },
    {
     "name": "stderr",
     "output_type": "stream",
     "text": [
      "  0%|          | 0/31 [00:00<?, ?it/s]         "
     ]
    },
    {
     "name": "stdout",
     "output_type": "stream",
     "text": [
      "assertion error: 1411\n"
     ]
    },
    {
     "name": "stderr",
     "output_type": "stream",
     "text": [
      "  0%|          | 0/31 [00:00<?, ?it/s]         "
     ]
    },
    {
     "name": "stdout",
     "output_type": "stream",
     "text": [
      "assertion error: 1411\n"
     ]
    },
    {
     "name": "stderr",
     "output_type": "stream",
     "text": [
      "  0%|          | 0/31 [00:00<?, ?it/s]         "
     ]
    },
    {
     "name": "stdout",
     "output_type": "stream",
     "text": [
      "assertion error: 1411\n"
     ]
    },
    {
     "name": "stderr",
     "output_type": "stream",
     "text": [
      "                                               "
     ]
    },
    {
     "name": "stdout",
     "output_type": "stream",
     "text": [
      "assertion error: 1411\n"
     ]
    },
    {
     "name": "stderr",
     "output_type": "stream",
     "text": [
      "\r"
     ]
    }
   ],
   "source": [
    "x_fields = ['qp1', 'qn1', 'qp2', 'qn2']\n",
    "best_GTLSA_score_clust,GTLSA_predicted_clust = predict_prj_linear_regression(qj_df_clust,x_fields)\n",
    "\n",
    "x_fields = ['iqp1', 'iqn1', 'iqp2', 'iqn2']\n",
    "best_isoGTLSA_score_clust,isoGTLSA_predicted_clust = predict_prj_linear_regression(qj_df_clust,x_fields)\n",
    "\n",
    "x_fields = ['qp', 'qn']\n",
    "best_GT_score_clust,GT_predicted_clust = predict_prj_linear_regression(qj_df_clust,x_fields)\n",
    "\n",
    "x_fields = ['iqp', 'iqn']\n",
    "best_isoGT_score_clust,isoGT_predicted_clust = predict_prj_linear_regression(qj_df_clust,x_fields)\n",
    "\n",
    "x_fields = ['iqj']\n",
    "best_isobasic_score_clust,isobasic_predicted_clust = predict_prj_linear_regression(qj_df_clust,x_fields)\n",
    "\n",
    "x_fields = ['qj']\n",
    "best_basic_score_clust,basic_predicted_clust = predict_prj_linear_regression(qj_df_clust,x_fields)"
   ]
  },
  {
   "cell_type": "code",
   "execution_count": 79,
   "metadata": {},
   "outputs": [
    {
     "data": {
      "image/png": "[encoded data removed]",
      "text/plain": [
       "<matplotlib.figure.Figure at 0x7fde66f978d0>"
      ]
     },
     "metadata": {},
     "output_type": "display_data"
    }
   ],
   "source": [
    "plt.plot(best_isobasic_score_clust,label=\"isobasic\")\n",
    "plt.plot(best_basic_score_clust,label=\"basic\")\n",
    "plt.plot(best_GT_score_clust,label=\"isoGT\")\n",
    "plt.plot(best_isoGT_score_clust,label=\"GT\")\n",
    "plt.plot(best_GTLSA_score_clust,label=\"isoGTLSA\")\n",
    "plt.plot(best_isoGTLSA_score_clust,label=\"GTLSA\")\n",
    "x,algo_noclust,algo_clust=clust_vs_noclust(\"MV\",filtered=False)\n",
    "plt.plot(algo_clust,color = \"black\",label=\"MV\")\n",
    "plt.legend(bbox_to_anchor=(1.04,0.5),loc=\"center left\")    \n",
    "plt.ylabel(\"Jaccard\")\n",
    "plt.xticks(rotation=50)\n",
    "plt.title(\"Worker qualities-based best worker retreival [best cluster]\",fontsize=13)\n",
    "a = gca().set_xticklabels([0,'5 workers','10 workers','15 workers','20 workers','25 workers','30 workers'])"
   ]
  },
  {
   "cell_type": "code",
   "execution_count": 80,
   "metadata": {},
   "outputs": [
    {
     "data": {
      "image/png": "[encoded data removed]",
      "text/plain": [
       "<matplotlib.figure.Figure at 0x7fde9823a5d0>"
      ]
     },
     "metadata": {},
     "output_type": "display_data"
    }
   ],
   "source": [
    "plt.plot(best_isobasic_score_clust,label=\"isobasic\",color=\"blue\")\n",
    "plt.plot(best_basic_score_clust,label=\"basic\",color=\"red\")\n",
    "plt.plot(best_GT_score_clust,label=\"isoGT\",color=\"orange\")\n",
    "plt.plot(best_isoGT_score_clust,label=\"GT\",color=\"pink\")\n",
    "plt.plot(best_GTLSA_score_clust,label=\"isoGTLSA\",color=\"magenta\")\n",
    "plt.plot(best_isoGTLSA_score_clust,label=\"GTLSA\",color=\"green\")\n",
    "x,algo_noclust,algo_clust=clust_vs_noclust(\"MV\",filtered=False)\n",
    "plt.plot(algo_noclust,linestyle=\"-\",color = \"black\")\n",
    "plt.legend(bbox_to_anchor=(1.04,0.5),loc=\"center left\")    \n",
    "plt.ylabel(\"Jaccard\")\n",
    "plt.xticks(rotation=50)\n",
    "plt.title(\"Best worker retreival based on worker qualities [best cluster]\",fontsize=13)\n",
    "a = gca().set_xticklabels([0,'5 workers','10 workers','15 workers','20 workers','25 workers','30 workers'])\n",
    "\n",
    "plt.plot(best_isobasic_score,label=\"isobasic\",linestyle=\"--\",color=\"blue\")\n",
    "plt.plot(best_basic_score,label=\"basic\",linestyle=\"--\",color=\"red\")\n",
    "plt.plot(best_GT_score,label=\"isoGT\",linestyle=\"--\",color=\"orange\")\n",
    "plt.plot(best_isoGT_score,label=\"GT\",linestyle=\"--\",color=\"pink\")\n",
    "plt.plot(best_GTLSA_score,label=\"isoGTLSA\",linestyle=\"--\",color=\"magenta\")\n",
    "plt.plot(best_isoGTLSA_score,label=\"GTLSA\",linestyle=\"--\",color=\"green\")\n",
    "x,algo_noclust,algo_clust=clust_vs_noclust(\"MV\",filtered=False)\n",
    "plt.plot(algo_clust,linestyle=\"--\",color = \"black\")\n",
    "plt.legend(bbox_to_anchor=(1.04,0.5),loc=\"center left\")    \n",
    "plt.ylabel(\"Jaccard\")\n",
    "plt.xticks(rotation=50)\n",
    "plt.title(\"Best worker retreival based on worker qualities [cluster  v.s. no cluster(dotted)]\",fontsize=13)\n",
    "a = gca().set_xticklabels([0,'5 workers','10 workers','15 workers','20 workers','25 workers','30 workers'])"
   ]
  },
  {
   "cell_type": "markdown",
   "metadata": {},
   "source": [
    "- show just the clustered case here"
   ]
  },
  {
   "cell_type": "code",
   "execution_count": null,
   "metadata": {
    "collapsed": true
   },
   "outputs": [],
   "source": []
  }
 ],
 "metadata": {
  "kernelspec": {
   "display_name": "Python 2",
   "language": "python",
   "name": "python2"
  },
  "language_info": {
   "codemirror_mode": {
    "name": "ipython",
    "version": 2
   },
   "file_extension": ".py",
   "mimetype": "text/x-python",
   "name": "python",
   "nbconvert_exporter": "python",
   "pygments_lexer": "ipython2",
   "version": "2.7.14"
  }
 },
 "nbformat": 4,
 "nbformat_minor": 2
}

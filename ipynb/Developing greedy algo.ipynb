{
 "cells": [
  {
   "cell_type": "code",
   "execution_count": 4,
   "metadata": {},
   "outputs": [
    {
     "name": "stdout",
     "output_type": "stream",
     "text": [
      "Populating the interactive namespace from numpy and matplotlib\n"
     ]
    }
   ],
   "source": [
    "%pylab inline"
   ]
  },
  {
   "cell_type": "code",
   "execution_count": 9,
   "metadata": {},
   "outputs": [
    {
     "name": "stdout",
     "output_type": "stream",
     "text": [
      "/srv/data/home/jlee782/segmentation/analysis\n"
     ]
    }
   ],
   "source": [
    "cd ../analysis/"
   ]
  },
  {
   "cell_type": "code",
   "execution_count": 2,
   "metadata": {
    "collapsed": true
   },
   "outputs": [],
   "source": [
    "import pickle as pkl\n",
    "from PixelEM import * "
   ]
  },
  {
   "cell_type": "code",
   "execution_count": 175,
   "metadata": {
    "collapsed": true
   },
   "outputs": [],
   "source": [
    "sample = \"10workers_rand0\"\n",
    "objid = 10\n",
    "tiles = pkl.load(open(\"../analysis/pixel_em/{}/obj{}/tiles.pkl\".format(sample,objid)))\n",
    "log_probability_in_mask=pkl.load(open(\"../analysis/pixel_em/{}/obj{}/basic_p_in_mask_ground_truth.pkl\".format(sample,objid)))\n",
    "log_probability_not_in_mask =pkl.load(open(\"../analysis/pixel_em/{}/obj{}/basic_p_not_in_ground_truth.pkl\".format(sample,objid)))"
   ]
  },
  {
   "cell_type": "code",
   "execution_count": 176,
   "metadata": {},
   "outputs": [],
   "source": [
    "# if tile already in ground truth, then we don't care, because we are only trying to figure out which tiles outside of the ground truth we should add. \n",
    "candidate_tiles_lst = []\n",
    "metric_lst = []\n",
    "ia_lst = [] \n",
    "# compute I/O metric for all tiles\n",
    "for tile in tiles:\n",
    "    #intersection_area = float(len(gt_idxs.intersection(set(tile))))\n",
    "    pInT = np.abs(log_probability_in_mask[list(tile)[0]]) # all pixels in same tile should have the same pInT\n",
    "    pNotInT = np.abs(log_probability_not_in_mask[list(tile)[0]])\n",
    "    norm_pInT = pInT/(pNotInT+pInT) #normalized pInT \n",
    "    intersection_area = len(tile) * norm_pInT #estimation\n",
    "    outside_area = float(len(tile) - intersection_area)\n",
    "    if outside_area!=0: #otherwise, tile encapsulated by GT, no need to determine whether to pick or not.\n",
    "        metric = intersection_area/outside_area\n",
    "        metric_lst.append(metric)\n",
    "        candidate_tiles_lst.append(tile)\n",
    "        ia_lst.append(intersection_area)"
   ]
  },
  {
   "cell_type": "code",
   "execution_count": 185,
   "metadata": {},
   "outputs": [],
   "source": [
    "srt_decr_idx = np.argsort(metric_lst)[::-1] # sorting from largest to smallest metric_lst\n",
    "GT_area = 0 #new ground truth area\n",
    "ia_cum = 0 #cumulative intersection area\n",
    "jaccard_lst = []\n",
    "picked_tiles = []\n",
    "prev_jac = -1000\n",
    "for tidx  in srt_decr_idx:\n",
    "    tile = candidate_tiles_lst[tidx]\n",
    "    ia = ia_lst[tidx]\n",
    "    jaccard = ia_cum/float(GT_area+len(tile))\n",
    "    ia_cum +=ia\n",
    "    GT_area += len(tile)\n",
    "    jaccard_lst.append(jaccard)\n",
    "    if jaccard > prev_jac: \n",
    "        picked_tiles.append(tile)\n",
    "        prev_jac=jaccard\n",
    "    else: # stop when jaccard starts decreasing after the addition of a tile\n",
    "        #break\n",
    "        continue #for debugging purposes to see how jaccard_lst evolves, technically should break here"
   ]
  },
  {
   "cell_type": "code",
   "execution_count": 186,
   "metadata": {},
   "outputs": [
    {
     "data": {
      "text/plain": [
       "[<matplotlib.lines.Line2D at 0x6c57990>]"
      ]
     },
     "execution_count": 186,
     "metadata": {},
     "output_type": "execute_result"
    },
    {
     "data": {
      "image/png": "[encoded data removed]",
      "text/plain": [
       "<matplotlib.figure.Figure at 0x7e76850>"
      ]
     },
     "metadata": {},
     "output_type": "display_data"
    }
   ],
   "source": [
    "plt.plot(jaccard_lst)"
   ]
  },
  {
   "cell_type": "code",
   "execution_count": 188,
   "metadata": {},
   "outputs": [
    {
     "data": {
      "text/plain": [
       "2"
      ]
     },
     "execution_count": 188,
     "metadata": {},
     "output_type": "execute_result"
    }
   ],
   "source": [
    "len(picked_tiles)"
   ]
  },
  {
   "cell_type": "code",
   "execution_count": 190,
   "metadata": {
    "collapsed": true
   },
   "outputs": [],
   "source": [
    "img = np.zeros_like(log_probability_in_mask)\n",
    "for t in picked_tiles:\n",
    "    for tidx in t:\n",
    "        img[tidx]=1"
   ]
  },
  {
   "cell_type": "code",
   "execution_count": 192,
   "metadata": {},
   "outputs": [
    {
     "data": {
      "text/plain": [
       "<matplotlib.colorbar.Colorbar at 0x3e0ec50>"
      ]
     },
     "execution_count": 192,
     "metadata": {},
     "output_type": "execute_result"
    },
    {
     "data": {
      "image/png": "[encoded data removed]",
      "text/plain": [
       "<matplotlib.figure.Figure at 0xcf5ded0>"
      ]
     },
     "metadata": {},
     "output_type": "display_data"
    }
   ],
   "source": [
    "plt.imshow(img)\n",
    "plt.colorbar()"
   ]
  }
 ],
 "metadata": {
  "kernelspec": {
   "display_name": "Python 2",
   "language": "python",
   "name": "python2"
  },
  "language_info": {
   "codemirror_mode": {
    "name": "ipython",
    "version": 2
   },
   "file_extension": ".py",
   "mimetype": "text/x-python",
   "name": "python",
   "nbconvert_exporter": "python",
   "pygments_lexer": "ipython2",
   "version": "2.7.6"
  }
 },
 "nbformat": 4,
 "nbformat_minor": 2
}

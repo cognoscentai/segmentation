{
 "cells": [
  {
   "cell_type": "code",
   "execution_count": 1,
   "metadata": {},
   "outputs": [
    {
     "name": "stdout",
     "output_type": "stream",
     "text": [
      "Populating the interactive namespace from numpy and matplotlib\n"
     ]
    }
   ],
   "source": [
    "%pylab inline"
   ]
  },
  {
   "cell_type": "code",
   "execution_count": 2,
   "metadata": {},
   "outputs": [
    {
     "name": "stdout",
     "output_type": "stream",
     "text": [
      "/srv/data/home/jlee782/segmentation/analysis\n"
     ]
    }
   ],
   "source": [
    "cd ../analysis/"
   ]
  },
  {
   "cell_type": "code",
   "execution_count": 3,
   "metadata": {},
   "outputs": [
    {
     "name": "stderr",
     "output_type": "stream",
     "text": [
      "/home/jlee782/.local/lib/python2.7/site-packages/matplotlib/__init__.py:1401: UserWarning:  This call to matplotlib.use() has no effect\n",
      "because the backend has already been chosen;\n",
      "matplotlib.use() must be called *before* pylab, matplotlib.pyplot,\n",
      "or matplotlib.backends is imported for the first time.\n",
      "\n",
      "  warnings.warn(_use_error_msg)\n"
     ]
    }
   ],
   "source": [
    "import pickle as pkl\n",
    "from PixelEM import * "
   ]
  },
  {
   "cell_type": "code",
   "execution_count": 41,
   "metadata": {
    "collapsed": true
   },
   "outputs": [],
   "source": [
    "sample = \"10workers_rand0\"\n",
    "objid = 5\n",
    "algo = \"GT\"\n",
    "tiles = pkl.load(open(\"../analysis/pixel_em/{}/obj{}/tiles.pkl\".format(sample,objid)))\n",
    "log_probability_in_mask=pkl.load(open(\"../analysis/pixel_em/{}/obj{}/{}_p_in_mask_ground_truth.pkl\".format(sample,objid,algo)))\n",
    "log_probability_not_in_mask =pkl.load(open(\"../analysis/pixel_em/{}/obj{}/{}_p_not_in_ground_truth.pkl\".format(sample,objid,algo)))"
   ]
  },
  {
   "cell_type": "code",
   "execution_count": 42,
   "metadata": {
    "collapsed": true
   },
   "outputs": [],
   "source": [
    "#using ground truth ia for testing purposes\n",
    "gt = pkl.load(open(\"../analysis/pixel_em/obj{}/gt.pkl\".format(objid)))\n",
    "gt_idxs = set(zip(*np.where(gt)))"
   ]
  },
  {
   "cell_type": "code",
   "execution_count": 108,
   "metadata": {},
   "outputs": [],
   "source": [
    "candidate_tiles_lst = []\n",
    "metric_lst = []\n",
    "ia_lst = [] \n",
    "picked_tiles = []\n",
    "GT_area = 0. #new ground truth area\n",
    "ia_cum = 0. #cumulative intersection area\n",
    "\n",
    "# compute I/O metric for all tiles\n",
    "for tile in tiles[1:]:#ignore the large outside tile\n",
    "    #intersection_area = float(len(gt_idxs.intersection(set(tile))))\n",
    "    pInT = np.exp(log_probability_in_mask[list(tile)[0]]) # all pixels in same tile should have the same pInT\n",
    "    pNotInT = np.exp(log_probability_not_in_mask[list(tile)[0]])\n",
    "    norm_pInT = pInT/(pNotInT+pInT) #normalized pInT \n",
    "    assert norm_pInT<=1 and norm_pInT>=0\n",
    "    intersection_area = float(len(tile) * norm_pInT) #estimated intersection area\n",
    "    #GTintersection_area = float(len(gt_idxs.intersection(set(tile)))) # exact intersection areas\n",
    "    #print intersection_area,GTintersection_area,norm_pInT,len(tile)\n",
    "    #intersection_area = GTintersection_area# for testing purposes only\n",
    "    outside_area = float(len(tile) - intersection_area)\n",
    "    if outside_area!=0: \n",
    "        metric = intersection_area/outside_area\n",
    "        metric_lst.append(metric)\n",
    "        candidate_tiles_lst.append(tile)\n",
    "        ia_lst.append(intersection_area)\n",
    "    else:# if outside area =0, then tile completely encapsulated by GT, it must be included in picked tiles\n",
    "        #print \"here\"\n",
    "        picked_tiles.append(tile)\n",
    "        GT_area+= len(tile)\n",
    "        ia_cum += intersection_area"
   ]
  },
  {
   "cell_type": "code",
   "execution_count": 109,
   "metadata": {},
   "outputs": [
    {
     "data": {
      "text/plain": [
       "3620"
      ]
     },
     "execution_count": 109,
     "metadata": {},
     "output_type": "execute_result"
    }
   ],
   "source": [
    "sum([len(t) for t in picked_tiles])"
   ]
  },
  {
   "cell_type": "code",
   "execution_count": 110,
   "metadata": {},
   "outputs": [
    {
     "data": {
      "text/plain": [
       "3620.0"
      ]
     },
     "execution_count": 110,
     "metadata": {},
     "output_type": "execute_result"
    }
   ],
   "source": [
    "GT_area"
   ]
  },
  {
   "cell_type": "code",
   "execution_count": 111,
   "metadata": {},
   "outputs": [
    {
     "data": {
      "text/plain": [
       "3620.0"
      ]
     },
     "execution_count": 111,
     "metadata": {},
     "output_type": "execute_result"
    }
   ],
   "source": [
    "ia_cum"
   ]
  },
  {
   "cell_type": "code",
   "execution_count": 112,
   "metadata": {
    "collapsed": true
   },
   "outputs": [],
   "source": [
    "assert len(metric_lst)==len(candidate_tiles_lst)==len(ia_lst)\n",
    "srt_decr_idx = np.argsort(metric_lst)[::-1] # sorting from largest to smallest metric_lst\n",
    "jaccard_lst = []\n",
    "prev_jac = -1000\n",
    "for tidx  in srt_decr_idx:\n",
    "    tile = candidate_tiles_lst[tidx]\n",
    "    ia = ia_lst[tidx]\n",
    "    jaccard = (ia_cum+ia)/float(GT_area+len(tile)) # the new jaccard if that tile is actually added\n",
    "    jaccard_lst.append(jaccard)\n",
    "    if jaccard >= prev_jac: \n",
    "        picked_tiles.append(tile)\n",
    "        # if tile picked, update new ia and area\n",
    "        prev_jac=jaccard\n",
    "        ia_cum +=ia\n",
    "        GT_area += len(tile)\n",
    "    else: # stop when jaccard starts decreasing after the addition of a tile\n",
    "        #break\n",
    "        continue #for debugging purposes to see how jaccard_lst evolves, technically should break here"
   ]
  },
  {
   "cell_type": "code",
   "execution_count": 113,
   "metadata": {},
   "outputs": [
    {
     "data": {
      "text/plain": [
       "[<matplotlib.lines.Line2D at 0xc242590>]"
      ]
     },
     "execution_count": 113,
     "metadata": {},
     "output_type": "execute_result"
    },
    {
     "data": {
      "image/png": "[encoded data removed]",
      "text/plain": [
       "<matplotlib.figure.Figure at 0x82615d0>"
      ]
     },
     "metadata": {},
     "output_type": "display_data"
    }
   ],
   "source": [
    "plt.plot(jaccard_lst)"
   ]
  },
  {
   "cell_type": "code",
   "execution_count": 114,
   "metadata": {},
   "outputs": [
    {
     "data": {
      "text/plain": [
       "250"
      ]
     },
     "execution_count": 114,
     "metadata": {},
     "output_type": "execute_result"
    }
   ],
   "source": [
    "len(picked_tiles)"
   ]
  },
  {
   "cell_type": "code",
   "execution_count": 115,
   "metadata": {
    "collapsed": true
   },
   "outputs": [],
   "source": [
    "img = np.zeros_like(log_probability_in_mask)\n",
    "for t in picked_tiles:\n",
    "    for tidx in t:\n",
    "        img[tidx]=1"
   ]
  },
  {
   "cell_type": "code",
   "execution_count": 116,
   "metadata": {},
   "outputs": [
    {
     "data": {
      "text/plain": [
       "<matplotlib.colorbar.Colorbar at 0xb499fd0>"
      ]
     },
     "execution_count": 116,
     "metadata": {},
     "output_type": "execute_result"
    },
    {
     "data": {
      "image/png": "[encoded data removed]",
      "text/plain": [
       "<matplotlib.figure.Figure at 0xc23b950>"
      ]
     },
     "metadata": {},
     "output_type": "display_data"
    }
   ],
   "source": [
    "plt.imshow(img)\n",
    "plt.colorbar()"
   ]
  },
  {
   "cell_type": "code",
   "execution_count": 117,
   "metadata": {
    "collapsed": true
   },
   "outputs": [],
   "source": [
    "intersection = (len(np.where(gt*1.==img)[0])-len(np.where(img==0)[0]))"
   ]
  },
  {
   "cell_type": "code",
   "execution_count": 118,
   "metadata": {
    "collapsed": true
   },
   "outputs": [],
   "source": [
    "p = intersection/float(len(np.where(gt*1.==1)[0]))\n",
    "r = intersection/float(len(np.where(img==1)[0]))\n",
    "j = intersection / float((len(np.where(gt*1.==1)[0]))+(len(np.where(img==1)[0]))-intersection)"
   ]
  },
  {
   "cell_type": "code",
   "execution_count": 119,
   "metadata": {},
   "outputs": [
    {
     "name": "stdout",
     "output_type": "stream",
     "text": [
      "0.790071622623 0.856263383298 0.697557784562\n"
     ]
    }
   ],
   "source": [
    "print p,r,j"
   ]
  },
  {
   "cell_type": "code",
   "execution_count": 120,
   "metadata": {},
   "outputs": [],
   "source": [
    "def plot_tile(tile):\n",
    "    img = np.zeros_like(log_probability_in_mask)\n",
    "    for tidx in tile:\n",
    "        img[tidx]=1\n",
    "    plt.imshow(img)\n",
    "    plt.colorbar()"
   ]
  },
  {
   "cell_type": "code",
   "execution_count": null,
   "metadata": {
    "collapsed": true
   },
   "outputs": [],
   "source": []
  }
 ],
 "metadata": {
  "kernelspec": {
   "display_name": "Python 2",
   "language": "python",
   "name": "python2"
  },
  "language_info": {
   "codemirror_mode": {
    "name": "ipython",
    "version": 2
   },
   "file_extension": ".py",
   "mimetype": "text/x-python",
   "name": "python",
   "nbconvert_exporter": "python",
   "pygments_lexer": "ipython2",
   "version": "2.7.6"
  }
 },
 "nbformat": 4,
 "nbformat_minor": 2
}

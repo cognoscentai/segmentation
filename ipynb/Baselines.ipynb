{
 "cells": [
  {
   "cell_type": "code",
   "execution_count": 144,
   "metadata": {
    "scrolled": true
   },
   "outputs": [
    {
     "name": "stdout",
     "output_type": "stream",
     "text": [
      "/home/jlee782/final_segmentation/analysis\n"
     ]
    }
   ],
   "source": [
    "cd ../analysis/"
   ]
  },
  {
   "cell_type": "code",
   "execution_count": 145,
   "metadata": {},
   "outputs": [
    {
     "name": "stdout",
     "output_type": "stream",
     "text": [
      "Populating the interactive namespace from numpy and matplotlib\n",
      "The autoreload extension is already loaded. To reload it, use:\n",
      "  %reload_ext autoreload\n"
     ]
    }
   ],
   "source": [
    "%pylab inline\n",
    "%load_ext autoreload\n",
    "%autoreload 2\n",
    "from baseline import *"
   ]
  },
  {
   "cell_type": "code",
   "execution_count": 81,
   "metadata": {
    "collapsed": true
   },
   "outputs": [],
   "source": [
    "def compute_best_average_heuristics_workers_baselines():\n",
    "    metric_keys = ['Precision [Self]', u'Recall [Self]','Jaccard [Self]','FPR [Self]','FNR [Self]']\n",
    "    computed_wrt_gt = pd.read_csv(\"../data/computed_my_COCO_BBvals.csv\",index_col=0)\n",
    "    computed_wrt_gt=computed_wrt_gt[computed_wrt_gt[\"worker_id\"]!=3]\n",
    "    sample_lst = sample_specs.keys()\n",
    "    obj_clusters = clusters()\n",
    "    df_data =[]\n",
    "    for batch in sample_lst:\n",
    "        for objid in object_lst:\n",
    "            if str(objid) in obj_clusters[batch]:\n",
    "                clusts = [\"-1\"] + [obj_clusters[batch][str(objid)]]\n",
    "            else:\n",
    "                clusts = [\"-1\"]\n",
    "            for clust in clusts:\n",
    "                hydir = '{}{}/obj{}/'.format(PIXEL_EM_DIR, batch, objid)\n",
    "                if clust==\"-1\":\n",
    "                    worker_ids = json.load(open(hydir+\"worker_ids.json\"))\n",
    "                else:\n",
    "                    worker_ids= json.load(open(hydir+\"/clust{}/worker_ids.json\".format(clust)))\n",
    "\n",
    "                selected_annotations = computed_wrt_gt[(computed_wrt_gt[\"object_id\"]==objid)&(computed_wrt_gt[\"worker_id\"].isin(worker_ids))]\n",
    "                best_num_pt_p,best_num_pt_r,best_num_pt_j,best_num_pt_fnr,best_num_pt_fpr = selected_annotations.loc[selected_annotations[\"Num Points\"].idxmax()][metric_keys]\n",
    "                best_ar_p,best_ar_r,best_ar_j,best_ar_fnr,best_ar_fpr = selected_annotations.loc[selected_annotations[\"Area Ratio\"].idxmax()][metric_keys]\n",
    "                max_p,max_r,max_j,max_fpr,max_fnr = selected_annotations.loc[selected_annotations[\"Jaccard [Self]\"].idxmax()][metric_keys]\n",
    "                avrg_p,avrg_r,avrg_j,avrg_fpr,avrg_fnr =  selected_annotations.mean()[metric_keys]\n",
    "                df_data.append([batch, objid,clust, \n",
    "                                best_num_pt_p,best_num_pt_r,best_num_pt_j,best_num_pt_fnr,best_num_pt_fpr,\\\n",
    "                                 best_ar_p,best_ar_r,best_ar_j,best_ar_fnr,best_ar_fpr,\\\n",
    "                                avrg_p,avrg_r,avrg_j,avrg_fpr,avrg_fnr,max_p,\\\n",
    "                                max_r,max_j,max_fpr,max_fnr])\n",
    "    df = pd.DataFrame(df_data,columns=[\"sample\",\"objid\",\"clust\",\n",
    "                    \"P [NumPt]\",\"R [NumPt]\",\"J [NumPt]\",\"FNR% [NumPt]\",\"FPR% [NumPt]\",\n",
    "                    \"P [AreaRatio]\",\"R [AreaRatio]\",\"J [AreaRatio]\",\"FNR% [AreaRatio]\",\"FPR% [AreaRatio]\",\n",
    "                    \"P [AvrgWorker]\",\"R [AvrgWorker]\",\"J [AvrgWorker]\",\"FNR% [AvrgWorker]\",\"FPR% [AvrgWorker]\",\n",
    "                    \"P [BestWorker]\",\"R [BestWorker]\",\"J [BestWorker]\",\"FNR% [BestWorker]\",\"FPR% [BestWorker]\"])\n",
    "    df[\"num_workers\"]=df[\"sample\"].apply(lambda x: int(x.split(\"workers\")[0]))\n",
    "    df.to_csv(\"pixel_em/individual_worker_performance.csv\",index=None)\n",
    "    return df"
   ]
  },
  {
   "cell_type": "code",
   "execution_count": 83,
   "metadata": {
    "collapsed": true
   },
   "outputs": [],
   "source": [
    "df = compute_best_average_heuristics_workers_baselines()"
   ]
  },
  {
   "cell_type": "code",
   "execution_count": 84,
   "metadata": {
    "collapsed": true
   },
   "outputs": [],
   "source": [
    "NworkerPerformance = df.groupby(\"num_workers\").mean()"
   ]
  },
  {
   "cell_type": "code",
   "execution_count": 85,
   "metadata": {
    "collapsed": true
   },
   "outputs": [],
   "source": [
    "metric_J_baselines=[\"J [NumPt]\",\"J [AreaRatio]\",\"J [AvrgWorker]\",\"J [BestWorker]\"]"
   ]
  },
  {
   "cell_type": "code",
   "execution_count": 86,
   "metadata": {},
   "outputs": [
    {
     "data": {
      "image/png": "[encoded data removed]",
      "text/plain": [
       "<matplotlib.figure.Figure at 0x7fb65d426c50>"
      ]
     },
     "metadata": {},
     "output_type": "display_data"
    }
   ],
   "source": [
    "for algo in metric_J_baselines:\n",
    "    plt.plot(np.array(NworkerPerformance[algo]),label=algo)\n",
    "plt.legend(bbox_to_anchor=(1.04,0.5),loc=\"center left\")    \n",
    "plt.ylabel(\"Jaccard\")\n",
    "plt.xticks(rotation=50)\n",
    "plt.title(\"Other baselines\",fontsize=13)\n",
    "a = gca().set_xticklabels([0,'5 workers','10 workers','15 workers','20 workers','25 workers','30 workers'])"
   ]
  },
  {
   "cell_type": "code",
   "execution_count": 117,
   "metadata": {
    "collapsed": true
   },
   "outputs": [],
   "source": [
    "from withClustAnalysis import *\n",
    "best_clust_df = best_worker_picking()\n",
    "clustObj=clust_df.objid.unique()\n",
    "def plot_best_clust_thresh_metric(metric,gt=\"\",includeObjs=[],plot_noClustMV=True):\n",
    "    for algo in ['GTLSA',\"basic\",\"GT\",\"isoGT\",\"isoGTLSA\"]:\n",
    "        # we only ran on the best clusters, so the results should only be on the best clusters if not -1\n",
    "        data =  pd.read_csv(\"pixel_em/{}{}_full_PRJ_table.csv\".format(gt,algo))\n",
    "        data = data[((data[\"clust\"]==-1) &(data[\"objid\"].isin(noClust_obj)))| ((data[\"clust\"]!=-1) & data[\"objid\"].isin(clustObj))]\n",
    "        if includeObjs!=[]:\n",
    "            data = data[data[\"objid\"].isin(includeObjs)]\n",
    "        #data = data[data[\"sample_num\"]==0]\n",
    "        plt.plot(np.array(data.groupby(\"num_workers\").mean()[metric]),label=algo)\n",
    "    print len(data.groupby(\"num_workers\").mean()[metric])\n",
    "    MV = pd.read_csv(\"pixel_em/MV_full_PRJ_table.csv\") \n",
    "    #MV = MV[MV[\"sample_num\"]==0]\n",
    "    # now need to filter based on best cluster\n",
    "    MV = filter_best_clust(MV,best_clust_df)\n",
    "    if includeObjs!=[]:\n",
    "        MV = MV[MV[\"objid\"].isin(includeObjs)]\n",
    "    # select only the best cluster if clustered object -1 if not clustered\n",
    "    MV_withClust = MV[((MV[\"clust\"]==-1) &(MV[\"objid\"].isin(noClust_obj)))| ((MV[\"clust\"]!=-1) & MV[\"objid\"].isin(clustObj))]\n",
    "    plt.plot(np.array(MV_withClust.groupby(\"num_workers\").mean()[metric]),label=\"MV clust\",color=\"cyan\",linestyle=\"--\")\n",
    "    if plot_noClustMV:\n",
    "        MV_noClust = MV[(MV[\"clust\"]==-1) &(MV[\"objid\"].isin(noClust_obj))].groupby(\"num_workers\").mean()[metric]\n",
    "        plt.plot(np.array(MV_noClust),label=\"MV no clust\",color=\"black\",linestyle=\"--\")\n",
    "\n",
    "    plt.legend(bbox_to_anchor=(1.04,0.5),loc=\"center left\")    \n",
    "    plt.ylabel(metric)\n",
    "    plt.xticks(rotation=50)\n",
    "    a = gca().set_xticklabels([0,'5 workers','10 workers','15 workers','20 workers','25 workers','30 workers'])\n",
    "    if gt:\n",
    "        plt.title(\"Ground truth EM [best clust & thresh]\",fontsize=13)\n",
    "    else:\n",
    "        plt.title(\"Binary Search Thresh EM [best clust & thresh]\",fontsize=13)"
   ]
  },
  {
   "cell_type": "code",
   "execution_count": 118,
   "metadata": {},
   "outputs": [
    {
     "name": "stdout",
     "output_type": "stream",
     "text": [
      "6\n"
     ]
    },
    {
     "data": {
      "image/png": "[encoded data removed]",
      "text/plain": [
       "<matplotlib.figure.Figure at 0x7fb62f9a4dd0>"
      ]
     },
     "metadata": {},
     "output_type": "display_data"
    }
   ],
   "source": [
    "plot_best_clust_thresh_metric(\"jaccard\")"
   ]
  },
  {
   "cell_type": "code",
   "execution_count": 121,
   "metadata": {},
   "outputs": [
    {
     "name": "stdout",
     "output_type": "stream",
     "text": [
      "6\n",
      "6\n"
     ]
    },
    {
     "data": {
      "text/plain": [
       "<matplotlib.text.Text at 0x7fb62fbe3390>"
      ]
     },
     "execution_count": 121,
     "metadata": {},
     "output_type": "execute_result"
    },
    {
     "data": {
      "image/png": "[encoded data removed]",
      "text/plain": [
       "<matplotlib.figure.Figure at 0x7fb65d441c50>"
      ]
     },
     "metadata": {},
     "output_type": "display_data"
    }
   ],
   "source": [
    "plot_best_clust_thresh_metric(\"jaccard\")\n",
    "\n",
    "for algo in metric_J_baselines:\n",
    "    plt.plot(range(6),np.array(NworkerPerformance[algo]),label=algo[3:-1])\n",
    "print len(np.array(NworkerPerformance[algo]))\n",
    "plt.legend(bbox_to_anchor=(1.04,0.5),loc=\"center left\")    \n",
    "plt.ylabel(\"Jaccard\")\n",
    "plt.xticks(rotation=50)\n",
    "plt.title(\"Other baselines\",fontsize=13)\n"
   ]
  },
  {
   "cell_type": "markdown",
   "metadata": {},
   "source": [
    "# gt-est by best worker picking based on worker quality, also correlation with individual worker"
   ]
  },
  {
   "cell_type": "code",
   "execution_count": 197,
   "metadata": {
    "collapsed": true
   },
   "outputs": [],
   "source": [
    "df = pd.read_csv(\"../data/computed_my_COCO_BBvals.csv\",index_col=0)"
   ]
  },
  {
   "cell_type": "code",
   "execution_count": 198,
   "metadata": {
    "collapsed": true
   },
   "outputs": [],
   "source": [
    "df= df[df[\"worker_id\"]!=3]"
   ]
  },
  {
   "cell_type": "code",
   "execution_count": 158,
   "metadata": {},
   "outputs": [
    {
     "data": {
      "text/plain": [
       "<matplotlib.colorbar.Colorbar at 0x7fb62c97b290>"
      ]
     },
     "execution_count": 158,
     "metadata": {},
     "output_type": "execute_result"
    },
    {
     "data": {
      "image/png": "[encoded data removed]",
      "text/plain": [
       "<matplotlib.figure.Figure at 0x7fb62cb46990>"
      ]
     },
     "metadata": {},
     "output_type": "display_data"
    }
   ],
   "source": [
    "plt.imshow(pkl.load(open(\"pixel_em/obj22/mask24.pkl\")))\n",
    "plt.colorbar()"
   ]
  },
  {
   "cell_type": "code",
   "execution_count": 160,
   "metadata": {},
   "outputs": [],
   "source": [
    "# pd.set_option('display.height', 500)\n",
    "# pd.set_option('display.max_rows', 500)\n",
    "# df[[\"object_id\",\"worker_id\",\"Jaccard [Self]\",\"Precision [Self]\",\"Recall [Self]\"]]"
   ]
  },
  {
   "cell_type": "code",
   "execution_count": 161,
   "metadata": {
    "collapsed": true
   },
   "outputs": [],
   "source": [
    "for row in df.iterrows():\n",
    "    row = row[1]\n",
    "    row[[\"object_id\",\"worker_id\",\"Jaccard [Self]\",\"Precision [Self]\",\"Recall [Self]\",\"FPR [Self]\",\"FNR [Self]\"]]"
   ]
  },
  {
   "cell_type": "code",
   "execution_count": 162,
   "metadata": {},
   "outputs": [
    {
     "data": {
      "text/plain": [
       "object_id                    10\n",
       "worker_id                   139\n",
       "Jaccard [Self]        0.9484793\n",
       "Precision [Self]      0.9805065\n",
       "Recall [Self]         0.9667082\n",
       "FPR [Self]          0.001097399\n",
       "FNR [Self]           0.01921914\n",
       "Name: 1946, dtype: object"
      ]
     },
     "execution_count": 162,
     "metadata": {},
     "output_type": "execute_result"
    }
   ],
   "source": [
    "row[[\"object_id\",\"worker_id\",\"Jaccard [Self]\",\"Precision [Self]\",\"Recall [Self]\",\"FPR [Self]\",\"FNR [Self]\"]]"
   ]
  },
  {
   "cell_type": "code",
   "execution_count": 200,
   "metadata": {
    "collapsed": true
   },
   "outputs": [],
   "source": [
    "df=pd.read_csv(\"../data/bounding_box.csv\")"
   ]
  },
  {
   "cell_type": "code",
   "execution_count": 203,
   "metadata": {},
   "outputs": [
    {
     "name": "stderr",
     "output_type": "stream",
     "text": [
      "/home/jlee782/.local/lib/python2.7/site-packages/pandas/io/parsers.py:648: ParserWarning: Falling back to the 'python' engine because the 'c' engine does not support skip_footer; you can avoid this warning by specifying engine='python'.\n",
      "  ParserWarning)\n"
     ]
    }
   ],
   "source": [
    "from analysis_toolbox import load_info\n",
    "img_info,object_tbl,bb_info,hit_info = load_info()"
   ]
  },
  {
   "cell_type": "code",
   "execution_count": 204,
   "metadata": {},
   "outputs": [
    {
     "data": {
      "text/html": [
       "<div>\n",
       "<table border=\"1\" class=\"dataframe\">\n",
       "  <thead>\n",
       "    <tr style=\"text-align: right;\">\n",
       "      <th></th>\n",
       "      <th>object_id</th>\n",
       "      <th>worker_id</th>\n",
       "      <th>x_locs</th>\n",
       "      <th>y_locs</th>\n",
       "    </tr>\n",
       "  </thead>\n",
       "  <tbody>\n",
       "    <tr>\n",
       "      <th>183</th>\n",
       "      <td>9</td>\n",
       "      <td>2</td>\n",
       "      <td>[257, 353, 380, 383, 385, 309, 294, 284, 269, ...</td>\n",
       "      <td>[219, 191, 232, 252, 279, 288, 278, 269, 268, ...</td>\n",
       "    </tr>\n",
       "    <tr>\n",
       "      <th>1891</th>\n",
       "      <td>12</td>\n",
       "      <td>2</td>\n",
       "      <td>[304, 307, 308, 381, 394, 402, 402, 310]</td>\n",
       "      <td>[292, 311, 323, 439, 443, 440, 431, 301]</td>\n",
       "    </tr>\n",
       "    <tr>\n",
       "      <th>1892</th>\n",
       "      <td>10</td>\n",
       "      <td>2</td>\n",
       "      <td>[393, 411, 440, 472, 520, 541, 539, 537, 537, ...</td>\n",
       "      <td>[237, 228, 224, 225, 238, 257, 270, 278, 285, ...</td>\n",
       "    </tr>\n",
       "  </tbody>\n",
       "</table>\n",
       "</div>"
      ],
      "text/plain": [
       "      object_id  worker_id                                             x_locs  \\\n",
       "183           9          2  [257, 353, 380, 383, 385, 309, 294, 284, 269, ...   \n",
       "1891         12          2           [304, 307, 308, 381, 394, 402, 402, 310]   \n",
       "1892         10          2  [393, 411, 440, 472, 520, 541, 539, 537, 537, ...   \n",
       "\n",
       "                                                 y_locs  \n",
       "183   [219, 191, 232, 252, 279, 288, 278, 269, 268, ...  \n",
       "1891           [292, 311, 323, 439, 443, 440, 431, 301]  \n",
       "1892  [237, 228, 224, 225, 238, 257, 270, 278, 285, ...  "
      ]
     },
     "execution_count": 204,
     "metadata": {},
     "output_type": "execute_result"
    }
   ],
   "source": [
    "bb_info[bb_info[\"worker_id\"]==2]"
   ]
  },
  {
   "cell_type": "code",
   "execution_count": 201,
   "metadata": {},
   "outputs": [
    {
     "data": {
      "text/html": [
       "<div>\n",
       "<table border=\"1\" class=\"dataframe\">\n",
       "  <thead>\n",
       "    <tr style=\"text-align: right;\">\n",
       "      <th></th>\n",
       "      <th>object_id</th>\n",
       "      <th>worker_id</th>\n",
       "      <th>x_locs</th>\n",
       "      <th>y_locs</th>\n",
       "    </tr>\n",
       "  </thead>\n",
       "  <tbody>\n",
       "    <tr>\n",
       "      <th>183</th>\n",
       "      <td>9</td>\n",
       "      <td>2</td>\n",
       "      <td>[257, 353, 380, 383, 385, 309, 294, 284, 269, ...</td>\n",
       "      <td>[219, 191, 232, 252, 279, 288, 278, 269, 268, ...</td>\n",
       "    </tr>\n",
       "    <tr>\n",
       "      <th>1891</th>\n",
       "      <td>12</td>\n",
       "      <td>2</td>\n",
       "      <td>[304, 307, 308, 381, 394, 402, 402, 310]</td>\n",
       "      <td>[292, 311, 323, 439, 443, 440, 431, 301]</td>\n",
       "    </tr>\n",
       "    <tr>\n",
       "      <th>1892</th>\n",
       "      <td>10</td>\n",
       "      <td>2</td>\n",
       "      <td>[393, 411, 440, 472, 520, 541, 539, 537, 537, ...</td>\n",
       "      <td>[237, 228, 224, 225, 238, 257, 270, 278, 285, ...</td>\n",
       "    </tr>\n",
       "  </tbody>\n",
       "</table>\n",
       "</div>"
      ],
      "text/plain": [
       "      object_id  worker_id                                             x_locs  \\\n",
       "183           9          2  [257, 353, 380, 383, 385, 309, 294, 284, 269, ...   \n",
       "1891         12          2           [304, 307, 308, 381, 394, 402, 402, 310]   \n",
       "1892         10          2  [393, 411, 440, 472, 520, 541, 539, 537, 537, ...   \n",
       "\n",
       "                                                 y_locs  \n",
       "183   [219, 191, 232, 252, 279, 288, 278, 269, 268, ...  \n",
       "1891           [292, 311, 323, 439, 443, 440, 431, 301]  \n",
       "1892  [237, 228, 224, 225, 238, 257, 270, 278, 285, ...  "
      ]
     },
     "execution_count": 201,
     "metadata": {},
     "output_type": "execute_result"
    }
   ],
   "source": [
    "df[df[\"worker_id\"]==2]"
   ]
  },
  {
   "cell_type": "code",
   "execution_count": 243,
   "metadata": {},
   "outputs": [],
   "source": [
    "from qualityBaseline import *"
   ]
  },
  {
   "cell_type": "code",
   "execution_count": 244,
   "metadata": {
    "collapsed": true
   },
   "outputs": [],
   "source": [
    "img_info,object_tbl,bb_info,hit_info = load_info()"
   ]
  },
  {
   "cell_type": "code",
   "execution_count": 245,
   "metadata": {},
   "outputs": [
    {
     "name": "stderr",
     "output_type": "stream",
     "text": [
      "<ipython-input-245-3563f89a7313>:1: SyntaxWarning: import * only allowed at module level\n",
      "  def compute_self_BBvals(compute_metrics=['simple','area','dist']):\n"
     ]
    }
   ],
   "source": [
    "def compute_self_BBvals(compute_metrics=['simple','area','dist']):\n",
    "    #compute_metrics=[\"Num Points\", 'Precision [Self]','Recall [Self]','Jaccard [Self]',\"NME [Self]\",\"Area Ratio\"]\n",
    "    from analysis_toolbox import *\n",
    "    from collections import OrderedDict\n",
    "    '''\n",
    "    Selectively compute metrics and store into computed_my_COCO_BBvals.csv\n",
    "    'simple': simple baselines [Point,Size]\n",
    "    'area': Area based metrics [Precision, Recall, Jaccard index]\n",
    "    'distance': Distance based metrics [MunkresEuclidean]\n",
    "    '''\n",
    "    if len(compute_metrics)==3: print \"Note: It will take about 2 hours to compute all metrics for all workers\"\n",
    "    save_db_as_csv(connect=False)\n",
    "    #If we are recomputing everything, then load brand new bb_info table\n",
    "    img_info,object_tbl,bb_info,hit_info = load_info()\n",
    "    ground_truth = pd.read_csv(\"../data/object_ground_truth.csv\")\n",
    "    my_BBG  = pd.read_csv(\"../data/my_ground_truth.csv\")\n",
    "\n",
    "    for bb in tqdm(list(bb_info.iterrows())):\n",
    "\n",
    "        oid = bb[1][\"object_id\"]\n",
    "        #Image information\n",
    "        image_id = int(object_tbl[object_tbl.object_id==oid].image_id)\n",
    "        img_name = img_info[\"filename\"][image_id-1]\n",
    "\n",
    "        bbx_path= bb[1][\"x_locs\"]\n",
    "        bby_path= bb[1][\"y_locs\"]\n",
    "        worker_x_locs,worker_y_locs= process_raw_locs([bbx_path,bby_path])\n",
    "        worker_x_locs,worker_y_locs = zip(*list(OrderedDict.fromkeys(zip(worker_x_locs,worker_y_locs))))\n",
    "        #Simple Baseline Measures\n",
    "        if 'simple' in compute_metrics:\n",
    "            bb_info = bb_info.set_value(bb[0],\"Num Points\",len(worker_x_locs))\n",
    "            bb_info = bb_info.set_value(bb[0],\"Area Ratio\",compute_img_to_bb_area_ratio(img_name,worker_x_locs,worker_y_locs))\n",
    "        if ('area' in compute_metrics) or ('dist' in compute_metrics):\n",
    "            \n",
    "            # Comparing with SELF ground truth\n",
    "            my_ground_truth_match = my_BBG[my_BBG.object_id==oid]\n",
    "            my_x_locs,my_y_locs =  process_raw_locs([my_ground_truth_match[\"x_locs\"].iloc[0],my_ground_truth_match[\"y_locs\"].iloc[0]])\n",
    "            my_x_locs,my_y_locs = zip(*list(OrderedDict.fromkeys(zip(my_x_locs,my_y_locs))))\n",
    "            obj_x_locs = [list(worker_x_locs),list(my_x_locs)]\n",
    "            obj_y_locs = [list(worker_y_locs),list(my_y_locs)]\n",
    "            if ('area' in compute_metrics):\n",
    "                bb_info = bb_info.set_value(bb[0],\"Jaccard [Self]\",jaccard(obj_x_locs,obj_y_locs))\n",
    "                bb_info = bb_info.set_value(bb[0],\"Precision [Self]\",precision(obj_x_locs,obj_y_locs))\n",
    "                bb_info = bb_info.set_value(bb[0],\"Recall [Self]\",recall(obj_x_locs,obj_y_locs))\n",
    "    #Drop Unnamed columns (index from rewriting same file)\n",
    "    bb_info = bb_info[bb_info.columns[~bb_info.columns.str.contains('Unnamed:')]]\n",
    "    # replace all NAN values with -1, these are entries for which we don't have COCO ground truth\n",
    "    bb_info = bb_info.fillna(-1)\n",
    "    bb_info.to_csv(\"computed_my_COCO_BBvals.csv\")"
   ]
  },
  {
   "cell_type": "code",
   "execution_count": 246,
   "metadata": {},
   "outputs": [
    {
     "name": "stderr",
     "output_type": "stream",
     "text": [
      "                                                    \r"
     ]
    }
   ],
   "source": [
    "compute_self_BBvals(compute_metrics=['simple','area'])"
   ]
  },
  {
   "cell_type": "code",
   "execution_count": 238,
   "metadata": {
    "collapsed": true
   },
   "outputs": [],
   "source": [
    "def jaccard(obj_x_locs,obj_y_locs):\n",
    "    '''\n",
    "    Jaccard Simmilarity or Overlap Method\n",
    "    used for PASCAL VOC challenge\n",
    "    '''\n",
    "    return intersection(obj_x_locs,obj_y_locs)/union(obj_x_locs,obj_y_locs)"
   ]
  },
  {
   "cell_type": "code",
   "execution_count": 251,
   "metadata": {
    "collapsed": true
   },
   "outputs": [],
   "source": [
    "df =pd.read_csv(\"../data/computed_my_COCO_BBvals.csv\",index_col=0)"
   ]
  },
  {
   "cell_type": "code",
   "execution_count": 252,
   "metadata": {},
   "outputs": [
    {
     "data": {
      "text/html": [
       "<div>\n",
       "<table border=\"1\" class=\"dataframe\">\n",
       "  <thead>\n",
       "    <tr style=\"text-align: right;\">\n",
       "      <th></th>\n",
       "      <th>object_id</th>\n",
       "      <th>worker_id</th>\n",
       "      <th>x_locs</th>\n",
       "      <th>y_locs</th>\n",
       "      <th>Num Points</th>\n",
       "      <th>Area Ratio</th>\n",
       "      <th>Jaccard [Self]</th>\n",
       "      <th>Precision [Self]</th>\n",
       "      <th>Recall [Self]</th>\n",
       "      <th>F1 [COCO]</th>\n",
       "      <th>...</th>\n",
       "      <th>FPR [Self]</th>\n",
       "      <th>Jaccard [COCO]</th>\n",
       "      <th>Precision [COCO]</th>\n",
       "      <th>Recall [COCO]</th>\n",
       "      <th>Union [COCO]</th>\n",
       "      <th>Intersection [COCO]</th>\n",
       "      <th>TPR [COCO]</th>\n",
       "      <th>FNR [COCO]</th>\n",
       "      <th>TNR [COCO]</th>\n",
       "      <th>FPR [COCO]</th>\n",
       "    </tr>\n",
       "  </thead>\n",
       "  <tbody>\n",
       "  </tbody>\n",
       "</table>\n",
       "<p>0 rows × 25 columns</p>\n",
       "</div>"
      ],
      "text/plain": [
       "Empty DataFrame\n",
       "Columns: [object_id, worker_id, x_locs, y_locs, Num Points, Area Ratio, Jaccard [Self], Precision [Self], Recall [Self], F1 [COCO], Union [Self], Intersection [Self], TPR [Self], FNR [Self], TNR [Self], FPR [Self], Jaccard [COCO], Precision [COCO], Recall [COCO], Union [COCO], Intersection [COCO], TPR [COCO], FNR [COCO], TNR [COCO], FPR [COCO]]\n",
       "Index: []\n",
       "\n",
       "[0 rows x 25 columns]"
      ]
     },
     "execution_count": 252,
     "metadata": {},
     "output_type": "execute_result"
    }
   ],
   "source": [
    "df[df[\"worker_id\"]==2]"
   ]
  },
  {
   "cell_type": "code",
   "execution_count": 195,
   "metadata": {
    "scrolled": true
   },
   "outputs": [
    {
     "name": "stdout",
     "output_type": "stream",
     "text": [
      "can not find in df: 10 ;worker: 2\n",
      "can not find: /home/jlee782/final_segmentation/analysis/pixel_em/5workers_rand6/obj47/clust2/\n",
      "can not find in df: 47 ;worker: 52\n",
      "can not find in df: 12 ;worker: 2\n",
      "can not find: /home/jlee782/final_segmentation/analysis/pixel_em/5workers_rand5/obj47/clust2/\n",
      "can not find in df: 47 ;worker: 193\n",
      "can not find in df: 47 ;worker: 259\n",
      "can not find in df: 10 ;worker: 2\n",
      "can not find: /home/jlee782/final_segmentation/analysis/pixel_em/5workers_rand0/obj47/clust2/\n",
      "can not find in df: 47 ;worker: 193\n",
      "can not find in df: 47 ;worker: 259\n",
      "can not find in df: 10 ;worker: 2\n",
      "can not find in df: 12 ;worker: 2\n",
      "can not find in df: 9 ;worker: 2\n",
      "can not find in df: 9 ;worker: 2\n",
      "can not find in df: 10 ;worker: 2\n",
      "can not find in df: 12 ;worker: 2\n",
      "can not find in df: 9 ;worker: 2\n",
      "can not find in df: 10 ;worker: 2\n",
      "can not find in df: 12 ;worker: 2\n",
      "can not find in df: 9 ;worker: 2\n",
      "can not find in df: 9 ;worker: 2\n",
      "can not find in df: 10 ;worker: 2\n",
      "can not find in df: 12 ;worker: 2\n",
      "can not find in df: 10 ;worker: 2\n",
      "can not find in df: 10 ;worker: 2\n",
      "can not find in df: 9 ;worker: 2\n",
      "can not find in df: 10 ;worker: 2\n",
      "can not find in df: 12 ;worker: 2\n",
      "can not find in df: 9 ;worker: 2\n",
      "can not find in df: 10 ;worker: 2\n",
      "can not find in df: 12 ;worker: 2\n",
      "can not find in df: 9 ;worker: 2\n"
     ]
    }
   ],
   "source": [
    "df_data = []\n",
    "for sample_name in sample_lst:\n",
    "    for objid in object_lst:\n",
    "        if str(objid) in obj_clusters[batch]:\n",
    "            #clusts = [\"-1\"] + [obj_clusters[batch][str(objid)]]\n",
    "            clusts = [obj_clusters[batch][str(objid)]]\n",
    "        else:\n",
    "            clusts = [\"-1\"]\n",
    "        for cluster_id in clusts:\n",
    "            if cluster_id!=\"\" and cluster_id!=\"-1\"  :\n",
    "                outdir = '{}{}/obj{}/clust{}/'.format(PIXEL_EM_DIR, sample_name, objid,cluster_id)\n",
    "            else:\n",
    "                outdir = '{}{}/obj{}/'.format(PIXEL_EM_DIR, sample_name, objid)\n",
    "#             if clust==\"-1\":\n",
    "#                 worker_ids = json.load(open(hydir+\"worker_ids.json\"))\n",
    "#             else:\n",
    "#                 worker_ids= json.load(open(hydir+\"/clust{}/worker_ids.json\".format(clust)))\n",
    "            try:\n",
    "                qj = pkl.load(open(\"{}Qj_best_thresh.pkl\".format(outdir)))\n",
    "            except(IOError):\n",
    "                print \"can not find:\",outdir\n",
    "            for wid,q in qj.iteritems():\n",
    "                if len(df[(df[\"object_id\"]==objid)&(df[\"worker_id\"]==wid)])==0:\n",
    "                    print \"can not find in df:\",objid,\";worker:\",wid\n",
    "                else:\n",
    "                    worker_performance = df[(df[\"object_id\"]==objid)&(df[\"worker_id\"]==wid)][[\"Jaccard [Self]\",\"Precision [Self]\",\"Recall [Self]\",\"FPR [Self]\",\"FNR [Self]\"]].values[0]\n",
    "                data = [sample_name,objid,clust,wid,q]\n",
    "                data.extend(worker_performance)\n",
    "                df_data.append(data)"
   ]
  },
  {
   "cell_type": "code",
   "execution_count": 194,
   "metadata": {},
   "outputs": [
    {
     "data": {
      "text/plain": [
       "0"
      ]
     },
     "execution_count": 194,
     "metadata": {},
     "output_type": "execute_result"
    }
   ],
   "source": []
  },
  {
   "cell_type": "code",
   "execution_count": 122,
   "metadata": {
    "collapsed": true
   },
   "outputs": [],
   "source": [
    "qj = pkl.load(open(\"pixel_em/10workers_rand0/obj1/Qj_best_thresh.pkl\"))"
   ]
  },
  {
   "cell_type": "code",
   "execution_count": 139,
   "metadata": {},
   "outputs": [
    {
     "name": "stdout",
     "output_type": "stream",
     "text": [
      "118 0.997457682292\n",
      "170 0.995234375\n",
      "140 0.995891927083\n",
      "239 0.998115234375\n",
      "52 0.993450520833\n",
      "149 0.997766927083\n",
      "246 0.996282552083\n",
      "248 0.993938802083\n",
      "116 0.997415364583\n",
      "182 0.997584635417\n"
     ]
    }
   ],
   "source": [
    "for wid,q in qj.iteritems():\n",
    "    print wid,q"
   ]
  },
  {
   "cell_type": "code",
   "execution_count": null,
   "metadata": {
    "collapsed": true
   },
   "outputs": [],
   "source": [
    "ls pixel_em/10workers_rand0/obj1/Qj_best_thresh.pkl"
   ]
  }
 ],
 "metadata": {
  "kernelspec": {
   "display_name": "Python 2",
   "language": "python",
   "name": "python2"
  },
  "language_info": {
   "codemirror_mode": {
    "name": "ipython",
    "version": 2
   },
   "file_extension": ".py",
   "mimetype": "text/x-python",
   "name": "python",
   "nbconvert_exporter": "python",
   "pygments_lexer": "ipython2",
   "version": "2.7.14"
  }
 },
 "nbformat": 4,
 "nbformat_minor": 2
}

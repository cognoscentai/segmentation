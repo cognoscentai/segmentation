{
 "cells": [
  {
   "cell_type": "code",
   "execution_count": 119,
   "metadata": {
    "collapsed": false,
    "scrolled": true
   },
   "outputs": [
    {
     "name": "stdout",
     "output_type": "stream",
     "text": [
      "/Users/akashds1/Dropbox/CrowdSourcing/segmentation/analysis\n"
     ]
    }
   ],
   "source": [
    "cd ../analysis/"
   ]
  },
  {
   "cell_type": "code",
   "execution_count": 120,
   "metadata": {
    "collapsed": false
   },
   "outputs": [
    {
     "name": "stdout",
     "output_type": "stream",
     "text": [
      "Populating the interactive namespace from numpy and matplotlib\n",
      "The autoreload extension is already loaded. To reload it, use:\n",
      "  %reload_ext autoreload\n"
     ]
    }
   ],
   "source": [
    "%pylab inline\n",
    "%load_ext autoreload\n",
    "%autoreload 2"
   ]
  },
  {
   "cell_type": "code",
   "execution_count": 121,
   "metadata": {
    "collapsed": false
   },
   "outputs": [
    {
     "name": "stdout",
     "output_type": "stream",
     "text": [
      "all missing:  775\n",
      "all present:  651\n",
      "MV missing:  0\n",
      "MV present:  1426\n",
      "GT missing:  0\n",
      "GT present:  1426\n",
      "GTLSA missing:  0\n",
      "GTLSA present:  1426\n",
      "basic missing:  0\n",
      "basic present:  1426\n",
      "isoGT missing:  0\n",
      "isoGT present:  1426\n",
      "isoGTLSA missing:  0\n",
      "isoGTLSA present:  1426\n",
      "isobasic missing:  0\n",
      "isobasic present:  1426\n"
     ]
    }
   ],
   "source": [
    "from collections import defaultdict\n",
    "import csv\n",
    "\n",
    "samples_for_num = {\n",
    "    5: range(10),\n",
    "    10: range(8),\n",
    "    15: range(6),\n",
    "    20: range(4),\n",
    "    25: range(2),\n",
    "    30: range(1)\n",
    "}\n",
    "all_data = defaultdict(lambda: defaultdict(lambda: defaultdict(lambda: defaultdict(dict))))\n",
    "# all_data[nworkers][sample_num][objid][clust]\n",
    "all_algos = ['all', 'MV', 'GT', 'GTLSA', 'basic', 'isoGT', 'isoGTLSA', 'isobasic']\n",
    "for algo in all_algos:\n",
    "    if algo == 'all':\n",
    "        filename = 'pixel_em/all_PRJ_table.csv'\n",
    "    else:\n",
    "        filename = 'pixel_em/{}_full_PRJ_table.csv'.format(algo)\n",
    "    with open(filename, 'r') as csvfile:\n",
    "        reader = csv.DictReader(csvfile)\n",
    "        for row in reader:\n",
    "            nworkers = int(float(row['num_workers']))\n",
    "            sample_num = int(float(row['sample_num']))\n",
    "            objid = int(float(row['objid']))\n",
    "            clust = int(float(row['clust']))\n",
    "    #         print nworkers, sample_num, objid, clust\n",
    "            all_data[algo][nworkers][sample_num][objid][clust] = row\n",
    "\n",
    "    obj_missing_noclust = []\n",
    "    num_present = 0\n",
    "    for nworkers in samples_for_num.keys():\n",
    "        for sample_num in samples_for_num[nworkers]:\n",
    "            for objid in range(1, 48):\n",
    "                if objid == 35:\n",
    "                    continue\n",
    "                if -1 not in all_data[algo][nworkers][sample_num][objid].keys():\n",
    "                    obj_missing_noclust.append((nworkers, sample_num, objid))\n",
    "                else:\n",
    "                    num_present += 1\n",
    "\n",
    "    print algo, 'missing: ', len(obj_missing_noclust)\n",
    "    print algo, 'present: ', num_present"
   ]
  },
  {
   "cell_type": "code",
   "execution_count": 122,
   "metadata": {
    "collapsed": false
   },
   "outputs": [],
   "source": [
    "best_clust = defaultdict(lambda: defaultdict(dict))  # best_clust[nworkers][sample_num][objid] = clust\n",
    "with open('best_clust_picking.csv', 'r') as csvfile:\n",
    "    reader = csv.DictReader(csvfile)\n",
    "    for row in reader:\n",
    "        nworkers = int(row['num_workers'])\n",
    "        sample_num = int(row['sample_num'])\n",
    "        objid = int(row['objid'])\n",
    "        clust = int(row['clust'])\n",
    "#         print nworkers, sample_num, objid, clust\n",
    "        best_clust[nworkers][sample_num][objid] = clust"
   ]
  },
  {
   "cell_type": "code",
   "execution_count": 124,
   "metadata": {
    "collapsed": false
   },
   "outputs": [
    {
     "name": "stdout",
     "output_type": "stream",
     "text": [
      "num (sample x obj) missing clust = -1 in MV: 0\n",
      "num (sample x obj) with best_clust = -1 in MV: 827\n",
      "num total in MV: 1426\n"
     ]
    }
   ],
   "source": [
    "########## Checking (nworkers, sample, objid) missing -1 clust and with best clust = -1 #########\n",
    "algo = 'MV'\n",
    "obj_missing_noclust = []\n",
    "obj_with_noclust_best = []\n",
    "num_total = 0\n",
    "for nworkers in all_data[algo].keys():\n",
    "    for sample_num in all_data[algo][nworkers]:\n",
    "        for objid in all_data[algo][nworkers][sample_num]:\n",
    "            if -1 not in all_data[algo][nworkers][sample_num][objid].keys():\n",
    "#                 print '({}, {}, {})'.format(nworkers, sample_num, objid)\n",
    "                obj_missing_noclust.append((nworkers, sample_num, objid))\n",
    "            if best_clust[nworkers][sample_num][objid] == -1:\n",
    "                obj_with_noclust_best.append((nworkers, sample_num, objid))\n",
    "            num_total += 1\n",
    "print 'num (sample x obj) missing clust = -1 in {}: {}'.format(algo, len(obj_missing_noclust))\n",
    "print 'num (sample x obj) with best_clust = -1 in {}: {}'.format(algo, len(obj_with_noclust_best))\n",
    "print 'num total in {}: {}'.format(algo, num_total)\n",
    "\n",
    "with open('{}_obj_missing_noclust.json'.format(algo), 'w') as fp:\n",
    "    fp.write(json.dumps(obj_missing_noclust))"
   ]
  },
  {
   "cell_type": "code",
   "execution_count": 127,
   "metadata": {
    "collapsed": false
   },
   "outputs": [],
   "source": [
    "\n",
    "\n",
    "def clust_vs_noclust(algo='MV', filtered=False)\n",
    "    jacc_noclust = defaultdict(list)  # jacc[nworkers] = []\n",
    "    jacc_bestclust = defaultdict(list)\n",
    "    for nworkers in all_data[algo].keys():\n",
    "        for sample_num in all_data[algo][nworkers]:\n",
    "            for objid in all_data[algo][nworkers][sample_num]:\n",
    "    #             print nworkers, sample_num, objid\n",
    "                best = best_clust[nworkers][sample_num][objid]\n",
    "                if filtered and best == -1 or -1 not in all_data[algo][nworkers][sample_num][objid].keys():\n",
    "                    continue\n",
    "                noclust_MV = float(all_data[algo][nworkers][sample_num][objid][-1]['jaccard'])\n",
    "                jacc_noclust[nworkers].append(noclust_MV)\n",
    "                bestclust_MV = float(all_data[algo][nworkers][sample_num][objid][best]['jaccard'])\n",
    "                jacc_bestclust[nworkers].append(bestclust_MV)\n",
    "\n",
    "    \n",
    "    x = [5, 10, 15, 20, 25, 30]\n",
    "    y_noclust = defaultdict(list)\n",
    "    y_bestclust = defaultdict(list)\n",
    "    for nworkers in jacc_noclust.keys():\n",
    "#         x.append(nworkers)\n",
    "#         print jacc_noclust[nworkers]\n",
    "#         print jacc_bestclust[nworkers]\n",
    "        y_noclust.append(np.mean(jacc_noclust[nworkers]))\n",
    "        y_bestclust.append(np.mean(jacc_bestclust[nworkers]))\n",
    "\n",
    "    plt.figure()\n",
    "    plt.title('{}_{}_noclust_vs_bestclust'.format(algo, 'filtered' if filtered else 'unfiltered'))\n",
    "    plt.plot(x, y_noclust, color='blue', label='noclust')\n",
    "    plt.plot(x, y_bestclust, color='orange', label='bestclust')\n",
    "    plt.legend()\n",
    "    plt.savefig('{}_{}_noclust_vs_bestclust.png'.format(algo, 'filtered' if filtered else 'unfiltered')))\n",
    "    plt.close()\n",
    "\n",
    "########## comparing algo jaccs for noclust vs bestclust\n",
    "for algo in ['MV', 'GT', 'GTLSA', 'basic', 'isoGT', 'isoGTLSA', 'isobasic']:\n",
    "    for filtered in [True, False]:\n",
    "        \n",
    "        "
   ]
  },
  {
   "cell_type": "code",
   "execution_count": 128,
   "metadata": {
    "collapsed": false
   },
   "outputs": [
    {
     "name": "stdout",
     "output_type": "stream",
     "text": [
      "[5, 10, 15, 20, 25, 30]\n",
      "[0.86751363013787819, 0.86991365399626419, 0.87814695851686642, 0.87871790761739921, 0.87983001131982241, 0.88304977163212539]\n",
      "[0.88450273489179809, 0.89271183408768962, 0.89442649784486516, 0.89656096954196851, 0.89758237846650757, 0.89895529874264013]\n"
     ]
    }
   ],
   "source": [
    "print x\n",
    "print y_noclust\n",
    "print y_bestclust"
   ]
  },
  {
   "cell_type": "code",
   "execution_count": 131,
   "metadata": {
    "collapsed": false
   },
   "outputs": [],
   "source": []
  },
  {
   "cell_type": "code",
   "execution_count": null,
   "metadata": {
    "collapsed": true
   },
   "outputs": [],
   "source": []
  }
 ],
 "metadata": {
  "kernelspec": {
   "display_name": "Python 2",
   "language": "python",
   "name": "python2"
  },
  "language_info": {
   "codemirror_mode": {
    "name": "ipython",
    "version": 2
   },
   "file_extension": ".py",
   "mimetype": "text/x-python",
   "name": "python",
   "nbconvert_exporter": "python",
   "pygments_lexer": "ipython2",
   "version": "2.7.6"
  }
 },
 "nbformat": 4,
 "nbformat_minor": 2
}

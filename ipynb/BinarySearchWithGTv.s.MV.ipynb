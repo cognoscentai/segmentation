{
 "cells": [
  {
   "cell_type": "code",
   "execution_count": 63,
   "metadata": {},
   "outputs": [
    {
     "name": "stdout",
     "output_type": "stream",
     "text": [
      "/srv/data/home/jlee782/segmentation/analysis\n"
     ]
    }
   ],
   "source": [
    "cd ../analysis/"
   ]
  },
  {
   "cell_type": "code",
   "execution_count": 64,
   "metadata": {},
   "outputs": [
    {
     "name": "stdout",
     "output_type": "stream",
     "text": [
      "Populating the interactive namespace from numpy and matplotlib\n",
      "The autoreload extension is already loaded. To reload it, use:\n",
      "  %reload_ext autoreload\n"
     ]
    },
    {
     "name": "stderr",
     "output_type": "stream",
     "text": [
      "/home/jlee782/.local/lib/python2.7/site-packages/IPython/core/magics/pylab.py:161: UserWarning: pylab import has clobbered these variables: ['axes', 'box', 'Polygon']\n",
      "`%matplotlib` prevents importing * from pylab and numpy\n",
      "  \"\\n`%matplotlib` prevents importing * from pylab and numpy\"\n"
     ]
    }
   ],
   "source": [
    "%pylab inline\n",
    "%load_ext autoreload\n",
    "%autoreload 2\n",
    "# from paper_visualizations import * \n",
    "from PixelEM import * \n",
    "# from test_sample import test_sample_obj\n",
    "from withClustAnalysis import *"
   ]
  },
  {
   "cell_type": "markdown",
   "metadata": {
    "collapsed": true
   },
   "source": [
    "ran testBinaryThresholdSearch.py 25workers_rand0 from obj 1~44 using compareWith as MV v.s. gt "
   ]
  },
  {
   "cell_type": "code",
   "execution_count": 65,
   "metadata": {},
   "outputs": [],
   "source": [
    "# !cat testBinaryThresholdSearch.py"
   ]
  },
  {
   "cell_type": "code",
   "execution_count": 66,
   "metadata": {
    "collapsed": true
   },
   "outputs": [],
   "source": [
    "import glob"
   ]
  },
  {
   "cell_type": "code",
   "execution_count": 67,
   "metadata": {},
   "outputs": [],
   "source": [
    "df_data = []\n",
    "comparedWith = \"MV\"\n",
    "for path in glob.glob(\"pixel_em/*/obj*/*_ground_truth_cwMV_EM_prj_best_thresh*\"):\n",
    "    objid = int(path.split(\"obj\")[-1].split(\"/\")[0])\n",
    "    algo = path.split(\"/\")[-1].split(\"_\")[0]\n",
    "    p,r,j = json.load(open(path))\n",
    "    sample_name= path.split(\"/\")[1]\n",
    "    df_data.append([sample_name,objid,algo,p,r,j,comparedWith])\n",
    "\n",
    "comparedWith = \"gt\"\n",
    "for path in glob.glob(\"pixel_em/*/obj*/*_ground_truth_cwgt_EM_prj_best_thresh*\"):\n",
    "    objid = int(path.split(\"obj\")[-1].split(\"/\")[0])\n",
    "    algo = path.split(\"/\")[-1].split(\"_\")[0]\n",
    "    p,r,j = json.load(open(path))\n",
    "    sample_name= path.split(\"/\")[1]\n",
    "    df_data.append([sample_name,objid,algo,p,r,j,comparedWith])"
   ]
  },
  {
   "cell_type": "code",
   "execution_count": 68,
   "metadata": {},
   "outputs": [],
   "source": [
    "df = pd.DataFrame(df_data,columns=[\"sample_name\",\"objid\",\"algo\",\"p\",\"r\",\"j\",\"comparedWith\"])"
   ]
  },
  {
   "cell_type": "code",
   "execution_count": 27,
   "metadata": {},
   "outputs": [
    {
     "data": {
      "text/plain": [
       "0.85546875"
      ]
     },
     "execution_count": 27,
     "metadata": {},
     "output_type": "execute_result"
    }
   ],
   "source": [
    "df.loc[df.comparedWith==\"gt\", 'j'].values[0]"
   ]
  },
  {
   "cell_type": "code",
   "execution_count": 38,
   "metadata": {},
   "outputs": [],
   "source": [
    "def calculate_diff(group):\n",
    "    group['diff'] = group.loc[group.comparedWith==\"gt\", 'j'].values[0] - group.loc[group.comparedWith==\"MV\", 'j'].values[0]\n",
    "    return group\n",
    "new_df = df.groupby([\"sample_name\",\"objid\",\"algo\"]).apply(calculate_diff)"
   ]
  },
  {
   "cell_type": "code",
   "execution_count": 48,
   "metadata": {},
   "outputs": [
    {
     "data": {
      "text/plain": [
       "<matplotlib.text.Text at 0x7f0fa2bc2f50>"
      ]
     },
     "execution_count": 48,
     "metadata": {},
     "output_type": "execute_result"
    },
    {
     "data": {
      "image/png": "[encoded data removed]",
      "text/plain": [
       "<matplotlib.figure.Figure at 0x7f0fd2fd88d0>"
      ]
     },
     "metadata": {},
     "output_type": "display_data"
    }
   ],
   "source": [
    "axes =  new_df[\"diff\"].hist(bins=100)\n",
    "plt.title(\"J [GT] - J[MV]\")"
   ]
  },
  {
   "cell_type": "code",
   "execution_count": 62,
   "metadata": {},
   "outputs": [
    {
     "data": {
      "text/html": [
       "<div>\n",
       "<table border=\"1\" class=\"dataframe\">\n",
       "  <thead>\n",
       "    <tr style=\"text-align: right;\">\n",
       "      <th></th>\n",
       "      <th>sample_name</th>\n",
       "      <th>objid</th>\n",
       "      <th>algo</th>\n",
       "      <th>p</th>\n",
       "      <th>r</th>\n",
       "      <th>j</th>\n",
       "      <th>comparedWith</th>\n",
       "      <th>diff</th>\n",
       "    </tr>\n",
       "  </thead>\n",
       "  <tbody>\n",
       "    <tr>\n",
       "      <th>115</th>\n",
       "      <td>10workers_rand0</td>\n",
       "      <td>20</td>\n",
       "      <td>basic</td>\n",
       "      <td>0.997144</td>\n",
       "      <td>0.684936</td>\n",
       "      <td>0.683594</td>\n",
       "      <td>MV</td>\n",
       "      <td>0.256918</td>\n",
       "    </tr>\n",
       "    <tr>\n",
       "      <th>116</th>\n",
       "      <td>10workers_rand0</td>\n",
       "      <td>20</td>\n",
       "      <td>GT</td>\n",
       "      <td>0.997144</td>\n",
       "      <td>0.684936</td>\n",
       "      <td>0.683594</td>\n",
       "      <td>MV</td>\n",
       "      <td>0.258529</td>\n",
       "    </tr>\n",
       "    <tr>\n",
       "      <th>117</th>\n",
       "      <td>10workers_rand0</td>\n",
       "      <td>20</td>\n",
       "      <td>GTLSA</td>\n",
       "      <td>0.997144</td>\n",
       "      <td>0.684936</td>\n",
       "      <td>0.683594</td>\n",
       "      <td>MV</td>\n",
       "      <td>0.263060</td>\n",
       "    </tr>\n",
       "    <tr>\n",
       "      <th>118</th>\n",
       "      <td>10workers_rand0</td>\n",
       "      <td>20</td>\n",
       "      <td>isoGT</td>\n",
       "      <td>0.997144</td>\n",
       "      <td>0.684936</td>\n",
       "      <td>0.683594</td>\n",
       "      <td>MV</td>\n",
       "      <td>0.258529</td>\n",
       "    </tr>\n",
       "    <tr>\n",
       "      <th>119</th>\n",
       "      <td>10workers_rand0</td>\n",
       "      <td>20</td>\n",
       "      <td>isoGTLSA</td>\n",
       "      <td>0.997628</td>\n",
       "      <td>0.681651</td>\n",
       "      <td>0.680548</td>\n",
       "      <td>MV</td>\n",
       "      <td>0.262966</td>\n",
       "    </tr>\n",
       "    <tr>\n",
       "      <th>209</th>\n",
       "      <td>25workers_rand1</td>\n",
       "      <td>10</td>\n",
       "      <td>isoGTLSA</td>\n",
       "      <td>0.654218</td>\n",
       "      <td>1.000000</td>\n",
       "      <td>0.654218</td>\n",
       "      <td>MV</td>\n",
       "      <td>0.345782</td>\n",
       "    </tr>\n",
       "    <tr>\n",
       "      <th>415</th>\n",
       "      <td>10workers_rand0</td>\n",
       "      <td>20</td>\n",
       "      <td>basic</td>\n",
       "      <td>0.965001</td>\n",
       "      <td>0.973727</td>\n",
       "      <td>0.940512</td>\n",
       "      <td>gt</td>\n",
       "      <td>0.256918</td>\n",
       "    </tr>\n",
       "    <tr>\n",
       "      <th>416</th>\n",
       "      <td>10workers_rand0</td>\n",
       "      <td>20</td>\n",
       "      <td>GT</td>\n",
       "      <td>0.964980</td>\n",
       "      <td>0.975476</td>\n",
       "      <td>0.942124</td>\n",
       "      <td>gt</td>\n",
       "      <td>0.258529</td>\n",
       "    </tr>\n",
       "    <tr>\n",
       "      <th>417</th>\n",
       "      <td>10workers_rand0</td>\n",
       "      <td>20</td>\n",
       "      <td>GTLSA</td>\n",
       "      <td>0.971851</td>\n",
       "      <td>0.973343</td>\n",
       "      <td>0.946654</td>\n",
       "      <td>gt</td>\n",
       "      <td>0.263060</td>\n",
       "    </tr>\n",
       "    <tr>\n",
       "      <th>418</th>\n",
       "      <td>10workers_rand0</td>\n",
       "      <td>20</td>\n",
       "      <td>isoGT</td>\n",
       "      <td>0.964980</td>\n",
       "      <td>0.975476</td>\n",
       "      <td>0.942124</td>\n",
       "      <td>gt</td>\n",
       "      <td>0.258529</td>\n",
       "    </tr>\n",
       "    <tr>\n",
       "      <th>419</th>\n",
       "      <td>10workers_rand0</td>\n",
       "      <td>20</td>\n",
       "      <td>isoGTLSA</td>\n",
       "      <td>0.975134</td>\n",
       "      <td>0.966775</td>\n",
       "      <td>0.943515</td>\n",
       "      <td>gt</td>\n",
       "      <td>0.262966</td>\n",
       "    </tr>\n",
       "    <tr>\n",
       "      <th>506</th>\n",
       "      <td>25workers_rand1</td>\n",
       "      <td>10</td>\n",
       "      <td>isoGTLSA</td>\n",
       "      <td>1.000000</td>\n",
       "      <td>1.000000</td>\n",
       "      <td>1.000000</td>\n",
       "      <td>gt</td>\n",
       "      <td>0.345782</td>\n",
       "    </tr>\n",
       "  </tbody>\n",
       "</table>\n",
       "</div>"
      ],
      "text/plain": [
       "         sample_name  objid      algo         p         r         j  \\\n",
       "115  10workers_rand0     20     basic  0.997144  0.684936  0.683594   \n",
       "116  10workers_rand0     20        GT  0.997144  0.684936  0.683594   \n",
       "117  10workers_rand0     20     GTLSA  0.997144  0.684936  0.683594   \n",
       "118  10workers_rand0     20     isoGT  0.997144  0.684936  0.683594   \n",
       "119  10workers_rand0     20  isoGTLSA  0.997628  0.681651  0.680548   \n",
       "209  25workers_rand1     10  isoGTLSA  0.654218  1.000000  0.654218   \n",
       "415  10workers_rand0     20     basic  0.965001  0.973727  0.940512   \n",
       "416  10workers_rand0     20        GT  0.964980  0.975476  0.942124   \n",
       "417  10workers_rand0     20     GTLSA  0.971851  0.973343  0.946654   \n",
       "418  10workers_rand0     20     isoGT  0.964980  0.975476  0.942124   \n",
       "419  10workers_rand0     20  isoGTLSA  0.975134  0.966775  0.943515   \n",
       "506  25workers_rand1     10  isoGTLSA  1.000000  1.000000  1.000000   \n",
       "\n",
       "    comparedWith      diff  \n",
       "115           MV  0.256918  \n",
       "116           MV  0.258529  \n",
       "117           MV  0.263060  \n",
       "118           MV  0.258529  \n",
       "119           MV  0.262966  \n",
       "209           MV  0.345782  \n",
       "415           gt  0.256918  \n",
       "416           gt  0.258529  \n",
       "417           gt  0.263060  \n",
       "418           gt  0.258529  \n",
       "419           gt  0.262966  \n",
       "506           gt  0.345782  "
      ]
     },
     "execution_count": 62,
     "metadata": {},
     "output_type": "execute_result"
    }
   ],
   "source": [
    "new_df[new_df[\"diff\"]>0.25]"
   ]
  },
  {
   "cell_type": "code",
   "execution_count": 43,
   "metadata": {},
   "outputs": [
    {
     "data": {
      "text/plain": [
       "0.0086534717880592249"
      ]
     },
     "execution_count": 43,
     "metadata": {},
     "output_type": "execute_result"
    }
   ],
   "source": [
    "new_df[\"diff\"].mean()"
   ]
  },
  {
   "cell_type": "code",
   "execution_count": 57,
   "metadata": {},
   "outputs": [
    {
     "data": {
      "text/plain": [
       "0.28666666666666668"
      ]
     },
     "execution_count": 57,
     "metadata": {},
     "output_type": "execute_result"
    }
   ],
   "source": [
    "new_df[new_df[\"diff\"]<0].count()[\"diff\"]/600."
   ]
  },
  {
   "cell_type": "code",
   "execution_count": 59,
   "metadata": {},
   "outputs": [
    {
     "data": {
      "text/plain": [
       "0.64333333333333331"
      ]
     },
     "execution_count": 59,
     "metadata": {},
     "output_type": "execute_result"
    }
   ],
   "source": [
    "new_df[new_df[\"diff\"]>0].count()[\"diff\"]/600."
   ]
  },
  {
   "cell_type": "code",
   "execution_count": 61,
   "metadata": {},
   "outputs": [
    {
     "data": {
      "text/plain": [
       "0.070000000000000007"
      ]
     },
     "execution_count": 61,
     "metadata": {},
     "output_type": "execute_result"
    }
   ],
   "source": [
    "new_df[new_df[\"diff\"]==0].count()[\"diff\"]/600."
   ]
  },
  {
   "cell_type": "code",
   "execution_count": null,
   "metadata": {
    "collapsed": true
   },
   "outputs": [],
   "source": []
  }
 ],
 "metadata": {
  "kernelspec": {
   "display_name": "Python 2",
   "language": "python",
   "name": "python2"
  },
  "language_info": {
   "codemirror_mode": {
    "name": "ipython",
    "version": 2
   },
   "file_extension": ".py",
   "mimetype": "text/x-python",
   "name": "python",
   "nbconvert_exporter": "python",
   "pygments_lexer": "ipython2",
   "version": "2.7.14"
  }
 },
 "nbformat": 4,
 "nbformat_minor": 2
}

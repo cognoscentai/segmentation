{
 "cells": [
  {
   "cell_type": "code",
   "execution_count": 3,
   "metadata": {},
   "outputs": [
    {
     "name": "stdout",
     "output_type": "stream",
     "text": [
      "/home/jlee782/hcomp_paper_seg/analysis\n"
     ]
    }
   ],
   "source": [
    "cd ../analysis/"
   ]
  },
  {
   "cell_type": "code",
   "execution_count": 51,
   "metadata": {},
   "outputs": [
    {
     "name": "stdout",
     "output_type": "stream",
     "text": [
      "Populating the interactive namespace from numpy and matplotlib\n"
     ]
    },
    {
     "name": "stderr",
     "output_type": "stream",
     "text": [
      "/home/jlee782/.local/lib/python2.7/site-packages/IPython/core/magics/pylab.py:161: UserWarning: pylab import has clobbered these variables: ['sample']\n",
      "`%matplotlib` prevents importing * from pylab and numpy\n",
      "  \"\\n`%matplotlib` prevents importing * from pylab and numpy\"\n"
     ]
    }
   ],
   "source": [
    "%pylab inline"
   ]
  },
  {
   "cell_type": "code",
   "execution_count": 4,
   "metadata": {},
   "outputs": [],
   "source": [
    "from utils import *\n",
    "import pickle as pkl"
   ]
  },
  {
   "cell_type": "code",
   "execution_count": 44,
   "metadata": {},
   "outputs": [
    {
     "name": "stdout",
     "output_type": "stream",
     "text": [
      "\n"
     ]
    }
   ],
   "source": [
    "sample =\"15workers_rand0\"\n",
    "objid=1\n",
    "clust_id=\"-1\"\n",
    "here = \"/home/jlee782/hcomp_paper_seg/analysis/\"+tile_and_mask_dir(sample,objid,clust_id)+\"/\"\n",
    "there = \"/home/jlee782/final_segmentation/analysis/\"+tile_and_mask_dir(sample,objid,clust_id)+\"/\""
   ]
  },
  {
   "cell_type": "code",
   "execution_count": 49,
   "metadata": {
    "collapsed": true
   },
   "outputs": [],
   "source": [
    "m = pkl.load(open(\"pixel_em/obj1/mask201.pkl\"))"
   ]
  },
  {
   "cell_type": "code",
   "execution_count": 52,
   "metadata": {},
   "outputs": [
    {
     "data": {
      "text/plain": [
       "<matplotlib.colorbar.Colorbar at 0x7f5aa0b18f90>"
      ]
     },
     "execution_count": 52,
     "metadata": {},
     "output_type": "execute_result"
    },
    {
     "data": {
      "image/png": "[encoded data removed]",
      "text/plain": [
       "<matplotlib.figure.Figure at 0x7f5af42f4a10>"
      ]
     },
     "metadata": {},
     "output_type": "display_data"
    }
   ],
   "source": [
    "plt.imshow(m)\n",
    "plt.colorbar()"
   ]
  },
  {
   "cell_type": "code",
   "execution_count": 46,
   "metadata": {},
   "outputs": [
    {
     "name": "stdout",
     "output_type": "stream",
     "text": [
      "prj now: [0.018808499469758502, 0.20252826153376108, 0.017511590737976673]\n",
      "prj before: [0.9867046899687849, 0.9778490681332112, 0.9651324965132496]\n"
     ]
    }
   ],
   "source": [
    "print \"prj now:\",json.load(open(here+\"basic_EM_prj_best_thresh.json\"))\n",
    "print \"prj before:\",json.load(open(there+\"EM_prj_best_thresh.json\"))"
   ]
  },
  {
   "cell_type": "code",
   "execution_count": 28,
   "metadata": {},
   "outputs": [
    {
     "name": "stdout",
     "output_type": "stream",
     "text": [
      "[196, 156, 219, 201, 246]"
     ]
    }
   ],
   "source": [
    "cat /home/jlee782/hcomp_paper_seg/analysis/pixel_em/5workers_rand0/obj1/worker_ids.json"
   ]
  },
  {
   "cell_type": "code",
   "execution_count": 21,
   "metadata": {},
   "outputs": [
    {
     "name": "stdout",
     "output_type": "stream",
     "text": [
      "[196, 219, 156, 246, 201]"
     ]
    }
   ],
   "source": [
    "cat /home/jlee782/hcomp_paper_seg/analysis/pixel_em/5workers_rand0/obj1/clust0/worker_ids.json"
   ]
  },
  {
   "cell_type": "code",
   "execution_count": 22,
   "metadata": {},
   "outputs": [
    {
     "name": "stdout",
     "output_type": "stream",
     "text": [
      "[]"
     ]
    }
   ],
   "source": [
    "cat /home/jlee782/hcomp_paper_seg/analysis/pixel_em/5workers_rand0/obj1/clust1/worker_ids.json"
   ]
  },
  {
   "cell_type": "code",
   "execution_count": 47,
   "metadata": {
    "collapsed": true
   },
   "outputs": [],
   "source": [
    "sample =\"5workers_rand0\"\n",
    "objid=1\n",
    "clust_id=\"-1\"\n",
    "here = \"/home/jlee782/hcomp_paper_seg/analysis/\"+tile_and_mask_dir(sample,objid,clust_id)+\"/\"\n",
    "there = \"/home/jlee782/final_segmentation/analysis/\"+tile_and_mask_dir(sample,objid,clust_id)+\"/\""
   ]
  },
  {
   "cell_type": "code",
   "execution_count": 23,
   "metadata": {
    "collapsed": true
   },
   "outputs": [],
   "source": [
    "m = pkl.load(open(\"/home/jlee782/hcomp_paper_seg/analysis/pixel_em/5workers_rand0/obj1/clust0/GTLSA_gt_est_tiles_best_thresh.pkl\"))"
   ]
  },
  {
   "cell_type": "code",
   "execution_count": 48,
   "metadata": {},
   "outputs": [
    {
     "name": "stdout",
     "output_type": "stream",
     "text": [
      "prj now: [-1, 0.0, 0.0]\n",
      "prj before: [0.9750247468209853, 0.9780782157042469, 0.9541728763040238]\n"
     ]
    }
   ],
   "source": [
    "import json\n",
    "print \"prj now:\",json.load(open(here+\"GTLSA_EM_prj_best_thresh.json\"))\n",
    "print \"prj before:\",json.load(open(there+\"GTLSA_EM_prj_best_thresh.json\"))"
   ]
  },
  {
   "cell_type": "code",
   "execution_count": 60,
   "metadata": {},
   "outputs": [],
   "source": [
    "m = pkl.load(open(\"/home/jlee782/hcomp_paper_seg/analysis/pixel_em/5workers_rand0/obj1/GTLSA_gt_est_tiles_best_thresh.pkl\"))"
   ]
  },
  {
   "cell_type": "code",
   "execution_count": 61,
   "metadata": {},
   "outputs": [
    {
     "data": {
      "text/plain": [
       "set()"
      ]
     },
     "execution_count": 61,
     "metadata": {},
     "output_type": "execute_result"
    }
   ],
   "source": [
    "m"
   ]
  },
  {
   "cell_type": "code",
   "execution_count": 53,
   "metadata": {},
   "outputs": [
    {
     "name": "stdout",
     "output_type": "stream",
     "text": [
      "here: [0.9913617886178862, 0.968644974029942, 0.9605377769361864]\n",
      "there: [0.9941394803672592, 0.9717766575007638, 0.9662413609782031]\n"
     ]
    }
   ],
   "source": [
    "sample =\"10workers_rand0\"\n",
    "objid=1\n",
    "clust_id=-1\n",
    "here = \"/home/jlee782/hcomp_paper_seg/analysis/\"+tile_and_mask_dir(sample,objid,clust_id)+\"/\"\n",
    "there = \"/home/jlee782/final_segmentation/analysis/\"+tile_and_mask_dir(sample,objid,clust_id)+\"/\"\n",
    "import json\n",
    "print \"here:\",json.load(open(here+\"GTLSA_EM_prj_best_thresh.json\"))\n",
    "print \"there:\",json.load(open(there+\"GTLSA_EM_prj_best_thresh.json\"))"
   ]
  },
  {
   "cell_type": "code",
   "execution_count": 56,
   "metadata": {},
   "outputs": [
    {
     "data": {
      "text/plain": [
       "'pixel_em/10workers_rand7/obj22/clust1'"
      ]
     },
     "execution_count": 56,
     "metadata": {},
     "output_type": "execute_result"
    }
   ],
   "source": [
    "outdir+\"/wo\""
   ]
  },
  {
   "cell_type": "code",
   "execution_count": 89,
   "metadata": {
    "collapsed": true,
    "scrolled": true
   },
   "outputs": [],
   "source": [
    "from sample_worker_seeds import sample_specs\n",
    "sample_lst = sample_specs.keys()\n",
    "object_lst = [1, 2, 3, 4, 5, 6, 7, 8, 9, 10, 11, 12, 13, 14, 15, 16, 17, 18, 19, 20, 21, 22, 23, 24, 25, 26, 27, 28, 29, 30, 31, 32, 33, 34, 36, 37, 38, 39, 40,41,42, 43, 44, 45, 46, 47]\n",
    "def check_sample_cluster():\n",
    "    df = pd.read_csv(\"spectral_clustering_all_hard_obj.csv\")\n",
    "    print \"Checking that all clustered samples can reconstruct original worker list exactly\"\n",
    "    for sample in sample_lst:\n",
    "        for objid in object_lst:\n",
    "            cluster_ids = df[(df[\"objid\"] == objid)].cluster.unique()\n",
    "            if len(cluster_ids)!=0:\n",
    "                outdir = tile_and_mask_dir(sample, objid, -1)\n",
    "                noClust_worker_ids = json.load(open(outdir+\"/worker_ids.json\"))\n",
    "                cluster_worker_ids = []\n",
    "                Nworkers = int(sample.split(\"workers\")[0])\n",
    "                try:\n",
    "                    assert len(noClust_worker_ids)==Nworkers\n",
    "                except(AssertionError):\n",
    "                    print \"length of original cluster not equal to number of workers: \"+ sample + ':' + str(objid) \n",
    "                for clust_id in list(cluster_ids):\n",
    "                    worker_ids = np.array(df[(df[\"objid\"] == objid) & (df[\"cluster\"] == clust_id)].wid)\n",
    "                    #if len(worker_ids) > 1:\n",
    "                    outdir = tile_and_mask_dir(sample, objid, clust_id)    \n",
    "                    worker_ids = json.load(open(outdir+\"/worker_ids.json\"))\n",
    "                    cluster_worker_ids.extend(worker_ids)\n",
    "                try:\n",
    "                    assert set(noClust_worker_ids)==set(cluster_worker_ids)\n",
    "                except(AssertionError):\n",
    "                    print \"sum of clustered worker list over all clusters not equal to original worker list\"\n",
    "                    print sample + ':' + str(objid) \n",
    "                    print noClust_worker_ids\n",
    "                    print cluster_worker_ids\n"
   ]
  },
  {
   "cell_type": "code",
   "execution_count": 74,
   "metadata": {},
   "outputs": [
    {
     "name": "stderr",
     "output_type": "stream",
     "text": [
      "/home/jlee782/.local/lib/python2.7/site-packages/matplotlib/__init__.py:1401: UserWarning:  This call to matplotlib.use() has no effect\n",
      "because the backend has already been chosen;\n",
      "matplotlib.use() must be called *before* pylab, matplotlib.pyplot,\n",
      "or matplotlib.backends is imported for the first time.\n",
      "\n",
      "  warnings.warn(_use_error_msg)\n"
     ]
    }
   ],
   "source": [
    "from PixelEM import *"
   ]
  },
  {
   "cell_type": "code",
   "execution_count": 77,
   "metadata": {},
   "outputs": [
    {
     "data": {
      "image/png": "[encoded data removed]",
      "text/plain": [
       "<matplotlib.figure.Figure at 0x7f5a98e82c90>"
      ]
     },
     "metadata": {},
     "output_type": "display_data"
    }
   ],
   "source": [
    "create_mega_mask(47, PLOT=True, sample_name='25workers_rand0', PRINT=False, EXCLUDE_BBG=True)"
   ]
  },
  {
   "cell_type": "code",
   "execution_count": 87,
   "metadata": {},
   "outputs": [
    {
     "name": "stdout",
     "output_type": "stream",
     "text": [
      "[146, 181, 156, 246, 206, 263, 220, 115, 234, 211, 9, 209, 196, 147, 199, 235, 208, 169, 126, 148, 116, 241, 82, 192, 230]"
     ]
    }
   ],
   "source": [
    "cat pixel_em/25workers_rand0/obj47/worker_ids.json"
   ]
  },
  {
   "cell_type": "code",
   "execution_count": 83,
   "metadata": {},
   "outputs": [
    {
     "data": {
      "image/png": "[encoded data removed]",
      "text/plain": [
       "<matplotlib.figure.Figure at 0x7f5a9f42a410>"
      ]
     },
     "metadata": {},
     "output_type": "display_data"
    }
   ],
   "source": [
    "create_mega_mask(4, PLOT=True, sample_name='5workers_rand0', PRINT=False, EXCLUDE_BBG=True)"
   ]
  },
  {
   "cell_type": "code",
   "execution_count": 86,
   "metadata": {},
   "outputs": [
    {
     "name": "stdout",
     "output_type": "stream",
     "text": [
      "[196, 265, 208, 240, 137]"
     ]
    }
   ],
   "source": [
    "cat pixel_em/5workers_rand0/obj4/worker_ids.json"
   ]
  },
  {
   "cell_type": "code",
   "execution_count": 56,
   "metadata": {
    "collapsed": true
   },
   "outputs": [],
   "source": [
    "m = pkl.load(open(here+\"/GTLSA_gt_est_tiles_best_thresh.pkl\"))"
   ]
  },
  {
   "cell_type": "code",
   "execution_count": 84,
   "metadata": {},
   "outputs": [
    {
     "name": "stdout",
     "output_type": "stream",
     "text": [
      "[196, 265, 208, 240, 137]"
     ]
    }
   ],
   "source": [
    "cat pixel_em/5workers_rand0/obj4/worker_ids.json"
   ]
  },
  {
   "cell_type": "code",
   "execution_count": 57,
   "metadata": {},
   "outputs": [
    {
     "data": {
      "text/plain": [
       "{541,\n",
       " 565,\n",
       " 608,\n",
       " 646,\n",
       " 653,\n",
       " 663,\n",
       " 669,\n",
       " 671,\n",
       " 672,\n",
       " 674,\n",
       " 677,\n",
       " 681,\n",
       " 684,\n",
       " 685,\n",
       " 687,\n",
       " 691,\n",
       " 692,\n",
       " 694,\n",
       " 695,\n",
       " 696,\n",
       " 697,\n",
       " 699,\n",
       " 700,\n",
       " 701,\n",
       " 702,\n",
       " 709,\n",
       " 714,\n",
       " 717,\n",
       " 718,\n",
       " 720,\n",
       " 721,\n",
       " 722,\n",
       " 723,\n",
       " 725,\n",
       " 728,\n",
       " 730,\n",
       " 731,\n",
       " 732,\n",
       " 742,\n",
       " 743,\n",
       " 744,\n",
       " 747,\n",
       " 748,\n",
       " 749,\n",
       " 751,\n",
       " 752,\n",
       " 753,\n",
       " 754,\n",
       " 758,\n",
       " 759,\n",
       " 761,\n",
       " 762,\n",
       " 763,\n",
       " 767,\n",
       " 768,\n",
       " 770,\n",
       " 771,\n",
       " 772,\n",
       " 775,\n",
       " 778,\n",
       " 780,\n",
       " 782,\n",
       " 785,\n",
       " 788,\n",
       " 791,\n",
       " 794,\n",
       " 795,\n",
       " 796,\n",
       " 799,\n",
       " 801,\n",
       " 802,\n",
       " 804,\n",
       " 807,\n",
       " 809,\n",
       " 811,\n",
       " 812,\n",
       " 814,\n",
       " 815,\n",
       " 817,\n",
       " 818,\n",
       " 819,\n",
       " 821,\n",
       " 823,\n",
       " 825,\n",
       " 826,\n",
       " 827,\n",
       " 828,\n",
       " 829,\n",
       " 830,\n",
       " 831,\n",
       " 833,\n",
       " 837,\n",
       " 838,\n",
       " 840,\n",
       " 841,\n",
       " 842,\n",
       " 843,\n",
       " 844,\n",
       " 845,\n",
       " 847,\n",
       " 853,\n",
       " 854,\n",
       " 855,\n",
       " 856,\n",
       " 857,\n",
       " 858,\n",
       " 859,\n",
       " 860,\n",
       " 861,\n",
       " 863,\n",
       " 864,\n",
       " 865,\n",
       " 868,\n",
       " 873,\n",
       " 874,\n",
       " 875,\n",
       " 876,\n",
       " 878,\n",
       " 880,\n",
       " 881,\n",
       " 883,\n",
       " 885,\n",
       " 887,\n",
       " 888,\n",
       " 889,\n",
       " 890,\n",
       " 891,\n",
       " 892,\n",
       " 893,\n",
       " 897,\n",
       " 898,\n",
       " 899,\n",
       " 900,\n",
       " 901,\n",
       " 902,\n",
       " 904,\n",
       " 905,\n",
       " 907,\n",
       " 908,\n",
       " 910,\n",
       " 911,\n",
       " 912,\n",
       " 914,\n",
       " 915,\n",
       " 916,\n",
       " 917,\n",
       " 918,\n",
       " 921,\n",
       " 922,\n",
       " 923,\n",
       " 925,\n",
       " 927,\n",
       " 928,\n",
       " 929,\n",
       " 930,\n",
       " 931,\n",
       " 932,\n",
       " 933,\n",
       " 934,\n",
       " 935,\n",
       " 936,\n",
       " 937,\n",
       " 939,\n",
       " 941,\n",
       " 943,\n",
       " 944,\n",
       " 946,\n",
       " 947,\n",
       " 948,\n",
       " 950,\n",
       " 951,\n",
       " 952,\n",
       " 953,\n",
       " 954,\n",
       " 955,\n",
       " 957,\n",
       " 958,\n",
       " 959,\n",
       " 960,\n",
       " 962,\n",
       " 963,\n",
       " 964,\n",
       " 965,\n",
       " 966,\n",
       " 967,\n",
       " 969,\n",
       " 970,\n",
       " 971,\n",
       " 972,\n",
       " 973,\n",
       " 974,\n",
       " 977,\n",
       " 978,\n",
       " 982,\n",
       " 983,\n",
       " 984,\n",
       " 985,\n",
       " 986,\n",
       " 987,\n",
       " 988,\n",
       " 989,\n",
       " 990,\n",
       " 992,\n",
       " 993,\n",
       " 994,\n",
       " 996,\n",
       " 997,\n",
       " 998,\n",
       " 999,\n",
       " 1000,\n",
       " 1001,\n",
       " 1002,\n",
       " 1003,\n",
       " 1004,\n",
       " 1005,\n",
       " 1006,\n",
       " 1007,\n",
       " 1008,\n",
       " 1009,\n",
       " 1010,\n",
       " 1011,\n",
       " 1012,\n",
       " 1013,\n",
       " 1014,\n",
       " 1015,\n",
       " 1016,\n",
       " 1017,\n",
       " 1018,\n",
       " 1019,\n",
       " 1020,\n",
       " 1021,\n",
       " 1022,\n",
       " 1023,\n",
       " 1024,\n",
       " 1025,\n",
       " 1026,\n",
       " 1027,\n",
       " 1028,\n",
       " 1029,\n",
       " 1030,\n",
       " 1031,\n",
       " 1032,\n",
       " 1033,\n",
       " 1034,\n",
       " 1035,\n",
       " 1036,\n",
       " 1037,\n",
       " 1038,\n",
       " 1039,\n",
       " 1040,\n",
       " 1041,\n",
       " 1042,\n",
       " 1043,\n",
       " 1044,\n",
       " 1045,\n",
       " 1046,\n",
       " 1047,\n",
       " 1048,\n",
       " 1049,\n",
       " 1050,\n",
       " 1051,\n",
       " 1052,\n",
       " 1053,\n",
       " 1054,\n",
       " 1055,\n",
       " 1056,\n",
       " 1057,\n",
       " 1058,\n",
       " 1059,\n",
       " 1060,\n",
       " 1061,\n",
       " 1062,\n",
       " 1063,\n",
       " 1064,\n",
       " 1065,\n",
       " 1066,\n",
       " 1067,\n",
       " 1068,\n",
       " 1069,\n",
       " 1070,\n",
       " 1071,\n",
       " 1072,\n",
       " 1073,\n",
       " 1074,\n",
       " 1075,\n",
       " 1076,\n",
       " 1077,\n",
       " 1078,\n",
       " 1079,\n",
       " 1080,\n",
       " 1081,\n",
       " 1082,\n",
       " 1083,\n",
       " 1084,\n",
       " 1085,\n",
       " 1086,\n",
       " 1087,\n",
       " 1088,\n",
       " 1089,\n",
       " 1090,\n",
       " 1091,\n",
       " 1092,\n",
       " 1093,\n",
       " 1094,\n",
       " 1095,\n",
       " 1096,\n",
       " 1097,\n",
       " 1098,\n",
       " 1099,\n",
       " 1100,\n",
       " 1101,\n",
       " 1102,\n",
       " 1103,\n",
       " 1104,\n",
       " 1105,\n",
       " 1106,\n",
       " 1107,\n",
       " 1108,\n",
       " 1109,\n",
       " 1110,\n",
       " 1111,\n",
       " 1112,\n",
       " 1113,\n",
       " 1114,\n",
       " 1115,\n",
       " 1116,\n",
       " 1117,\n",
       " 1118,\n",
       " 1119,\n",
       " 1120,\n",
       " 1121,\n",
       " 1122,\n",
       " 1123,\n",
       " 1124,\n",
       " 1125,\n",
       " 1126,\n",
       " 1127,\n",
       " 1128,\n",
       " 1129,\n",
       " 1130,\n",
       " 1131,\n",
       " 1132,\n",
       " 1133,\n",
       " 1134,\n",
       " 1135,\n",
       " 1136,\n",
       " 1137,\n",
       " 1138,\n",
       " 1139,\n",
       " 1140,\n",
       " 1141,\n",
       " 1142,\n",
       " 1143,\n",
       " 1144,\n",
       " 1145,\n",
       " 1146,\n",
       " 1147,\n",
       " 1148,\n",
       " 1149,\n",
       " 1150,\n",
       " 1151,\n",
       " 1152,\n",
       " 1153,\n",
       " 1154,\n",
       " 1155,\n",
       " 1156,\n",
       " 1157,\n",
       " 1158,\n",
       " 1159,\n",
       " 1160,\n",
       " 1161,\n",
       " 1162,\n",
       " 1163,\n",
       " 1164,\n",
       " 1165,\n",
       " 1166,\n",
       " 1167,\n",
       " 1168,\n",
       " 1169,\n",
       " 1170,\n",
       " 1171,\n",
       " 1172,\n",
       " 1173,\n",
       " 1174,\n",
       " 1175,\n",
       " 1176,\n",
       " 1177,\n",
       " 1178,\n",
       " 1179,\n",
       " 1180,\n",
       " 1181,\n",
       " 1182,\n",
       " 1183,\n",
       " 1184,\n",
       " 1185,\n",
       " 1186,\n",
       " 1187,\n",
       " 1188,\n",
       " 1189,\n",
       " 1190,\n",
       " 1191,\n",
       " 1192,\n",
       " 1193,\n",
       " 1194,\n",
       " 1195,\n",
       " 1196,\n",
       " 1197,\n",
       " 1198,\n",
       " 1199,\n",
       " 1200,\n",
       " 1201,\n",
       " 1202,\n",
       " 1203,\n",
       " 1204,\n",
       " 1205,\n",
       " 1206,\n",
       " 1207,\n",
       " 1208,\n",
       " 1209,\n",
       " 1210,\n",
       " 1211,\n",
       " 1212,\n",
       " 1213,\n",
       " 1214,\n",
       " 1215,\n",
       " 1216,\n",
       " 1217,\n",
       " 1218,\n",
       " 1219,\n",
       " 1220,\n",
       " 1221,\n",
       " 1222,\n",
       " 1223,\n",
       " 1224,\n",
       " 1225,\n",
       " 1226,\n",
       " 1227,\n",
       " 1228,\n",
       " 1229,\n",
       " 1230,\n",
       " 1231,\n",
       " 1232,\n",
       " 1233,\n",
       " 1234,\n",
       " 1235,\n",
       " 1236,\n",
       " 1237,\n",
       " 1238,\n",
       " 1239,\n",
       " 1240,\n",
       " 1241,\n",
       " 1242,\n",
       " 1243,\n",
       " 1244,\n",
       " 1245,\n",
       " 1246,\n",
       " 1247,\n",
       " 1248,\n",
       " 1249,\n",
       " 1250,\n",
       " 1251,\n",
       " 1252,\n",
       " 1253,\n",
       " 1254,\n",
       " 1255,\n",
       " 1256,\n",
       " 1257,\n",
       " 1258,\n",
       " 1259,\n",
       " 1260,\n",
       " 1261,\n",
       " 1262,\n",
       " 1263,\n",
       " 1264,\n",
       " 1265,\n",
       " 1266,\n",
       " 1267,\n",
       " 1268,\n",
       " 1269,\n",
       " 1270,\n",
       " 1271,\n",
       " 1272,\n",
       " 1273,\n",
       " 1274,\n",
       " 1275,\n",
       " 1276,\n",
       " 1277,\n",
       " 1278,\n",
       " 1279,\n",
       " 1280,\n",
       " 1281,\n",
       " 1282,\n",
       " 1283,\n",
       " 1284,\n",
       " 1285,\n",
       " 1286,\n",
       " 1287,\n",
       " 1288,\n",
       " 1289,\n",
       " 1290,\n",
       " 1291,\n",
       " 1292,\n",
       " 1293,\n",
       " 1294,\n",
       " 1295,\n",
       " 1296,\n",
       " 1297,\n",
       " 1298,\n",
       " 1299,\n",
       " 1300,\n",
       " 1301,\n",
       " 1302,\n",
       " 1303,\n",
       " 1304,\n",
       " 1305,\n",
       " 1306,\n",
       " 1307,\n",
       " 1308,\n",
       " 1309,\n",
       " 1310,\n",
       " 1311,\n",
       " 1312,\n",
       " 1313,\n",
       " 1314,\n",
       " 1315,\n",
       " 1316,\n",
       " 1317,\n",
       " 1318,\n",
       " 1319,\n",
       " 1320,\n",
       " 1321,\n",
       " 1322,\n",
       " 1323,\n",
       " 1324,\n",
       " 1325,\n",
       " 1326,\n",
       " 1327,\n",
       " 1328,\n",
       " 1329,\n",
       " 1330,\n",
       " 1331,\n",
       " 1332,\n",
       " 1333,\n",
       " 1334,\n",
       " 1335,\n",
       " 1336,\n",
       " 1337,\n",
       " 1338,\n",
       " 1339,\n",
       " 1340,\n",
       " 1341,\n",
       " 1342,\n",
       " 1343,\n",
       " 1344,\n",
       " 1345,\n",
       " 1346,\n",
       " 1347,\n",
       " 1348,\n",
       " 1349,\n",
       " 1350,\n",
       " 1351,\n",
       " 1352,\n",
       " 1353,\n",
       " 1354,\n",
       " 1355,\n",
       " 1356,\n",
       " 1357,\n",
       " 1358,\n",
       " 1359,\n",
       " 1360,\n",
       " 1361,\n",
       " 1362,\n",
       " 1363,\n",
       " 1364,\n",
       " 1365,\n",
       " 1366,\n",
       " 1367,\n",
       " 1368,\n",
       " 1369,\n",
       " 1370,\n",
       " 1371,\n",
       " 1372,\n",
       " 1373,\n",
       " 1374,\n",
       " 1375,\n",
       " 1376,\n",
       " 1377,\n",
       " 1378,\n",
       " 1379,\n",
       " 1380,\n",
       " 1381,\n",
       " 1382,\n",
       " 1383,\n",
       " 1384,\n",
       " 1385,\n",
       " 1386,\n",
       " 1387,\n",
       " 1388,\n",
       " 1389,\n",
       " 1390,\n",
       " 1391,\n",
       " 1392,\n",
       " 1393,\n",
       " 1394,\n",
       " 1395,\n",
       " 1396,\n",
       " 1397,\n",
       " 1398,\n",
       " 1399,\n",
       " 1400,\n",
       " 1401,\n",
       " 1402,\n",
       " 1403,\n",
       " 1404,\n",
       " 1405,\n",
       " 1406,\n",
       " 1407,\n",
       " 1408,\n",
       " 1409,\n",
       " 1410,\n",
       " 1411,\n",
       " 1412,\n",
       " 1413,\n",
       " 1414,\n",
       " 1415,\n",
       " 1416,\n",
       " 1417,\n",
       " 1418,\n",
       " 1419,\n",
       " 1420,\n",
       " 1421,\n",
       " 1422,\n",
       " 1423,\n",
       " 1424,\n",
       " 1425,\n",
       " 1426,\n",
       " 1427,\n",
       " 1428,\n",
       " 1429,\n",
       " 1430,\n",
       " 1431,\n",
       " 1432,\n",
       " 1433,\n",
       " 1434,\n",
       " 1435,\n",
       " 1436,\n",
       " 1437,\n",
       " 1438,\n",
       " 1439,\n",
       " 1440,\n",
       " 1441,\n",
       " 1442,\n",
       " 1443,\n",
       " 1444,\n",
       " 1445,\n",
       " 1446,\n",
       " 1447,\n",
       " 1448,\n",
       " 1449,\n",
       " 1450,\n",
       " 1451,\n",
       " 1452}"
      ]
     },
     "execution_count": 57,
     "metadata": {},
     "output_type": "execute_result"
    }
   ],
   "source": [
    "m"
   ]
  },
  {
   "cell_type": "code",
   "execution_count": 52,
   "metadata": {},
   "outputs": [
    {
     "name": "stdout",
     "output_type": "stream",
     "text": [
      "here: [0.9866733428340331, 0.9783455545371219, 0.9655861289106672]\n",
      "there: [0.9868998998227634, 0.9782309807516041, 0.9656914492535063]\n"
     ]
    }
   ],
   "source": [
    "sample =\"15workers_rand0\"\n",
    "objid=1\n",
    "clust_id=-1\n",
    "here = \"/home/jlee782/hcomp_paper_seg/analysis/\"+tile_and_mask_dir(sample,objid,clust_id)+\"/\"\n",
    "there = \"/home/jlee782/final_segmentation/analysis/\"+tile_and_mask_dir(sample,objid,clust_id)+\"/\"\n",
    "import json\n",
    "print \"here:\",json.load(open(here+\"GTLSA_EM_prj_best_thresh.json\"))\n",
    "print \"there:\",json.load(open(there+\"GTLSA_EM_prj_best_thresh.json\"))"
   ]
  },
  {
   "cell_type": "markdown",
   "metadata": {},
   "source": [
    "```\n",
    "5workers_rand0:27:1\n",
    "Creating pixel_em/5workers_rand0/obj27/clust1/MV_tiles.pkl.\n",
    "Traceback (most recent call last):\n",
    "  File \"initPixelAnalysis.py\", line 115, in <module>\n",
    "    create_MV_tiles(sample, objid, clust_id)\n",
    "  File \"/home/jlee782/hcomp_paper_seg/analysis/PixelEM_tile.py\", line 39, in create_MV_tiles\n",
    "    tiles = get_all_worker_tiles(sample, objid, clust_id)\n",
    "  File \"/home/jlee782/hcomp_paper_seg/analysis/utils.py\", line 61, in get_all_worker_tiles\n",
    "    return pickle.load(open(\"{}/tiles.pkl\".format(outdir)))\n",
    "IOError: [Errno 2] No such file or directory: 'pixel_em/5workers_rand0/obj27/clust1/tiles.pkl'\n",
    "```"
   ]
  },
  {
   "cell_type": "code",
   "execution_count": null,
   "metadata": {
    "collapsed": true
   },
   "outputs": [],
   "source": []
  }
 ],
 "metadata": {
  "kernelspec": {
   "display_name": "Python 2",
   "language": "python",
   "name": "python2"
  },
  "language_info": {
   "codemirror_mode": {
    "name": "ipython",
    "version": 2
   },
   "file_extension": ".py",
   "mimetype": "text/x-python",
   "name": "python",
   "nbconvert_exporter": "python",
   "pygments_lexer": "ipython2",
   "version": "2.7.14"
  }
 },
 "nbformat": 4,
 "nbformat_minor": 2
}

{
 "cells": [
  {
   "cell_type": "code",
   "execution_count": 1,
   "metadata": {},
   "outputs": [
    {
     "name": "stdout",
     "output_type": "stream",
     "text": [
      "/home/jlee782/hcomp_paper_seg/analysis\n"
     ]
    }
   ],
   "source": [
    "cd ../analysis/"
   ]
  },
  {
   "cell_type": "code",
   "execution_count": 2,
   "metadata": {},
   "outputs": [
    {
     "name": "stdout",
     "output_type": "stream",
     "text": [
      "Populating the interactive namespace from numpy and matplotlib\n"
     ]
    }
   ],
   "source": [
    "%pylab inline"
   ]
  },
  {
   "cell_type": "code",
   "execution_count": 3,
   "metadata": {},
   "outputs": [
    {
     "name": "stderr",
     "output_type": "stream",
     "text": [
      "/home/jlee782/.local/lib/python2.7/site-packages/matplotlib/__init__.py:1401: UserWarning:  This call to matplotlib.use() has no effect\n",
      "because the backend has already been chosen;\n",
      "matplotlib.use() must be called *before* pylab, matplotlib.pyplot,\n",
      "or matplotlib.backends is imported for the first time.\n",
      "\n",
      "  warnings.warn(_use_error_msg)\n"
     ]
    }
   ],
   "source": [
    "from utils import *\n",
    "import pickle as pkl"
   ]
  },
  {
   "cell_type": "code",
   "execution_count": 44,
   "metadata": {},
   "outputs": [
    {
     "name": "stdout",
     "output_type": "stream",
     "text": [
      "\n"
     ]
    }
   ],
   "source": [
    "sample =\"15workers_rand0\"\n",
    "objid=1\n",
    "clust_id=\"-1\"\n",
    "here = \"/home/jlee782/hcomp_paper_seg/analysis/\"+tile_and_mask_dir(sample,objid,clust_id)+\"/\"\n",
    "there = \"/home/jlee782/final_segmentation/analysis/\"+tile_and_mask_dir(sample,objid,clust_id)+\"/\""
   ]
  },
  {
   "cell_type": "code",
   "execution_count": 49,
   "metadata": {
    "collapsed": true
   },
   "outputs": [],
   "source": [
    "m = pkl.load(open(\"pixel_em/obj1/mask201.pkl\"))"
   ]
  },
  {
   "cell_type": "code",
   "execution_count": 52,
   "metadata": {},
   "outputs": [
    {
     "data": {
      "text/plain": [
       "<matplotlib.colorbar.Colorbar at 0x7f5aa0b18f90>"
      ]
     },
     "execution_count": 52,
     "metadata": {},
     "output_type": "execute_result"
    },
    {
     "data": {
      "image/png": "[encoded data removed]",
      "text/plain": [
       "<matplotlib.figure.Figure at 0x7f5af42f4a10>"
      ]
     },
     "metadata": {},
     "output_type": "display_data"
    }
   ],
   "source": [
    "plt.imshow(m)\n",
    "plt.colorbar()"
   ]
  },
  {
   "cell_type": "code",
   "execution_count": 46,
   "metadata": {},
   "outputs": [
    {
     "name": "stdout",
     "output_type": "stream",
     "text": [
      "prj now: [0.018808499469758502, 0.20252826153376108, 0.017511590737976673]\n",
      "prj before: [0.9867046899687849, 0.9778490681332112, 0.9651324965132496]\n"
     ]
    }
   ],
   "source": [
    "print \"prj now:\",json.load(open(here+\"basic_EM_prj_best_thresh.json\"))\n",
    "print \"prj before:\",json.load(open(there+\"EM_prj_best_thresh.json\"))"
   ]
  },
  {
   "cell_type": "code",
   "execution_count": 28,
   "metadata": {},
   "outputs": [
    {
     "name": "stdout",
     "output_type": "stream",
     "text": [
      "[196, 156, 219, 201, 246]"
     ]
    }
   ],
   "source": [
    "cat /home/jlee782/hcomp_paper_seg/analysis/pixel_em/5workers_rand0/obj1/worker_ids.json"
   ]
  },
  {
   "cell_type": "code",
   "execution_count": 21,
   "metadata": {},
   "outputs": [
    {
     "name": "stdout",
     "output_type": "stream",
     "text": [
      "[196, 219, 156, 246, 201]"
     ]
    }
   ],
   "source": [
    "cat /home/jlee782/hcomp_paper_seg/analysis/pixel_em/5workers_rand0/obj1/clust0/worker_ids.json"
   ]
  },
  {
   "cell_type": "code",
   "execution_count": 22,
   "metadata": {},
   "outputs": [
    {
     "name": "stdout",
     "output_type": "stream",
     "text": [
      "[]"
     ]
    }
   ],
   "source": [
    "cat /home/jlee782/hcomp_paper_seg/analysis/pixel_em/5workers_rand0/obj1/clust1/worker_ids.json"
   ]
  },
  {
   "cell_type": "code",
   "execution_count": 47,
   "metadata": {
    "collapsed": true
   },
   "outputs": [],
   "source": [
    "sample =\"5workers_rand0\"\n",
    "objid=1\n",
    "clust_id=\"-1\"\n",
    "here = \"/home/jlee782/hcomp_paper_seg/analysis/\"+tile_and_mask_dir(sample,objid,clust_id)+\"/\"\n",
    "there = \"/home/jlee782/final_segmentation/analysis/\"+tile_and_mask_dir(sample,objid,clust_id)+\"/\""
   ]
  },
  {
   "cell_type": "code",
   "execution_count": 23,
   "metadata": {
    "collapsed": true
   },
   "outputs": [],
   "source": [
    "m = pkl.load(open(\"/home/jlee782/hcomp_paper_seg/analysis/pixel_em/5workers_rand0/obj1/clust0/GTLSA_gt_est_tiles_best_thresh.pkl\"))"
   ]
  },
  {
   "cell_type": "code",
   "execution_count": 48,
   "metadata": {},
   "outputs": [
    {
     "name": "stdout",
     "output_type": "stream",
     "text": [
      "prj now: [-1, 0.0, 0.0]\n",
      "prj before: [0.9750247468209853, 0.9780782157042469, 0.9541728763040238]\n"
     ]
    }
   ],
   "source": [
    "import json\n",
    "print \"prj now:\",json.load(open(here+\"GTLSA_EM_prj_best_thresh.json\"))\n",
    "print \"prj before:\",json.load(open(there+\"GTLSA_EM_prj_best_thresh.json\"))"
   ]
  },
  {
   "cell_type": "code",
   "execution_count": 60,
   "metadata": {},
   "outputs": [],
   "source": [
    "m = pkl.load(open(\"/home/jlee782/hcomp_paper_seg/analysis/pixel_em/5workers_rand0/obj1/GTLSA_gt_est_tiles_best_thresh.pkl\"))"
   ]
  },
  {
   "cell_type": "code",
   "execution_count": 61,
   "metadata": {},
   "outputs": [
    {
     "data": {
      "text/plain": [
       "set()"
      ]
     },
     "execution_count": 61,
     "metadata": {},
     "output_type": "execute_result"
    }
   ],
   "source": [
    "m"
   ]
  },
  {
   "cell_type": "code",
   "execution_count": 53,
   "metadata": {},
   "outputs": [
    {
     "name": "stdout",
     "output_type": "stream",
     "text": [
      "here: [0.9913617886178862, 0.968644974029942, 0.9605377769361864]\n",
      "there: [0.9941394803672592, 0.9717766575007638, 0.9662413609782031]\n"
     ]
    }
   ],
   "source": [
    "sample =\"10workers_rand0\"\n",
    "objid=1\n",
    "clust_id=-1\n",
    "here = \"/home/jlee782/hcomp_paper_seg/analysis/\"+tile_and_mask_dir(sample,objid,clust_id)+\"/\"\n",
    "there = \"/home/jlee782/final_segmentation/analysis/\"+tile_and_mask_dir(sample,objid,clust_id)+\"/\"\n",
    "import json\n",
    "print \"here:\",json.load(open(here+\"GTLSA_EM_prj_best_thresh.json\"))\n",
    "print \"there:\",json.load(open(there+\"GTLSA_EM_prj_best_thresh.json\"))"
   ]
  },
  {
   "cell_type": "code",
   "execution_count": 52,
   "metadata": {},
   "outputs": [
    {
     "name": "stdout",
     "output_type": "stream",
     "text": [
      "here: [0.9866733428340331, 0.9783455545371219, 0.9655861289106672]\n",
      "there: [0.9868998998227634, 0.9782309807516041, 0.9656914492535063]\n"
     ]
    }
   ],
   "source": [
    "sample =\"15workers_rand0\"\n",
    "objid=1\n",
    "clust_id=-1\n",
    "here = \"/home/jlee782/hcomp_paper_seg/analysis/\"+tile_and_mask_dir(sample,objid,clust_id)+\"/\"\n",
    "there = \"/home/jlee782/final_segmentation/analysis/\"+tile_and_mask_dir(sample,objid,clust_id)+\"/\"\n",
    "import json\n",
    "print \"here:\",json.load(open(here+\"GTLSA_EM_prj_best_thresh.json\"))\n",
    "print \"there:\",json.load(open(there+\"GTLSA_EM_prj_best_thresh.json\"))"
   ]
  },
  {
   "cell_type": "code",
   "execution_count": 95,
   "metadata": {},
   "outputs": [],
   "source": [
    "from withClustAnalysis import *\n",
    "# Pick best clusters for each object sample based on MV\n",
    "best_clust_df = pd.read_csv(\"best_clust_picking.csv\")\n",
    "clustObj=clust_df.objid.unique()"
   ]
  },
  {
   "cell_type": "code",
   "execution_count": 101,
   "metadata": {},
   "outputs": [],
   "source": [
    "df = pd.read_csv(\"pixel_em/MV_full_PRJ_table.csv\")\n",
    "df = filter_best_clust(df,best_clust_df)\n",
    "df = df.rename(columns={\"precision\":\"P [MV]\",\n",
    "                       \"recall\":\"R [MV]\",\n",
    "                       \"jaccard\":\"J [MV]\",\n",
    "                       \"FPR%\":\"FPR% [MV]\",\n",
    "                       \"FNR%\":\"FNR% [MV]\"})\n",
    "df = df.drop([\"thresh\"],axis=1)\n",
    "df= df[((df[\"clust\"]==-1) &(df[\"objid\"].isin(noClust_obj)))|((df[\"clust\"]!=-1) & df[\"objid\"].isin(clustObj))]\n",
    "for mode in [\"basic\",\"GT\",\"isoGT\",\"GTLSA\",\"isoGTLSA\"]:\n",
    "    data =  pd.read_csv(\"pixel_em/{}_full_PRJ_table.csv\".format(mode))\n",
    "    data = data.rename(columns={\"precision\":\"P [{}]\".format(mode),\n",
    "                           \"recall\":\"R [{}]\".format(mode),\n",
    "                           \"jaccard\":\"J [{}]\".format(mode),\n",
    "                           \"FPR%\":\"FPR% [{}]\".format(mode),\n",
    "                           \"FNR%\":\"FNR% [{}]\".format(mode)})\n",
    "    data = data.drop([\"thresh\"],axis=1)\n",
    "    data = filter_best_clust(data,best_clust_df)\n",
    "    #assert len(df)==31*len(object_lst)\n",
    "    df = df.merge(data,on=['clust', 'num_workers', 'objid','sample_num'],how=\"outer\")\n",
    "#assert pd.isnull(df).sum().sum()==0"
   ]
  },
  {
   "cell_type": "code",
   "execution_count": 107,
   "metadata": {},
   "outputs": [
    {
     "data": {
      "text/html": [
       "<div>\n",
       "<table border=\"1\" class=\"dataframe\">\n",
       "  <thead>\n",
       "    <tr style=\"text-align: right;\">\n",
       "      <th></th>\n",
       "      <th>num_workers</th>\n",
       "      <th>sample_num</th>\n",
       "      <th>objid</th>\n",
       "      <th>clust</th>\n",
       "      <th>P [MV]</th>\n",
       "      <th>R [MV]</th>\n",
       "      <th>J [MV]</th>\n",
       "      <th>FPR% [MV]</th>\n",
       "      <th>FNR% [MV]</th>\n",
       "      <th>P [basic]</th>\n",
       "      <th>...</th>\n",
       "      <th>P [GTLSA]</th>\n",
       "      <th>R [GTLSA]</th>\n",
       "      <th>J [GTLSA]</th>\n",
       "      <th>FPR% [GTLSA]</th>\n",
       "      <th>FNR% [GTLSA]</th>\n",
       "      <th>P [isoGTLSA]</th>\n",
       "      <th>R [isoGTLSA]</th>\n",
       "      <th>J [isoGTLSA]</th>\n",
       "      <th>FPR% [isoGTLSA]</th>\n",
       "      <th>FNR% [isoGTLSA]</th>\n",
       "    </tr>\n",
       "  </thead>\n",
       "  <tbody>\n",
       "    <tr>\n",
       "      <th>184</th>\n",
       "      <td>10</td>\n",
       "      <td>4</td>\n",
       "      <td>1</td>\n",
       "      <td>0</td>\n",
       "      <td>0.985640</td>\n",
       "      <td>0.985602</td>\n",
       "      <td>0.971649</td>\n",
       "      <td>0.133800</td>\n",
       "      <td>1.439811</td>\n",
       "      <td>NaN</td>\n",
       "      <td>...</td>\n",
       "      <td>-1</td>\n",
       "      <td>0</td>\n",
       "      <td>0</td>\n",
       "      <td>NaN</td>\n",
       "      <td>NaN</td>\n",
       "      <td>0.985904</td>\n",
       "      <td>0.985640</td>\n",
       "      <td>0.971943</td>\n",
       "      <td>NaN</td>\n",
       "      <td>NaN</td>\n",
       "    </tr>\n",
       "    <tr>\n",
       "      <th>646</th>\n",
       "      <td>20</td>\n",
       "      <td>0</td>\n",
       "      <td>3</td>\n",
       "      <td>-1</td>\n",
       "      <td>0.961096</td>\n",
       "      <td>0.921218</td>\n",
       "      <td>0.888101</td>\n",
       "      <td>0.046804</td>\n",
       "      <td>7.878151</td>\n",
       "      <td>NaN</td>\n",
       "      <td>...</td>\n",
       "      <td>-1</td>\n",
       "      <td>0</td>\n",
       "      <td>0</td>\n",
       "      <td>NaN</td>\n",
       "      <td>NaN</td>\n",
       "      <td>0.962161</td>\n",
       "      <td>0.921481</td>\n",
       "      <td>0.889255</td>\n",
       "      <td>NaN</td>\n",
       "      <td>NaN</td>\n",
       "    </tr>\n",
       "    <tr>\n",
       "      <th>691</th>\n",
       "      <td>20</td>\n",
       "      <td>1</td>\n",
       "      <td>2</td>\n",
       "      <td>-1</td>\n",
       "      <td>0.968280</td>\n",
       "      <td>0.976423</td>\n",
       "      <td>0.946158</td>\n",
       "      <td>0.070872</td>\n",
       "      <td>2.357711</td>\n",
       "      <td>NaN</td>\n",
       "      <td>...</td>\n",
       "      <td>-1</td>\n",
       "      <td>0</td>\n",
       "      <td>0</td>\n",
       "      <td>NaN</td>\n",
       "      <td>NaN</td>\n",
       "      <td>0.966493</td>\n",
       "      <td>0.974621</td>\n",
       "      <td>0.942766</td>\n",
       "      <td>NaN</td>\n",
       "      <td>NaN</td>\n",
       "    </tr>\n",
       "    <tr>\n",
       "      <th>733</th>\n",
       "      <td>20</td>\n",
       "      <td>1</td>\n",
       "      <td>9</td>\n",
       "      <td>-1</td>\n",
       "      <td>0.974196</td>\n",
       "      <td>0.944936</td>\n",
       "      <td>0.921862</td>\n",
       "      <td>0.078740</td>\n",
       "      <td>5.506444</td>\n",
       "      <td>NaN</td>\n",
       "      <td>...</td>\n",
       "      <td>-1</td>\n",
       "      <td>0</td>\n",
       "      <td>0</td>\n",
       "      <td>NaN</td>\n",
       "      <td>NaN</td>\n",
       "      <td>0.972771</td>\n",
       "      <td>0.943657</td>\n",
       "      <td>0.919373</td>\n",
       "      <td>NaN</td>\n",
       "      <td>NaN</td>\n",
       "    </tr>\n",
       "    <tr>\n",
       "      <th>793</th>\n",
       "      <td>20</td>\n",
       "      <td>3</td>\n",
       "      <td>15</td>\n",
       "      <td>0</td>\n",
       "      <td>0.810985</td>\n",
       "      <td>0.988189</td>\n",
       "      <td>0.803200</td>\n",
       "      <td>0.038149</td>\n",
       "      <td>1.181102</td>\n",
       "      <td>NaN</td>\n",
       "      <td>...</td>\n",
       "      <td>-1</td>\n",
       "      <td>0</td>\n",
       "      <td>0</td>\n",
       "      <td>NaN</td>\n",
       "      <td>NaN</td>\n",
       "      <td>0.810985</td>\n",
       "      <td>0.988189</td>\n",
       "      <td>0.803200</td>\n",
       "      <td>NaN</td>\n",
       "      <td>NaN</td>\n",
       "    </tr>\n",
       "    <tr>\n",
       "      <th>966</th>\n",
       "      <td>5</td>\n",
       "      <td>0</td>\n",
       "      <td>1</td>\n",
       "      <td>0</td>\n",
       "      <td>0.977603</td>\n",
       "      <td>0.980179</td>\n",
       "      <td>0.958651</td>\n",
       "      <td>0.209241</td>\n",
       "      <td>1.982126</td>\n",
       "      <td>NaN</td>\n",
       "      <td>...</td>\n",
       "      <td>-1</td>\n",
       "      <td>0</td>\n",
       "      <td>0</td>\n",
       "      <td>NaN</td>\n",
       "      <td>NaN</td>\n",
       "      <td>0.975025</td>\n",
       "      <td>0.978078</td>\n",
       "      <td>0.954173</td>\n",
       "      <td>NaN</td>\n",
       "      <td>NaN</td>\n",
       "    </tr>\n",
       "    <tr>\n",
       "      <th>1196</th>\n",
       "      <td>5</td>\n",
       "      <td>5</td>\n",
       "      <td>1</td>\n",
       "      <td>0</td>\n",
       "      <td>0.977603</td>\n",
       "      <td>0.980179</td>\n",
       "      <td>0.958651</td>\n",
       "      <td>0.209241</td>\n",
       "      <td>1.982126</td>\n",
       "      <td>NaN</td>\n",
       "      <td>...</td>\n",
       "      <td>-1</td>\n",
       "      <td>0</td>\n",
       "      <td>0</td>\n",
       "      <td>NaN</td>\n",
       "      <td>NaN</td>\n",
       "      <td>0.975025</td>\n",
       "      <td>0.978078</td>\n",
       "      <td>0.954173</td>\n",
       "      <td>NaN</td>\n",
       "      <td>NaN</td>\n",
       "    </tr>\n",
       "  </tbody>\n",
       "</table>\n",
       "<p>7 rows × 34 columns</p>\n",
       "</div>"
      ],
      "text/plain": [
       "      num_workers  sample_num  objid  clust    P [MV]    R [MV]    J [MV]  \\\n",
       "184            10           4      1      0  0.985640  0.985602  0.971649   \n",
       "646            20           0      3     -1  0.961096  0.921218  0.888101   \n",
       "691            20           1      2     -1  0.968280  0.976423  0.946158   \n",
       "733            20           1      9     -1  0.974196  0.944936  0.921862   \n",
       "793            20           3     15      0  0.810985  0.988189  0.803200   \n",
       "966             5           0      1      0  0.977603  0.980179  0.958651   \n",
       "1196            5           5      1      0  0.977603  0.980179  0.958651   \n",
       "\n",
       "      FPR% [MV]  FNR% [MV] P [basic]       ...       P [GTLSA] R [GTLSA]  \\\n",
       "184    0.133800   1.439811       NaN       ...              -1         0   \n",
       "646    0.046804   7.878151       NaN       ...              -1         0   \n",
       "691    0.070872   2.357711       NaN       ...              -1         0   \n",
       "733    0.078740   5.506444       NaN       ...              -1         0   \n",
       "793    0.038149   1.181102       NaN       ...              -1         0   \n",
       "966    0.209241   1.982126       NaN       ...              -1         0   \n",
       "1196   0.209241   1.982126       NaN       ...              -1         0   \n",
       "\n",
       "     J [GTLSA] FPR% [GTLSA] FNR% [GTLSA] P [isoGTLSA] R [isoGTLSA]  \\\n",
       "184          0          NaN          NaN     0.985904     0.985640   \n",
       "646          0          NaN          NaN     0.962161     0.921481   \n",
       "691          0          NaN          NaN     0.966493     0.974621   \n",
       "733          0          NaN          NaN     0.972771     0.943657   \n",
       "793          0          NaN          NaN     0.810985     0.988189   \n",
       "966          0          NaN          NaN     0.975025     0.978078   \n",
       "1196         0          NaN          NaN     0.975025     0.978078   \n",
       "\n",
       "     J [isoGTLSA] FPR% [isoGTLSA] FNR% [isoGTLSA]  \n",
       "184      0.971943             NaN             NaN  \n",
       "646      0.889255             NaN             NaN  \n",
       "691      0.942766             NaN             NaN  \n",
       "733      0.919373             NaN             NaN  \n",
       "793      0.803200             NaN             NaN  \n",
       "966      0.954173             NaN             NaN  \n",
       "1196     0.954173             NaN             NaN  \n",
       "\n",
       "[7 rows x 34 columns]"
      ]
     },
     "execution_count": 107,
     "metadata": {},
     "output_type": "execute_result"
    }
   ],
   "source": [
    "df[df['P [GTLSA]']==-1]"
   ]
  },
  {
   "cell_type": "code",
   "execution_count": 4,
   "metadata": {},
   "outputs": [],
   "source": [
    "from PixelEM_tile import do_EM_for as EM"
   ]
  },
  {
   "cell_type": "code",
   "execution_count": 6,
   "metadata": {
    "scrolled": false
   },
   "outputs": [
    {
     "name": "stdout",
     "output_type": "stream",
     "text": [
      "Doing GTLSA mode = \n",
      "iteration: 0\n",
      "Time for worker prob calculation: 0.0149521827698\n",
      "Time for mask log prob calculation: 0.0244228839874\n",
      "jaccard_against_prev_gt_est: 0.981458966565\n",
      "iteration: 1\n",
      "Time for worker prob calculation: 0.014888048172\n",
      "Time for mask log prob calculation: 0.0250968933105\n",
      "jaccard_against_prev_gt_est: 0.995712098009\n",
      "iteration: 2\n",
      "Time for worker prob calculation: 0.0152170658112\n",
      "Time for mask log prob calculation: 0.0257868766785\n",
      "jaccard_against_prev_gt_est: 0.999693251534\n",
      "Final prj: [0.9601226993865031, 0.9484848484848485, 0.9125364431486881]\n",
      "Time:26.2919800282\n",
      "Doing GTLSA mode = \n",
      "iteration: 0\n",
      "Time for worker prob calculation: 0.0428748130798\n",
      "Time for mask log prob calculation: 0.0624251365662\n",
      "jaccard_against_prev_gt_est: 0.99318243796\n",
      "iteration: 1\n",
      "Time for worker prob calculation: 0.0430037975311\n",
      "Time for mask log prob calculation: 0.0686490535736\n",
      "jaccard_against_prev_gt_est: 0.996720415414\n",
      "iteration: 2\n",
      "Time for worker prob calculation: 0.0429739952087\n",
      "Time for mask log prob calculation: 0.0685169696808\n",
      "jaccard_against_prev_gt_est: 1.0\n",
      "Final prj: [0.9621606800109679, 0.9214810924369747, 0.8892549417131272]\n",
      "Time:25.8659920692\n"
     ]
    },
    {
     "data": {
      "text/plain": [
       "25.865992069244385"
      ]
     },
     "execution_count": 6,
     "metadata": {},
     "output_type": "execute_result"
    }
   ],
   "source": [
    "EM(\"10workers_rand4\", 4, 0, algo='GTLSA',rerun_existing=True, exclude_isovote=False, dump_output_at_every_iter=False, compute_PR_every_iter=False,PLOT=False, DEBUG=True)\n",
    "EM(\"20workers_rand0\", 3, -1, algo='GTLSA',rerun_existing=True, exclude_isovote=False, dump_output_at_every_iter=False, compute_PR_every_iter=False,PLOT=False, DEBUG=True)"
   ]
  },
  {
   "cell_type": "code",
   "execution_count": 7,
   "metadata": {},
   "outputs": [
    {
     "name": "stdout",
     "output_type": "stream",
     "text": [
      "Doing GTLSA mode = \n",
      "iteration: 0\n",
      "Time for worker prob calculation: 0.113559961319\n",
      "Time for mask log prob calculation: 0.161251068115\n",
      "jaccard_against_prev_gt_est: 0.989333333333\n",
      "iteration: 1\n",
      "Time for worker prob calculation: 0.111296892166\n",
      "Time for mask log prob calculation: 0.155892133713\n",
      "jaccard_against_prev_gt_est: 0.998213222156\n",
      "iteration: 2\n",
      "Time for worker prob calculation: 0.10493016243\n",
      "Time for mask log prob calculation: 0.144984006882\n",
      "jaccard_against_prev_gt_est: 0.998362364151\n",
      "iteration: 3\n",
      "Time for worker prob calculation: 0.102365970612\n",
      "Time for mask log prob calculation: 0.146589040756\n",
      "jaccard_against_prev_gt_est: 0.999851101846\n",
      "Final prj: [0.9664929262844378, 0.9746208139360264, 0.942765833817548]\n",
      "Time:34.1843528748\n",
      "Doing GTLSA mode = \n",
      "iteration: 0\n",
      "Time for worker prob calculation: 0.123903989792\n",
      "Time for mask log prob calculation: 0.179388999939\n",
      "jaccard_against_prev_gt_est: 0.996492766331\n",
      "iteration: 1\n",
      "Time for worker prob calculation: 0.118783950806\n",
      "Time for mask log prob calculation: 0.170191049576\n",
      "jaccard_against_prev_gt_est: 0.999890218465\n",
      "Final prj: [0.9727711901624945, 0.9436574715092129, 0.9193732489363909]\n",
      "Time:20.147767067\n"
     ]
    },
    {
     "data": {
      "text/plain": [
       "20.147767066955566"
      ]
     },
     "execution_count": 7,
     "metadata": {},
     "output_type": "execute_result"
    }
   ],
   "source": [
    "EM(\"20workers_rand1\", 2, -1, algo='GTLSA',rerun_existing=True, exclude_isovote=False, dump_output_at_every_iter=False, compute_PR_every_iter=False,PLOT=False, DEBUG=True)\n",
    "EM(\"20workers_rand1\", 9, -1, algo='GTLSA',rerun_existing=True, exclude_isovote=False, dump_output_at_every_iter=False, compute_PR_every_iter=False,PLOT=False, DEBUG=True)"
   ]
  },
  {
   "cell_type": "code",
   "execution_count": 8,
   "metadata": {},
   "outputs": [
    {
     "name": "stdout",
     "output_type": "stream",
     "text": [
      "Doing GTLSA mode = \n",
      "iteration: 0\n",
      "Time for worker prob calculation: 0.0120730400085\n",
      "Time for mask log prob calculation: 0.0231239795685\n",
      "jaccard_against_prev_gt_est: 0.996774193548\n",
      "iteration: 1\n",
      "Time for worker prob calculation: 0.0119779109955\n",
      "Time for mask log prob calculation: 0.0228171348572\n",
      "jaccard_against_prev_gt_est: 1.0\n",
      "Final prj: [0.8109854604200323, 0.9881889763779528, 0.8032]\n",
      "Time:19.4746649265\n",
      "Doing GTLSA mode = \n",
      "iteration: 0\n",
      "Time for worker prob calculation: 0.0111889839172\n",
      "Time for mask log prob calculation: 0.0177149772644\n",
      "jaccard_against_prev_gt_est: 0.985886637833\n",
      "iteration: 1\n",
      "Time for worker prob calculation: 0.0111877918243\n",
      "Time for mask log prob calculation: 0.0178220272064\n",
      "jaccard_against_prev_gt_est: 0.989810660786\n",
      "iteration: 2\n",
      "Time for worker prob calculation: 0.0111470222473\n",
      "Time for mask log prob calculation: 0.0176031589508\n",
      "jaccard_against_prev_gt_est: 0.999200487322\n",
      "Final prj: [0.9750247468209853, 0.9780782157042469, 0.9541728763040238]\n",
      "Time:23.4729580879\n",
      "Doing GTLSA mode = \n",
      "iteration: 0\n",
      "Time for worker prob calculation: 0.0111570358276\n",
      "Time for mask log prob calculation: 0.0182609558105\n",
      "jaccard_against_prev_gt_est: 0.985886637833\n",
      "iteration: 1\n",
      "Time for worker prob calculation: 0.0117290019989\n",
      "Time for mask log prob calculation: 0.0187540054321\n",
      "jaccard_against_prev_gt_est: 0.989810660786\n",
      "iteration: 2\n",
      "Time for worker prob calculation: 0.0118730068207\n",
      "Time for mask log prob calculation: 0.0189571380615\n",
      "jaccard_against_prev_gt_est: 0.999200487322\n",
      "Final prj: [0.9750247468209853, 0.9780782157042469, 0.9541728763040238]\n",
      "Time:23.4421060085\n"
     ]
    },
    {
     "data": {
      "text/plain": [
       "23.442106008529663"
      ]
     },
     "execution_count": 8,
     "metadata": {},
     "output_type": "execute_result"
    }
   ],
   "source": [
    "EM(\"20workers_rand3\", 15, 0, algo='GTLSA',rerun_existing=True, exclude_isovote=False, dump_output_at_every_iter=False, compute_PR_every_iter=False,PLOT=False, DEBUG=True)\n",
    "EM(\"5workers_rand0\", 1, 0, algo='GTLSA',rerun_existing=True, exclude_isovote=False, dump_output_at_every_iter=False, compute_PR_every_iter=False,PLOT=False, DEBUG=True)\n",
    "EM(\"5workers_rand5\", 1, 0, algo='GTLSA',rerun_existing=True, exclude_isovote=False, dump_output_at_every_iter=False, compute_PR_every_iter=False,PLOT=False, DEBUG=True)"
   ]
  },
  {
   "cell_type": "code",
   "execution_count": 9,
   "metadata": {},
   "outputs": [
    {
     "name": "stdout",
     "output_type": "stream",
     "text": [
      "Doing basic mode = \n",
      "iteration: 0\n",
      "Time for worker prob calculation: 0.343429088593\n",
      "Time for mask log prob calculation: 0.415313005447\n",
      "jaccard_against_prev_gt_est: 0.999268189346\n",
      "iteration: 1\n",
      "Time for worker prob calculation: 0.331922054291\n",
      "Time for mask log prob calculation: 0.414433956146\n",
      "jaccard_against_prev_gt_est: 0.999499268161\n",
      "Final prj: [0.9867113473538248, 0.9783455545371219, 0.9656225262919823]\n",
      "Time:20.3627750874\n"
     ]
    },
    {
     "data": {
      "text/plain": [
       "20.362775087356567"
      ]
     },
     "execution_count": 9,
     "metadata": {},
     "output_type": "execute_result"
    }
   ],
   "source": [
    "EM(\"15workers_rand0\", 1, \"-1\", algo='basic',rerun_existing=True, exclude_isovote=False, dump_output_at_every_iter=False, compute_PR_every_iter=False,PLOT=False, DEBUG=True)"
   ]
  },
  {
   "cell_type": "code",
   "execution_count": 10,
   "metadata": {},
   "outputs": [
    {
     "name": "stdout",
     "output_type": "stream",
     "text": [
      "[0.9867113473538248, 0.9783455545371219, 0.9656225262919823]"
     ]
    }
   ],
   "source": [
    "cat pixel_em/15workers_rand0/obj1/basic_EM_prj_best_thresh.json"
   ]
  },
  {
   "cell_type": "code",
   "execution_count": 14,
   "metadata": {},
   "outputs": [
    {
     "name": "stdout",
     "output_type": "stream",
     "text": [
      "[0.9867046899687849, 0.9778490681332112, 0.9651324965132496]"
     ]
    }
   ],
   "source": [
    "cat ../../final_segmentation/analysis/pixel_em/15workers_rand0/obj1/EM_prj_best_thresh.json"
   ]
  },
  {
   "cell_type": "code",
   "execution_count": 17,
   "metadata": {},
   "outputs": [
    {
     "name": "stdout",
     "output_type": "stream",
     "text": [
      "Doing GTLSA mode = \n",
      "iteration: 0\n",
      "Time for worker prob calculation: 0.0117518901825\n",
      "Time for mask log prob calculation: 0.0185821056366\n",
      "jaccard_against_prev_gt_est: 0.985886637833\n",
      "iteration: 1\n",
      "Time for worker prob calculation: 0.0113770961761\n",
      "Time for mask log prob calculation: 0.0188760757446\n",
      "jaccard_against_prev_gt_est: 0.989810660786\n",
      "iteration: 2\n",
      "Time for worker prob calculation: 0.0144391059875\n",
      "Time for mask log prob calculation: 0.0209078788757\n",
      "jaccard_against_prev_gt_est: 0.999200487322\n",
      "Final prj: [0.9750247468209853, 0.9780782157042469, 0.9541728763040238]\n",
      "Time:25.4289867878\n"
     ]
    },
    {
     "data": {
      "text/plain": [
       "25.42898678779602"
      ]
     },
     "execution_count": 17,
     "metadata": {},
     "output_type": "execute_result"
    }
   ],
   "source": [
    "EM(\"5workers_rand0\", 1, -1, algo='GTLSA',rerun_existing=True, exclude_isovote=False, dump_output_at_every_iter=False, compute_PR_every_iter=False,PLOT=False, DEBUG=True)"
   ]
  },
  {
   "cell_type": "code",
   "execution_count": 18,
   "metadata": {},
   "outputs": [
    {
     "name": "stdout",
     "output_type": "stream",
     "text": [
      "here: [0.9750247468209853, 0.9780782157042469, 0.9541728763040238]\n",
      "there: [0.9773003340419071, 0.9832722273143905, 0.9613173026659697]\n"
     ]
    }
   ],
   "source": [
    "sample =\"5workers_rand0\"\n",
    "objid=1\n",
    "clust_id=0\n",
    "here = \"/home/jlee782/hcomp_paper_seg/analysis/\"+tile_and_mask_dir(sample,objid,clust_id)+\"/\"\n",
    "there = \"/home/jlee782/final_segmentation/analysis/\"+tile_and_mask_dir(sample,objid,clust_id)+\"/\"\n",
    "import json\n",
    "print \"here:\",json.load(open(here+\"GTLSA_EM_prj_best_thresh.json\"))\n",
    "print \"there:\",json.load(open(there+\"GTLSA_EM_prj_best_thresh.json\"))"
   ]
  },
  {
   "cell_type": "code",
   "execution_count": 19,
   "metadata": {},
   "outputs": [
    {
     "name": "stdout",
     "output_type": "stream",
     "text": [
      "here: [0.9750247468209853, 0.9780782157042469, 0.9541728763040238]\n",
      "there: [0.9750247468209853, 0.9780782157042469, 0.9541728763040238]\n"
     ]
    }
   ],
   "source": [
    "sample =\"5workers_rand0\"\n",
    "objid=1\n",
    "clust_id=-1\n",
    "here = \"/home/jlee782/hcomp_paper_seg/analysis/\"+tile_and_mask_dir(sample,objid,clust_id)+\"/\"\n",
    "there = \"/home/jlee782/final_segmentation/analysis/\"+tile_and_mask_dir(sample,objid,clust_id)+\"/\"\n",
    "import json\n",
    "print \"here:\",json.load(open(here+\"GTLSA_EM_prj_best_thresh.json\"))\n",
    "print \"there:\",json.load(open(there+\"GTLSA_EM_prj_best_thresh.json\"))"
   ]
  },
  {
   "cell_type": "code",
   "execution_count": 20,
   "metadata": {},
   "outputs": [
    {
     "name": "stdout",
     "output_type": "stream",
     "text": [
      "here: [0.9884697233507448, 0.9756721662083715, 0.964692999018201]\n",
      "there: [0.9885079709023371, 0.9756721662083715, 0.9647294286469544]\n"
     ]
    }
   ],
   "source": [
    "sample =\"20workers_rand3\"\n",
    "objid=1\n",
    "clust_id=-1\n",
    "here = \"/home/jlee782/hcomp_paper_seg/analysis/\"+tile_and_mask_dir(sample,objid,clust_id)+\"/\"\n",
    "there = \"/home/jlee782/final_segmentation/analysis/\"+tile_and_mask_dir(sample,objid,clust_id)+\"/\"\n",
    "import json\n",
    "print \"here:\",json.load(open(here+\"GTLSA_EM_prj_best_thresh.json\"))\n",
    "print \"there:\",json.load(open(there+\"GTLSA_EM_prj_best_thresh.json\"))"
   ]
  },
  {
   "cell_type": "code",
   "execution_count": 21,
   "metadata": {},
   "outputs": [
    {
     "name": "stdout",
     "output_type": "stream",
     "text": [
      "here: [0.9750247468209853, 0.9780782157042469, 0.9541728763040238]\n",
      "there: [0.9773003340419071, 0.9832722273143905, 0.9613173026659697]\n"
     ]
    }
   ],
   "source": [
    "sample =\"5workers_rand5\"\n",
    "objid=1\n",
    "clust_id=0\n",
    "here = \"/home/jlee782/hcomp_paper_seg/analysis/\"+tile_and_mask_dir(sample,objid,clust_id)+\"/\"\n",
    "there = \"/home/jlee782/final_segmentation/analysis/\"+tile_and_mask_dir(sample,objid,clust_id)+\"/\"\n",
    "import json\n",
    "print \"here:\",json.load(open(here+\"GTLSA_EM_prj_best_thresh.json\"))\n",
    "print \"there:\",json.load(open(there+\"GTLSA_EM_prj_best_thresh.json\"))"
   ]
  },
  {
   "cell_type": "code",
   "execution_count": null,
   "metadata": {
    "collapsed": true
   },
   "outputs": [],
   "source": [
    "EM(\"10workers_rand4\", 4, 0, algo='GTLSA',rerun_existing=True, exclude_isovote=False, dump_output_at_every_iter=False, compute_PR_every_iter=False,PLOT=False, DEBUG=True)\n",
    "EM(\"20workers_rand0\", 3, -1, algo='GTLSA',rerun_existing=True, exclude_isovote=False, dump_output_at_every_iter=False, compute_PR_every_iter=False,PLOT=False, DEBUG=True)\n",
    "EM(\"20workers_rand1\", 2, -1, algo='GTLSA',rerun_existing=True, exclude_isovote=False, dump_output_at_every_iter=False, compute_PR_every_iter=False,PLOT=False, DEBUG=True)\n",
    "EM(\"20workers_rand1\", 9, -1, algo='GTLSA',rerun_existing=True, exclude_isovote=False, dump_output_at_every_iter=False, compute_PR_every_iter=False,PLOT=False, DEBUG=True)"
   ]
  },
  {
   "cell_type": "code",
   "execution_count": 22,
   "metadata": {},
   "outputs": [
    {
     "name": "stdout",
     "output_type": "stream",
     "text": [
      "here: [0.9601226993865031, 0.9484848484848485, 0.9125364431486881]\n",
      "there: [0.9489296636085627, 0.9403030303030303, 0.8950100951831554]\n"
     ]
    }
   ],
   "source": [
    "sample =\"10workers_rand4\"\n",
    "objid=4\n",
    "clust_id=0\n",
    "here = \"/home/jlee782/hcomp_paper_seg/analysis/\"+tile_and_mask_dir(sample,objid,clust_id)+\"/\"\n",
    "there = \"/home/jlee782/final_segmentation/analysis/\"+tile_and_mask_dir(sample,objid,clust_id)+\"/\"\n",
    "import json\n",
    "print \"here:\",json.load(open(here+\"GTLSA_EM_prj_best_thresh.json\"))\n",
    "print \"there:\",json.load(open(there+\"GTLSA_EM_prj_best_thresh.json\"))"
   ]
  },
  {
   "cell_type": "code",
   "execution_count": 23,
   "metadata": {},
   "outputs": [
    {
     "name": "stdout",
     "output_type": "stream",
     "text": [
      "here: [0.9621606800109679, 0.9214810924369747, 0.8892549417131272]\n",
      "there: [0.9616543412763626, 0.9220063025210085, 0.8893110435663627]\n"
     ]
    }
   ],
   "source": [
    "sample =\"20workers_rand0\"\n",
    "objid=3\n",
    "clust_id=-1\n",
    "here = \"/home/jlee782/hcomp_paper_seg/analysis/\"+tile_and_mask_dir(sample,objid,clust_id)+\"/\"\n",
    "there = \"/home/jlee782/final_segmentation/analysis/\"+tile_and_mask_dir(sample,objid,clust_id)+\"/\"\n",
    "import json\n",
    "print \"here:\",json.load(open(here+\"GTLSA_EM_prj_best_thresh.json\"))\n",
    "print \"there:\",json.load(open(there+\"GTLSA_EM_prj_best_thresh.json\"))"
   ]
  },
  {
   "cell_type": "code",
   "execution_count": 24,
   "metadata": {},
   "outputs": [
    {
     "name": "stdout",
     "output_type": "stream",
     "text": [
      "here: [0.9664929262844378, 0.9746208139360264, 0.942765833817548]\n",
      "there: [0.9664929262844378, 0.9746208139360264, 0.942765833817548]\n"
     ]
    }
   ],
   "source": [
    "sample =\"20workers_rand1\"\n",
    "objid=2\n",
    "clust_id=-1\n",
    "here = \"/home/jlee782/hcomp_paper_seg/analysis/\"+tile_and_mask_dir(sample,objid,clust_id)+\"/\"\n",
    "there = \"/home/jlee782/final_segmentation/analysis/\"+tile_and_mask_dir(sample,objid,clust_id)+\"/\"\n",
    "import json\n",
    "print \"here:\",json.load(open(here+\"GTLSA_EM_prj_best_thresh.json\"))\n",
    "print \"there:\",json.load(open(there+\"GTLSA_EM_prj_best_thresh.json\"))"
   ]
  },
  {
   "cell_type": "code",
   "execution_count": 25,
   "metadata": {},
   "outputs": [
    {
     "name": "stdout",
     "output_type": "stream",
     "text": [
      "here: [0.9727711901624945, 0.9436574715092129, 0.9193732489363909]\n",
      "there: [0.9734831951113051, 0.950154436042177, 0.9261835548172758]\n"
     ]
    }
   ],
   "source": [
    "sample =\"20workers_rand1\"\n",
    "objid=9\n",
    "clust_id=-1\n",
    "here = \"/home/jlee782/hcomp_paper_seg/analysis/\"+tile_and_mask_dir(sample,objid,clust_id)+\"/\"\n",
    "there = \"/home/jlee782/final_segmentation/analysis/\"+tile_and_mask_dir(sample,objid,clust_id)+\"/\"\n",
    "import json\n",
    "print \"here:\",json.load(open(here+\"GTLSA_EM_prj_best_thresh.json\"))\n",
    "print \"there:\",json.load(open(there+\"GTLSA_EM_prj_best_thresh.json\"))"
   ]
  },
  {
   "cell_type": "code",
   "execution_count": null,
   "metadata": {
    "collapsed": true
   },
   "outputs": [],
   "source": []
  }
 ],
 "metadata": {
  "kernelspec": {
   "display_name": "Python 2",
   "language": "python",
   "name": "python2"
  },
  "language_info": {
   "codemirror_mode": {
    "name": "ipython",
    "version": 2
   },
   "file_extension": ".py",
   "mimetype": "text/x-python",
   "name": "python",
   "nbconvert_exporter": "python",
   "pygments_lexer": "ipython2",
   "version": "2.7.14"
  }
 },
 "nbformat": 4,
 "nbformat_minor": 2
}

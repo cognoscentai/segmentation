{
 "cells": [
  {
   "cell_type": "code",
   "execution_count": 1,
   "metadata": {},
   "outputs": [
    {
     "name": "stdout",
     "output_type": "stream",
     "text": [
      "Populating the interactive namespace from numpy and matplotlib\n"
     ]
    }
   ],
   "source": [
    "%pylab inline"
   ]
  },
  {
   "cell_type": "code",
   "execution_count": 2,
   "metadata": {},
   "outputs": [
    {
     "name": "stdout",
     "output_type": "stream",
     "text": [
      "/srv/data/home/jlee782/segmentation/analysis\n"
     ]
    }
   ],
   "source": [
    "cd ../analysis/"
   ]
  },
  {
   "cell_type": "code",
   "execution_count": 140,
   "metadata": {},
   "outputs": [],
   "source": [
    "import pickle as pkl\n",
    "from PixelEM import *\n",
    "def greedy(sample,objid,algo,est_type=\"\"):\n",
    "    tiles = pkl.load(open(\"../analysis/pixel_em/{}/obj{}/tiles.pkl\".format(sample,objid)))\n",
    "    gt = get_gt_mask(objid)\n",
    "    if est_type==\"ground_truth\":\n",
    "        #using ground truth ia for testing purposes\n",
    "        gt_idxs = set(zip(*np.where(gt)))\n",
    "    else:\n",
    "        log_probability_in_mask=pkl.load(open(\"../analysis/pixel_em/{}/obj{}/{}_p_in_mask_ground_truth.pkl\".format(sample,objid,algo)))\n",
    "        log_probability_not_in_mask =pkl.load(open(\"../analysis/pixel_em/{}/obj{}/{}_p_not_in_ground_truth.pkl\".format(sample,objid,algo)))\n",
    "    candidate_tiles_lst = []\n",
    "    metric_lst = []\n",
    "    ia_lst = []\n",
    "    picked_tiles = []\n",
    "    GT_area  = 0. #sum of intersection areas of all tiles\n",
    "    total_intersection_area = 0. \n",
    "    total_outside_area = 0. \n",
    "\n",
    "    # compute I/O metric for all tiles\n",
    "    #for tile in tiles[1:]:#ignore the large outside tile\n",
    "    for tile in tiles[1:]:\n",
    "        if est_type==\"ground_truth\":\n",
    "            intersection_area = float(len(gt_idxs.intersection(set(tile)))) # exact intersection areas\n",
    "        else:\n",
    "            pInT = np.exp(log_probability_in_mask[list(tile)[0]]) # all pixels in same tile should have the same pInT\n",
    "            pNotInT = np.exp(log_probability_not_in_mask[list(tile)[0]])\n",
    "            if pInT+pNotInT!=0:\n",
    "                norm_pInT = pInT/(pNotInT+pInT) #normalized pInT\n",
    "            else: #weird bug for object 18 isoGT case\n",
    "                norm_pInT = 1.\n",
    "            assert norm_pInT<=1 and norm_pInT>=0\n",
    "            intersection_area = float(len(tile) * norm_pInT) #estimated intersection area\n",
    "        outside_area = float(len(tile) - intersection_area)\n",
    "        GT_area+= intersection_area\n",
    "        if outside_area!=0:\n",
    "            metric = intersection_area/outside_area\n",
    "            metric_lst.append(metric)\n",
    "            candidate_tiles_lst.append(tile)\n",
    "            ia_lst.append(intersection_area)\n",
    "        else:# if outside area =0, then tile completely encapsulated by GT, it must be included in picked tiles\n",
    "            #print \"here\"\n",
    "            picked_tiles.append(tile)\n",
    "            total_intersection_area += intersection_area\n",
    "            total_outside_area += outside_area\n",
    "\n",
    "    assert len(metric_lst)==len(candidate_tiles_lst)==len(ia_lst)\n",
    "    srt_decr_idx = np.argsort(metric_lst)[::-1] # sorting from largest to smallest metric_lst\n",
    "    #print np.array(metric_lst)[srt_decr_idx]\n",
    "    jaccard_lst = []\n",
    "#     if total_area!=0:\n",
    "#         print \"here\"\n",
    "#         prev_jac = ia_cum / total_area\n",
    "#     else:\n",
    "#         prev_jac = -10000.\n",
    "    prev_jacc = total_intersection_area/(total_outside_area+GT_area)\n",
    "#     prev_jac = -10000.\n",
    "#    print ia_cum,total_area\n",
    "#    print prev_jac\n",
    "    for tidx  in srt_decr_idx:\n",
    "        tile = candidate_tiles_lst[tidx]\n",
    "        ia = ia_lst[tidx]\n",
    "        if ia!=0:\n",
    "            temp_new_out_area = total_outside_area + ia\n",
    "            temp_new_in_area = total_intersection_area + len(tile)\n",
    "            jaccard = (temp_new_in_area) / (temp_new_out_area + GT_area)\n",
    "            if jaccard >= prev_jacc:\n",
    "                prev_jacc = jaccard\n",
    "                total_outside_area = temp_new_out_area\n",
    "                total_intersection_area = temp_new_in_area\n",
    "                picked_tiles.append(tile)\n",
    "            #jaccard = (ia_cum+ia)/float(total_area+len(tile)) # the new jaccard if that tile is actually added\n",
    "#             jaccard_lst.append(jaccard)\n",
    "#             if jaccard >= prev_jac:\n",
    "#                 picked_tiles.append(tile)\n",
    "#                 # if tile picked, update new ia and area\n",
    "#                 prev_jac=jaccard\n",
    "#                 ia_cum +=ia\n",
    "#                 total_area += len(tile)\n",
    "            else: # stop when jaccard starts decreasing after the addition of a tile\n",
    "                break\n",
    "                #continue #for debugging purposes to see how jaccard_lst evolves, technically should break here\n",
    "\n",
    "    #populate final img with tiles in picked tiles\n",
    "    gt_est_mask = np.zeros_like(gt)\n",
    "    for t in picked_tiles:\n",
    "        for tidx in t:\n",
    "            gt_est_mask[tidx]=1\n",
    "    [p, r, j] = faster_compute_prj(gt_est_mask, gt)\n",
    "    #return tiles,srt_decr_idx,ia_lst,candidate_tiles_lst,jaccard_lst,gt_est_mask,picked_tiles\n",
    "    #return gt_est_mask\n",
    "    return p,r,j"
   ]
  },
  {
   "cell_type": "code",
   "execution_count": 141,
   "metadata": {
    "collapsed": true
   },
   "outputs": [],
   "source": [
    "object_lst = [1, 2, 3, 4, 5, 6, 7, 8, 9, 10, 11, 12, 13, 14, 15, 16, 17, 18, 19, 20, 21, 22, 23, 24, 25, 26, 27, 28, 29, 30, 31, 32, 33, 34, 36, 37, 38, 39, 42, 43, 44, 45, 46, 47]"
   ]
  },
  {
   "cell_type": "code",
   "execution_count": 142,
   "metadata": {},
   "outputs": [
    {
     "name": "stdout",
     "output_type": "stream",
     "text": [
      "25workers_rand0 1 0.995097480333 1.0 0.995097480333\n",
      "25workers_rand0 2 0.993880597015 1.0 0.993880597015\n",
      "25workers_rand0 3 0.978514108206 0.992647058824 0.971472629144\n",
      "25workers_rand0 4 0.978647686833 1.0 0.978647686833\n",
      "25workers_rand0 5 0.926637352465 0.988886144727 0.917086578104\n",
      "25workers_rand0 6 0.881462799496 1.0 0.881462799496\n",
      "25workers_rand0 7 0.941398865784 0.997107897664 0.93883535819\n",
      "25workers_rand0 8 0.911151244732 0.999689175538 0.910893192197\n",
      "25workers_rand0 9 0.985082466646 0.998721908616 0.98384219914\n",
      "25workers_rand0 10 0.657148422283 1.0 0.657148422283\n",
      "25workers_rand0 11 0.975166565718 0.996287128713 0.971635485818\n",
      "25workers_rand0 12 0.929211746522 1.0 0.929211746522\n",
      "25workers_rand0 13 0.985746764603 1.0 0.985746764603\n",
      "25workers_rand0 14 0.983999603705 0.999949660206 0.983950861898\n",
      "25workers_rand0 15 0.975047984645 1.0 0.975047984645\n",
      "25workers_rand0 16 0.994560870261 1.0 0.994560870261\n",
      "25workers_rand0 17 0.913265306122 1.0 0.913265306122\n",
      "25workers_rand0 18 0.994680415746 0.997019496322 0.991731491052\n",
      "25workers_rand0 19 0.742878787879 1.0 0.742878787879\n",
      "25workers_rand0 20 0.93350342848 0.998720464045 0.93238830931\n",
      "25workers_rand0 21 0.990300920169 1.0 0.990300920169\n",
      "25workers_rand0 22 0.947407963937 1.0 0.947407963937\n",
      "25workers_rand0 23 0.985236162579 1.0 0.985236162579\n",
      "25workers_rand0 24 0.993721222269 1.0 0.993721222269\n",
      "25workers_rand0 25 0.988276972625 0.999978275038 0.988255754036\n",
      "25workers_rand0 26 0.9948720688 0.999785281013 0.994659546061\n",
      "25workers_rand0 27 0.990259181496 1.0 0.990259181496\n",
      "25workers_rand0 28 0.261292564281 1.0 0.261292564281\n",
      "25workers_rand0 29 0.916589188471 1.0 0.916589188471\n",
      "25workers_rand0 30 0.972775665399 0.999531176746 0.97233201581\n",
      "25workers_rand0 31 0.959613432106 0.999569134352 0.959216659149\n",
      "25workers_rand0 32 0.988901490603 1.0 0.988901490603\n",
      "25workers_rand0 33 0.990447294902 1.0 0.990447294902\n",
      "25workers_rand0 34 0.293359872092 0.99797975313 0.293185761058\n",
      "25workers_rand0 36 0.992702658082 0.985543353549 0.978454728894\n",
      "25workers_rand0 37 0.97792693946 1.0 0.97792693946\n",
      "25workers_rand0 38 0.991356523578 0.999680145001 0.991042173132\n",
      "25workers_rand0 39 0.973754173365 0.999154128382 0.972952102467\n",
      "25workers_rand0 42 0.976343412189 0.955535111929 0.933912782856\n",
      "25workers_rand0 43 0.979002093039 0.98231827112 0.962048832272\n",
      "25workers_rand0 44 0.956400483406 0.996512979465 0.953210414157\n",
      "25workers_rand0 45 0.956030657523 0.98483274465 0.942158616577\n",
      "25workers_rand0 46 0.892633132456 1.0 0.892633132456\n",
      "25workers_rand0 47 0.984905660377 0.993234672304 0.978342357351\n"
     ]
    }
   ],
   "source": [
    "sample = \"25workers_rand0\"\n",
    "objid=3\n",
    "j_lst = []\n",
    "for objid in object_lst:\n",
    "    p,r,j = greedy(sample,objid,\"\",\"ground_truth\")\n",
    "    #tiles,srt_decr_idx,ia_lst,candidate_tile_lst, jaccard_lst = greedy(sample,objid,\"\",\"ground_truth\")\n",
    "    print sample,objid,p,r,j\n",
    "    j_lst.append(j)"
   ]
  },
  {
   "cell_type": "code",
   "execution_count": 129,
   "metadata": {},
   "outputs": [
    {
     "name": "stdout",
     "output_type": "stream",
     "text": [
      "25workers_rand0 1 0.995097480333 1.0 0.995097480333\n",
      "25workers_rand0 2 0.993880597015 1.0 0.993880597015\n",
      "25workers_rand0 3 0.978514108206 0.992647058824 0.971472629144\n",
      "25workers_rand0 4 0.978647686833 1.0 0.978647686833\n",
      "25workers_rand0 5 0.926637352465 0.988886144727 0.917086578104\n",
      "25workers_rand0 6 0.881462799496 1.0 0.881462799496\n",
      "25workers_rand0 7 0.941398865784 0.997107897664 0.93883535819\n",
      "25workers_rand0 8 0.911151244732 0.999689175538 0.910893192197\n",
      "25workers_rand0 9 0.985082466646 0.998721908616 0.98384219914\n",
      "25workers_rand0 10 0.657148422283 1.0 0.657148422283\n",
      "25workers_rand0 11 0.975166565718 0.996287128713 0.971635485818\n",
      "25workers_rand0 12 0.929211746522 1.0 0.929211746522\n",
      "25workers_rand0 13 0.985746764603 1.0 0.985746764603\n",
      "25workers_rand0 14 0.983999603705 0.999949660206 0.983950861898\n",
      "25workers_rand0 15 0.975047984645 1.0 0.975047984645\n",
      "25workers_rand0 16 0.994560870261 1.0 0.994560870261\n",
      "25workers_rand0 17 0.913265306122 1.0 0.913265306122\n",
      "25workers_rand0 18 0.994680415746 0.997019496322 0.991731491052\n",
      "25workers_rand0 19 0.742878787879 1.0 0.742878787879\n",
      "25workers_rand0 20 0.93350342848 0.998720464045 0.93238830931\n",
      "25workers_rand0 21 0.990300920169 1.0 0.990300920169\n",
      "25workers_rand0 22 0.947407963937 1.0 0.947407963937\n",
      "25workers_rand0 23 0.985236162579 1.0 0.985236162579\n",
      "25workers_rand0 24 0.993721222269 1.0 0.993721222269\n",
      "25workers_rand0 25 0.988276972625 0.999978275038 0.988255754036\n",
      "25workers_rand0 26 0.9948720688 0.999785281013 0.994659546061\n",
      "25workers_rand0 27 0.990259181496 1.0 0.990259181496\n",
      "25workers_rand0 28 0.261292564281 1.0 0.261292564281\n",
      "25workers_rand0 29 0.916589188471 1.0 0.916589188471\n",
      "25workers_rand0 30 0.972775665399 0.999531176746 0.97233201581\n",
      "25workers_rand0 31 0.959613432106 0.999569134352 0.959216659149\n",
      "25workers_rand0 32 0.988901490603 1.0 0.988901490603\n",
      "25workers_rand0 33 0.990447294902 1.0 0.990447294902\n",
      "25workers_rand0 34 0.293359872092 0.99797975313 0.293185761058\n",
      "25workers_rand0 36 0.992702658082 0.985543353549 0.978454728894\n",
      "25workers_rand0 37 0.97792693946 1.0 0.97792693946\n",
      "25workers_rand0 38 0.991356523578 0.999680145001 0.991042173132\n",
      "25workers_rand0 39 0.973754173365 0.999154128382 0.972952102467\n",
      "25workers_rand0 42 0.976343412189 0.955535111929 0.933912782856\n",
      "25workers_rand0 43 0.979002093039 0.98231827112 0.962048832272\n",
      "25workers_rand0 44 0.956400483406 0.996512979465 0.953210414157\n",
      "25workers_rand0 45 0.956030657523 0.98483274465 0.942158616577\n",
      "25workers_rand0 46 0.892633132456 1.0 0.892633132456\n",
      "25workers_rand0 47 0.984905660377 0.993234672304 0.978342357351\n"
     ]
    }
   ],
   "source": [
    "sample = \"25workers_rand0\"\n",
    "objid=3\n",
    "j_lst = []\n",
    "for objid in object_lst:\n",
    "    p,r,j = greedy(sample,objid,\"\",\"ground_truth\")\n",
    "    #tiles,srt_decr_idx,ia_lst,candidate_tile_lst, jaccard_lst = greedy(sample,objid,\"\",\"ground_truth\")\n",
    "    print sample,objid,p,r,j\n",
    "    j_lst.append(j)"
   ]
  },
  {
   "cell_type": "code",
   "execution_count": 131,
   "metadata": {},
   "outputs": [
    {
     "data": {
      "text/plain": [
       "0.92052891716563012"
      ]
     },
     "execution_count": 131,
     "metadata": {},
     "output_type": "execute_result"
    }
   ],
   "source": [
    "mean(j_lst)"
   ]
  },
  {
   "cell_type": "code",
   "execution_count": 139,
   "metadata": {},
   "outputs": [
    {
     "data": {
      "text/plain": [
       "<matplotlib.colorbar.Colorbar at 0x101d92d0>"
      ]
     },
     "execution_count": 139,
     "metadata": {},
     "output_type": "execute_result"
    },
    {
     "data": {
      "image/png": "[encoded data removed]",
      "text/plain": [
       "<matplotlib.figure.Figure at 0x1d9ed950>"
      ]
     },
     "metadata": {},
     "output_type": "display_data"
    }
   ],
   "source": [
    "tiles,srt_decr_idx,ia_lst,candidate_tile_lst, jaccard_lst,gt_est_mask,picked_tiles = greedy(sample,28,\"\",\"ground_truth\")\n",
    "\n",
    "plt.imshow(gt_est_mask)\n",
    "plt.colorbar()"
   ]
  },
  {
   "cell_type": "code",
   "execution_count": 136,
   "metadata": {},
   "outputs": [
    {
     "data": {
      "text/plain": [
       "<matplotlib.colorbar.Colorbar at 0xf30f350>"
      ]
     },
     "execution_count": 136,
     "metadata": {},
     "output_type": "execute_result"
    },
    {
     "data": {
      "image/png": "[encoded data removed]",
      "text/plain": [
       "<matplotlib.figure.Figure at 0x1a0f5d90>"
      ]
     },
     "metadata": {},
     "output_type": "display_data"
    }
   ],
   "source": [
    "tiles,srt_decr_idx,ia_lst,candidate_tile_lst, jaccard_lst,gt_est_mask,picked_tiles = greedy(sample,34,\"\",\"ground_truth\")\n",
    "\n",
    "plt.imshow(gt_est_mask)\n",
    "plt.colorbar()"
   ]
  },
  {
   "cell_type": "code",
   "execution_count": 112,
   "metadata": {},
   "outputs": [
    {
     "name": "stdout",
     "output_type": "stream",
     "text": [
      "here\n",
      "4373.0 37505.0\n",
      "0.116597786962\n",
      "25workers_rand0 38 0.998346269771 0.997654396674 0.996008408952\n",
      "here\n",
      "1491.0 6901.0\n",
      "0.21605564411\n",
      "25workers_rand0 29 0.976860448507 0.991015794812 0.96828543112\n",
      "here\n",
      "6432.0 6659.0\n",
      "0.965910797417\n",
      "25workers_rand0 2 0.999849170437 0.995494819042 0.995345345345\n",
      "here\n",
      "572.0 2327.0\n",
      "0.245810055866\n",
      "25workers_rand0 17 0.994285714286 0.972067039106 0.966666666667\n",
      "here\n",
      "631.0 1261.0\n",
      "0.500396510706\n",
      "25workers_rand0 22 0.98834304746 0.941316415543 0.930980392157\n",
      "here\n",
      "2321.0 25519.0\n",
      "0.0909518398056\n",
      "25workers_rand0 31 0.992871969608 0.992988640815 0.985959863099\n"
     ]
    }
   ],
   "source": [
    "sample = \"25workers_rand0\"\n",
    "objid=3\n",
    "for objid in [38,29,2,17,22,31]:\n",
    "    p,r,j = greedy(sample,objid,\"\",\"ground_truth\")\n",
    "    #tiles,srt_decr_idx,ia_lst,candidate_tile_lst, jaccard_lst = greedy(sample,objid,\"\",\"ground_truth\")\n",
    "    print sample,objid,p,r,j"
   ]
  },
  {
   "cell_type": "code",
   "execution_count": 100,
   "metadata": {},
   "outputs": [
    {
     "name": "stdout",
     "output_type": "stream",
     "text": [
      "969.0 969.0\n",
      "-10000.0\n"
     ]
    }
   ],
   "source": [
    "sample = \"25workers_rand0\"\n",
    "objid = 3\n",
    "tiles,srt_decr_idx,ia_lst,candidate_tile_lst, jaccard_lst,gt_est_mask,picked_tiles = greedy(sample,objid,\"\",\"ground_truth\")"
   ]
  },
  {
   "cell_type": "code",
   "execution_count": 92,
   "metadata": {},
   "outputs": [
    {
     "data": {
      "text/plain": [
       "2691.0"
      ]
     },
     "execution_count": 92,
     "metadata": {},
     "output_type": "execute_result"
    }
   ],
   "source": [
    "np.array(ia_lst)[srt_decr_idx][0]"
   ]
  },
  {
   "cell_type": "code",
   "execution_count": 87,
   "metadata": {},
   "outputs": [
    {
     "data": {
      "text/plain": [
       "array([256, 254,  14,  89,  28, 163, 235, 214,  72,  30,   3, 133, 247,\n",
       "        27,  43,  82, 157,  12, 246, 197,  47, 253,  85,  86,  87,  68,\n",
       "        88,  90,  69,  70,  84,  83,  71,  80,  79,  91,  78,  77,  76,\n",
       "        75,  74,  73,  81,  97,  92,  93, 120, 119, 118, 117, 116, 115,\n",
       "       114, 113, 112, 111, 110, 109, 108, 107, 106, 105, 104, 103, 102,\n",
       "       101, 100,  99,  98,  66,  96,  95,  94,  67,  58,  65,  17,  32,\n",
       "        31,  29,  26,  25,  24,  23,  22,  21,  20,  19,  18,  16,  64,\n",
       "        15,  13,  11,  10,   9,   8,   7,   6,   5,   4,   2,   1,  33,\n",
       "        34,  35,  36,  63,  62,  61,  60,  59, 122,  57,  56,  55,  54,\n",
       "        53,  52,  51,  50,  49,  48,  46,  45,  44,  42,  41,  40,  39,\n",
       "        38,  37, 121, 128, 123, 220, 218, 217, 216, 215, 213, 212, 211,\n",
       "       210, 209, 208, 207, 206, 205, 204, 203, 202, 201, 200, 199, 198,\n",
       "       196, 195, 194, 193, 192, 191, 190, 219, 221, 188, 222, 252, 251,\n",
       "       250, 249, 248, 245, 244, 243, 242, 241, 240, 239, 238, 237, 236,\n",
       "       234, 233, 232, 231, 230, 229, 228, 227, 226, 225, 224, 223, 189,\n",
       "       187, 124, 154, 152, 151, 150, 149, 148, 147, 146, 145, 144, 143,\n",
       "       142, 141, 140, 139, 138, 137, 136, 135, 134, 132, 131, 130, 129,\n",
       "       255, 127, 126, 125, 153, 155, 186, 156, 185, 184, 183, 182, 181,\n",
       "       180, 179, 178, 177, 176, 175, 174, 173, 172, 171, 170, 169, 168,\n",
       "       167, 166, 165, 164, 162, 161, 160, 159, 158,   0])"
      ]
     },
     "execution_count": 87,
     "metadata": {},
     "output_type": "execute_result"
    }
   ],
   "source": [
    "srt_decr_idx"
   ]
  },
  {
   "cell_type": "code",
   "execution_count": 88,
   "metadata": {},
   "outputs": [
    {
     "data": {
      "text/plain": [
       "257"
      ]
     },
     "execution_count": 88,
     "metadata": {},
     "output_type": "execute_result"
    }
   ],
   "source": [
    "len(candidate_tile_lst)"
   ]
  },
  {
   "cell_type": "code",
   "execution_count": 85,
   "metadata": {},
   "outputs": [
    {
     "data": {
      "text/plain": [
       "[1,\n",
       " 2,\n",
       " 3,\n",
       " 4,\n",
       " 5,\n",
       " 6,\n",
       " 7,\n",
       " 8,\n",
       " 9,\n",
       " 10,\n",
       " 11,\n",
       " 12,\n",
       " 14,\n",
       " 16,\n",
       " 17,\n",
       " 18,\n",
       " 19,\n",
       " 20,\n",
       " 22,\n",
       " 23,\n",
       " 24,\n",
       " 25,\n",
       " 26,\n",
       " 27,\n",
       " 28,\n",
       " 29,\n",
       " 30,\n",
       " 31,\n",
       " 32,\n",
       " 34,\n",
       " 35,\n",
       " 36,\n",
       " 37,\n",
       " 38,\n",
       " 39,\n",
       " 40,\n",
       " 41,\n",
       " 42,\n",
       " 43,\n",
       " 46,\n",
       " 49,\n",
       " 50,\n",
       " 52,\n",
       " 54,\n",
       " 55,\n",
       " 56,\n",
       " 57,\n",
       " 58,\n",
       " 60,\n",
       " 61,\n",
       " 62,\n",
       " 63,\n",
       " 64,\n",
       " 65,\n",
       " 66,\n",
       " 67,\n",
       " 69,\n",
       " 71,\n",
       " 72,\n",
       " 74,\n",
       " 75,\n",
       " 76,\n",
       " 77,\n",
       " 78,\n",
       " 79,\n",
       " 80,\n",
       " 81,\n",
       " 82,\n",
       " 83,\n",
       " 85,\n",
       " 86,\n",
       " 87,\n",
       " 88,\n",
       " 89,\n",
       " 90,\n",
       " 92,\n",
       " 94,\n",
       " 95,\n",
       " 96,\n",
       " 97,\n",
       " 99,\n",
       " 101,\n",
       " 103,\n",
       " 105,\n",
       " 106,\n",
       " 107,\n",
       " 108,\n",
       " 109,\n",
       " 110,\n",
       " 111,\n",
       " 112,\n",
       " 113,\n",
       " 114,\n",
       " 117,\n",
       " 118,\n",
       " 119,\n",
       " 122,\n",
       " 124,\n",
       " 126,\n",
       " 127,\n",
       " 128,\n",
       " 129,\n",
       " 131,\n",
       " 137,\n",
       " 138,\n",
       " 143,\n",
       " 145,\n",
       " 146,\n",
       " 148,\n",
       " 149,\n",
       " 152,\n",
       " 154,\n",
       " 155,\n",
       " 156,\n",
       " 161,\n",
       " 163,\n",
       " 169,\n",
       " 172,\n",
       " 173,\n",
       " 174,\n",
       " 175,\n",
       " 178,\n",
       " 179,\n",
       " 180,\n",
       " 182,\n",
       " 184,\n",
       " 191,\n",
       " 193,\n",
       " 196,\n",
       " 198,\n",
       " 201,\n",
       " 202,\n",
       " 203,\n",
       " 208,\n",
       " 212,\n",
       " 214,\n",
       " 217,\n",
       " 218,\n",
       " 219,\n",
       " 220,\n",
       " 221,\n",
       " 223,\n",
       " 225,\n",
       " 226,\n",
       " 227,\n",
       " 230,\n",
       " 233,\n",
       " 234,\n",
       " 236,\n",
       " 240,\n",
       " 243,\n",
       " 246,\n",
       " 253,\n",
       " 256,\n",
       " 258,\n",
       " 264,\n",
       " 265,\n",
       " 268,\n",
       " 269,\n",
       " 271,\n",
       " 272,\n",
       " 273,\n",
       " 282,\n",
       " 283,\n",
       " 284,\n",
       " 288,\n",
       " 297,\n",
       " 305,\n",
       " 307,\n",
       " 308,\n",
       " 309,\n",
       " 311,\n",
       " 318,\n",
       " 319,\n",
       " 321,\n",
       " 323,\n",
       " 325,\n",
       " 327,\n",
       " 333,\n",
       " 336,\n",
       " 338,\n",
       " 342,\n",
       " 343,\n",
       " 346,\n",
       " 349,\n",
       " 351,\n",
       " 352,\n",
       " 353,\n",
       " 355,\n",
       " 362,\n",
       " 364,\n",
       " 371,\n",
       " 372,\n",
       " 373,\n",
       " 376,\n",
       " 379,\n",
       " 382,\n",
       " 386,\n",
       " 388,\n",
       " 391,\n",
       " 395,\n",
       " 399,\n",
       " 405,\n",
       " 414,\n",
       " 416,\n",
       " 418,\n",
       " 421,\n",
       " 422,\n",
       " 425,\n",
       " 426,\n",
       " 428,\n",
       " 429,\n",
       " 430,\n",
       " 431,\n",
       " 433,\n",
       " 436,\n",
       " 450,\n",
       " 453,\n",
       " 455,\n",
       " 456,\n",
       " 457,\n",
       " 462,\n",
       " 468,\n",
       " 477,\n",
       " 480,\n",
       " 483,\n",
       " 486,\n",
       " 488,\n",
       " 492,\n",
       " 498,\n",
       " 503,\n",
       " 504,\n",
       " 505,\n",
       " 511,\n",
       " 522,\n",
       " 534,\n",
       " 543,\n",
       " 544,\n",
       " 561,\n",
       " 566,\n",
       " 572,\n",
       " 575,\n",
       " 582,\n",
       " 583,\n",
       " 587,\n",
       " 588,\n",
       " 609,\n",
       " 611,\n",
       " 632,\n",
       " 634,\n",
       " 636,\n",
       " 641,\n",
       " 642,\n",
       " 645,\n",
       " 652,\n",
       " 653,\n",
       " 656]"
      ]
     },
     "execution_count": 85,
     "metadata": {},
     "output_type": "execute_result"
    }
   ],
   "source": [
    "[tiles.index(t) for t in candidate_tile_lst]"
   ]
  },
  {
   "cell_type": "code",
   "execution_count": 74,
   "metadata": {},
   "outputs": [
    {
     "name": "stdout",
     "output_type": "stream",
     "text": [
      "[  0 656 643 649 652 585   2  86  42  41 645 362  94 155 613   7   5  18\n",
      "  50 483  43  84  89 534 647 560  30  87  14 648 309 505  32  58 567  96\n",
      "   1 457 644 319 610 124 103 214 386 136 531 294 564 557  49  10 578  54\n",
      "  17 609  22 274 480  74 428 611   3 308 297 170   4 129 646 441 270 617\n",
      " 533 191 111  64 208 119 485 321 337 268 506 292  91 590 410 507 326 535\n",
      "  73 263 539 526 558 283  69 453 339 113 586 370 626 622 481 167 158 604\n",
      " 403 527 338 437  33 476 474 427  45  46 516 528 461 109 104 112 115 466\n",
      " 114 310 484 459 458 152 408 404 205 350 164 394 390 198 197 192 181 374\n",
      " 187 183 371 409 413 120 211 121 320 125 322 127 130 324 438 653 435 655\n",
      " 432 140 141 215 433 366 545 250  44 565  47  48 556 608 553 572  53 612\n",
      "  55  57  59  28 571 574 247 275  29 594  31  27 591 589 584 576  26  35\n",
      "  24 603 605 606  61 597 630   6 509 634  21  85 186  12 628 513 266  88\n",
      " 518  75 233 638 624 493  19 641 537 491 188 207 206 261 199 189 204 203\n",
      " 202 201 190 193 194 257 195 196 260 259 258 200 229 252 209 210 221 241\n",
      " 222 240 239 238 223 224 225 226 236 227 235 228 234 232 231 242 243 244\n",
      " 230 212 213 256 255 254 216 253 217 245 218 219 251 220 249 248 246 237\n",
      " 654 185  90  71  72  76  77  78  79  80  81  82  83  92  68  93  95  97\n",
      "  98  99 100 101 102 105 106  70  67 108  36   8   9  11  13  15  16  20\n",
      "  23  25  34  37  66  38  39  40  51  52  56  60  62  63  65 107 110 184\n",
      " 169 156 157 159 160 161 162 163 165 166 168 171 153 172 173 174 175 176\n",
      " 177 178 179 180 182 154 151 116 135 117 118 122 123 126 128 131 132 133\n",
      " 134 137 150 138 139 142 143 144 145 146 147 148 149 262 327 264 510 490\n",
      " 492 494 495 496 497 498 499 500 501 502 503 504 508 511 265 512 514 515\n",
      " 517 519 520 521 522 523 524 525 529 530 532 489 488 487 486 444 445 446\n",
      " 447 448 449 450 451 452 454 455 456 460 462 463 464 465 467 468 469 470\n",
      " 471 472 473 475 477 478 479 482 536 538 540 593 596 598 599 600 601 602\n",
      " 607 614 615 616 618 619 620 621 623 625 627 629 631 632 633 635 636 637\n",
      " 639 640 642 650 651 595 592 541 588 542 543 544 546 547 548 549 550 551\n",
      " 552 554 555 559 561 562 563 566 568 569 570 573 575 577 579 580 581 582\n",
      " 583 587 443 442 440 306 311 312 313 314 315 316 317 318 323 325 329 330\n",
      " 331 332 333 334 335 336 340 341 342 343 344 345 346 347 348 349 351 307\n",
      " 305 353 304 267 269 271 272 273 276 277 278 279 280 281 282 284 285 286\n",
      " 287 288 289 290 291 293 295 296 298 299 300 301 302 303 352 354 439 395\n",
      " 397 398 399 400 401 402 405 406 407 411 412 414 415 416 417 418 419 420\n",
      " 421 422 423 424 425 426 429 430 431 434 436 396 393 355 392 356 357 358\n",
      " 359 360 361 363 364 365 367 368 369 372 373 375 376 377 378 379 380 381\n",
      " 382 383 384 385 387 388 389 391 328]\n"
     ]
    }
   ],
   "source": [
    "tarea = np.array([len(t) for t in tiles])\n",
    "tarea[np.argsort(tarea)[::-1]]\n",
    "print np.argsort(tarea)[::-1]"
   ]
  },
  {
   "cell_type": "code",
   "execution_count": 101,
   "metadata": {},
   "outputs": [
    {
     "data": {
      "image/png": "[encoded data removed]",
      "text/plain": [
       "<matplotlib.figure.Figure at 0x6a8e8d0>"
      ]
     },
     "metadata": {},
     "output_type": "display_data"
    }
   ],
   "source": [
    "plot_tile(objid,tiles[656])"
   ]
  },
  {
   "cell_type": "code",
   "execution_count": 102,
   "metadata": {},
   "outputs": [
    {
     "data": {
      "text/plain": [
       "<matplotlib.colorbar.Colorbar at 0x811e150>"
      ]
     },
     "execution_count": 102,
     "metadata": {},
     "output_type": "execute_result"
    },
    {
     "data": {
      "image/png": "[encoded data removed]",
      "text/plain": [
       "<matplotlib.figure.Figure at 0xc1fc9d0>"
      ]
     },
     "metadata": {},
     "output_type": "display_data"
    }
   ],
   "source": [
    "plt.imshow(gt_est_mask)\n",
    "plt.colorbar()"
   ]
  },
  {
   "cell_type": "code",
   "execution_count": 8,
   "metadata": {},
   "outputs": [
    {
     "data": {
      "text/plain": [
       "0.0"
      ]
     },
     "execution_count": 8,
     "metadata": {},
     "output_type": "execute_result"
    }
   ],
   "source": [
    "ia_lst[srt_decr_idx[22]]"
   ]
  },
  {
   "cell_type": "code",
   "execution_count": 9,
   "metadata": {},
   "outputs": [
    {
     "data": {
      "text/plain": [
       "2"
      ]
     },
     "execution_count": 9,
     "metadata": {},
     "output_type": "execute_result"
    }
   ],
   "source": [
    "len(tiles[srt_decr_idx[22]])"
   ]
  },
  {
   "cell_type": "code",
   "execution_count": 10,
   "metadata": {
    "collapsed": true
   },
   "outputs": [],
   "source": [
    "def plot_tile(objid,tile):\n",
    "    gt = get_gt_mask(objid)\n",
    "    img = np.zeros_like(gt)\n",
    "    for tidx in tile:\n",
    "        img[tidx]=1\n",
    "    plt.imshow(img)\n",
    "    plt.colorbar()"
   ]
  },
  {
   "cell_type": "code",
   "execution_count": 11,
   "metadata": {},
   "outputs": [
    {
     "data": {
      "image/png": "[encoded data removed]",
      "text/plain": [
       "<matplotlib.figure.Figure at 0x65d1290>"
      ]
     },
     "metadata": {},
     "output_type": "display_data"
    }
   ],
   "source": [
    "plot_tile(objid,tiles[srt_decr_idx[22]])"
   ]
  },
  {
   "cell_type": "code",
   "execution_count": 12,
   "metadata": {},
   "outputs": [
    {
     "data": {
      "text/plain": [
       "0.0"
      ]
     },
     "execution_count": 12,
     "metadata": {},
     "output_type": "execute_result"
    }
   ],
   "source": [
    "ia_lst[22]"
   ]
  },
  {
   "cell_type": "code",
   "execution_count": 13,
   "metadata": {},
   "outputs": [
    {
     "data": {
      "text/plain": [
       "{(416, 89), (417, 89)}"
      ]
     },
     "execution_count": 13,
     "metadata": {},
     "output_type": "execute_result"
    }
   ],
   "source": [
    "candidate_tile_lst[22]"
   ]
  },
  {
   "cell_type": "code",
   "execution_count": 14,
   "metadata": {},
   "outputs": [
    {
     "data": {
      "text/plain": [
       "0.9989690721649485"
      ]
     },
     "execution_count": 14,
     "metadata": {},
     "output_type": "execute_result"
    }
   ],
   "source": [
    "jaccard_lst[22]"
   ]
  },
  {
   "cell_type": "code",
   "execution_count": null,
   "metadata": {
    "collapsed": true
   },
   "outputs": [],
   "source": []
  },
  {
   "cell_type": "code",
   "execution_count": 25,
   "metadata": {},
   "outputs": [
    {
     "data": {
      "text/plain": [
       "[<matplotlib.lines.Line2D at 0x13578b90>]"
      ]
     },
     "execution_count": 25,
     "metadata": {},
     "output_type": "execute_result"
    },
    {
     "data": {
      "image/png": "[encoded data removed]",
      "text/plain": [
       "<matplotlib.figure.Figure at 0x13a6b610>"
      ]
     },
     "metadata": {},
     "output_type": "display_data"
    }
   ],
   "source": [
    "plt.plot(jaccard_lst[:20])"
   ]
  },
  {
   "cell_type": "code",
   "execution_count": 16,
   "metadata": {
    "collapsed": true
   },
   "outputs": [],
   "source": [
    "# plt.imshow(mask)\n",
    "# plt.colorbar()"
   ]
  },
  {
   "cell_type": "code",
   "execution_count": 17,
   "metadata": {
    "scrolled": false
   },
   "outputs": [
    {
     "data": {
      "text/plain": [
       "<matplotlib.colorbar.Colorbar at 0x13b539d0>"
      ]
     },
     "execution_count": 17,
     "metadata": {},
     "output_type": "execute_result"
    },
    {
     "data": {
      "image/png": "[encoded data removed]",
      "text/plain": [
       "<matplotlib.figure.Figure at 0x13bfe850>"
      ]
     },
     "metadata": {},
     "output_type": "display_data"
    }
   ],
   "source": [
    "gt = get_gt_mask(objid)\n",
    "plt.imshow(gt)\n",
    "plt.colorbar()"
   ]
  },
  {
   "cell_type": "code",
   "execution_count": null,
   "metadata": {
    "collapsed": true
   },
   "outputs": [],
   "source": []
  }
 ],
 "metadata": {
  "kernelspec": {
   "display_name": "Python 2",
   "language": "python",
   "name": "python2"
  },
  "language_info": {
   "codemirror_mode": {
    "name": "ipython",
    "version": 2
   },
   "file_extension": ".py",
   "mimetype": "text/x-python",
   "name": "python",
   "nbconvert_exporter": "python",
   "pygments_lexer": "ipython2",
   "version": "2.7.6"
  }
 },
 "nbformat": 4,
 "nbformat_minor": 2
}

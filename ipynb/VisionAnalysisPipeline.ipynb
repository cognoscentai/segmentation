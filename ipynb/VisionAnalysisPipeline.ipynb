{
 "cells": [
  {
   "cell_type": "code",
   "execution_count": 3,
   "metadata": {},
   "outputs": [
    {
     "name": "stdout",
     "output_type": "stream",
     "text": [
      "/home/jlee782/final_segmentation/analysis\n"
     ]
    }
   ],
   "source": [
    "cd ../analysis/"
   ]
  },
  {
   "cell_type": "code",
   "execution_count": 1,
   "metadata": {},
   "outputs": [
    {
     "name": "stdout",
     "output_type": "stream",
     "text": [
      "Populating the interactive namespace from numpy and matplotlib\n"
     ]
    }
   ],
   "source": [
    "%pylab inline"
   ]
  },
  {
   "cell_type": "markdown",
   "metadata": {},
   "source": [
    "```\n",
    "[jlee782@hilda analysis]$ ls pixel_em/5workers_rand0/obj1/hybrid/\n",
    "100/ 500/\n",
    "[jlee782@hilda analysis]$ ls pixel_em/5workers_rand0/obj1/hybrid/100/\\(0.\n",
    "(0.6,0.4)/   (0.65,0.35)/ (0.7,0.3)/   (0.75,0.25)/ (0.8,0.2)/   (0.85,0.15)/ (0.9,0.1)/   (0.95,0.05)/\n",
    "```"
   ]
  },
  {
   "cell_type": "code",
   "execution_count": 10,
   "metadata": {},
   "outputs": [],
   "source": [
    "from ast import literal_eval as make_tuple\n",
    "from utils import * \n",
    "ec_threshs = [(0.6,0.4),(0.65)]\n",
    "from sample_worker_seeds import sample_specs\n",
    "sample_lst = sample_specs.keys()\n",
    "obj_clusters = clusters()\n",
    "object_lst = [1, 2, 3, 4, 5, 6, 7, 8, 9, 10, 11, 12, 13, 14, 15, 16, 17, 18, 19, 20, 21, 22, 23, 24, 25, 26, 27, 28, 29, 30, 31, 32, 33, 34, 36, 37, 38, 39, 42, 43, 44, 45, 46, 47]"
   ]
  },
  {
   "cell_type": "code",
   "execution_count": 11,
   "metadata": {
    "collapsed": true
   },
   "outputs": [],
   "source": [
    "import glob"
   ]
  },
  {
   "cell_type": "code",
   "execution_count": 37,
   "metadata": {},
   "outputs": [
    {
     "name": "stdout",
     "output_type": "stream",
     "text": [
      "(0.7,0.3)\n",
      "/home/jlee782/final_segmentation/analysis/pixel_em/25workers_rand0/obj1/hybrid/100/(0.7,0.3)\n",
      "[-1, 0.0, 0.0]\n",
      "(0.75,0.25)\n",
      "/home/jlee782/final_segmentation/analysis/pixel_em/25workers_rand0/obj1/hybrid/100/(0.75,0.25)\n",
      "[-1, 0.0, 0.0]\n",
      "(0.8,0.2)\n",
      "/home/jlee782/final_segmentation/analysis/pixel_em/25workers_rand0/obj1/hybrid/100/(0.8,0.2)\n",
      "[-1, 0.0, 0.0]\n",
      "(0.6,0.4)\n",
      "/home/jlee782/final_segmentation/analysis/pixel_em/25workers_rand0/obj1/hybrid/100/(0.6,0.4)\n",
      "[-1, 0.0, 0.0]\n",
      "(0.65,0.35)\n",
      "/home/jlee782/final_segmentation/analysis/pixel_em/25workers_rand0/obj1/hybrid/100/(0.65,0.35)\n",
      "[-1, 0.0, 0.0]\n",
      "(0.85,0.15)\n",
      "/home/jlee782/final_segmentation/analysis/pixel_em/25workers_rand0/obj1/hybrid/100/(0.85,0.15)\n",
      "[-1, 0.0, 0.0]\n",
      "(0.95,0.05)\n",
      "/home/jlee782/final_segmentation/analysis/pixel_em/25workers_rand0/obj1/hybrid/100/(0.95,0.05)\n",
      "[-1, 0.0, 0.0]\n",
      "(0.9,0.1)\n",
      "/home/jlee782/final_segmentation/analysis/pixel_em/25workers_rand0/obj1/hybrid/100/(0.9,0.1)\n",
      "[-1, 0.0, 0.0]\n"
     ]
    }
   ],
   "source": [
    "base=\"MV\"\n",
    "for k in range(100,550,50):\n",
    "    for objid in object_lst: #range(1, 2):\n",
    "        for batch in sample_lst:\n",
    "            if objid in obj_clusters[batch]:\n",
    "                clusts = [\"-1\"] + [obj_clusters[batch][objid]]\n",
    "            else:\n",
    "                clusts = [\"-1\"]\n",
    "            for clust in clusts:\n",
    "                hydir = '{}{}/obj{}/hybrid/{}/'.format(PIXEL_EM_DIR, batch, objid, k)\n",
    "                #print hydir\n",
    "                for ecglobpath in glob.glob(hydir+\"/*\"):\n",
    "                    print ecglobpath.split(\"/\")[-1]\n",
    "                    expand_thresh, contract_thresh = make_tuple(ecglobpath.split(\"/\")[-1])\n",
    "                    hybriddir = hybrid_dir(batch, objid, k, expand_thresh, contract_thresh)\n",
    "                    print hybriddir\n",
    "                    print json.load(open(hybriddir+\"/{}_{}_hybrid_prj.json\".format(base,clust)))\n",
    "                break\n",
    "            break\n",
    "        break\n",
    "    break\n",
    "#                 for expand_thresh,contract_thresh in ec_threshs:\n",
    "                    \n",
    "#                 hybrid_dir(sample_name, objid, k, expand_thresh, contract_thresh)"
   ]
  },
  {
   "cell_type": "code",
   "execution_count": 25,
   "metadata": {
    "collapsed": true
   },
   "outputs": [],
   "source": []
  },
  {
   "cell_type": "code",
   "execution_count": 32,
   "metadata": {},
   "outputs": [
    {
     "name": "stdout",
     "output_type": "stream",
     "text": [
      "pixel_em/25workers_rand0/obj1/hybrid/100/(0.6,0.4)/MV_-1_hybrid_mask.pkl\r\n",
      "\u001b[0m\u001b[01;35mpixel_em/25workers_rand0/obj1/hybrid/100/(0.6,0.4)/MV_-1_hybrid_mask.png\u001b[0m\r\n",
      "pixel_em/25workers_rand0/obj1/hybrid/100/(0.6,0.4)/MV_-1_hybrid_prj.json\r\n",
      "\u001b[m"
     ]
    }
   ],
   "source": [
    "ls pixel_em/25workers_rand0/obj1/hybrid/100/\\(0.6,0.4\\)/*"
   ]
  },
  {
   "cell_type": "code",
   "execution_count": 41,
   "metadata": {},
   "outputs": [],
   "source": [
    "import pickle as pkl\n",
    "mask = pkl.load(open(\"pixel_em/25workers_rand0/obj1/hybrid/100/(0.6,0.4)/MV_-1_hybrid_mask.pkl\"))"
   ]
  },
  {
   "cell_type": "code",
   "execution_count": 43,
   "metadata": {},
   "outputs": [
    {
     "data": {
      "text/plain": [
       "<matplotlib.image.AxesImage at 0x7f39ff41af50>"
      ]
     },
     "execution_count": 43,
     "metadata": {},
     "output_type": "execute_result"
    },
    {
     "data": {
      "image/png": "[encoded data removed]",
      "text/plain": [
       "<matplotlib.figure.Figure at 0x7f39ff4fe090>"
      ]
     },
     "metadata": {},
     "output_type": "display_data"
    }
   ],
   "source": [
    "plt.imshow(mask)"
   ]
  },
  {
   "cell_type": "code",
   "execution_count": null,
   "metadata": {
    "collapsed": true
   },
   "outputs": [],
   "source": []
  }
 ],
 "metadata": {
  "kernelspec": {
   "display_name": "Python 2",
   "language": "python",
   "name": "python2"
  },
  "language_info": {
   "codemirror_mode": {
    "name": "ipython",
    "version": 2
   },
   "file_extension": ".py",
   "mimetype": "text/x-python",
   "name": "python",
   "nbconvert_exporter": "python",
   "pygments_lexer": "ipython2",
   "version": "2.7.14"
  }
 },
 "nbformat": 4,
 "nbformat_minor": 2
}

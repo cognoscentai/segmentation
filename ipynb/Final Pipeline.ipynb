{
 "cells": [
  {
   "cell_type": "code",
   "execution_count": 1,
   "metadata": {
    "collapsed": false
   },
   "outputs": [
    {
     "name": "stdout",
     "output_type": "stream",
     "text": [
      "Populating the interactive namespace from numpy and matplotlib\n"
     ]
    }
   ],
   "source": [
    "%pylab inline"
   ]
  },
  {
   "cell_type": "code",
   "execution_count": 2,
   "metadata": {
    "collapsed": false
   },
   "outputs": [
    {
     "name": "stdout",
     "output_type": "stream",
     "text": [
      "/Users/dorislee/Desktop/Research/seg/final_segmentation/analysis\n"
     ]
    }
   ],
   "source": [
    "cd ../analysis/"
   ]
  },
  {
   "cell_type": "code",
   "execution_count": 3,
   "metadata": {
    "collapsed": false
   },
   "outputs": [
    {
     "name": "stderr",
     "output_type": "stream",
     "text": [
      "/Users/dorislee/.virtualenvs/py27dev/lib/python2.7/site-packages/matplotlib/__init__.py:1155: UserWarning:  This call to matplotlib.use() has no effect\n",
      "because the backend has already been chosen;\n",
      "matplotlib.use() must be called *before* pylab, matplotlib.pyplot,\n",
      "or matplotlib.backends is imported for the first time.\n",
      "\n",
      "  warnings.warn(_use_error_msg)\n"
     ]
    }
   ],
   "source": [
    "%load_ext autoreload\n",
    "%autoreload 2\n",
    "from PixelEM import *"
   ]
  },
  {
   "cell_type": "code",
   "execution_count": 4,
   "metadata": {
    "collapsed": false
   },
   "outputs": [
    {
     "name": "stdout",
     "output_type": "stream",
     "text": [
      "EM_mask_thresh0.png                      EM_prj_iter1_thresh3.14460768132.json    EM_prj_iter4_thresh0.json                Qj_4_thresh3.14460768132.pkl             p_in_mask_4_thresh3.14460768132.pkl\r\n",
      "EM_mask_thresh3.14460768132.png          EM_prj_iter2_thresh0.json                EM_prj_iter4_thresh3.14460768132.json    gt_est_mask_4_thresh0.pkl                p_not_in_mask_4_thresh0.pkl\r\n",
      "EM_prj_iter0_thresh0.json                EM_prj_iter2_thresh3.14460768132.json    MV_mask.pkl                              gt_est_mask_4_thresh3.14460768132.pkl    p_not_in_mask_4_thresh3.14460768132.pkl\r\n",
      "EM_prj_iter0_thresh3.26339400141.json    EM_prj_iter3_thresh0.json                MV_prj.json                              mega_mask.pkl                            voted_workers_mask.pkl\r\n",
      "EM_prj_iter1_thresh0.json                EM_prj_iter3_thresh3.14460768132.json    Qj_4_thresh0.pkl                         p_in_mask_4_thresh0.pkl                  worker_ids.json\r\n"
     ]
    }
   ],
   "source": [
    "ls pixel_em/5workers_rand0/obj1/clust0/"
   ]
  },
  {
   "cell_type": "code",
   "execution_count": 4,
   "metadata": {
    "collapsed": false
   },
   "outputs": [],
   "source": [
    "sample = \"5workers_rand0\"\n",
    "objid =1 \n",
    "cluster_id=0\n",
    "p,r,j = compute_PRJ_MV(sample, objid,cluster_id)"
   ]
  },
  {
   "cell_type": "code",
   "execution_count": 8,
   "metadata": {
    "collapsed": false
   },
   "outputs": [
    {
     "name": "stdout",
     "output_type": "stream",
     "text": [
      "0.976204956667 0.980827986557 0.95792614696\n"
     ]
    }
   ],
   "source": [
    "print p,r,j"
   ]
  },
  {
   "cell_type": "code",
   "execution_count": 6,
   "metadata": {
    "collapsed": false
   },
   "outputs": [
    {
     "name": "stdout",
     "output_type": "stream",
     "text": [
      "Doing EM\n"
     ]
    }
   ],
   "source": [
    "do_EM_for(sample, objid,cluster_id)"
   ]
  },
  {
   "cell_type": "code",
   "execution_count": 9,
   "metadata": {
    "collapsed": false
   },
   "outputs": [
    {
     "name": "stdout",
     "output_type": "stream",
     "text": [
      "[0.9762049566671734, 0.9808279865566758, 0.9579261469600895]\n",
      "[0.9762049566671734, 0.9808279865566758, 0.9579261469600895]\n",
      "[0.9762049566671734, 0.9808279865566758, 0.9579261469600895]\n",
      "[0.9762049566671734, 0.9808279865566758, 0.9579261469600895]\n",
      "[0.9762049566671734, 0.9808279865566758, 0.9579261469600895]\n"
     ]
    }
   ],
   "source": [
    "import glob\n",
    "for f in glob.glob(\"pixel_em/5workers_rand0/obj1/clust0/EM_prj_iter*_thresh0.json\"):\n",
    "    print open(f).read()"
   ]
  },
  {
   "cell_type": "code",
   "execution_count": 11,
   "metadata": {
    "collapsed": true
   },
   "outputs": [],
   "source": [
    "exclude_isovote=False"
   ]
  },
  {
   "cell_type": "code",
   "execution_count": 13,
   "metadata": {
    "collapsed": true
   },
   "outputs": [],
   "source": [
    "import pickle as pkl"
   ]
  },
  {
   "cell_type": "code",
   "execution_count": 15,
   "metadata": {
    "collapsed": false
   },
   "outputs": [
    {
     "data": {
      "text/plain": [
       "'/Users/dorislee/Desktop/Research/seg/final_segmentation/analysis/pixel_em/5workers_rand0/obj1/clust0/'"
      ]
     },
     "execution_count": 15,
     "metadata": {},
     "output_type": "execute_result"
    }
   ],
   "source": [
    "outdir"
   ]
  },
  {
   "cell_type": "code",
   "execution_count": 30,
   "metadata": {
    "collapsed": false
   },
   "outputs": [],
   "source": [
    "log_probability_in_mask=pkl.load(open(\"pixel_em/5workers_rand0/obj1/clust0/p_in_mask_4_thresh0.pkl\"))\n",
    "log_probability_not_in_mask =pkl.load(open('pixel_em/5workers_rand0/obj1/clust0/p_in_mask_4_thresh0.pkl'))\n",
    "\n",
    "def estimate_gt_compute_PRJ_against_MV(log_probability_in_mask,log_probability_not_in_mask,MV,thresh,exclude_isovote=False):\n",
    "    if exclude_isovote:\n",
    "        Nworkers = int(sample_name.split(\"workers\")[0])\n",
    "        mega_mask = get_mega_mask(sample_name, objid,cluster_id)\n",
    "        invariant_mask = np.zeros_like(mega_mask,dtype=bool)\n",
    "        invariant_mask_yes = np.ma.masked_where((mega_mask==Nworkers),invariant_mask).mask\n",
    "        invariant_mask_no = np.ma.masked_where((mega_mask ==0),invariant_mask).mask\n",
    "    gt_est_mask = estimate_gt_from(log_probability_in_mask, log_probability_not_in_mask,thresh=thresh)\n",
    "    if exclude_isovote:\n",
    "        gt_est_mask = gt_est_mask+invariant_mask_yes-invariant_mask_no\n",
    "        gt_est_mask[gt_est_mask<0]=False\n",
    "        gt_est_mask[gt_est_mask>1]=True\n",
    "        #gt_est_mask = gt_est_mask+invariant_mask_yes\n",
    "    [p, r, j] = faster_compute_prj(gt_est_mask, MV)\n",
    "    return [p,r,j],gt_est_mask"
   ]
  },
  {
   "cell_type": "code",
   "execution_count": 34,
   "metadata": {
    "collapsed": true
   },
   "outputs": [],
   "source": [
    "def binarySearchDeriveBestThresh(log_probability_in_mask,log_probability_not_in_mask,MV,exclude_isovote=False,rerun_existing=False):\n",
    "    thresh_min = -200\n",
    "    thresh_max = 200\n",
    "    delta = np.abs(thresh_max -thresh_min)\n",
    "    thresh = (thresh_min+thresh_max)/2.\n",
    "    p,r=0,0\n",
    "    while (p==-1 or delta>1):\n",
    "        [p,r,j],gt_est_mask = estimate_gt_compute_PRJ_against_MV(log_probability_in_mask,log_probability_not_in_mask,MV,thresh,exclude_isovote=False)\n",
    "        delta = np.abs(thresh_max -thresh_min)\n",
    "        if p>r:\n",
    "            right = thresh_min + 0.75*delta  \n",
    "            thresh_max = right\n",
    "        else: \n",
    "            left = thresh_min + 0.25*delta  \n",
    "            thresh_min = left\n",
    "        if p==-1:\n",
    "            #if p =-1 then it is because the result area is zero, which means nothing was selected for gt\n",
    "            # this meant that the threshold has overshot\n",
    "            thresh_max = thresh_min+0.2*delta\n",
    "        thresh = (thresh_min+thresh_max)/2.\n",
    "    return p,r,j,thresh,gt_est_mask"
   ]
  },
  {
   "cell_type": "code",
   "execution_count": 35,
   "metadata": {
    "collapsed": true
   },
   "outputs": [],
   "source": [
    "def do_EM_for(sample_name, objid, cluster_id=\"\", num_iterations=5,load_p_in_mask=False,thresh=0,rerun_existing=False,exclude_isovote=False,compute_PR_every_iter=True):\n",
    "    if exclude_isovote:\n",
    "        mode ='iso'\n",
    "    else:\n",
    "        mode =''\n",
    "    if cluster_id!=\"\":\n",
    "        outdir = '{}{}/obj{}/clust{}/'.format(PIXEL_EM_DIR, sample_name, objid,cluster_id)\n",
    "    else:\n",
    "        outdir = '{}{}/obj{}/'.format(PIXEL_EM_DIR, sample_name, objid)\n",
    "    if not rerun_existing:\n",
    "        if os.path.isfile('{}{}EM_prj_iter{}_thresh{}.json'.format(outdir,mode,num_iterations-1,thresh)) :\n",
    "            print \"Already ran EM, Skipped\"\n",
    "            return\n",
    "    print \"Doing EM\"\n",
    "    if rerun_existing:\n",
    "        if os.path.isfile('{}EM_prj_thresh{}.json'.format(outdir,thresh)):\n",
    "            print \"Already ran, Skipped\"\n",
    "            return\n",
    "    # initialize MV mask\n",
    "    MV = get_MV_mask(sample_name, objid,cluster_id)\n",
    "    gt_est_mask = MV \n",
    "    worker_masks = get_all_worker_mega_masks_for_sample(sample_name, objid,cluster_id=cluster_id)\n",
    "    Nworkers= len(worker_masks)\n",
    "    mega_mask = get_mega_mask(sample_name, objid,cluster_id)\n",
    "    for it in range(num_iterations):\n",
    "        worker_qualities = dict()\n",
    "        for wid in worker_masks.keys():\n",
    "            worker_qualities[wid] = worker_prob_correct(mega_mask,worker_masks[wid], gt_est_mask,Nworkers,exclude_isovote=exclude_isovote)\n",
    "        if load_p_in_mask:\n",
    "            #print \"loaded pInT\" \n",
    "            log_probability_in_mask=pkl.load(open('{}{}p_in_mask_{}.pkl'.format(outdir,mode, it)))\n",
    "            log_probability_not_in_mask =pkl.load(open('{}{}p_not_in_mask_{}.pkl'.format(outdir,mode, it)))\t\n",
    "        else: \n",
    "            #Compute pInMask and pNotInMask \n",
    "            log_probability_in_mask, log_probability_not_in_mask = mask_log_probabilities(worker_masks, worker_qualities)\n",
    "            p,r,j,thresh,gt_est_mask = binarySearchDeriveBestThresh(log_probability_in_mask,log_probability_not_in_mask, MV,exclude_isovote=False,rerun_existing=False)\n",
    "            #gt_est_mask = estimate_gt_from(log_probability_in_mask, log_probability_not_in_mask,thresh=thresh)\n",
    "\n",
    "        # Compute PR mask based on the EM estimate mask from the last iteration\n",
    "        if compute_PR_every_iter:\n",
    "            #[p, r, j] = faster_compute_prj(gt_est_mask, get_gt_mask(objid))\n",
    "            with open('{}{}EM_prj_iter{}_thresh{}.json'.format(outdir,mode,it,thresh), 'w') as fp:\n",
    "                fp.write(json.dumps([p, r, j]))\n",
    "    #Only writing output at the end of all iterations: \n",
    "    pickle.dump(log_probability_in_mask,open('{}{}p_in_mask_{}_thresh{}.pkl'.format(outdir,mode, it,thresh),'w'))\n",
    "    pickle.dump(log_probability_not_in_mask,open('{}{}p_not_in_mask_{}_thresh{}.pkl'.format(outdir,mode, it,thresh),'w'))\n",
    "    pickle.dump(gt_est_mask,open('{}{}gt_est_mask_{}_thresh{}.pkl'.format(outdir,mode, it,thresh), 'w'))\n",
    "    pickle.dump(worker_qualities,open('{}{}Qj_{}_thresh{}.pkl'.format(outdir, mode,it,thresh), 'w'))\n",
    "\n",
    "    plt.figure()\n",
    "    plt.imshow(gt_est_mask, interpolation=\"none\")  # ,cmap=\"rainbow\")\n",
    "    plt.colorbar()\n",
    "    plt.savefig('{}{}EM_mask_thresh{}.png'.format(outdir,mode,thresh))\n",
    "    if not compute_PR_every_iter:\n",
    "        # Compute PR mask based on the EM estimate mask from the last iteration\n",
    "        [p, r, j] = faster_compute_prj(gt_est_mask, get_gt_mask(objid))\n",
    "        with open('{}{}EM_prj_thresh{}.json'.format(outdir,mode,thresh), 'w') as fp:\n",
    "            fp.write(json.dumps([p, r, j]))"
   ]
  },
  {
   "cell_type": "code",
   "execution_count": 6,
   "metadata": {
    "collapsed": false
   },
   "outputs": [
    {
     "name": "stdout",
     "output_type": "stream",
     "text": [
      "Doing EM\n",
      "{184: 0.997587890625, 201: 0.99123046875, 156: 0.9953645833333333, 238: 0.9973177083333333, 52: 0.99388671875}\n",
      "{184: 0.9976692708333333, 201: 0.9911490885416666, 156: 0.995283203125, 238: 0.9973990885416667, 52: 0.9938053385416666}\n",
      "{184: 0.9976692708333333, 201: 0.9911490885416666, 156: 0.995283203125, 238: 0.9973990885416667, 52: 0.9938053385416666}\n",
      "{184: 0.9976692708333333, 201: 0.9911490885416666, 156: 0.995283203125, 238: 0.9973990885416667, 52: 0.9938053385416666}\n"
     ]
    }
   ],
   "source": [
    "do_EM_for(sample, objid,cluster_id,rerun_existing=True,num_iterations=3)"
   ]
  },
  {
   "cell_type": "code",
   "execution_count": 7,
   "metadata": {
    "collapsed": false
   },
   "outputs": [
    {
     "name": "stdout",
     "output_type": "stream",
     "text": [
      "Doing EM\n",
      "{146: 0.9997623697916667, 234: 0.9982845052083333}\n",
      "{146: 0.9997623697916667, 234: 0.9982845052083333}\n",
      "{146: 0.9997623697916667, 234: 0.9982845052083333}\n",
      "{146: 0.9997623697916667, 234: 0.9982845052083333}\n",
      "{146: 0.9997623697916667, 234: 0.9982845052083333}\n"
     ]
    },
    {
     "data": {
      "image/png": "[encoded data removed]",
      "text/plain": [
       "<matplotlib.figure.Figure at 0x109124550>"
      ]
     },
     "metadata": {},
     "output_type": "display_data"
    }
   ],
   "source": [
    "do_EM_for(sample, objid,1,rerun_existing=True,PLOT=True)"
   ]
  },
  {
   "cell_type": "code",
   "execution_count": null,
   "metadata": {
    "collapsed": true
   },
   "outputs": [],
   "source": [
    "p,r,j = compute_PRJ_MV(sample, 2,\"\")"
   ]
  },
  {
   "cell_type": "code",
   "execution_count": 10,
   "metadata": {
    "collapsed": false
   },
   "outputs": [
    {
     "name": "stdout",
     "output_type": "stream",
     "text": [
      "Doing EM\n",
      "{146: 0.9991373697916667, 199: 0.99888671875, 181: 0.999296875, 118: 0.9966276041666666, 247: 0.9991145833333334}\n",
      "-->[1.0, 1.0, 1.0]\n",
      "{146: 0.9991373697916667, 199: 0.99888671875, 181: 0.999296875, 118: 0.9966276041666666, 247: 0.9991145833333334}\n",
      "-->[1.0, 1.0, 1.0]\n",
      "{146: 0.9991373697916667, 199: 0.99888671875, 181: 0.999296875, 118: 0.9966276041666666, 247: 0.9991145833333334}\n",
      "-->[1.0, 1.0, 1.0]\n",
      "{146: 0.9991373697916667, 199: 0.99888671875, 181: 0.999296875, 118: 0.9966276041666666, 247: 0.9991145833333334}\n",
      "-->[1.0, 1.0, 1.0]\n",
      "{146: 0.9991373697916667, 199: 0.99888671875, 181: 0.999296875, 118: 0.9966276041666666, 247: 0.9991145833333334}\n",
      "-->[1.0, 1.0, 1.0]\n"
     ]
    }
   ],
   "source": [
    "do_EM_for(sample, 2,\"\",rerun_existing=True)"
   ]
  },
  {
   "cell_type": "code",
   "execution_count": 47,
   "metadata": {
    "collapsed": false
   },
   "outputs": [
    {
     "name": "stdout",
     "output_type": "stream",
     "text": [
      "Doing EM\n"
     ]
    },
    {
     "data": {
      "image/png": "[encoded data removed]",
      "text/plain": [
       "<matplotlib.figure.Figure at 0x103c88e90>"
      ]
     },
     "metadata": {},
     "output_type": "display_data"
    }
   ],
   "source": [
    "do_EM_for(sample, 2,\"\",rerun_existing=True)"
   ]
  },
  {
   "cell_type": "code",
   "execution_count": null,
   "metadata": {
    "collapsed": true
   },
   "outputs": [],
   "source": []
  }
 ],
 "metadata": {
  "kernelspec": {
   "display_name": "Python 2",
   "language": "python",
   "name": "python2"
  },
  "language_info": {
   "codemirror_mode": {
    "name": "ipython",
    "version": 2
   },
   "file_extension": ".py",
   "mimetype": "text/x-python",
   "name": "python",
   "nbconvert_exporter": "python",
   "pygments_lexer": "ipython2",
   "version": "2.7.10"
  }
 },
 "nbformat": 4,
 "nbformat_minor": 0
}

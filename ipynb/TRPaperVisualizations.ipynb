{
 "cells": [
  {
   "cell_type": "code",
   "execution_count": 1,
   "metadata": {
    "scrolled": true
   },
   "outputs": [
    {
     "name": "stdout",
     "output_type": "stream",
     "text": [
      "/home/jlee782/hcomp_paper_seg/analysis\n"
     ]
    }
   ],
   "source": [
    "cd ../analysis/"
   ]
  },
  {
   "cell_type": "code",
   "execution_count": 2,
   "metadata": {},
   "outputs": [
    {
     "name": "stdout",
     "output_type": "stream",
     "text": [
      "Populating the interactive namespace from numpy and matplotlib\n"
     ]
    },
    {
     "name": "stderr",
     "output_type": "stream",
     "text": [
      "/home/jlee782/.local/lib/python2.7/site-packages/matplotlib/__init__.py:1401: UserWarning:  This call to matplotlib.use() has no effect\n",
      "because the backend has already been chosen;\n",
      "matplotlib.use() must be called *before* pylab, matplotlib.pyplot,\n",
      "or matplotlib.backends is imported for the first time.\n",
      "\n",
      "  warnings.warn(_use_error_msg)\n"
     ]
    }
   ],
   "source": [
    "%pylab inline\n",
    "%load_ext autoreload\n",
    "%autoreload 2\n",
    "from withClustAnalysis import *\n",
    "from hcomp_paper_viz import *"
   ]
  },
  {
   "cell_type": "code",
   "execution_count": 3,
   "metadata": {
    "collapsed": true
   },
   "outputs": [],
   "source": [
    "# Run once\n",
    "#from qualityBaseline import compute_self_BBvals\n",
    "# print \"generate baseline comparisons\"\n",
    "# compute_self_BBvals(compute_metrics=['simple','area']) #run once\n",
    "# retreival_df = compute_best_average_heuristics_workers_baselines(rerun_existing=True) #run once"
   ]
  },
  {
   "cell_type": "markdown",
   "metadata": {},
   "source": [
    "# Effects of clustering"
   ]
  },
  {
   "cell_type": "markdown",
   "metadata": {},
   "source": [
    "-  if we only pick from the best cluster, if no clustering done then retain the same worker performance as before"
   ]
  },
  {
   "cell_type": "code",
   "execution_count": 4,
   "metadata": {
    "collapsed": true
   },
   "outputs": [],
   "source": [
    "from baseline import compute_worker_qualities_against_real_performance"
   ]
  },
  {
   "cell_type": "code",
   "execution_count": 5,
   "metadata": {
    "collapsed": true
   },
   "outputs": [],
   "source": [
    "obj_clusters = clusters()"
   ]
  },
  {
   "cell_type": "code",
   "execution_count": 6,
   "metadata": {
    "collapsed": true
   },
   "outputs": [],
   "source": [
    "clust_df = pd.read_csv(\"spectral_clustering_all_hard_obj.csv\")\n",
    "noClust_obj =[obj for obj in object_lst if obj not in clust_df.objid.unique() ]\n",
    "clustObj = clust_df.objid.unique()"
   ]
  },
  {
   "cell_type": "code",
   "execution_count": 7,
   "metadata": {
    "collapsed": true
   },
   "outputs": [],
   "source": [
    "retreival_df= pd.read_csv(\"pixel_em/individual_worker_performance.csv\")\n",
    "retreival_df[\"sample_num\"]=retreival_df.apply(lambda x:int(x[\"sample\"].split(\"rand\")[-1]),axis=1)\n",
    "no_cluster_retreival_df = retreival_df[retreival_df[\"clust\"]==-1]\n",
    "cluster_retreival_df = retreival_df[((retreival_df[\"clust\"]!=-1) & (retreival_df[\"objid\"].isin(clustObj)))|((retreival_df[\"clust\"]==-1) & (~retreival_df[\"objid\"].isin(clustObj)))]"
   ]
  },
  {
   "cell_type": "code",
   "execution_count": 8,
   "metadata": {
    "collapsed": true
   },
   "outputs": [],
   "source": [
    "#BAD!\n",
    "# best_clust_df = compute_best_worker_picking()\n",
    "# cluster_retreival_df=filter_best_clust(retreival_df,best_clust_df)"
   ]
  },
  {
   "cell_type": "code",
   "execution_count": 9,
   "metadata": {
    "collapsed": true
   },
   "outputs": [],
   "source": [
    "def best_cluster(x):\n",
    "    try:\n",
    "        return obj_clusters[x[\"sample\"]][str(x[\"objid\"])]\n",
    "    except(KeyError): #non clustered cases\n",
    "        return -1\n",
    "\n",
    "retreival_df[\"best_clust\"]=retreival_df.apply(lambda x: best_cluster(x),axis=1)\n",
    "cluster_retreival_df = retreival_df[retreival_df[\"best_clust\"]==retreival_df[\"clust\"]]\n",
    "assert len(cluster_retreival_df.groupby([\"sample\",\"objid\"]).count())==46*31"
   ]
  },
  {
   "cell_type": "code",
   "execution_count": 10,
   "metadata": {
    "collapsed": true
   },
   "outputs": [],
   "source": [
    "retreivalAlgoMap={\n",
    "    'NumPt':'orange',\n",
    "    'AreaRatio':'green',\n",
    "    'AvrgWorker':'blue',\n",
    "    'BestWorker':'red'\n",
    "}"
   ]
  },
  {
   "cell_type": "markdown",
   "metadata": {},
   "source": [
    "For vision, we scan a variety of inclusion thresholds as well as different levels of segmentation granularities. For each object, we pick parameter that yields the best performing Jaccard."
   ]
  },
  {
   "cell_type": "code",
   "execution_count": 11,
   "metadata": {
    "collapsed": true
   },
   "outputs": [],
   "source": [
    "vision = pd.read_csv(\"pixel_em/vision_only_performance.csv\")\n",
    "\n",
    "# NworkerPerformance = no_cluster_retreival_df.groupby(\"num_workers\").mean()\n",
    "# for algo in retreivalAlgoMap.keys():\n",
    "#     algoJ = \"J [{}]\".format(algo)\n",
    "#     plt.plot(np.array(NworkerPerformance[algoJ]),label=algo,color=retreivalAlgoMap[algo])\n",
    "\n",
    "# NworkerPerformance = cluster_retreival_df.groupby(\"num_workers\").mean()\n",
    "# for algo in  retreivalAlgoMap.keys():\n",
    "#     algoJ = \"J [{}]\".format(algo)\n",
    "#     plt.plot(np.array(NworkerPerformance[algoJ]),linestyle='--',color=retreivalAlgoMap[algo])\n",
    "\n",
    "# max_vision_k_thresh = vision.loc[vision.groupby([\"objid\"])['j'].idxmax()].mean()[\"j\"]\n",
    "# y = np.ones_like(np.array(NworkerPerformance[algoJ]))\n",
    "# plt.plot(y*max_vision_k_thresh,label=\"best vision\",color=\"magenta\")\n",
    "# lgd = plt.legend(bbox_to_anchor=(1.04,0.5),loc=\"center left\")    \n",
    "# #plt.legend(loc=\"lower left\",fontsize=8)    \n",
    "# plt.ylabel(\"Jaccard\")\n",
    "# plt.xticks(rotation=50)\n",
    "# plt.title(\"Effects of Clustering on Retrieval-Based Algorithms\",fontsize=13)\n",
    "# a = gca().set_xticklabels([0,'5 workers','10 workers','15 workers','20 workers','25 workers','30 workers'])\n",
    "# plt.savefig(\"ClusteringEffectOnRetreival.pdf\", bbox_extra_artists=(lgd,), bbox_inches='tight')"
   ]
  },
  {
   "cell_type": "code",
   "execution_count": 12,
   "metadata": {
    "collapsed": true
   },
   "outputs": [],
   "source": [
    "from tabulate import tabulate"
   ]
  },
  {
   "cell_type": "code",
   "execution_count": 13,
   "metadata": {
    "collapsed": true
   },
   "outputs": [],
   "source": [
    "megadfd =[]\n",
    "for algo in retreivalAlgoMap.keys():\n",
    "    keys = ['P [{}]'.format(algo), u'R [{}]'.format(algo), 'J [{}]'.format(algo), u'FPR% [{}]'.format(algo),'FNR% [{}]'.format(algo)]\n",
    "    performance = list(cluster_retreival_df.mean()[keys])\n",
    "    lst = [algo]\n",
    "    lst.extend(performance)\n",
    "    megadfd.append(lst)"
   ]
  },
  {
   "cell_type": "code",
   "execution_count": 14,
   "metadata": {
    "collapsed": true
   },
   "outputs": [],
   "source": [
    "megadf = pd.DataFrame(megadfd, columns=[\"algo\",\"P\",\"R\",\"J\",\"FPR%\",\"FNR%\"])"
   ]
  },
  {
   "cell_type": "code",
   "execution_count": 15,
   "metadata": {},
   "outputs": [
    {
     "name": "stdout",
     "output_type": "stream",
     "text": [
      "\\begin{tabular}{lrrrrr}\n",
      "\\hline\n",
      " algo       &    P &    R &    J &   FPR\\% &   FNR\\% \\\\\n",
      "\\hline\n",
      " AvrgWorker & 0.91 & 0.92 & 0.84 &   7.94 &   0.52 \\\\\n",
      " NumPt      & 0.87 & 0.92 & 0.82 &   7.86 &   1.10 \\\\\n",
      " BestWorker & 0.95 & 0.95 & 0.90 &   5.23 &   0.17 \\\\\n",
      " AreaRatio  & 0.79 & 0.94 & 0.77 &   5.51 &   2.06 \\\\\n",
      "\\hline\n",
      "\\end{tabular}\n"
     ]
    }
   ],
   "source": [
    "print tabulate(megadf,showindex=False,headers=megadf.columns,tablefmt=\"latex\",floatfmt=\".2f\")"
   ]
  },
  {
   "cell_type": "markdown",
   "metadata": {},
   "source": [
    "- add MV in this plot \n",
    "- leave out clustering for this "
   ]
  },
  {
   "cell_type": "markdown",
   "metadata": {},
   "source": [
    "# Comparing MV with EM ; clust v.s. no clust"
   ]
  },
  {
   "cell_type": "code",
   "execution_count": 16,
   "metadata": {
    "collapsed": true
   },
   "outputs": [],
   "source": [
    "from analyze_prjs import clust_vs_noclust"
   ]
  },
  {
   "cell_type": "code",
   "execution_count": 17,
   "metadata": {
    "collapsed": true
   },
   "outputs": [],
   "source": [
    "algoMap = {\n",
    "    'GTLSA':'orange',\n",
    "    \"basic\":'green',\n",
    "    \"GT\":'blue',\n",
    "    \"isoGT\":'red',\n",
    "    \"isoGTLSA\": 'cyan',\n",
    "    \"isobasic\": 'magenta',\n",
    "    \"MV\":\"black\"\n",
    "}"
   ]
  },
  {
   "cell_type": "code",
   "execution_count": 18,
   "metadata": {
    "collapsed": true
   },
   "outputs": [],
   "source": [
    "def avrg_percent_change(clust,noClust):\n",
    "    return \"{:.3f}%\".format(np.mean((np.array(clust)-np.array(noClust))/np.array(noClust))*100)"
   ]
  },
  {
   "cell_type": "markdown",
   "metadata": {},
   "source": [
    "__Comparing cluster v.s. no cluster__"
   ]
  },
  {
   "cell_type": "code",
   "execution_count": 19,
   "metadata": {
    "scrolled": true
   },
   "outputs": [
    {
     "name": "stdout",
     "output_type": "stream",
     "text": [
      "------------\n",
      "percent change due to clustering for metric: precision\n",
      "MV :0.369%\n",
      "GT :0.372%\n",
      "isobasic :0.344%\n",
      "basic :0.375%\n",
      "MV :0.369%\n",
      "GTLSA :0.202%\n",
      "isoGT :0.372%\n",
      "isoGTLSA :-0.329%\n",
      "------------\n",
      "percent change due to clustering for metric: recall\n",
      "MV :1.672%\n",
      "GT :1.674%\n",
      "isobasic :1.701%\n",
      "basic :1.672%\n",
      "MV :1.672%\n",
      "GTLSA :1.415%\n",
      "isoGT :1.674%\n",
      "isoGTLSA :1.762%\n",
      "------------\n",
      "percent change due to clustering for metric: jaccard\n",
      "MV :2.047%\n",
      "GT :2.050%\n",
      "isobasic :1.860%\n",
      "basic :2.050%\n",
      "MV :2.047%\n",
      "GTLSA :1.784%\n",
      "isoGT :2.050%\n",
      "isoGTLSA :1.377%\n",
      "------------\n",
      "percent change due to clustering for metric: FNR%\n",
      "MV :-21.145%\n",
      "GT :-21.164%\n",
      "isobasic :-21.343%\n",
      "basic :-21.149%\n",
      "MV :-21.145%\n",
      "GTLSA :-17.860%\n",
      "isoGT :-21.164%\n",
      "isoGTLSA :-20.256%\n",
      "------------\n",
      "percent change due to clustering for metric: FPR%\n",
      "MV :-8.485%\n",
      "GT :-8.596%\n",
      "isobasic :-2.079%\n",
      "basic :-8.724%\n",
      "MV :-8.485%\n",
      "GTLSA :-8.675%\n",
      "isoGT :-8.596%\n",
      "isoGTLSA :24.794%\n"
     ]
    }
   ],
   "source": [
    "m2m = {\"precision\":'p','recall':'r', 'jaccard':'j', u'FNR%':'fnr','FPR%':'fpr'}\n",
    "for metric in ['precision', u'recall', u'jaccard', u'FNR%','FPR%']:\n",
    "    print \"------------\"\n",
    "    print \"percent change due to clustering for metric:\",metric\n",
    "    x,MV_noclust,MV_clust=clust_vs_noclust('MV',metric=metric,filtered=False)\n",
    "    print \"{} :{}\".format(\"MV\",avrg_percent_change(MV_clust,MV_noclust))\n",
    "    for algo in algoMap.keys():\n",
    "        x,algo_noclust,algo_clust=clust_vs_noclust(algo,metric=metric,filtered=False)\n",
    "        print \"{} :{}\".format(algo,avrg_percent_change(algo_clust,algo_noclust))"
   ]
  },
  {
   "cell_type": "markdown",
   "metadata": {},
   "source": [
    "# Greedy Results"
   ]
  },
  {
   "cell_type": "code",
   "execution_count": 20,
   "metadata": {
    "collapsed": true
   },
   "outputs": [],
   "source": [
    "greedy_df = pd.read_csv(\"all_greedy_result.csv\")\n",
    "greedy_df[\"num_workers\"]=greedy_df.apply(lambda x:int(x[\"sample\"].split(\"workers\")[0]),axis=1)\n",
    "greedy_df[\"sample_num\"] = greedy_df.apply(lambda x: int(x[\"sample\"].split(\"rand\")[-1]),axis=1)\n",
    "greedy_noclust=greedy_df[greedy_df[\"clust\"]==-1]\n",
    "best_clust_df=compute_best_worker_picking()\n",
    "greedy_clust= filter_best_clust(greedy_df,best_clust_df)\n",
    "assert greedy_noclust.groupby([\"sample\"])[\"objid\"].count().unique()[0]==8*46"
   ]
  },
  {
   "cell_type": "code",
   "execution_count": 21,
   "metadata": {
    "collapsed": true
   },
   "outputs": [],
   "source": [
    "greedyAlgoMap = {\n",
    "    'GTLSA':'orange',\n",
    "    \"basic\":'green',\n",
    "    \"GT\":'blue',\n",
    "    \"isoGT\":'red',\n",
    "    \"isoGTLSA\": 'cyan',\n",
    "    \"isobasic\": 'magenta',\n",
    "    \"worker_fraction\": 'pink',\n",
    "    \"ground_truth\": 'yellow'\n",
    "}"
   ]
  },
  {
   "cell_type": "code",
   "execution_count": 22,
   "metadata": {
    "collapsed": true
   },
   "outputs": [],
   "source": [
    "from analyze_prjs import clust_vs_noclust"
   ]
  },
  {
   "cell_type": "markdown",
   "metadata": {},
   "source": [
    "# Combined plot"
   ]
  },
  {
   "cell_type": "markdown",
   "metadata": {},
   "source": [
    "__Comparison between Retreival and families of aggregation based methods__"
   ]
  },
  {
   "cell_type": "code",
   "execution_count": 23,
   "metadata": {
    "collapsed": true
   },
   "outputs": [],
   "source": [
    "# !ls -lsd pixel_em/vision_only_performance.csv"
   ]
  },
  {
   "cell_type": "code",
   "execution_count": 55,
   "metadata": {
    "collapsed": true
   },
   "outputs": [],
   "source": [
    "vision = pd.read_csv(\"pixel_em/vision_only_performance_new.csv\")"
   ]
  },
  {
   "cell_type": "code",
   "execution_count": 56,
   "metadata": {
    "collapsed": true
   },
   "outputs": [],
   "source": [
    "from sample_worker_seeds import sample_specs"
   ]
  },
  {
   "cell_type": "code",
   "execution_count": 57,
   "metadata": {
    "collapsed": true
   },
   "outputs": [],
   "source": [
    "data = []\n",
    "for sample in sample_specs.keys():\n",
    "    for objid in object_lst:\n",
    "        worker_ids = json.load(open(\"pixel_em/{}/obj{}/worker_ids.json\".format(sample,objid)))\n",
    "        worker_ids = [str(i) for i in worker_ids]\n",
    "        selected = vision[(vision[\"objid\"]==objid)&(vision[\"worker_id\"].isin(worker_ids))]\n",
    "        Nworkers = int(sample.split(\"workers\")[0])\n",
    "        assert len(selected)/6==Nworkers\n",
    "        avrg_j = selected.mean()[\"j\"]\n",
    "        data.append([Nworkers,sample,objid,avrg_j])"
   ]
  },
  {
   "cell_type": "code",
   "execution_count": 58,
   "metadata": {
    "collapsed": true
   },
   "outputs": [],
   "source": [
    "vision_df= pd.DataFrame(data,columns=['Nworkers','sample','objid','J'])"
   ]
  },
  {
   "cell_type": "code",
   "execution_count": 59,
   "metadata": {
    "collapsed": true
   },
   "outputs": [],
   "source": [
    "vision_J = np.array(vision_df.groupby(\"sample\").mean().groupby(\"Nworkers\").mean()[\"J\"])"
   ]
  },
  {
   "cell_type": "code",
   "execution_count": 60,
   "metadata": {},
   "outputs": [],
   "source": [
    "assert len(vision[vision[\"worker_id\"]==\"gt\"])==46*6"
   ]
  },
  {
   "cell_type": "code",
   "execution_count": 71,
   "metadata": {},
   "outputs": [
    {
     "data": {
      "image/png": "[encoded data removed]",
      "text/plain": [
       "<matplotlib.figure.Figure at 0x7f8d8c098c50>"
      ]
     },
     "metadata": {},
     "output_type": "display_data"
    }
   ],
   "source": [
    "ax1= plt.subplot(121)\n",
    "plt.text(3.5,1.01,\"With Clustering\",fontsize=14)\n",
    "plt.title(\"Without ground truth\",fontsize=13)\n",
    "x,MV_noclust,MV_clust=clust_vs_noclust(\"MV\",filtered=False)\n",
    "plt.plot(MV_clust,color=\"purple\",label=\"MV\")\n",
    "x,best_EM_noclust,best_EM_clust=clust_vs_noclust(\"basic\",filtered=False)\n",
    "plt.plot(best_EM_clust,color=\"blue\",label=\"EM\")\n",
    "y = np.ones_like(np.array(NworkerPerformance[algoJ]))\n",
    "plt.plot(y*vision_J,color=\"magenta\",label=\"Vision\")\n",
    "\n",
    "best_greedy = np.array(greedy_clust[greedy_clust[\"algo\"]==\"worker_fraction\"].groupby([\"num_workers\"]).mean()[\"j\"])\n",
    "plt.plot(best_greedy,color=\"red\",label=\"greedy\")\n",
    "plt.ylabel(\"Jaccard\",fontsize=13)\n",
    "NworkerPerformance = cluster_retreival_df.groupby(\"num_workers\").mean()\n",
    "# plt.plot(np.array(NworkerPerformance[\"J [AreaRatio]\"]),color=\"orange\",label=\"AreaRatio\")\n",
    "plt.plot(np.array(NworkerPerformance[\"J [NumPt]\"]),color=\"green\",label=\"num points\")\n",
    "#plt.plot(np.array(NworkerPerformance[\"J [AvrgWorker]\"]),color=\"blue\",label=\"average worker\")\n",
    "# plt.ylim(0.78,0.99)\n",
    "plt.legend(loc=\"upper left\",fontsize=11)\n",
    "\n",
    "ax2 = plt.subplot(122,sharex=ax1,sharey=ax1)\n",
    "plt.title(\"With ground truth\",fontsize=13)\n",
    "ground_truth_greedy = np.array(greedy_clust[greedy_clust[\"algo\"]==\"ground_truth\"].groupby([\"num_workers\"]).mean()[\"j\"])\n",
    "plt.plot(ground_truth_greedy,linestyle=\"-\",color=\"red\",label=\"Greedy\")\n",
    "plt.plot(np.array(NworkerPerformance[\"J [BestWorker]\"]),linestyle=\"-\",color=\"green\",label=\"Retrieval\")\n",
    "\n",
    "gt_vision = vision[vision[\"worker_id\"]==\"gt\"].mean()[\"j\"]\n",
    "y = np.ones_like(np.array(NworkerPerformance[algoJ]))\n",
    "plt.plot(y*gt_vision,linestyle=\"-\",label=\"Vision\",color=\"magenta\")\n",
    "\n",
    "#plt.legend(loc=\"lower left\",fontsize=8)    \n",
    "plt.plot(MV_clust,color=\"purple\",label=\"MV\",linestyle='-')\n",
    "plt.plot(best_EM_clust,color=\"blue\",label=\"EM\",linestyle='-')\n",
    "# plt.ylim(0.78,0.99)\n",
    "# plt.xticks(rotation=50)\n",
    "#plt.suptitle(\"Retreival v.s. Aggregation Algorithm Comparison\",fontsize=13)\n",
    "# lgd = plt.legend(bbox_to_anchor=(1.04,0.5),loc=\"center left\")    \n",
    "plt.xticks([0,1,2,3,4,5])\n",
    "a = gca().set_xticklabels(['5','10','15','20','25','30'])\n",
    "# make these tick labels invisible\n",
    "plt.setp(ax2.get_yticklabels(), visible=False)\n",
    "\n",
    "plt.text(-3,0.73,\"Number of Workers\",fontsize=13)\n",
    "plt.tight_layout()\n",
    "plt.savefig(\"Retreival_vs_Aggregation_With_Clustering.pdf\", bbox_inches='tight')"
   ]
  },
  {
   "cell_type": "code",
   "execution_count": 87,
   "metadata": {},
   "outputs": [
    {
     "name": "stdout",
     "output_type": "stream",
     "text": [
      "pixel_em/all_PRJ_table.csv\r\n",
      "pixel_em/all_PRJ_table_filter_best.csv\r\n",
      "pixel_em/basic_full_PRJ_table.csv\r\n",
      "pixel_em/GT_full_PRJ_table.csv\r\n",
      "pixel_em/GTLSA_full_PRJ_table.csv\r\n",
      "pixel_em/individual_worker_performance.csv\r\n",
      "pixel_em/isobasic_full_PRJ_table.csv\r\n",
      "pixel_em/isoGT_full_PRJ_table.csv\r\n",
      "pixel_em/isoGTLSA_full_PRJ_table.csv\r\n",
      "pixel_em/MV_full_PRJ_table.csv\r\n",
      "pixel_em/vision_only_performance.csv\r\n",
      "pixel_em/vision_only_performance_new.csv\r\n"
     ]
    }
   ],
   "source": [
    "ls pixel_em/*.csv"
   ]
  },
  {
   "cell_type": "code",
   "execution_count": 90,
   "metadata": {},
   "outputs": [
    {
     "data": {
      "text/plain": [
       "u'/home/jlee782/hcomp_paper_seg/analysis'"
      ]
     },
     "execution_count": 90,
     "metadata": {},
     "output_type": "execute_result"
    }
   ],
   "source": [
    "pwd"
   ]
  },
  {
   "cell_type": "code",
   "execution_count": null,
   "metadata": {
    "collapsed": true
   },
   "outputs": [],
   "source": [
    "pd.read_csv()"
   ]
  },
  {
   "cell_type": "code",
   "execution_count": 88,
   "metadata": {},
   "outputs": [
    {
     "ename": "IOError",
     "evalue": "File withClusterNoBinarySearchResult/basic_ground_truth_full_PRJ_table.csv does not exist",
     "output_type": "error",
     "traceback": [
      "\u001b[0;31m---------------------------------------------------------------------------\u001b[0m",
      "\u001b[0;31mIOError\u001b[0m                                   Traceback (most recent call last)",
      "\u001b[0;32m<ipython-input-88-2c361d8cfaa1>\u001b[0m in \u001b[0;36m<module>\u001b[0;34m()\u001b[0m\n\u001b[0;32m----> 1\u001b[0;31m \u001b[0mprj_best\u001b[0m \u001b[0;34m=\u001b[0m \u001b[0mpd\u001b[0m\u001b[0;34m.\u001b[0m\u001b[0mread_csv\u001b[0m\u001b[0;34m(\u001b[0m\u001b[0;34m\"withClusterNoBinarySearchResult/basic_ground_truth_full_PRJ_table.csv\"\u001b[0m\u001b[0;34m,\u001b[0m\u001b[0mindex_col\u001b[0m\u001b[0;34m=\u001b[0m\u001b[0;36m0\u001b[0m\u001b[0;34m)\u001b[0m\u001b[0;34m\u001b[0m\u001b[0m\n\u001b[0m\u001b[1;32m      2\u001b[0m \u001b[0;31m# ground_truth_EM = prj_best.groupby(\"num_workers\").mean()[\"J [basic]\"]\u001b[0m\u001b[0;34m\u001b[0m\u001b[0;34m\u001b[0m\u001b[0m\n",
      "\u001b[0;32m/home/jlee782/.local/lib/python2.7/site-packages/pandas/io/parsers.pyc\u001b[0m in \u001b[0;36mparser_f\u001b[0;34m(filepath_or_buffer, sep, dialect, compression, doublequote, escapechar, quotechar, quoting, skipinitialspace, lineterminator, header, index_col, names, prefix, skiprows, skipfooter, skip_footer, na_values, na_fvalues, true_values, false_values, delimiter, converters, dtype, usecols, engine, delim_whitespace, as_recarray, na_filter, compact_ints, use_unsigned, low_memory, buffer_lines, warn_bad_lines, error_bad_lines, keep_default_na, thousands, comment, decimal, parse_dates, keep_date_col, dayfirst, date_parser, memory_map, float_precision, nrows, iterator, chunksize, verbose, encoding, squeeze, mangle_dupe_cols, tupleize_cols, infer_datetime_format, skip_blank_lines)\u001b[0m\n\u001b[1;32m    472\u001b[0m                     skip_blank_lines=skip_blank_lines)\n\u001b[1;32m    473\u001b[0m \u001b[0;34m\u001b[0m\u001b[0m\n\u001b[0;32m--> 474\u001b[0;31m         \u001b[0;32mreturn\u001b[0m \u001b[0m_read\u001b[0m\u001b[0;34m(\u001b[0m\u001b[0mfilepath_or_buffer\u001b[0m\u001b[0;34m,\u001b[0m \u001b[0mkwds\u001b[0m\u001b[0;34m)\u001b[0m\u001b[0;34m\u001b[0m\u001b[0m\n\u001b[0m\u001b[1;32m    475\u001b[0m \u001b[0;34m\u001b[0m\u001b[0m\n\u001b[1;32m    476\u001b[0m     \u001b[0mparser_f\u001b[0m\u001b[0;34m.\u001b[0m\u001b[0m__name__\u001b[0m \u001b[0;34m=\u001b[0m \u001b[0mname\u001b[0m\u001b[0;34m\u001b[0m\u001b[0m\n",
      "\u001b[0;32m/home/jlee782/.local/lib/python2.7/site-packages/pandas/io/parsers.pyc\u001b[0m in \u001b[0;36m_read\u001b[0;34m(filepath_or_buffer, kwds)\u001b[0m\n\u001b[1;32m    248\u001b[0m \u001b[0;34m\u001b[0m\u001b[0m\n\u001b[1;32m    249\u001b[0m     \u001b[0;31m# Create the parser.\u001b[0m\u001b[0;34m\u001b[0m\u001b[0;34m\u001b[0m\u001b[0m\n\u001b[0;32m--> 250\u001b[0;31m     \u001b[0mparser\u001b[0m \u001b[0;34m=\u001b[0m \u001b[0mTextFileReader\u001b[0m\u001b[0;34m(\u001b[0m\u001b[0mfilepath_or_buffer\u001b[0m\u001b[0;34m,\u001b[0m \u001b[0;34m**\u001b[0m\u001b[0mkwds\u001b[0m\u001b[0;34m)\u001b[0m\u001b[0;34m\u001b[0m\u001b[0m\n\u001b[0m\u001b[1;32m    251\u001b[0m \u001b[0;34m\u001b[0m\u001b[0m\n\u001b[1;32m    252\u001b[0m     \u001b[0;32mif\u001b[0m \u001b[0;34m(\u001b[0m\u001b[0mnrows\u001b[0m \u001b[0;32mis\u001b[0m \u001b[0;32mnot\u001b[0m \u001b[0mNone\u001b[0m\u001b[0;34m)\u001b[0m \u001b[0;32mand\u001b[0m \u001b[0;34m(\u001b[0m\u001b[0mchunksize\u001b[0m \u001b[0;32mis\u001b[0m \u001b[0;32mnot\u001b[0m \u001b[0mNone\u001b[0m\u001b[0;34m)\u001b[0m\u001b[0;34m:\u001b[0m\u001b[0;34m\u001b[0m\u001b[0m\n",
      "\u001b[0;32m/home/jlee782/.local/lib/python2.7/site-packages/pandas/io/parsers.pyc\u001b[0m in \u001b[0;36m__init__\u001b[0;34m(self, f, engine, **kwds)\u001b[0m\n\u001b[1;32m    564\u001b[0m             \u001b[0mself\u001b[0m\u001b[0;34m.\u001b[0m\u001b[0moptions\u001b[0m\u001b[0;34m[\u001b[0m\u001b[0;34m'has_index_names'\u001b[0m\u001b[0;34m]\u001b[0m \u001b[0;34m=\u001b[0m \u001b[0mkwds\u001b[0m\u001b[0;34m[\u001b[0m\u001b[0;34m'has_index_names'\u001b[0m\u001b[0;34m]\u001b[0m\u001b[0;34m\u001b[0m\u001b[0m\n\u001b[1;32m    565\u001b[0m \u001b[0;34m\u001b[0m\u001b[0m\n\u001b[0;32m--> 566\u001b[0;31m         \u001b[0mself\u001b[0m\u001b[0;34m.\u001b[0m\u001b[0m_make_engine\u001b[0m\u001b[0;34m(\u001b[0m\u001b[0mself\u001b[0m\u001b[0;34m.\u001b[0m\u001b[0mengine\u001b[0m\u001b[0;34m)\u001b[0m\u001b[0;34m\u001b[0m\u001b[0m\n\u001b[0m\u001b[1;32m    567\u001b[0m \u001b[0;34m\u001b[0m\u001b[0m\n\u001b[1;32m    568\u001b[0m     \u001b[0;32mdef\u001b[0m \u001b[0m_get_options_with_defaults\u001b[0m\u001b[0;34m(\u001b[0m\u001b[0mself\u001b[0m\u001b[0;34m,\u001b[0m \u001b[0mengine\u001b[0m\u001b[0;34m)\u001b[0m\u001b[0;34m:\u001b[0m\u001b[0;34m\u001b[0m\u001b[0m\n",
      "\u001b[0;32m/home/jlee782/.local/lib/python2.7/site-packages/pandas/io/parsers.pyc\u001b[0m in \u001b[0;36m_make_engine\u001b[0;34m(self, engine)\u001b[0m\n\u001b[1;32m    703\u001b[0m     \u001b[0;32mdef\u001b[0m \u001b[0m_make_engine\u001b[0m\u001b[0;34m(\u001b[0m\u001b[0mself\u001b[0m\u001b[0;34m,\u001b[0m \u001b[0mengine\u001b[0m\u001b[0;34m=\u001b[0m\u001b[0;34m'c'\u001b[0m\u001b[0;34m)\u001b[0m\u001b[0;34m:\u001b[0m\u001b[0;34m\u001b[0m\u001b[0m\n\u001b[1;32m    704\u001b[0m         \u001b[0;32mif\u001b[0m \u001b[0mengine\u001b[0m \u001b[0;34m==\u001b[0m \u001b[0;34m'c'\u001b[0m\u001b[0;34m:\u001b[0m\u001b[0;34m\u001b[0m\u001b[0m\n\u001b[0;32m--> 705\u001b[0;31m             \u001b[0mself\u001b[0m\u001b[0;34m.\u001b[0m\u001b[0m_engine\u001b[0m \u001b[0;34m=\u001b[0m \u001b[0mCParserWrapper\u001b[0m\u001b[0;34m(\u001b[0m\u001b[0mself\u001b[0m\u001b[0;34m.\u001b[0m\u001b[0mf\u001b[0m\u001b[0;34m,\u001b[0m \u001b[0;34m**\u001b[0m\u001b[0mself\u001b[0m\u001b[0;34m.\u001b[0m\u001b[0moptions\u001b[0m\u001b[0;34m)\u001b[0m\u001b[0;34m\u001b[0m\u001b[0m\n\u001b[0m\u001b[1;32m    706\u001b[0m         \u001b[0;32melse\u001b[0m\u001b[0;34m:\u001b[0m\u001b[0;34m\u001b[0m\u001b[0m\n\u001b[1;32m    707\u001b[0m             \u001b[0;32mif\u001b[0m \u001b[0mengine\u001b[0m \u001b[0;34m==\u001b[0m \u001b[0;34m'python'\u001b[0m\u001b[0;34m:\u001b[0m\u001b[0;34m\u001b[0m\u001b[0m\n",
      "\u001b[0;32m/home/jlee782/.local/lib/python2.7/site-packages/pandas/io/parsers.pyc\u001b[0m in \u001b[0;36m__init__\u001b[0;34m(self, src, **kwds)\u001b[0m\n\u001b[1;32m   1070\u001b[0m         \u001b[0mkwds\u001b[0m\u001b[0;34m[\u001b[0m\u001b[0;34m'allow_leading_cols'\u001b[0m\u001b[0;34m]\u001b[0m \u001b[0;34m=\u001b[0m \u001b[0mself\u001b[0m\u001b[0;34m.\u001b[0m\u001b[0mindex_col\u001b[0m \u001b[0;32mis\u001b[0m \u001b[0;32mnot\u001b[0m \u001b[0mFalse\u001b[0m\u001b[0;34m\u001b[0m\u001b[0m\n\u001b[1;32m   1071\u001b[0m \u001b[0;34m\u001b[0m\u001b[0m\n\u001b[0;32m-> 1072\u001b[0;31m         \u001b[0mself\u001b[0m\u001b[0;34m.\u001b[0m\u001b[0m_reader\u001b[0m \u001b[0;34m=\u001b[0m \u001b[0m_parser\u001b[0m\u001b[0;34m.\u001b[0m\u001b[0mTextReader\u001b[0m\u001b[0;34m(\u001b[0m\u001b[0msrc\u001b[0m\u001b[0;34m,\u001b[0m \u001b[0;34m**\u001b[0m\u001b[0mkwds\u001b[0m\u001b[0;34m)\u001b[0m\u001b[0;34m\u001b[0m\u001b[0m\n\u001b[0m\u001b[1;32m   1073\u001b[0m \u001b[0;34m\u001b[0m\u001b[0m\n\u001b[1;32m   1074\u001b[0m         \u001b[0;31m# XXX\u001b[0m\u001b[0;34m\u001b[0m\u001b[0;34m\u001b[0m\u001b[0m\n",
      "\u001b[0;32mpandas/parser.pyx\u001b[0m in \u001b[0;36mpandas.parser.TextReader.__cinit__ (pandas/parser.c:3173)\u001b[0;34m()\u001b[0m\n",
      "\u001b[0;32mpandas/parser.pyx\u001b[0m in \u001b[0;36mpandas.parser.TextReader._setup_parser_source (pandas/parser.c:5912)\u001b[0;34m()\u001b[0m\n",
      "\u001b[0;31mIOError\u001b[0m: File withClusterNoBinarySearchResult/basic_ground_truth_full_PRJ_table.csv does not exist"
     ]
    }
   ],
   "source": [
    "prj_best = pd.read_csv(\"../basic_ground_truth_full_PRJ_table.csv\",index_col=0)\n",
    "# ground_truth_EM = prj_best.groupby(\"num_workers\").mean()[\"J [basic]\"]"
   ]
  },
  {
   "cell_type": "code",
   "execution_count": 85,
   "metadata": {},
   "outputs": [
    {
     "data": {
      "text/plain": [
       "num_workers\n",
       "5     0.888953\n",
       "10    0.896165\n",
       "15    0.897311\n",
       "20    0.902460\n",
       "25    0.905905\n",
       "30    0.907095\n",
       "Name: J [basic], dtype: float64"
      ]
     },
     "execution_count": 85,
     "metadata": {},
     "output_type": "execute_result"
    }
   ],
   "source": [
    "ground_truth_EM"
   ]
  },
  {
   "cell_type": "code",
   "execution_count": 75,
   "metadata": {},
   "outputs": [
    {
     "name": "stdout",
     "output_type": "stream",
     "text": [
      "644 -rw-rw-r--. 1 jlee782 jlee782 658488 Feb 23 18:58 pixel_em/all_PRJ_table_filter_best.csv\r\n"
     ]
    }
   ],
   "source": [
    "!ls -lsd pixel_em/all_PRJ_table_filter_best.csv"
   ]
  },
  {
   "cell_type": "code",
   "execution_count": 65,
   "metadata": {},
   "outputs": [
    {
     "data": {
      "image/png": "[encoded data removed]",
      "text/plain": [
       "<matplotlib.figure.Figure at 0x7f8d8c146b10>"
      ]
     },
     "metadata": {},
     "output_type": "display_data"
    }
   ],
   "source": [
    "ax1= plt.subplot(121)\n",
    "plt.text(3.5,1.01,\"Without Clustering\",fontsize=14)\n",
    "plt.title(\"Without ground truth\",fontsize=13)\n",
    "x,MV_noclust,MV_clust=clust_vs_noclust(\"MV\",filtered=False)\n",
    "plt.plot(MV_noclust,color=\"purple\",label=\"MV\")\n",
    "x,best_EM_noclust,best_EM_clust=clust_vs_noclust(\"basic\",filtered=False)\n",
    "plt.plot(best_EM_noclust,color=\"blue\",label=\"EM\")\n",
    "# y = np.ones_like(np.array(NworkerPerformance[algoJ]))\n",
    "# plt.plot(y*vision_J,color=\"magenta\",label=\"Vision\")\n",
    "\n",
    "best_greedy = np.array(greedy_noclust[greedy_noclust[\"algo\"]==\"worker_fraction\"].groupby([\"num_workers\"]).mean()[\"j\"])\n",
    "plt.plot(best_greedy,color=\"red\",label=\"greedy\")\n",
    "plt.ylabel(\"Jaccard\",fontsize=13)\n",
    "NworkerPerformance = cluster_retreival_df.groupby(\"num_workers\").mean()\n",
    "# plt.plot(np.array(NworkerPerformance[\"J [AreaRatio]\"]),color=\"orange\",label=\"AreaRatio\")\n",
    "plt.plot(np.array(NworkerPerformance[\"J [NumPt]\"]),color=\"green\",label=\"num points\")\n",
    "#plt.plot(np.array(NworkerPerformance[\"J [AvrgWorker]\"]),color=\"blue\",label=\"average worker\")\n",
    "# plt.ylim(0.78,0.99)\n",
    "plt.legend(loc=\"upper left\",fontsize=11)\n",
    "\n",
    "ax2 = plt.subplot(122,sharex=ax1,sharey=ax1)\n",
    "plt.title(\"With ground truth\",fontsize=13)\n",
    "ground_truth_greedy = np.array(greedy_noclust[greedy_noclust[\"algo\"]==\"ground_truth\"].groupby([\"num_workers\"]).mean()[\"j\"])\n",
    "plt.plot(ground_truth_greedy,linestyle=\"-\",color=\"red\",label=\"Greedy\")\n",
    "plt.plot(np.array(NworkerPerformance[\"J [BestWorker]\"]),linestyle=\"-\",color=\"green\",label=\"Retrieval\")\n",
    "\n",
    "# gt_vision = vision[vision[\"worker_id\"]==\"gt\"].mean()[\"j\"]\n",
    "# y = np.ones_like(np.array(NworkerPerformance[algoJ]))\n",
    "# plt.plot(y*gt_vision,linestyle=\"-\",label=\"Vision\",color=\"magenta\")\n",
    "\n",
    "#plt.legend(loc=\"lower left\",fontsize=8)    \n",
    "plt.plot(MV_noclust,color=\"purple\",label=\"MV\",linestyle='-')\n",
    "plt.plot(best_EM_noclust,color=\"blue\",label=\"EM\",linestyle='-')\n",
    "plt.ylim(0.78,0.99)\n",
    "# plt.xticks(rotation=50)\n",
    "#plt.suptitle(\"Retreival v.s. Aggregation Algorithm Comparison\",fontsize=13)\n",
    "# lgd = plt.legend(bbox_to_anchor=(1.04,0.5),loc=\"center left\")    \n",
    "plt.xticks([0,1,2,3,4,5])\n",
    "a = gca().set_xticklabels(['5','10','15','20','25','30'])\n",
    "# make these tick labels invisible\n",
    "plt.setp(ax2.get_yticklabels(), visible=False)\n",
    "\n",
    "plt.text(-3,0.75,\"Number of Workers\",fontsize=13)\n",
    "plt.tight_layout()\n",
    "plt.savefig(\"Retreival_vs_Aggregation_Without_Clustering.pdf\", bbox_inches='tight')"
   ]
  },
  {
   "cell_type": "markdown",
   "metadata": {},
   "source": [
    "__Performance ratio of increase from 5 → 30 workers__"
   ]
  },
  {
   "cell_type": "code",
   "execution_count": 35,
   "metadata": {
    "collapsed": true
   },
   "outputs": [],
   "source": [
    "def worker_scaling_ratio(performance):\n",
    "    return (performance[-1]-performance[0])/performance[0]*100"
   ]
  },
  {
   "cell_type": "code",
   "execution_count": 36,
   "metadata": {
    "collapsed": true
   },
   "outputs": [],
   "source": [
    "pchange=[]\n",
    "for algo in  retreivalAlgoMap.keys():\n",
    "    if algo!=\"AreaRatio\":\n",
    "        algoJ = \"J [{}]\".format(algo)\n",
    "        performance = np.array(NworkerPerformance[algoJ])\n",
    "        pchange.append([algo,worker_scaling_ratio(performance)])"
   ]
  },
  {
   "cell_type": "code",
   "execution_count": 37,
   "metadata": {
    "collapsed": true
   },
   "outputs": [],
   "source": [
    "pchange.append([\"best greedy\",worker_scaling_ratio(best_greedy)])\n",
    "pchange.append([\"best EM\",worker_scaling_ratio(best_EM_clust)])\n",
    "pchange.append([\"ground truth greedy\",worker_scaling_ratio(ground_truth_greedy)])\n",
    "pchange.append([\"MV\",worker_scaling_ratio(algo_clust)])\n",
    "x,algo_noclust,algo_clust=clust_vs_noclust(\"MV\",filtered=False)"
   ]
  },
  {
   "cell_type": "code",
   "execution_count": 38,
   "metadata": {
    "collapsed": true
   },
   "outputs": [],
   "source": [
    "pchange=pd.DataFrame(np.array(pchange).T)"
   ]
  },
  {
   "cell_type": "code",
   "execution_count": 39,
   "metadata": {
    "collapsed": true
   },
   "outputs": [],
   "source": [
    "# pchange=pchange.transpose()"
   ]
  },
  {
   "cell_type": "code",
   "execution_count": 40,
   "metadata": {},
   "outputs": [
    {
     "data": {
      "text/html": [
       "<div>\n",
       "<table border=\"1\" class=\"dataframe\">\n",
       "  <thead>\n",
       "    <tr style=\"text-align: right;\">\n",
       "      <th></th>\n",
       "      <th>AvrgWorker</th>\n",
       "      <th>NumPt</th>\n",
       "      <th>BestWorker</th>\n",
       "      <th>best greedy</th>\n",
       "      <th>best EM</th>\n",
       "      <th>ground truth greedy</th>\n",
       "      <th>MV</th>\n",
       "    </tr>\n",
       "  </thead>\n",
       "  <tbody>\n",
       "    <tr>\n",
       "      <th>1</th>\n",
       "      <td>-0.251533707738</td>\n",
       "      <td>-6.30126685667</td>\n",
       "      <td>2.5795546392</td>\n",
       "      <td>1.39680896877</td>\n",
       "      <td>1.64422936203</td>\n",
       "      <td>5.42722004007</td>\n",
       "      <td>-83.9013822372</td>\n",
       "    </tr>\n",
       "  </tbody>\n",
       "</table>\n",
       "</div>"
      ],
      "text/plain": [
       "0       AvrgWorker           NumPt    BestWorker    best greedy  \\\n",
       "1  -0.251533707738  -6.30126685667  2.5795546392  1.39680896877   \n",
       "\n",
       "0        best EM ground truth greedy              MV  \n",
       "1  1.64422936203       5.42722004007  -83.9013822372  "
      ]
     },
     "execution_count": 40,
     "metadata": {},
     "output_type": "execute_result"
    }
   ],
   "source": [
    "pchange.columns = pchange.iloc[0]\n",
    "pchange.reindex(pchange.index.drop(0))"
   ]
  },
  {
   "cell_type": "code",
   "execution_count": 41,
   "metadata": {
    "collapsed": true
   },
   "outputs": [],
   "source": [
    "# pchange.iloc[1]=round(pchange.iloc[1],2)"
   ]
  },
  {
   "cell_type": "code",
   "execution_count": 42,
   "metadata": {},
   "outputs": [
    {
     "name": "stdout",
     "output_type": "stream",
     "text": [
      "\\begin{tabular}{lllllll}\n",
      "\\hline\n",
      " AvrgWorker      & NumPt          & BestWorker   & best greedy   & best EM       & ground truth greedy & MV             \\\\\n",
      " -0.251533707738 & -6.30126685667 & 2.5795546392 & 1.39680896877 & 1.64422936203 & 5.42722004007       & -83.9013822372 \\\\\n",
      "\\hline\n",
      "\\end{tabular}\n"
     ]
    }
   ],
   "source": [
    "print tabulate(pchange,showindex=False,tablefmt=\"latex\",floatfmt=\".2f\")"
   ]
  },
  {
   "cell_type": "markdown",
   "metadata": {},
   "source": [
    "__Effects of Clustering__"
   ]
  },
  {
   "cell_type": "code",
   "execution_count": 43,
   "metadata": {},
   "outputs": [
    {
     "data": {
      "image/png": "[encoded data removed]",
      "text/plain": [
       "<matplotlib.figure.Figure at 0x7f8d8e4a2650>"
      ]
     },
     "metadata": {},
     "output_type": "display_data"
    }
   ],
   "source": [
    "vision = pd.read_csv(\"pixel_em/vision_only_performance.csv\")\n",
    "\n",
    "NworkerPerformance = cluster_retreival_df.groupby(\"num_workers\").mean()\n",
    "plt.plot(np.array(NworkerPerformance[\"J [NumPt]\"]),color=\"orange\",label=\"num pts\")#,label=\"num points [c]\")\n",
    "plt.plot(np.array(NworkerPerformance[\"J [AvrgWorker]\"]),color=\"blue\",label=\"avrg worker\")#,label=\"average worker [c]\")\n",
    "# plt.plot(np.array(NworkerPerformance[\"J [BestWorker]\"]),linestyle='--',color=\"red\")#,label=\"best worker [c]\")\n",
    "\n",
    "NworkerPerformance = no_cluster_retreival_df.groupby(\"num_workers\").mean()\n",
    "plt.plot(np.array(NworkerPerformance[\"J [NumPt]\"]),linestyle='--',color=\"orange\")\n",
    "plt.plot(np.array(NworkerPerformance[\"J [AvrgWorker]\"]),linestyle='--',color=\"blue\")\n",
    "# plt.plot(np.array(NworkerPerformance[\"J [BestWorker]\"]),color=\"red\",label=\"best worker\")\n",
    "\n",
    "max_vision_k_thresh = vision.loc[vision.groupby([\"objid\"])['j'].idxmax()].mean()[\"j\"]\n",
    "y = np.ones_like(np.array(NworkerPerformance[algoJ]))\n",
    "plt.plot(y*max_vision_k_thresh,label=\"Vision\",color=\"magenta\")\n",
    "\n",
    "algo=\"basic\"\n",
    "x,algo_noclust,algo_clust=clust_vs_noclust(algo,filtered=False)\n",
    "plt.plot(algo_noclust,linestyle=\"--\",color = \"cyan\")\n",
    "plt.plot(algo_clust,color = \"cyan\",label=\"EM\")\n",
    "\n",
    "best_greedy = np.array(greedy_clust[greedy_clust[\"algo\"]==\"worker_fraction\"].groupby([\"num_workers\"]).mean()[\"j\"])\n",
    "plt.plot(best_greedy,color=\"black\")\n",
    "best_noclust_greedy = np.array(greedy_noclust[greedy_noclust[\"algo\"]==\"worker_fraction\"].groupby([\"num_workers\"]).mean()[\"j\"])\n",
    "plt.plot(best_noclust_greedy,color=\"black\",linestyle=\"--\",label=\"Greedy\")\n",
    "\n",
    "# lgd = plt.legend(bbox_to_anchor=(1.04,0.5),loc=\"center left\")    \n",
    "lgd = plt.legend(loc=\"lower right\")    \n",
    "#plt.legend(loc=\"lower left\",fontsize=8)    \n",
    "plt.ylabel(\"Jaccard\")\n",
    "plt.xlabel(\"Number of Workers\")\n",
    "plt.xticks()\n",
    "plt.title(\"Effects of Clustering\",fontsize=13)\n",
    "a = gca().set_xticklabels([0,5,10,15,20,25,30])\n",
    "plt.savefig(\"Effects_of_clustering.pdf\", bbox_extra_artists=(lgd,), bbox_inches='tight')"
   ]
  },
  {
   "cell_type": "code",
   "execution_count": 44,
   "metadata": {
    "collapsed": true
   },
   "outputs": [],
   "source": [
    "NworkerPerformance_noclust = no_cluster_retreival_df.groupby(\"num_workers\").mean()\n",
    "NworkerPerformance_with_clust = cluster_retreival_df.groupby(\"num_workers\").mean()\n",
    "numpt_no_clust = np.array(NworkerPerformance_noclust[\"J [NumPt]\"])\n",
    "numpt_with_clust = np.array(NworkerPerformance_with_clust[\"J [NumPt]\"])\n",
    "bestworker_no_clust = np.array(NworkerPerformance_noclust[\"J [BestWorker]\"])\n",
    "bestworker_with_clust = np.array(NworkerPerformance_with_clust[\"J [BestWorker]\"])\n",
    "avrgworker_no_clust = np.array(NworkerPerformance_noclust[\"J [AvrgWorker]\"])\n",
    "avrgworker_with_clust = np.array(NworkerPerformance_with_clust[\"J [AvrgWorker]\"])\n",
    "\n",
    "best_greedy_clust = np.array(greedy_clust[greedy_clust[\"algo\"]==\"ground_truth\"].groupby([\"num_workers\"]).mean()[\"j\"])\n",
    "best_noclust_greedy = np.array(greedy_noclust[greedy_noclust[\"algo\"]==\"ground_truth\"].groupby([\"num_workers\"]).mean()[\"j\"])\n",
    "greedy = np.array(greedy_clust[greedy_clust[\"algo\"]==\"worker_fraction\"].groupby([\"num_workers\"]).mean()[\"j\"])\n",
    "noclust_greedy = np.array(greedy_noclust[greedy_noclust[\"algo\"]==\"worker_fraction\"].groupby([\"num_workers\"]).mean()[\"j\"])\n",
    "x,MV_noclust,MV_clust=clust_vs_noclust('MV',metric=metric,filtered=False)\n",
    "\n",
    "pchange_data = [] \n",
    "pchange_data.append([\"best worker\",avrg_percent_change(bestworker_with_clust,bestworker_no_clust)])\n",
    "pchange_data.append([\"avrg worker\",avrg_percent_change(avrgworker_with_clust,avrgworker_no_clust)])\n",
    "pchange_data.append([\"numpt\",avrg_percent_change(numpt_with_clust,numpt_no_clust)])\n",
    "pchange_data.append([\"MV\",avrg_percent_change(MV_clust,MV_noclust)])\n",
    "pchange_data.append([\"greedy\", avrg_percent_change(greedy,noclust_greedy)])\n",
    "pchange_data.append([\"best greedy\", avrg_percent_change(best_greedy_clust,best_noclust_greedy)])\n",
    "pchange_data.append([\"EM\",avrg_percent_change(algo_clust,algo_noclust)])"
   ]
  },
  {
   "cell_type": "code",
   "execution_count": 45,
   "metadata": {
    "collapsed": true
   },
   "outputs": [],
   "source": [
    "pchange_df=pd.DataFrame(np.array(pchange_data).T)"
   ]
  },
  {
   "cell_type": "code",
   "execution_count": 46,
   "metadata": {},
   "outputs": [
    {
     "data": {
      "text/html": [
       "<div>\n",
       "<table border=\"1\" class=\"dataframe\">\n",
       "  <thead>\n",
       "    <tr style=\"text-align: right;\">\n",
       "      <th></th>\n",
       "      <th>0</th>\n",
       "      <th>1</th>\n",
       "      <th>2</th>\n",
       "      <th>3</th>\n",
       "      <th>4</th>\n",
       "      <th>5</th>\n",
       "      <th>6</th>\n",
       "    </tr>\n",
       "  </thead>\n",
       "  <tbody>\n",
       "    <tr>\n",
       "      <th>0</th>\n",
       "      <td>best worker</td>\n",
       "      <td>avrg worker</td>\n",
       "      <td>numpt</td>\n",
       "      <td>MV</td>\n",
       "      <td>greedy</td>\n",
       "      <td>best greedy</td>\n",
       "      <td>EM</td>\n",
       "    </tr>\n",
       "    <tr>\n",
       "      <th>1</th>\n",
       "      <td>-0.022%</td>\n",
       "      <td>3.996%</td>\n",
       "      <td>5.915%</td>\n",
       "      <td>-8.485%</td>\n",
       "      <td>5.551%</td>\n",
       "      <td>-0.058%</td>\n",
       "      <td>2.050%</td>\n",
       "    </tr>\n",
       "  </tbody>\n",
       "</table>\n",
       "</div>"
      ],
      "text/plain": [
       "             0            1       2        3       4            5       6\n",
       "0  best worker  avrg worker   numpt       MV  greedy  best greedy      EM\n",
       "1      -0.022%       3.996%  5.915%  -8.485%  5.551%      -0.058%  2.050%"
      ]
     },
     "execution_count": 46,
     "metadata": {},
     "output_type": "execute_result"
    }
   ],
   "source": [
    "pchange_df"
   ]
  },
  {
   "cell_type": "code",
   "execution_count": 47,
   "metadata": {},
   "outputs": [
    {
     "data": {
      "text/html": [
       "<div>\n",
       "<table border=\"1\" class=\"dataframe\">\n",
       "  <thead>\n",
       "    <tr style=\"text-align: right;\">\n",
       "      <th></th>\n",
       "      <th>best worker</th>\n",
       "      <th>avrg worker</th>\n",
       "      <th>numpt</th>\n",
       "      <th>MV</th>\n",
       "      <th>greedy</th>\n",
       "      <th>best greedy</th>\n",
       "      <th>EM</th>\n",
       "    </tr>\n",
       "  </thead>\n",
       "  <tbody>\n",
       "    <tr>\n",
       "      <th>1</th>\n",
       "      <td>-0.022%</td>\n",
       "      <td>3.996%</td>\n",
       "      <td>5.915%</td>\n",
       "      <td>-8.485%</td>\n",
       "      <td>5.551%</td>\n",
       "      <td>-0.058%</td>\n",
       "      <td>2.050%</td>\n",
       "    </tr>\n",
       "  </tbody>\n",
       "</table>\n",
       "</div>"
      ],
      "text/plain": [
       "0 best worker avrg worker   numpt       MV  greedy best greedy      EM\n",
       "1     -0.022%      3.996%  5.915%  -8.485%  5.551%     -0.058%  2.050%"
      ]
     },
     "execution_count": 47,
     "metadata": {},
     "output_type": "execute_result"
    }
   ],
   "source": [
    "pchange_df.columns = pchange_df.iloc[0]\n",
    "pchange_df.reindex(pchange_df.index.drop(0))"
   ]
  },
  {
   "cell_type": "code",
   "execution_count": 48,
   "metadata": {},
   "outputs": [
    {
     "data": {
      "text/html": [
       "<div>\n",
       "<table border=\"1\" class=\"dataframe\">\n",
       "  <thead>\n",
       "    <tr style=\"text-align: right;\">\n",
       "      <th></th>\n",
       "      <th>numpt</th>\n",
       "      <th>avrg worker</th>\n",
       "      <th>best worker</th>\n",
       "      <th>MV</th>\n",
       "      <th>EM</th>\n",
       "      <th>greedy</th>\n",
       "      <th>best greedy</th>\n",
       "    </tr>\n",
       "  </thead>\n",
       "  <tbody>\n",
       "    <tr>\n",
       "      <th>0</th>\n",
       "      <td>numpt</td>\n",
       "      <td>avrg worker</td>\n",
       "      <td>best worker</td>\n",
       "      <td>MV</td>\n",
       "      <td>EM</td>\n",
       "      <td>greedy</td>\n",
       "      <td>best greedy</td>\n",
       "    </tr>\n",
       "    <tr>\n",
       "      <th>1</th>\n",
       "      <td>5.915%</td>\n",
       "      <td>3.996%</td>\n",
       "      <td>-0.022%</td>\n",
       "      <td>-8.485%</td>\n",
       "      <td>2.050%</td>\n",
       "      <td>5.551%</td>\n",
       "      <td>-0.058%</td>\n",
       "    </tr>\n",
       "  </tbody>\n",
       "</table>\n",
       "</div>"
      ],
      "text/plain": [
       "0   numpt  avrg worker  best worker       MV      EM  greedy  best greedy\n",
       "0   numpt  avrg worker  best worker       MV      EM  greedy  best greedy\n",
       "1  5.915%       3.996%      -0.022%  -8.485%  2.050%  5.551%      -0.058%"
      ]
     },
     "execution_count": 48,
     "metadata": {},
     "output_type": "execute_result"
    }
   ],
   "source": [
    "pchange_df[['numpt','avrg worker','best worker','MV',\"EM\",\"greedy\",\"best greedy\"]]"
   ]
  },
  {
   "cell_type": "code",
   "execution_count": 49,
   "metadata": {},
   "outputs": [
    {
     "name": "stdout",
     "output_type": "stream",
     "text": [
      "\\begin{tabular}{llllll}\n",
      "\\hline\n",
      " numpt  & avrg worker & MV      & EM     & greedy & best greedy \\\\\n",
      " 5.915\\% & 3.996\\%      & -8.485\\% & 2.050\\% & 5.551\\% & -0.058\\%     \\\\\n",
      "\\hline\n",
      "\\end{tabular}\n"
     ]
    }
   ],
   "source": [
    "print tabulate(pchange_df[['numpt','avrg worker','MV',\"EM\",\"greedy\",\"best greedy\"]],showindex=False,tablefmt=\"latex\",floatfmt=\".2f\")"
   ]
  },
  {
   "cell_type": "code",
   "execution_count": 50,
   "metadata": {
    "collapsed": true
   },
   "outputs": [],
   "source": [
    "from PixelEM import *"
   ]
  },
  {
   "cell_type": "code",
   "execution_count": null,
   "metadata": {
    "collapsed": true
   },
   "outputs": [],
   "source": []
  },
  {
   "cell_type": "code",
   "execution_count": null,
   "metadata": {
    "collapsed": true
   },
   "outputs": [],
   "source": []
  },
  {
   "cell_type": "code",
   "execution_count": null,
   "metadata": {
    "collapsed": true
   },
   "outputs": [],
   "source": []
  }
 ],
 "metadata": {
  "kernelspec": {
   "display_name": "Python 2",
   "language": "python",
   "name": "python2"
  },
  "language_info": {
   "codemirror_mode": {
    "name": "ipython",
    "version": 2
   },
   "file_extension": ".py",
   "mimetype": "text/x-python",
   "name": "python",
   "nbconvert_exporter": "python",
   "pygments_lexer": "ipython2",
   "version": "2.7.14"
  }
 },
 "nbformat": 4,
 "nbformat_minor": 2
}
